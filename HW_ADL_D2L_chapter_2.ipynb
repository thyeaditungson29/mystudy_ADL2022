{
  "nbformat": 4,
  "nbformat_minor": 0,
  "metadata": {
    "colab": {
      "name": "HW_ADL_D2L_chapter_2.ipynb",
      "provenance": [],
      "collapsed_sections": [],
      "authorship_tag": "ABX9TyPD2RuvYutvitnH5CkmvcK5",
      "include_colab_link": true
    },
    "kernelspec": {
      "name": "python3",
      "display_name": "Python 3"
    },
    "language_info": {
      "name": "python"
    }
  },
  "cells": [
    {
      "cell_type": "markdown",
      "metadata": {
        "id": "view-in-github",
        "colab_type": "text"
      },
      "source": [
        "<a href=\"https://colab.research.google.com/github/thyeaditungson29/mystudy_ADL2022/blob/main/HW_ADL_D2L_chapter_2.ipynb\" target=\"_parent\"><img src=\"https://colab.research.google.com/assets/colab-badge.svg\" alt=\"Open In Colab\"/></a>"
      ]
    },
    {
      "cell_type": "markdown",
      "source": [
        "**Tugas D2L.AI - Thyeadi Tungson - 2106779554**\n",
        "\n",
        "**Chapter 2**"
      ],
      "metadata": {
        "id": "UJUzOb-SHrBb"
      }
    },
    {
      "cell_type": "markdown",
      "source": [
        "# **2.1 Data Manipulation**\n",
        "menggunakan pytorch"
      ],
      "metadata": {
        "id": "nbSDTEWRIBVh"
      }
    },
    {
      "cell_type": "markdown",
      "source": [
        "**2.1.1 Get Started**"
      ],
      "metadata": {
        "id": "nFD2gOCpL5bi"
      }
    },
    {
      "cell_type": "code",
      "execution_count": 1,
      "metadata": {
        "id": "VtEYz5SRHVVR"
      },
      "outputs": [],
      "source": [
        "import torch"
      ]
    },
    {
      "cell_type": "code",
      "source": [
        "#Mengenerate tensor sebanyak 12 dengan tipe float\n",
        "x = torch.arange(12, dtype=torch.float32)\n",
        "x"
      ],
      "metadata": {
        "colab": {
          "base_uri": "https://localhost:8080/"
        },
        "id": "K69aZi7YISay",
        "outputId": "f89b472a-e7ea-42c2-9133-907dace88055"
      },
      "execution_count": 2,
      "outputs": [
        {
          "output_type": "execute_result",
          "data": {
            "text/plain": [
              "tensor([ 0.,  1.,  2.,  3.,  4.,  5.,  6.,  7.,  8.,  9., 10., 11.])"
            ]
          },
          "metadata": {},
          "execution_count": 2
        }
      ]
    },
    {
      "cell_type": "code",
      "source": [
        "#melihat dimensi dari tensor\n",
        "x.shape"
      ],
      "metadata": {
        "colab": {
          "base_uri": "https://localhost:8080/"
        },
        "id": "6GN7BCzJIbvB",
        "outputId": "20046799-5e11-4fa3-a5c2-56c11981fe27"
      },
      "execution_count": 3,
      "outputs": [
        {
          "output_type": "execute_result",
          "data": {
            "text/plain": [
              "torch.Size([12])"
            ]
          },
          "metadata": {},
          "execution_count": 3
        }
      ]
    },
    {
      "cell_type": "code",
      "source": [
        "x.numel()"
      ],
      "metadata": {
        "colab": {
          "base_uri": "https://localhost:8080/"
        },
        "id": "QZUOqcbLKp0n",
        "outputId": "21d470ae-1705-4e1e-de38-e3265bbcead4"
      },
      "execution_count": 4,
      "outputs": [
        {
          "output_type": "execute_result",
          "data": {
            "text/plain": [
              "12"
            ]
          },
          "metadata": {},
          "execution_count": 4
        }
      ]
    },
    {
      "cell_type": "code",
      "source": [
        "#Mengubah dimensi dari tensor\n",
        "X = x.reshape(3,4)\n",
        "X"
      ],
      "metadata": {
        "colab": {
          "base_uri": "https://localhost:8080/"
        },
        "id": "2QiwG0nHKs_i",
        "outputId": "414af3b7-cef2-45a2-b4d0-373c3bb2e4aa"
      },
      "execution_count": 5,
      "outputs": [
        {
          "output_type": "execute_result",
          "data": {
            "text/plain": [
              "tensor([[ 0.,  1.,  2.,  3.],\n",
              "        [ 4.,  5.,  6.,  7.],\n",
              "        [ 8.,  9., 10., 11.]])"
            ]
          },
          "metadata": {},
          "execution_count": 5
        }
      ]
    },
    {
      "cell_type": "code",
      "source": [
        "#Membuat n buah tensor dengan dimensi m, r dengan isi 0 semua --> torch.zeros((n,m,r))\n",
        "torch.zeros((2,3,4))"
      ],
      "metadata": {
        "colab": {
          "base_uri": "https://localhost:8080/"
        },
        "id": "ZytY1TkPK5FT",
        "outputId": "fcacaeb3-5092-4375-c8bc-ef0fef2f2f8b"
      },
      "execution_count": 6,
      "outputs": [
        {
          "output_type": "execute_result",
          "data": {
            "text/plain": [
              "tensor([[[0., 0., 0., 0.],\n",
              "         [0., 0., 0., 0.],\n",
              "         [0., 0., 0., 0.]],\n",
              "\n",
              "        [[0., 0., 0., 0.],\n",
              "         [0., 0., 0., 0.],\n",
              "         [0., 0., 0., 0.]]])"
            ]
          },
          "metadata": {},
          "execution_count": 6
        }
      ]
    },
    {
      "cell_type": "code",
      "source": [
        "#Membuat n buah tensor dengan dimensi m, r dengan isi 1 semua --> torch.ones((n,m,r))\n",
        "torch.ones((2,3,4))"
      ],
      "metadata": {
        "colab": {
          "base_uri": "https://localhost:8080/"
        },
        "id": "A0w1W31mLbfB",
        "outputId": "55fd2dec-f832-4628-a5f9-81e38cdc608b"
      },
      "execution_count": 7,
      "outputs": [
        {
          "output_type": "execute_result",
          "data": {
            "text/plain": [
              "tensor([[[1., 1., 1., 1.],\n",
              "         [1., 1., 1., 1.],\n",
              "         [1., 1., 1., 1.]],\n",
              "\n",
              "        [[1., 1., 1., 1.],\n",
              "         [1., 1., 1., 1.],\n",
              "         [1., 1., 1., 1.]]])"
            ]
          },
          "metadata": {},
          "execution_count": 7
        }
      ]
    },
    {
      "cell_type": "code",
      "source": [
        "#Membuat tensor dengan isi random torch.randn(m, n) --> dimensi tensor m x n\n",
        "torch.randn(3,4)"
      ],
      "metadata": {
        "colab": {
          "base_uri": "https://localhost:8080/"
        },
        "id": "KOF4YLbELhfO",
        "outputId": "dd19fb74-5406-4a2c-f61d-0633119b9b85"
      },
      "execution_count": 8,
      "outputs": [
        {
          "output_type": "execute_result",
          "data": {
            "text/plain": [
              "tensor([[ 0.8469,  1.5567,  0.1523,  1.5087],\n",
              "        [-0.6640, -0.7831,  1.8423, -0.4668],\n",
              "        [ 1.7433,  1.4283,  1.1719,  1.0951]])"
            ]
          },
          "metadata": {},
          "execution_count": 8
        }
      ]
    },
    {
      "cell_type": "markdown",
      "source": [
        "**2.1.2 Operation**"
      ],
      "metadata": {
        "id": "FU8QtkaxMAGh"
      }
    },
    {
      "cell_type": "code",
      "source": [
        "x = torch.tensor([1, 2, 4, 8])\n",
        "y = torch.tensor([2, 2, 2, 2])\n",
        "x + y, x - y, x * y, x / y, x ** y  # The ** operator is exponentiation"
      ],
      "metadata": {
        "colab": {
          "base_uri": "https://localhost:8080/"
        },
        "id": "8kLCRYhmL2QJ",
        "outputId": "833a5ac3-7fab-4f13-ed09-f2e66072ac91"
      },
      "execution_count": 9,
      "outputs": [
        {
          "output_type": "execute_result",
          "data": {
            "text/plain": [
              "(tensor([ 3,  4,  6, 10]),\n",
              " tensor([-1,  0,  2,  6]),\n",
              " tensor([ 2,  4,  8, 16]),\n",
              " tensor([0.5000, 1.0000, 2.0000, 4.0000]),\n",
              " tensor([ 1,  4, 16, 64]))"
            ]
          },
          "metadata": {},
          "execution_count": 9
        }
      ]
    },
    {
      "cell_type": "code",
      "source": [
        "# Untuk exp^x di mana x adalah tensor\n",
        "torch.exp(x)"
      ],
      "metadata": {
        "id": "KctTatr0MK0z",
        "colab": {
          "base_uri": "https://localhost:8080/"
        },
        "outputId": "3fc2448f-3506-406e-a278-9ce859ccfbd6"
      },
      "execution_count": 10,
      "outputs": [
        {
          "output_type": "execute_result",
          "data": {
            "text/plain": [
              "tensor([2.7183e+00, 7.3891e+00, 5.4598e+01, 2.9810e+03])"
            ]
          },
          "metadata": {},
          "execution_count": 10
        }
      ]
    },
    {
      "cell_type": "code",
      "source": [
        "X = torch.arange(20, dtype=torch.float32).reshape((5,4))\n",
        "Y = torch.tensor([[2, 1, 4, 3], [1, 2, 3, 4], [4, 3, 2, 1], [11, 12, 13, 14], [14, 13, 12, 11]])\n",
        "torch.cat((X, Y), dim=0), torch.cat((X, Y), dim=1)"
      ],
      "metadata": {
        "colab": {
          "base_uri": "https://localhost:8080/"
        },
        "id": "XUhyrH_-sy6P",
        "outputId": "ff644edf-cfb5-4404-f89e-f3d25ec1efb9"
      },
      "execution_count": 11,
      "outputs": [
        {
          "output_type": "execute_result",
          "data": {
            "text/plain": [
              "(tensor([[ 0.,  1.,  2.,  3.],\n",
              "         [ 4.,  5.,  6.,  7.],\n",
              "         [ 8.,  9., 10., 11.],\n",
              "         [12., 13., 14., 15.],\n",
              "         [16., 17., 18., 19.],\n",
              "         [ 2.,  1.,  4.,  3.],\n",
              "         [ 1.,  2.,  3.,  4.],\n",
              "         [ 4.,  3.,  2.,  1.],\n",
              "         [11., 12., 13., 14.],\n",
              "         [14., 13., 12., 11.]]),\n",
              " tensor([[ 0.,  1.,  2.,  3.,  2.,  1.,  4.,  3.],\n",
              "         [ 4.,  5.,  6.,  7.,  1.,  2.,  3.,  4.],\n",
              "         [ 8.,  9., 10., 11.,  4.,  3.,  2.,  1.],\n",
              "         [12., 13., 14., 15., 11., 12., 13., 14.],\n",
              "         [16., 17., 18., 19., 14., 13., 12., 11.]]))"
            ]
          },
          "metadata": {},
          "execution_count": 11
        }
      ]
    },
    {
      "cell_type": "code",
      "source": [
        "#membandingkan nilai pada tensor dengan dimensi yang sama, False jika anggota yang bersesuaian tidak sama, dan True jika sama\n",
        "X == Y"
      ],
      "metadata": {
        "colab": {
          "base_uri": "https://localhost:8080/"
        },
        "id": "y1weNo1Fs4xQ",
        "outputId": "aa530523-6adc-4e38-a4ce-91c02f1b59cd"
      },
      "execution_count": 12,
      "outputs": [
        {
          "output_type": "execute_result",
          "data": {
            "text/plain": [
              "tensor([[False,  True, False,  True],\n",
              "        [False, False, False, False],\n",
              "        [False, False, False, False],\n",
              "        [False, False, False, False],\n",
              "        [False, False, False, False]])"
            ]
          },
          "metadata": {},
          "execution_count": 12
        }
      ]
    },
    {
      "cell_type": "code",
      "source": [
        "#penjumlahan semua anggota dari sebuah tensor\n",
        "X.sum()"
      ],
      "metadata": {
        "colab": {
          "base_uri": "https://localhost:8080/"
        },
        "id": "ZHWHcwnvvBkF",
        "outputId": "f3a8aef7-f50b-44c2-e953-94377d298bde"
      },
      "execution_count": 13,
      "outputs": [
        {
          "output_type": "execute_result",
          "data": {
            "text/plain": [
              "tensor(190.)"
            ]
          },
          "metadata": {},
          "execution_count": 13
        }
      ]
    },
    {
      "cell_type": "markdown",
      "source": [
        " **2.1.3 Broadcasting Mechanism**"
      ],
      "metadata": {
        "id": "KLXsxqwwvjVW"
      }
    },
    {
      "cell_type": "code",
      "source": [
        "a = torch.arange(3).reshape((3, 1))\n",
        "b = torch.arange(2).reshape((1, 2))\n",
        "a,b"
      ],
      "metadata": {
        "colab": {
          "base_uri": "https://localhost:8080/"
        },
        "id": "Y6fKUi6bvNEL",
        "outputId": "4f581c25-11bc-4875-fd85-5b2ef0af1d6d"
      },
      "execution_count": 14,
      "outputs": [
        {
          "output_type": "execute_result",
          "data": {
            "text/plain": [
              "(tensor([[0],\n",
              "         [1],\n",
              "         [2]]), tensor([[0, 1]]))"
            ]
          },
          "metadata": {},
          "execution_count": 14
        }
      ]
    },
    {
      "cell_type": "code",
      "source": [
        "a+b"
      ],
      "metadata": {
        "colab": {
          "base_uri": "https://localhost:8080/"
        },
        "id": "zCoozKeNvhSt",
        "outputId": "898e596d-4212-4e11-f074-59ac06788165"
      },
      "execution_count": 15,
      "outputs": [
        {
          "output_type": "execute_result",
          "data": {
            "text/plain": [
              "tensor([[0, 1],\n",
              "        [1, 2],\n",
              "        [2, 3]])"
            ]
          },
          "metadata": {},
          "execution_count": 15
        }
      ]
    },
    {
      "cell_type": "markdown",
      "source": [
        "**2.1.4 Indexing and Slicing**"
      ],
      "metadata": {
        "id": "a7lzpc30xk6J"
      }
    },
    {
      "cell_type": "code",
      "source": [
        "X,X[-4],X[0:3],X[2:4,3]"
      ],
      "metadata": {
        "colab": {
          "base_uri": "https://localhost:8080/"
        },
        "id": "I7zdogAaxEJt",
        "outputId": "ac9d690f-a008-4b2f-f330-9ad4cd7c6d96"
      },
      "execution_count": 16,
      "outputs": [
        {
          "output_type": "execute_result",
          "data": {
            "text/plain": [
              "(tensor([[ 0.,  1.,  2.,  3.],\n",
              "         [ 4.,  5.,  6.,  7.],\n",
              "         [ 8.,  9., 10., 11.],\n",
              "         [12., 13., 14., 15.],\n",
              "         [16., 17., 18., 19.]]),\n",
              " tensor([4., 5., 6., 7.]),\n",
              " tensor([[ 0.,  1.,  2.,  3.],\n",
              "         [ 4.,  5.,  6.,  7.],\n",
              "         [ 8.,  9., 10., 11.]]),\n",
              " tensor([11., 15.]))"
            ]
          },
          "metadata": {},
          "execution_count": 16
        }
      ]
    },
    {
      "cell_type": "code",
      "source": [
        "#X[m,n] = a, ganti elemen tensor baris m+1 kolom ke n+1 dengan a\n",
        "X[1,2] = 13\n",
        "X"
      ],
      "metadata": {
        "colab": {
          "base_uri": "https://localhost:8080/"
        },
        "id": "Fu2ED8Sby_bP",
        "outputId": "7872f6c6-9e5a-49dd-d624-b3e0ef43e460"
      },
      "execution_count": 17,
      "outputs": [
        {
          "output_type": "execute_result",
          "data": {
            "text/plain": [
              "tensor([[ 0.,  1.,  2.,  3.],\n",
              "        [ 4.,  5., 13.,  7.],\n",
              "        [ 8.,  9., 10., 11.],\n",
              "        [12., 13., 14., 15.],\n",
              "        [16., 17., 18., 19.]])"
            ]
          },
          "metadata": {},
          "execution_count": 17
        }
      ]
    },
    {
      "cell_type": "code",
      "source": [
        "#X[a:b,:] = m, ganti semua elemen tensor dari baris a+1 sampai baris terakhir dari tensor dengan ukuran b baris\n",
        "X[3:5, :] = 44\n",
        "X"
      ],
      "metadata": {
        "colab": {
          "base_uri": "https://localhost:8080/"
        },
        "id": "T1mQb6MDVBwa",
        "outputId": "95762f74-5337-4ff7-c9ab-376470e3b1f6"
      },
      "execution_count": 18,
      "outputs": [
        {
          "output_type": "execute_result",
          "data": {
            "text/plain": [
              "tensor([[ 0.,  1.,  2.,  3.],\n",
              "        [ 4.,  5., 13.,  7.],\n",
              "        [ 8.,  9., 10., 11.],\n",
              "        [44., 44., 44., 44.],\n",
              "        [44., 44., 44., 44.]])"
            ]
          },
          "metadata": {},
          "execution_count": 18
        }
      ]
    },
    {
      "cell_type": "markdown",
      "source": [
        "**2.1.5 Saving Memory**"
      ],
      "metadata": {
        "id": "LXbpPx2AYI5Y"
      }
    },
    {
      "cell_type": "code",
      "source": [
        "before = id(Y)\n",
        "Y = Y + X\n",
        "id(Y) == before"
      ],
      "metadata": {
        "colab": {
          "base_uri": "https://localhost:8080/"
        },
        "id": "7DjfKY-vWXcG",
        "outputId": "c3d4edac-f36b-42e2-b86f-9e9502c763e4"
      },
      "execution_count": 19,
      "outputs": [
        {
          "output_type": "execute_result",
          "data": {
            "text/plain": [
              "False"
            ]
          },
          "metadata": {},
          "execution_count": 19
        }
      ]
    },
    {
      "cell_type": "code",
      "source": [
        "Z = torch.zeros_like(Y)\n",
        "print('id(Z):', id(Z))\n",
        "Z[:] = X + Y\n",
        "print('id(Z):', id(Z))"
      ],
      "metadata": {
        "colab": {
          "base_uri": "https://localhost:8080/"
        },
        "id": "lQuTZkF_YUNe",
        "outputId": "9250d0b7-26c7-4710-f0be-047d0b9d6f36"
      },
      "execution_count": 20,
      "outputs": [
        {
          "output_type": "stream",
          "name": "stdout",
          "text": [
            "id(Z): 139796360434704\n",
            "id(Z): 139796360434704\n"
          ]
        }
      ]
    },
    {
      "cell_type": "code",
      "source": [
        "before = id(X)\n",
        "X += Y\n",
        "id(X) == before"
      ],
      "metadata": {
        "colab": {
          "base_uri": "https://localhost:8080/"
        },
        "id": "S78C0HYmYgSE",
        "outputId": "182d9c0d-9a3c-419e-da32-f77150f816fd"
      },
      "execution_count": 21,
      "outputs": [
        {
          "output_type": "execute_result",
          "data": {
            "text/plain": [
              "True"
            ]
          },
          "metadata": {},
          "execution_count": 21
        }
      ]
    },
    {
      "cell_type": "markdown",
      "source": [
        "**2.1.6 Conversion**"
      ],
      "metadata": {
        "id": "6mj3iQuoY_i_"
      }
    },
    {
      "cell_type": "code",
      "source": [
        "A = X.numpy()\n",
        "B = torch.from_numpy(A)\n",
        "A, B, type(A), type(B)"
      ],
      "metadata": {
        "colab": {
          "base_uri": "https://localhost:8080/"
        },
        "id": "SkaT0_wiYs5_",
        "outputId": "ef682d8b-842e-494a-aaf9-c1d11139f170"
      },
      "execution_count": 22,
      "outputs": [
        {
          "output_type": "execute_result",
          "data": {
            "text/plain": [
              "(array([[  2.,   3.,   8.,   9.],\n",
              "        [  9.,  12.,  29.,  18.],\n",
              "        [ 20.,  21.,  22.,  23.],\n",
              "        [ 99., 100., 101., 102.],\n",
              "        [102., 101., 100.,  99.]], dtype=float32),\n",
              " tensor([[  2.,   3.,   8.,   9.],\n",
              "         [  9.,  12.,  29.,  18.],\n",
              "         [ 20.,  21.,  22.,  23.],\n",
              "         [ 99., 100., 101., 102.],\n",
              "         [102., 101., 100.,  99.]]),\n",
              " numpy.ndarray,\n",
              " torch.Tensor)"
            ]
          },
          "metadata": {},
          "execution_count": 22
        }
      ]
    },
    {
      "cell_type": "code",
      "source": [
        "a = torch.tensor([4.5])\n",
        "a, a.item(), float(a), int(a)"
      ],
      "metadata": {
        "colab": {
          "base_uri": "https://localhost:8080/"
        },
        "id": "DS9rkQdmZMYj",
        "outputId": "dd6165d8-5bcb-448f-9962-9ae656ed1aed"
      },
      "execution_count": 23,
      "outputs": [
        {
          "output_type": "execute_result",
          "data": {
            "text/plain": [
              "(tensor([4.5000]), 4.5, 4.5, 4)"
            ]
          },
          "metadata": {},
          "execution_count": 23
        }
      ]
    },
    {
      "cell_type": "markdown",
      "source": [
        "**2.1.8 Exercise**"
      ],
      "metadata": {
        "id": "602Vo_iraCC9"
      }
    },
    {
      "cell_type": "code",
      "source": [
        "#No. 1\n",
        "M = torch.arange(12, dtype=torch.float32).reshape((3,4))\n",
        "N = torch.tensor([[2.0, 1, 4, 3], [1, 2, 3, 4], [4, 3, 2, 1]])\n",
        "M,N,M == N,M <N, M > N"
      ],
      "metadata": {
        "colab": {
          "base_uri": "https://localhost:8080/"
        },
        "id": "D0T9D2OPZqEE",
        "outputId": "e4366131-ba4c-48cb-cc67-710da75b8304"
      },
      "execution_count": 24,
      "outputs": [
        {
          "output_type": "execute_result",
          "data": {
            "text/plain": [
              "(tensor([[ 0.,  1.,  2.,  3.],\n",
              "         [ 4.,  5.,  6.,  7.],\n",
              "         [ 8.,  9., 10., 11.]]), tensor([[2., 1., 4., 3.],\n",
              "         [1., 2., 3., 4.],\n",
              "         [4., 3., 2., 1.]]), tensor([[False,  True, False,  True],\n",
              "         [False, False, False, False],\n",
              "         [False, False, False, False]]), tensor([[ True, False,  True, False],\n",
              "         [False, False, False, False],\n",
              "         [False, False, False, False]]), tensor([[False, False, False, False],\n",
              "         [ True,  True,  True,  True],\n",
              "         [ True,  True,  True,  True]]))"
            ]
          },
          "metadata": {},
          "execution_count": 24
        }
      ]
    },
    {
      "cell_type": "code",
      "source": [
        "#No. 2\n",
        "P = torch.arange(6).reshape((3, 1, 2))\n",
        "Q = torch.arange(4).reshape((1, 2, 2))\n",
        "P,Q"
      ],
      "metadata": {
        "colab": {
          "base_uri": "https://localhost:8080/"
        },
        "id": "Q2AvvI6AapHs",
        "outputId": "c42da71f-7ae0-4d1c-9d8a-996c810848a3"
      },
      "execution_count": 25,
      "outputs": [
        {
          "output_type": "execute_result",
          "data": {
            "text/plain": [
              "(tensor([[[0, 1]],\n",
              " \n",
              "         [[2, 3]],\n",
              " \n",
              "         [[4, 5]]]), tensor([[[0, 1],\n",
              "          [2, 3]]]))"
            ]
          },
          "metadata": {},
          "execution_count": 25
        }
      ]
    },
    {
      "cell_type": "code",
      "source": [
        "P+Q, P-Q, P*Q,P ** Q"
      ],
      "metadata": {
        "colab": {
          "base_uri": "https://localhost:8080/"
        },
        "id": "OHsDDfS0bFcM",
        "outputId": "c116ce4d-2188-49fe-fc1a-69b827556169"
      },
      "execution_count": 26,
      "outputs": [
        {
          "output_type": "execute_result",
          "data": {
            "text/plain": [
              "(tensor([[[0, 2],\n",
              "          [2, 4]],\n",
              " \n",
              "         [[2, 4],\n",
              "          [4, 6]],\n",
              " \n",
              "         [[4, 6],\n",
              "          [6, 8]]]), tensor([[[ 0,  0],\n",
              "          [-2, -2]],\n",
              " \n",
              "         [[ 2,  2],\n",
              "          [ 0,  0]],\n",
              " \n",
              "         [[ 4,  4],\n",
              "          [ 2,  2]]]), tensor([[[ 0,  1],\n",
              "          [ 0,  3]],\n",
              " \n",
              "         [[ 0,  3],\n",
              "          [ 4,  9]],\n",
              " \n",
              "         [[ 0,  5],\n",
              "          [ 8, 15]]]), tensor([[[  1,   1],\n",
              "          [  0,   1]],\n",
              " \n",
              "         [[  1,   3],\n",
              "          [  4,  27]],\n",
              " \n",
              "         [[  1,   5],\n",
              "          [ 16, 125]]]))"
            ]
          },
          "metadata": {},
          "execution_count": 26
        }
      ]
    },
    {
      "cell_type": "markdown",
      "source": [
        "# **2.2 Data Preprocessing**"
      ],
      "metadata": {
        "id": "iKqdOpTXcR08"
      }
    },
    {
      "cell_type": "markdown",
      "source": [
        "**2.2.1 Reading Dataset**"
      ],
      "metadata": {
        "id": "wgw340luceSd"
      }
    },
    {
      "cell_type": "code",
      "source": [
        "import os\n",
        "\n",
        "os.makedirs(os.path.join('..', 'data'), exist_ok=True)\n",
        "data_file = os.path.join('..', 'data', 'house_tiny.csv')\n",
        "with open(data_file, 'w') as f:\n",
        "    f.write('NumRooms,Alley,Price\\n')  # Column names\n",
        "    f.write('NA,Pave,127500\\n')  # Each row represents a data example\n",
        "    f.write('2,NA,106000\\n')\n",
        "    f.write('4,NA,178100\\n')\n",
        "    f.write('NA,NA,140000\\n')"
      ],
      "metadata": {
        "id": "JJ2JVjY8cX1f"
      },
      "execution_count": 27,
      "outputs": []
    },
    {
      "cell_type": "code",
      "source": [
        "import pandas as pd\n",
        "\n",
        "data = pd.read_csv(data_file)\n",
        "print(data)"
      ],
      "metadata": {
        "colab": {
          "base_uri": "https://localhost:8080/"
        },
        "id": "E0zqC8kdcs_X",
        "outputId": "d55c86b9-8324-4fe7-cbb2-aee748e275b5"
      },
      "execution_count": 28,
      "outputs": [
        {
          "output_type": "stream",
          "name": "stdout",
          "text": [
            "   NumRooms Alley   Price\n",
            "0       NaN  Pave  127500\n",
            "1       2.0   NaN  106000\n",
            "2       4.0   NaN  178100\n",
            "3       NaN   NaN  140000\n"
          ]
        }
      ]
    },
    {
      "cell_type": "markdown",
      "source": [
        "**2.2.2 Handling Missing Data**"
      ],
      "metadata": {
        "id": "BqbysX6Bc1BE"
      }
    },
    {
      "cell_type": "code",
      "source": [
        "inputs, outputs = data.iloc[:, 0:2], data.iloc[:, 2]\n",
        "inputs = inputs.fillna(inputs.mean())\n",
        "print(inputs)"
      ],
      "metadata": {
        "colab": {
          "base_uri": "https://localhost:8080/"
        },
        "id": "UuNNbOtgcwjK",
        "outputId": "63789dc8-a973-4289-ebba-50bcfdb194c4"
      },
      "execution_count": 29,
      "outputs": [
        {
          "output_type": "stream",
          "name": "stdout",
          "text": [
            "   NumRooms Alley\n",
            "0       3.0  Pave\n",
            "1       2.0   NaN\n",
            "2       4.0   NaN\n",
            "3       3.0   NaN\n"
          ]
        },
        {
          "output_type": "stream",
          "name": "stderr",
          "text": [
            "/usr/local/lib/python3.7/dist-packages/ipykernel_launcher.py:2: FutureWarning: Dropping of nuisance columns in DataFrame reductions (with 'numeric_only=None') is deprecated; in a future version this will raise TypeError.  Select only valid columns before calling the reduction.\n",
            "  \n"
          ]
        }
      ]
    },
    {
      "cell_type": "code",
      "source": [
        "inputs = pd.get_dummies(inputs, dummy_na=True)\n",
        "print(inputs)"
      ],
      "metadata": {
        "colab": {
          "base_uri": "https://localhost:8080/"
        },
        "id": "07kBZmAHc8Wp",
        "outputId": "b91d6112-c113-4f2b-ed96-c27ee3c2c9c4"
      },
      "execution_count": 30,
      "outputs": [
        {
          "output_type": "stream",
          "name": "stdout",
          "text": [
            "   NumRooms  Alley_Pave  Alley_nan\n",
            "0       3.0           1          0\n",
            "1       2.0           0          1\n",
            "2       4.0           0          1\n",
            "3       3.0           0          1\n"
          ]
        }
      ]
    },
    {
      "cell_type": "markdown",
      "source": [
        "**2.2.3 Conversion to the Tensor Format**"
      ],
      "metadata": {
        "id": "1tUSOJP8yEo7"
      }
    },
    {
      "cell_type": "code",
      "source": [
        "inputs"
      ],
      "metadata": {
        "colab": {
          "base_uri": "https://localhost:8080/",
          "height": 175
        },
        "id": "Nc8jDyXHzDRG",
        "outputId": "64bd56ac-4166-4aa6-cd17-ac0b3d71c878"
      },
      "execution_count": 31,
      "outputs": [
        {
          "output_type": "execute_result",
          "data": {
            "text/plain": [
              "   NumRooms  Alley_Pave  Alley_nan\n",
              "0       3.0           1          0\n",
              "1       2.0           0          1\n",
              "2       4.0           0          1\n",
              "3       3.0           0          1"
            ],
            "text/html": [
              "\n",
              "  <div id=\"df-e1ca04b1-43eb-4256-aa51-8d3d49728198\">\n",
              "    <div class=\"colab-df-container\">\n",
              "      <div>\n",
              "<style scoped>\n",
              "    .dataframe tbody tr th:only-of-type {\n",
              "        vertical-align: middle;\n",
              "    }\n",
              "\n",
              "    .dataframe tbody tr th {\n",
              "        vertical-align: top;\n",
              "    }\n",
              "\n",
              "    .dataframe thead th {\n",
              "        text-align: right;\n",
              "    }\n",
              "</style>\n",
              "<table border=\"1\" class=\"dataframe\">\n",
              "  <thead>\n",
              "    <tr style=\"text-align: right;\">\n",
              "      <th></th>\n",
              "      <th>NumRooms</th>\n",
              "      <th>Alley_Pave</th>\n",
              "      <th>Alley_nan</th>\n",
              "    </tr>\n",
              "  </thead>\n",
              "  <tbody>\n",
              "    <tr>\n",
              "      <th>0</th>\n",
              "      <td>3.0</td>\n",
              "      <td>1</td>\n",
              "      <td>0</td>\n",
              "    </tr>\n",
              "    <tr>\n",
              "      <th>1</th>\n",
              "      <td>2.0</td>\n",
              "      <td>0</td>\n",
              "      <td>1</td>\n",
              "    </tr>\n",
              "    <tr>\n",
              "      <th>2</th>\n",
              "      <td>4.0</td>\n",
              "      <td>0</td>\n",
              "      <td>1</td>\n",
              "    </tr>\n",
              "    <tr>\n",
              "      <th>3</th>\n",
              "      <td>3.0</td>\n",
              "      <td>0</td>\n",
              "      <td>1</td>\n",
              "    </tr>\n",
              "  </tbody>\n",
              "</table>\n",
              "</div>\n",
              "      <button class=\"colab-df-convert\" onclick=\"convertToInteractive('df-e1ca04b1-43eb-4256-aa51-8d3d49728198')\"\n",
              "              title=\"Convert this dataframe to an interactive table.\"\n",
              "              style=\"display:none;\">\n",
              "        \n",
              "  <svg xmlns=\"http://www.w3.org/2000/svg\" height=\"24px\"viewBox=\"0 0 24 24\"\n",
              "       width=\"24px\">\n",
              "    <path d=\"M0 0h24v24H0V0z\" fill=\"none\"/>\n",
              "    <path d=\"M18.56 5.44l.94 2.06.94-2.06 2.06-.94-2.06-.94-.94-2.06-.94 2.06-2.06.94zm-11 1L8.5 8.5l.94-2.06 2.06-.94-2.06-.94L8.5 2.5l-.94 2.06-2.06.94zm10 10l.94 2.06.94-2.06 2.06-.94-2.06-.94-.94-2.06-.94 2.06-2.06.94z\"/><path d=\"M17.41 7.96l-1.37-1.37c-.4-.4-.92-.59-1.43-.59-.52 0-1.04.2-1.43.59L10.3 9.45l-7.72 7.72c-.78.78-.78 2.05 0 2.83L4 21.41c.39.39.9.59 1.41.59.51 0 1.02-.2 1.41-.59l7.78-7.78 2.81-2.81c.8-.78.8-2.07 0-2.86zM5.41 20L4 18.59l7.72-7.72 1.47 1.35L5.41 20z\"/>\n",
              "  </svg>\n",
              "      </button>\n",
              "      \n",
              "  <style>\n",
              "    .colab-df-container {\n",
              "      display:flex;\n",
              "      flex-wrap:wrap;\n",
              "      gap: 12px;\n",
              "    }\n",
              "\n",
              "    .colab-df-convert {\n",
              "      background-color: #E8F0FE;\n",
              "      border: none;\n",
              "      border-radius: 50%;\n",
              "      cursor: pointer;\n",
              "      display: none;\n",
              "      fill: #1967D2;\n",
              "      height: 32px;\n",
              "      padding: 0 0 0 0;\n",
              "      width: 32px;\n",
              "    }\n",
              "\n",
              "    .colab-df-convert:hover {\n",
              "      background-color: #E2EBFA;\n",
              "      box-shadow: 0px 1px 2px rgba(60, 64, 67, 0.3), 0px 1px 3px 1px rgba(60, 64, 67, 0.15);\n",
              "      fill: #174EA6;\n",
              "    }\n",
              "\n",
              "    [theme=dark] .colab-df-convert {\n",
              "      background-color: #3B4455;\n",
              "      fill: #D2E3FC;\n",
              "    }\n",
              "\n",
              "    [theme=dark] .colab-df-convert:hover {\n",
              "      background-color: #434B5C;\n",
              "      box-shadow: 0px 1px 3px 1px rgba(0, 0, 0, 0.15);\n",
              "      filter: drop-shadow(0px 1px 2px rgba(0, 0, 0, 0.3));\n",
              "      fill: #FFFFFF;\n",
              "    }\n",
              "  </style>\n",
              "\n",
              "      <script>\n",
              "        const buttonEl =\n",
              "          document.querySelector('#df-e1ca04b1-43eb-4256-aa51-8d3d49728198 button.colab-df-convert');\n",
              "        buttonEl.style.display =\n",
              "          google.colab.kernel.accessAllowed ? 'block' : 'none';\n",
              "\n",
              "        async function convertToInteractive(key) {\n",
              "          const element = document.querySelector('#df-e1ca04b1-43eb-4256-aa51-8d3d49728198');\n",
              "          const dataTable =\n",
              "            await google.colab.kernel.invokeFunction('convertToInteractive',\n",
              "                                                     [key], {});\n",
              "          if (!dataTable) return;\n",
              "\n",
              "          const docLinkHtml = 'Like what you see? Visit the ' +\n",
              "            '<a target=\"_blank\" href=https://colab.research.google.com/notebooks/data_table.ipynb>data table notebook</a>'\n",
              "            + ' to learn more about interactive tables.';\n",
              "          element.innerHTML = '';\n",
              "          dataTable['output_type'] = 'display_data';\n",
              "          await google.colab.output.renderOutput(dataTable, element);\n",
              "          const docLink = document.createElement('div');\n",
              "          docLink.innerHTML = docLinkHtml;\n",
              "          element.appendChild(docLink);\n",
              "        }\n",
              "      </script>\n",
              "    </div>\n",
              "  </div>\n",
              "  "
            ]
          },
          "metadata": {},
          "execution_count": 31
        }
      ]
    },
    {
      "cell_type": "code",
      "source": [
        "outputs"
      ],
      "metadata": {
        "colab": {
          "base_uri": "https://localhost:8080/"
        },
        "id": "A1w_EvOdzTaC",
        "outputId": "24ae3324-0673-4fdd-fa2e-3b7a6af15f23"
      },
      "execution_count": 32,
      "outputs": [
        {
          "output_type": "execute_result",
          "data": {
            "text/plain": [
              "0    127500\n",
              "1    106000\n",
              "2    178100\n",
              "3    140000\n",
              "Name: Price, dtype: int64"
            ]
          },
          "metadata": {},
          "execution_count": 32
        }
      ]
    },
    {
      "cell_type": "code",
      "source": [
        "X, y = torch.tensor(inputs.values), torch.tensor(outputs.values)\n",
        "X, y"
      ],
      "metadata": {
        "id": "WG23jQcAdO8y",
        "colab": {
          "base_uri": "https://localhost:8080/"
        },
        "outputId": "1ae62ada-efcf-4b8b-a6f4-31037211c9e0"
      },
      "execution_count": 33,
      "outputs": [
        {
          "output_type": "execute_result",
          "data": {
            "text/plain": [
              "(tensor([[3., 1., 0.],\n",
              "         [2., 0., 1.],\n",
              "         [4., 0., 1.],\n",
              "         [3., 0., 1.]], dtype=torch.float64),\n",
              " tensor([127500, 106000, 178100, 140000]))"
            ]
          },
          "metadata": {},
          "execution_count": 33
        }
      ]
    },
    {
      "cell_type": "markdown",
      "source": [
        "**2.2.5. Exercises**"
      ],
      "metadata": {
        "id": "zNyGsXYE0COg"
      }
    },
    {
      "cell_type": "code",
      "source": [
        "#No. 1 - Hapus kolom yang banyak missing value\n",
        "masukan, keluaran = data.iloc[:, 0:2], data.iloc[:, 2]\n",
        "masukan = masukan.dropna(axis=1, how=any, thresh= len(masukan) -max(masukan.isnull().sum(axis=0))+1)\n",
        "masukan"
      ],
      "metadata": {
        "colab": {
          "base_uri": "https://localhost:8080/",
          "height": 175
        },
        "id": "a2AAx3qazXfn",
        "outputId": "e48e9715-56fb-46bf-da8a-05c937b0c32a"
      },
      "execution_count": 34,
      "outputs": [
        {
          "output_type": "execute_result",
          "data": {
            "text/plain": [
              "   NumRooms\n",
              "0       NaN\n",
              "1       2.0\n",
              "2       4.0\n",
              "3       NaN"
            ],
            "text/html": [
              "\n",
              "  <div id=\"df-6f880392-bab8-4c85-85f3-65149fd526b8\">\n",
              "    <div class=\"colab-df-container\">\n",
              "      <div>\n",
              "<style scoped>\n",
              "    .dataframe tbody tr th:only-of-type {\n",
              "        vertical-align: middle;\n",
              "    }\n",
              "\n",
              "    .dataframe tbody tr th {\n",
              "        vertical-align: top;\n",
              "    }\n",
              "\n",
              "    .dataframe thead th {\n",
              "        text-align: right;\n",
              "    }\n",
              "</style>\n",
              "<table border=\"1\" class=\"dataframe\">\n",
              "  <thead>\n",
              "    <tr style=\"text-align: right;\">\n",
              "      <th></th>\n",
              "      <th>NumRooms</th>\n",
              "    </tr>\n",
              "  </thead>\n",
              "  <tbody>\n",
              "    <tr>\n",
              "      <th>0</th>\n",
              "      <td>NaN</td>\n",
              "    </tr>\n",
              "    <tr>\n",
              "      <th>1</th>\n",
              "      <td>2.0</td>\n",
              "    </tr>\n",
              "    <tr>\n",
              "      <th>2</th>\n",
              "      <td>4.0</td>\n",
              "    </tr>\n",
              "    <tr>\n",
              "      <th>3</th>\n",
              "      <td>NaN</td>\n",
              "    </tr>\n",
              "  </tbody>\n",
              "</table>\n",
              "</div>\n",
              "      <button class=\"colab-df-convert\" onclick=\"convertToInteractive('df-6f880392-bab8-4c85-85f3-65149fd526b8')\"\n",
              "              title=\"Convert this dataframe to an interactive table.\"\n",
              "              style=\"display:none;\">\n",
              "        \n",
              "  <svg xmlns=\"http://www.w3.org/2000/svg\" height=\"24px\"viewBox=\"0 0 24 24\"\n",
              "       width=\"24px\">\n",
              "    <path d=\"M0 0h24v24H0V0z\" fill=\"none\"/>\n",
              "    <path d=\"M18.56 5.44l.94 2.06.94-2.06 2.06-.94-2.06-.94-.94-2.06-.94 2.06-2.06.94zm-11 1L8.5 8.5l.94-2.06 2.06-.94-2.06-.94L8.5 2.5l-.94 2.06-2.06.94zm10 10l.94 2.06.94-2.06 2.06-.94-2.06-.94-.94-2.06-.94 2.06-2.06.94z\"/><path d=\"M17.41 7.96l-1.37-1.37c-.4-.4-.92-.59-1.43-.59-.52 0-1.04.2-1.43.59L10.3 9.45l-7.72 7.72c-.78.78-.78 2.05 0 2.83L4 21.41c.39.39.9.59 1.41.59.51 0 1.02-.2 1.41-.59l7.78-7.78 2.81-2.81c.8-.78.8-2.07 0-2.86zM5.41 20L4 18.59l7.72-7.72 1.47 1.35L5.41 20z\"/>\n",
              "  </svg>\n",
              "      </button>\n",
              "      \n",
              "  <style>\n",
              "    .colab-df-container {\n",
              "      display:flex;\n",
              "      flex-wrap:wrap;\n",
              "      gap: 12px;\n",
              "    }\n",
              "\n",
              "    .colab-df-convert {\n",
              "      background-color: #E8F0FE;\n",
              "      border: none;\n",
              "      border-radius: 50%;\n",
              "      cursor: pointer;\n",
              "      display: none;\n",
              "      fill: #1967D2;\n",
              "      height: 32px;\n",
              "      padding: 0 0 0 0;\n",
              "      width: 32px;\n",
              "    }\n",
              "\n",
              "    .colab-df-convert:hover {\n",
              "      background-color: #E2EBFA;\n",
              "      box-shadow: 0px 1px 2px rgba(60, 64, 67, 0.3), 0px 1px 3px 1px rgba(60, 64, 67, 0.15);\n",
              "      fill: #174EA6;\n",
              "    }\n",
              "\n",
              "    [theme=dark] .colab-df-convert {\n",
              "      background-color: #3B4455;\n",
              "      fill: #D2E3FC;\n",
              "    }\n",
              "\n",
              "    [theme=dark] .colab-df-convert:hover {\n",
              "      background-color: #434B5C;\n",
              "      box-shadow: 0px 1px 3px 1px rgba(0, 0, 0, 0.15);\n",
              "      filter: drop-shadow(0px 1px 2px rgba(0, 0, 0, 0.3));\n",
              "      fill: #FFFFFF;\n",
              "    }\n",
              "  </style>\n",
              "\n",
              "      <script>\n",
              "        const buttonEl =\n",
              "          document.querySelector('#df-6f880392-bab8-4c85-85f3-65149fd526b8 button.colab-df-convert');\n",
              "        buttonEl.style.display =\n",
              "          google.colab.kernel.accessAllowed ? 'block' : 'none';\n",
              "\n",
              "        async function convertToInteractive(key) {\n",
              "          const element = document.querySelector('#df-6f880392-bab8-4c85-85f3-65149fd526b8');\n",
              "          const dataTable =\n",
              "            await google.colab.kernel.invokeFunction('convertToInteractive',\n",
              "                                                     [key], {});\n",
              "          if (!dataTable) return;\n",
              "\n",
              "          const docLinkHtml = 'Like what you see? Visit the ' +\n",
              "            '<a target=\"_blank\" href=https://colab.research.google.com/notebooks/data_table.ipynb>data table notebook</a>'\n",
              "            + ' to learn more about interactive tables.';\n",
              "          element.innerHTML = '';\n",
              "          dataTable['output_type'] = 'display_data';\n",
              "          await google.colab.output.renderOutput(dataTable, element);\n",
              "          const docLink = document.createElement('div');\n",
              "          docLink.innerHTML = docLinkHtml;\n",
              "          element.appendChild(docLink);\n",
              "        }\n",
              "      </script>\n",
              "    </div>\n",
              "  </div>\n",
              "  "
            ]
          },
          "metadata": {},
          "execution_count": 34
        }
      ]
    },
    {
      "cell_type": "code",
      "source": [
        "#sebelum konversi, ingin imputasi missing value di NumRooms\n",
        "masukan = masukan.fillna(masukan.mean())\n",
        "masukan"
      ],
      "metadata": {
        "colab": {
          "base_uri": "https://localhost:8080/",
          "height": 175
        },
        "id": "8JfzQmEM0_HB",
        "outputId": "a7f51dc2-0a7c-4ee4-9da0-f53dfe5d77ef"
      },
      "execution_count": 35,
      "outputs": [
        {
          "output_type": "execute_result",
          "data": {
            "text/plain": [
              "   NumRooms\n",
              "0       3.0\n",
              "1       2.0\n",
              "2       4.0\n",
              "3       3.0"
            ],
            "text/html": [
              "\n",
              "  <div id=\"df-f16016f2-5922-4bb6-8bf0-78437443ba73\">\n",
              "    <div class=\"colab-df-container\">\n",
              "      <div>\n",
              "<style scoped>\n",
              "    .dataframe tbody tr th:only-of-type {\n",
              "        vertical-align: middle;\n",
              "    }\n",
              "\n",
              "    .dataframe tbody tr th {\n",
              "        vertical-align: top;\n",
              "    }\n",
              "\n",
              "    .dataframe thead th {\n",
              "        text-align: right;\n",
              "    }\n",
              "</style>\n",
              "<table border=\"1\" class=\"dataframe\">\n",
              "  <thead>\n",
              "    <tr style=\"text-align: right;\">\n",
              "      <th></th>\n",
              "      <th>NumRooms</th>\n",
              "    </tr>\n",
              "  </thead>\n",
              "  <tbody>\n",
              "    <tr>\n",
              "      <th>0</th>\n",
              "      <td>3.0</td>\n",
              "    </tr>\n",
              "    <tr>\n",
              "      <th>1</th>\n",
              "      <td>2.0</td>\n",
              "    </tr>\n",
              "    <tr>\n",
              "      <th>2</th>\n",
              "      <td>4.0</td>\n",
              "    </tr>\n",
              "    <tr>\n",
              "      <th>3</th>\n",
              "      <td>3.0</td>\n",
              "    </tr>\n",
              "  </tbody>\n",
              "</table>\n",
              "</div>\n",
              "      <button class=\"colab-df-convert\" onclick=\"convertToInteractive('df-f16016f2-5922-4bb6-8bf0-78437443ba73')\"\n",
              "              title=\"Convert this dataframe to an interactive table.\"\n",
              "              style=\"display:none;\">\n",
              "        \n",
              "  <svg xmlns=\"http://www.w3.org/2000/svg\" height=\"24px\"viewBox=\"0 0 24 24\"\n",
              "       width=\"24px\">\n",
              "    <path d=\"M0 0h24v24H0V0z\" fill=\"none\"/>\n",
              "    <path d=\"M18.56 5.44l.94 2.06.94-2.06 2.06-.94-2.06-.94-.94-2.06-.94 2.06-2.06.94zm-11 1L8.5 8.5l.94-2.06 2.06-.94-2.06-.94L8.5 2.5l-.94 2.06-2.06.94zm10 10l.94 2.06.94-2.06 2.06-.94-2.06-.94-.94-2.06-.94 2.06-2.06.94z\"/><path d=\"M17.41 7.96l-1.37-1.37c-.4-.4-.92-.59-1.43-.59-.52 0-1.04.2-1.43.59L10.3 9.45l-7.72 7.72c-.78.78-.78 2.05 0 2.83L4 21.41c.39.39.9.59 1.41.59.51 0 1.02-.2 1.41-.59l7.78-7.78 2.81-2.81c.8-.78.8-2.07 0-2.86zM5.41 20L4 18.59l7.72-7.72 1.47 1.35L5.41 20z\"/>\n",
              "  </svg>\n",
              "      </button>\n",
              "      \n",
              "  <style>\n",
              "    .colab-df-container {\n",
              "      display:flex;\n",
              "      flex-wrap:wrap;\n",
              "      gap: 12px;\n",
              "    }\n",
              "\n",
              "    .colab-df-convert {\n",
              "      background-color: #E8F0FE;\n",
              "      border: none;\n",
              "      border-radius: 50%;\n",
              "      cursor: pointer;\n",
              "      display: none;\n",
              "      fill: #1967D2;\n",
              "      height: 32px;\n",
              "      padding: 0 0 0 0;\n",
              "      width: 32px;\n",
              "    }\n",
              "\n",
              "    .colab-df-convert:hover {\n",
              "      background-color: #E2EBFA;\n",
              "      box-shadow: 0px 1px 2px rgba(60, 64, 67, 0.3), 0px 1px 3px 1px rgba(60, 64, 67, 0.15);\n",
              "      fill: #174EA6;\n",
              "    }\n",
              "\n",
              "    [theme=dark] .colab-df-convert {\n",
              "      background-color: #3B4455;\n",
              "      fill: #D2E3FC;\n",
              "    }\n",
              "\n",
              "    [theme=dark] .colab-df-convert:hover {\n",
              "      background-color: #434B5C;\n",
              "      box-shadow: 0px 1px 3px 1px rgba(0, 0, 0, 0.15);\n",
              "      filter: drop-shadow(0px 1px 2px rgba(0, 0, 0, 0.3));\n",
              "      fill: #FFFFFF;\n",
              "    }\n",
              "  </style>\n",
              "\n",
              "      <script>\n",
              "        const buttonEl =\n",
              "          document.querySelector('#df-f16016f2-5922-4bb6-8bf0-78437443ba73 button.colab-df-convert');\n",
              "        buttonEl.style.display =\n",
              "          google.colab.kernel.accessAllowed ? 'block' : 'none';\n",
              "\n",
              "        async function convertToInteractive(key) {\n",
              "          const element = document.querySelector('#df-f16016f2-5922-4bb6-8bf0-78437443ba73');\n",
              "          const dataTable =\n",
              "            await google.colab.kernel.invokeFunction('convertToInteractive',\n",
              "                                                     [key], {});\n",
              "          if (!dataTable) return;\n",
              "\n",
              "          const docLinkHtml = 'Like what you see? Visit the ' +\n",
              "            '<a target=\"_blank\" href=https://colab.research.google.com/notebooks/data_table.ipynb>data table notebook</a>'\n",
              "            + ' to learn more about interactive tables.';\n",
              "          element.innerHTML = '';\n",
              "          dataTable['output_type'] = 'display_data';\n",
              "          await google.colab.output.renderOutput(dataTable, element);\n",
              "          const docLink = document.createElement('div');\n",
              "          docLink.innerHTML = docLinkHtml;\n",
              "          element.appendChild(docLink);\n",
              "        }\n",
              "      </script>\n",
              "    </div>\n",
              "  </div>\n",
              "  "
            ]
          },
          "metadata": {},
          "execution_count": 35
        }
      ]
    },
    {
      "cell_type": "code",
      "source": [
        "D,e  = torch.tensor(masukan.values), torch.tensor(keluaran.values)\n",
        "D, e"
      ],
      "metadata": {
        "colab": {
          "base_uri": "https://localhost:8080/"
        },
        "id": "K1-lVJMW0IFn",
        "outputId": "94d48b9f-57c5-429a-f8fd-0eddd3782a93"
      },
      "execution_count": 36,
      "outputs": [
        {
          "output_type": "execute_result",
          "data": {
            "text/plain": [
              "(tensor([[3.],\n",
              "         [2.],\n",
              "         [4.],\n",
              "         [3.]], dtype=torch.float64), tensor([127500, 106000, 178100, 140000]))"
            ]
          },
          "metadata": {},
          "execution_count": 36
        }
      ]
    },
    {
      "cell_type": "markdown",
      "source": [
        "# **2.3. Linear Algebra**"
      ],
      "metadata": {
        "id": "NdXW4kCs2AC3"
      }
    },
    {
      "cell_type": "markdown",
      "source": [
        "**2.3.1 Scalars**"
      ],
      "metadata": {
        "id": "q3QGrMDB2MGu"
      }
    },
    {
      "cell_type": "code",
      "source": [
        "#Operasi dasar skalar\n",
        "x = torch.tensor(3.0)\n",
        "y = torch.tensor(2.0)\n",
        "\n",
        "x + y, x * y, x / y, x**y"
      ],
      "metadata": {
        "colab": {
          "base_uri": "https://localhost:8080/"
        },
        "id": "WcFNaIY92J_g",
        "outputId": "837095c5-0cc2-4d19-b0cd-1747c7e2820c"
      },
      "execution_count": 37,
      "outputs": [
        {
          "output_type": "execute_result",
          "data": {
            "text/plain": [
              "(tensor(5.), tensor(6.), tensor(1.5000), tensor(9.))"
            ]
          },
          "metadata": {},
          "execution_count": 37
        }
      ]
    },
    {
      "cell_type": "markdown",
      "source": [
        "**2.3.2 Vector**"
      ],
      "metadata": {
        "id": "VcWt8ZDi2c4I"
      }
    },
    {
      "cell_type": "code",
      "source": [
        "K = torch.arange(4)\n",
        "L = torch.rand(6)\n",
        "K, L"
      ],
      "metadata": {
        "colab": {
          "base_uri": "https://localhost:8080/"
        },
        "id": "usNPR97n2U6Q",
        "outputId": "d368c4cf-a8fc-4003-8687-bc9821ff18e4"
      },
      "execution_count": 38,
      "outputs": [
        {
          "output_type": "execute_result",
          "data": {
            "text/plain": [
              "(tensor([0, 1, 2, 3]),\n",
              " tensor([0.1451, 0.9129, 0.8775, 0.6004, 0.5365, 0.7554]))"
            ]
          },
          "metadata": {},
          "execution_count": 38
        }
      ]
    },
    {
      "cell_type": "code",
      "source": [
        "K[3], L[3]"
      ],
      "metadata": {
        "colab": {
          "base_uri": "https://localhost:8080/"
        },
        "id": "vPt7wYTz2h37",
        "outputId": "4d2ce58d-c51a-49ad-f782-c416d63dfaea"
      },
      "execution_count": 39,
      "outputs": [
        {
          "output_type": "execute_result",
          "data": {
            "text/plain": [
              "(tensor(3), tensor(0.6004))"
            ]
          },
          "metadata": {},
          "execution_count": 39
        }
      ]
    },
    {
      "cell_type": "code",
      "source": [
        "# 2.3.2.1. Length, Dimensionality, and Shape\n",
        "len(K), len (L)"
      ],
      "metadata": {
        "colab": {
          "base_uri": "https://localhost:8080/"
        },
        "id": "n89Mh6WO3aNO",
        "outputId": "ab57b557-667c-44d3-e298-879ecc063bcd"
      },
      "execution_count": 40,
      "outputs": [
        {
          "output_type": "execute_result",
          "data": {
            "text/plain": [
              "(4, 6)"
            ]
          },
          "metadata": {},
          "execution_count": 40
        }
      ]
    },
    {
      "cell_type": "code",
      "source": [
        "K.shape, L.shape"
      ],
      "metadata": {
        "colab": {
          "base_uri": "https://localhost:8080/"
        },
        "id": "Qvv9i2fo3s3D",
        "outputId": "70e28f52-c781-4254-fb63-e12b4fab70ea"
      },
      "execution_count": 41,
      "outputs": [
        {
          "output_type": "execute_result",
          "data": {
            "text/plain": [
              "(torch.Size([4]), torch.Size([6]))"
            ]
          },
          "metadata": {},
          "execution_count": 41
        }
      ]
    },
    {
      "cell_type": "markdown",
      "source": [
        "**2.3.3 Matrices**"
      ],
      "metadata": {
        "id": "81dJjD3k31_x"
      }
    },
    {
      "cell_type": "code",
      "source": [
        "J = torch.arange(20).reshape(5, 4)\n",
        "J"
      ],
      "metadata": {
        "colab": {
          "base_uri": "https://localhost:8080/"
        },
        "id": "x3dc7gdG3y02",
        "outputId": "f9a2dec7-02ea-4d80-98a1-478ee82be417"
      },
      "execution_count": 42,
      "outputs": [
        {
          "output_type": "execute_result",
          "data": {
            "text/plain": [
              "tensor([[ 0,  1,  2,  3],\n",
              "        [ 4,  5,  6,  7],\n",
              "        [ 8,  9, 10, 11],\n",
              "        [12, 13, 14, 15],\n",
              "        [16, 17, 18, 19]])"
            ]
          },
          "metadata": {},
          "execution_count": 42
        }
      ]
    },
    {
      "cell_type": "code",
      "source": [
        "J.T"
      ],
      "metadata": {
        "colab": {
          "base_uri": "https://localhost:8080/"
        },
        "id": "1-GuOgi-39F4",
        "outputId": "b14c42cf-19f2-4ca6-e5cf-b1ee063f2adc"
      },
      "execution_count": 43,
      "outputs": [
        {
          "output_type": "execute_result",
          "data": {
            "text/plain": [
              "tensor([[ 0,  4,  8, 12, 16],\n",
              "        [ 1,  5,  9, 13, 17],\n",
              "        [ 2,  6, 10, 14, 18],\n",
              "        [ 3,  7, 11, 15, 19]])"
            ]
          },
          "metadata": {},
          "execution_count": 43
        }
      ]
    },
    {
      "cell_type": "code",
      "source": [
        "H = torch.tensor([[1, 2, 3], [2, 0, 4], [3, 4, 5]])\n",
        "H"
      ],
      "metadata": {
        "colab": {
          "base_uri": "https://localhost:8080/"
        },
        "id": "W6o1sES44BSK",
        "outputId": "06ff11d0-eb93-4175-a70c-3b24d9c63e29"
      },
      "execution_count": 44,
      "outputs": [
        {
          "output_type": "execute_result",
          "data": {
            "text/plain": [
              "tensor([[1, 2, 3],\n",
              "        [2, 0, 4],\n",
              "        [3, 4, 5]])"
            ]
          },
          "metadata": {},
          "execution_count": 44
        }
      ]
    },
    {
      "cell_type": "code",
      "source": [
        "H == H.T"
      ],
      "metadata": {
        "colab": {
          "base_uri": "https://localhost:8080/"
        },
        "id": "oPeGp1cgQnUW",
        "outputId": "c5e1a450-aab9-48d5-ceda-eb788c4be223"
      },
      "execution_count": 45,
      "outputs": [
        {
          "output_type": "execute_result",
          "data": {
            "text/plain": [
              "tensor([[True, True, True],\n",
              "        [True, True, True],\n",
              "        [True, True, True]])"
            ]
          },
          "metadata": {},
          "execution_count": 45
        }
      ]
    },
    {
      "cell_type": "markdown",
      "source": [
        "**2.3.4 Tensor**"
      ],
      "metadata": {
        "id": "jFq7sCiKQ4UC"
      }
    },
    {
      "cell_type": "code",
      "source": [
        "X = torch.arange(24).reshape(2, 3, 4)\n",
        "X"
      ],
      "metadata": {
        "colab": {
          "base_uri": "https://localhost:8080/"
        },
        "id": "4EBNuVECQxSA",
        "outputId": "7b4e1e82-def5-4c05-d707-9550041ee8b5"
      },
      "execution_count": 46,
      "outputs": [
        {
          "output_type": "execute_result",
          "data": {
            "text/plain": [
              "tensor([[[ 0,  1,  2,  3],\n",
              "         [ 4,  5,  6,  7],\n",
              "         [ 8,  9, 10, 11]],\n",
              "\n",
              "        [[12, 13, 14, 15],\n",
              "         [16, 17, 18, 19],\n",
              "         [20, 21, 22, 23]]])"
            ]
          },
          "metadata": {},
          "execution_count": 46
        }
      ]
    },
    {
      "cell_type": "markdown",
      "source": [
        "**2.3.5 Basic Properties of Tensor Arithmetic**"
      ],
      "metadata": {
        "id": "iXvRW4pxRFAW"
      }
    },
    {
      "cell_type": "code",
      "source": [
        "R = torch.arange(20, dtype=torch.float32).reshape(5, 4)\n",
        "S = R.clone()  # Assign a copy of `A` to `B` by allocating new memory\n",
        "R, R + S"
      ],
      "metadata": {
        "colab": {
          "base_uri": "https://localhost:8080/"
        },
        "id": "FX7gtNFBRAqg",
        "outputId": "df4299ab-6325-49b6-aba4-a6205a8c4d7d"
      },
      "execution_count": 47,
      "outputs": [
        {
          "output_type": "execute_result",
          "data": {
            "text/plain": [
              "(tensor([[ 0.,  1.,  2.,  3.],\n",
              "         [ 4.,  5.,  6.,  7.],\n",
              "         [ 8.,  9., 10., 11.],\n",
              "         [12., 13., 14., 15.],\n",
              "         [16., 17., 18., 19.]]), tensor([[ 0.,  2.,  4.,  6.],\n",
              "         [ 8., 10., 12., 14.],\n",
              "         [16., 18., 20., 22.],\n",
              "         [24., 26., 28., 30.],\n",
              "         [32., 34., 36., 38.]]))"
            ]
          },
          "metadata": {},
          "execution_count": 47
        }
      ]
    },
    {
      "cell_type": "code",
      "source": [
        "R*S"
      ],
      "metadata": {
        "id": "MyQpQxS-RPjC",
        "outputId": "e361d4a9-e793-4056-ba10-2ec31f31611d",
        "colab": {
          "base_uri": "https://localhost:8080/"
        }
      },
      "execution_count": 48,
      "outputs": [
        {
          "output_type": "execute_result",
          "data": {
            "text/plain": [
              "tensor([[  0.,   1.,   4.,   9.],\n",
              "        [ 16.,  25.,  36.,  49.],\n",
              "        [ 64.,  81., 100., 121.],\n",
              "        [144., 169., 196., 225.],\n",
              "        [256., 289., 324., 361.]])"
            ]
          },
          "metadata": {},
          "execution_count": 48
        }
      ]
    },
    {
      "cell_type": "code",
      "source": [
        "a = 2\n",
        "X = torch.arange(24).reshape(2, 3, 4)\n",
        "a + X, (a * X).shape"
      ],
      "metadata": {
        "id": "w0WGfr4vRU8L",
        "colab": {
          "base_uri": "https://localhost:8080/"
        },
        "outputId": "f6f8743f-5416-49ad-c134-9a5fdeed31fa"
      },
      "execution_count": 49,
      "outputs": [
        {
          "output_type": "execute_result",
          "data": {
            "text/plain": [
              "(tensor([[[ 2,  3,  4,  5],\n",
              "          [ 6,  7,  8,  9],\n",
              "          [10, 11, 12, 13]],\n",
              " \n",
              "         [[14, 15, 16, 17],\n",
              "          [18, 19, 20, 21],\n",
              "          [22, 23, 24, 25]]]), torch.Size([2, 3, 4]))"
            ]
          },
          "metadata": {},
          "execution_count": 49
        }
      ]
    },
    {
      "cell_type": "markdown",
      "source": [
        "**2.3.6 Reduction**"
      ],
      "metadata": {
        "id": "VG2j6gzfWcUe"
      }
    },
    {
      "cell_type": "code",
      "source": [
        "x = torch.arange(4, dtype=torch.float32)\n",
        "x, x.sum()"
      ],
      "metadata": {
        "colab": {
          "base_uri": "https://localhost:8080/"
        },
        "id": "tX5nXw5CWM7S",
        "outputId": "5b42ec29-2ca3-42c5-d637-38e770429729"
      },
      "execution_count": 50,
      "outputs": [
        {
          "output_type": "execute_result",
          "data": {
            "text/plain": [
              "(tensor([0., 1., 2., 3.]), tensor(6.))"
            ]
          },
          "metadata": {},
          "execution_count": 50
        }
      ]
    },
    {
      "cell_type": "code",
      "source": [
        "A.shape, A.sum()"
      ],
      "metadata": {
        "colab": {
          "base_uri": "https://localhost:8080/"
        },
        "id": "w_3yqN4FWhqS",
        "outputId": "4f5c9c9a-1201-4a90-fcdb-b204b2dd6710"
      },
      "execution_count": 51,
      "outputs": [
        {
          "output_type": "execute_result",
          "data": {
            "text/plain": [
              "((5, 4), 980.0)"
            ]
          },
          "metadata": {},
          "execution_count": 51
        }
      ]
    },
    {
      "cell_type": "code",
      "source": [
        "R_sum_axis0 = R.sum(axis=0)\n",
        "R,R_sum_axis0, R_sum_axis0.shape"
      ],
      "metadata": {
        "colab": {
          "base_uri": "https://localhost:8080/"
        },
        "id": "cqPdM0HMWmAQ",
        "outputId": "ce91eda8-d4ed-499a-f683-698497eb5ec7"
      },
      "execution_count": 52,
      "outputs": [
        {
          "output_type": "execute_result",
          "data": {
            "text/plain": [
              "(tensor([[ 0.,  1.,  2.,  3.],\n",
              "         [ 4.,  5.,  6.,  7.],\n",
              "         [ 8.,  9., 10., 11.],\n",
              "         [12., 13., 14., 15.],\n",
              "         [16., 17., 18., 19.]]), tensor([40., 45., 50., 55.]), torch.Size([4]))"
            ]
          },
          "metadata": {},
          "execution_count": 52
        }
      ]
    },
    {
      "cell_type": "code",
      "source": [
        "R_sum_axis1 = R.sum(axis=1)\n",
        "R_sum_axis1, R_sum_axis1.shape"
      ],
      "metadata": {
        "colab": {
          "base_uri": "https://localhost:8080/"
        },
        "id": "vxYhLrppWnkt",
        "outputId": "2369c1d6-6e70-41a3-86a2-7dc5f6d5da25"
      },
      "execution_count": 53,
      "outputs": [
        {
          "output_type": "execute_result",
          "data": {
            "text/plain": [
              "(tensor([ 6., 22., 38., 54., 70.]), torch.Size([5]))"
            ]
          },
          "metadata": {},
          "execution_count": 53
        }
      ]
    },
    {
      "cell_type": "code",
      "source": [
        "R.sum(axis=[0, 1])  # Same as `A.sum()`"
      ],
      "metadata": {
        "colab": {
          "base_uri": "https://localhost:8080/"
        },
        "id": "jx6w1WLXW-NU",
        "outputId": "e10ce527-8e01-4cf4-d4a7-73969d20e048"
      },
      "execution_count": 54,
      "outputs": [
        {
          "output_type": "execute_result",
          "data": {
            "text/plain": [
              "tensor(190.)"
            ]
          },
          "metadata": {},
          "execution_count": 54
        }
      ]
    },
    {
      "cell_type": "code",
      "source": [
        "R.mean(), R.sum() / R.numel()"
      ],
      "metadata": {
        "colab": {
          "base_uri": "https://localhost:8080/"
        },
        "id": "C-yowhc-Xggq",
        "outputId": "91d7d8bd-1b1a-4b78-f669-9ecb925d8dd7"
      },
      "execution_count": 55,
      "outputs": [
        {
          "output_type": "execute_result",
          "data": {
            "text/plain": [
              "(tensor(9.5000), tensor(9.5000))"
            ]
          },
          "metadata": {},
          "execution_count": 55
        }
      ]
    },
    {
      "cell_type": "code",
      "source": [
        "R.mean(axis=0), R.sum(axis=0) / R.shape[0]"
      ],
      "metadata": {
        "colab": {
          "base_uri": "https://localhost:8080/"
        },
        "id": "9cAxmGFIYrXF",
        "outputId": "056b7fe8-3007-4f97-850e-e1f580571820"
      },
      "execution_count": 56,
      "outputs": [
        {
          "output_type": "execute_result",
          "data": {
            "text/plain": [
              "(tensor([ 8.,  9., 10., 11.]), tensor([ 8.,  9., 10., 11.]))"
            ]
          },
          "metadata": {},
          "execution_count": 56
        }
      ]
    },
    {
      "cell_type": "markdown",
      "source": [
        "**2.3.6.1 Non-Reduction Sum**"
      ],
      "metadata": {
        "id": "vjOtjN9HYyHU"
      }
    },
    {
      "cell_type": "code",
      "source": [
        "sum_R = R.sum(axis=1, keepdims=True)\n",
        "sum_R"
      ],
      "metadata": {
        "colab": {
          "base_uri": "https://localhost:8080/"
        },
        "id": "bWTzAoF6Yvb3",
        "outputId": "53a8f508-55b9-45c3-93b5-2663314bb86f"
      },
      "execution_count": 57,
      "outputs": [
        {
          "output_type": "execute_result",
          "data": {
            "text/plain": [
              "tensor([[ 6.],\n",
              "        [22.],\n",
              "        [38.],\n",
              "        [54.],\n",
              "        [70.]])"
            ]
          },
          "metadata": {},
          "execution_count": 57
        }
      ]
    },
    {
      "cell_type": "code",
      "source": [
        "R / sum_R"
      ],
      "metadata": {
        "colab": {
          "base_uri": "https://localhost:8080/"
        },
        "id": "6GinyIMZY6Bq",
        "outputId": "c744924d-3b91-44b2-d891-cc78efdc9669"
      },
      "execution_count": 58,
      "outputs": [
        {
          "output_type": "execute_result",
          "data": {
            "text/plain": [
              "tensor([[0.0000, 0.1667, 0.3333, 0.5000],\n",
              "        [0.1818, 0.2273, 0.2727, 0.3182],\n",
              "        [0.2105, 0.2368, 0.2632, 0.2895],\n",
              "        [0.2222, 0.2407, 0.2593, 0.2778],\n",
              "        [0.2286, 0.2429, 0.2571, 0.2714]])"
            ]
          },
          "metadata": {},
          "execution_count": 58
        }
      ]
    },
    {
      "cell_type": "code",
      "source": [
        "R.cumsum(axis=0)"
      ],
      "metadata": {
        "colab": {
          "base_uri": "https://localhost:8080/"
        },
        "id": "UBCYF6E7Y83F",
        "outputId": "76eec1b5-419a-42b3-f88f-0d7c476a4c8c"
      },
      "execution_count": 59,
      "outputs": [
        {
          "output_type": "execute_result",
          "data": {
            "text/plain": [
              "tensor([[ 0.,  1.,  2.,  3.],\n",
              "        [ 4.,  6.,  8., 10.],\n",
              "        [12., 15., 18., 21.],\n",
              "        [24., 28., 32., 36.],\n",
              "        [40., 45., 50., 55.]])"
            ]
          },
          "metadata": {},
          "execution_count": 59
        }
      ]
    },
    {
      "cell_type": "markdown",
      "source": [
        "**2.3.7 Dot Product**"
      ],
      "metadata": {
        "id": "CldsW8GHZBoQ"
      }
    },
    {
      "cell_type": "code",
      "source": [
        "y = torch.ones(4, dtype = torch.float32)\n",
        "x, y, torch.dot(x, y)"
      ],
      "metadata": {
        "colab": {
          "base_uri": "https://localhost:8080/"
        },
        "id": "9992ekFpY_OL",
        "outputId": "ef05d120-c9ec-42ac-8b1b-6ab3f75bb798"
      },
      "execution_count": 60,
      "outputs": [
        {
          "output_type": "execute_result",
          "data": {
            "text/plain": [
              "(tensor([0., 1., 2., 3.]), tensor([1., 1., 1., 1.]), tensor(6.))"
            ]
          },
          "metadata": {},
          "execution_count": 60
        }
      ]
    },
    {
      "cell_type": "code",
      "source": [
        "torch.sum(x * y)"
      ],
      "metadata": {
        "colab": {
          "base_uri": "https://localhost:8080/"
        },
        "id": "cflAo3ToZLq7",
        "outputId": "146b92a9-0d71-431f-a2db-db41725e4dc4"
      },
      "execution_count": 61,
      "outputs": [
        {
          "output_type": "execute_result",
          "data": {
            "text/plain": [
              "tensor(6.)"
            ]
          },
          "metadata": {},
          "execution_count": 61
        }
      ]
    },
    {
      "cell_type": "markdown",
      "source": [
        "**2.3.8 Matrix-Vector Products**"
      ],
      "metadata": {
        "id": "kj8a_kl1ZQWK"
      }
    },
    {
      "cell_type": "code",
      "source": [
        "R.shape, x.shape, torch.mv(R, x)"
      ],
      "metadata": {
        "colab": {
          "base_uri": "https://localhost:8080/"
        },
        "id": "mO6TpawUZNhL",
        "outputId": "67a99556-58f1-4877-f9ba-696b8e1c3b9e"
      },
      "execution_count": 62,
      "outputs": [
        {
          "output_type": "execute_result",
          "data": {
            "text/plain": [
              "(torch.Size([5, 4]), torch.Size([4]), tensor([ 14.,  38.,  62.,  86., 110.]))"
            ]
          },
          "metadata": {},
          "execution_count": 62
        }
      ]
    },
    {
      "cell_type": "markdown",
      "source": [
        "**2.3.9. Matrix-Matrix Multiplication**"
      ],
      "metadata": {
        "id": "ApjRqbmAZciy"
      }
    },
    {
      "cell_type": "code",
      "source": [
        "B = torch.ones(4, 3)\n",
        "R, B, torch.mm(R, B)"
      ],
      "metadata": {
        "colab": {
          "base_uri": "https://localhost:8080/"
        },
        "id": "cuCi2OdpZVmD",
        "outputId": "d47e65f5-a999-4ae2-c310-4298f0c294a9"
      },
      "execution_count": 63,
      "outputs": [
        {
          "output_type": "execute_result",
          "data": {
            "text/plain": [
              "(tensor([[ 0.,  1.,  2.,  3.],\n",
              "         [ 4.,  5.,  6.,  7.],\n",
              "         [ 8.,  9., 10., 11.],\n",
              "         [12., 13., 14., 15.],\n",
              "         [16., 17., 18., 19.]]), tensor([[1., 1., 1.],\n",
              "         [1., 1., 1.],\n",
              "         [1., 1., 1.],\n",
              "         [1., 1., 1.]]), tensor([[ 6.,  6.,  6.],\n",
              "         [22., 22., 22.],\n",
              "         [38., 38., 38.],\n",
              "         [54., 54., 54.],\n",
              "         [70., 70., 70.]]))"
            ]
          },
          "metadata": {},
          "execution_count": 63
        }
      ]
    },
    {
      "cell_type": "markdown",
      "source": [
        "**2.3.10. Norms**"
      ],
      "metadata": {
        "id": "KSjuhoLDZ4GE"
      }
    },
    {
      "cell_type": "code",
      "source": [
        "u = torch.tensor([3.0, -4.0])\n",
        "torch.norm(u)"
      ],
      "metadata": {
        "colab": {
          "base_uri": "https://localhost:8080/"
        },
        "id": "e2ymoNivZiIX",
        "outputId": "bfa125f4-7e89-4bae-d593-83c98a455fac"
      },
      "execution_count": 64,
      "outputs": [
        {
          "output_type": "execute_result",
          "data": {
            "text/plain": [
              "tensor(5.)"
            ]
          },
          "metadata": {},
          "execution_count": 64
        }
      ]
    },
    {
      "cell_type": "code",
      "source": [
        "torch.abs(u).sum()"
      ],
      "metadata": {
        "colab": {
          "base_uri": "https://localhost:8080/"
        },
        "id": "mICzsozSZ0RA",
        "outputId": "7b394eb4-cb9d-4c9d-e143-d4624eba4357"
      },
      "execution_count": 65,
      "outputs": [
        {
          "output_type": "execute_result",
          "data": {
            "text/plain": [
              "tensor(7.)"
            ]
          },
          "metadata": {},
          "execution_count": 65
        }
      ]
    },
    {
      "cell_type": "code",
      "source": [
        "torch.norm(torch.ones((4, 9)))"
      ],
      "metadata": {
        "colab": {
          "base_uri": "https://localhost:8080/"
        },
        "id": "aAwkuohKZ2aD",
        "outputId": "57d72741-083a-440e-8275-f5906d2ddf60"
      },
      "execution_count": 66,
      "outputs": [
        {
          "output_type": "execute_result",
          "data": {
            "text/plain": [
              "tensor(6.)"
            ]
          },
          "metadata": {},
          "execution_count": 66
        }
      ]
    },
    {
      "cell_type": "markdown",
      "source": [
        "**Exercise**"
      ],
      "metadata": {
        "id": "L-hudBVzawUi"
      }
    },
    {
      "cell_type": "code",
      "source": [
        "# Question 1\n",
        "RT = torch.transpose(R,0,1) \n",
        "R, RT, torch.transpose(RT,0,1)"
      ],
      "metadata": {
        "colab": {
          "base_uri": "https://localhost:8080/"
        },
        "id": "WArwWfD6Z-Hp",
        "outputId": "7bf0a683-a71b-4738-909e-2bc726f98321"
      },
      "execution_count": 67,
      "outputs": [
        {
          "output_type": "execute_result",
          "data": {
            "text/plain": [
              "(tensor([[ 0.,  1.,  2.,  3.],\n",
              "         [ 4.,  5.,  6.,  7.],\n",
              "         [ 8.,  9., 10., 11.],\n",
              "         [12., 13., 14., 15.],\n",
              "         [16., 17., 18., 19.]]), tensor([[ 0.,  4.,  8., 12., 16.],\n",
              "         [ 1.,  5.,  9., 13., 17.],\n",
              "         [ 2.,  6., 10., 14., 18.],\n",
              "         [ 3.,  7., 11., 15., 19.]]), tensor([[ 0.,  1.,  2.,  3.],\n",
              "         [ 4.,  5.,  6.,  7.],\n",
              "         [ 8.,  9., 10., 11.],\n",
              "         [12., 13., 14., 15.],\n",
              "         [16., 17., 18., 19.]]))"
            ]
          },
          "metadata": {},
          "execution_count": 67
        }
      ]
    },
    {
      "cell_type": "code",
      "source": [
        "# Question 2\n",
        "R = torch.randn(3,3)\n",
        "T = torch.randn(3,3)\n",
        "print(R, '\\n'),print(T, '\\n'),print(torch.transpose(R,0,1)+torch.transpose(T,0,1), '\\n'),print(torch.transpose(R+T,0,1), '\\n') "
      ],
      "metadata": {
        "colab": {
          "base_uri": "https://localhost:8080/"
        },
        "id": "sUdciq2caUEp",
        "outputId": "75b25e0d-b354-42b7-e9ab-2d0fde2dde7f"
      },
      "execution_count": 68,
      "outputs": [
        {
          "output_type": "stream",
          "name": "stdout",
          "text": [
            "tensor([[ 0.5177, -0.2246, -0.9956],\n",
            "        [ 0.9766,  0.4759, -0.1200],\n",
            "        [ 0.0070,  1.6487, -0.9753]]) \n",
            "\n",
            "tensor([[ 0.8360, -0.5933,  1.2100],\n",
            "        [-0.0693,  0.1298,  0.9024],\n",
            "        [-0.4901, -0.5775,  0.3153]]) \n",
            "\n",
            "tensor([[ 1.3538,  0.9073, -0.4832],\n",
            "        [-0.8179,  0.6056,  1.0712],\n",
            "        [ 0.2144,  0.7824, -0.6600]]) \n",
            "\n",
            "tensor([[ 1.3538,  0.9073, -0.4832],\n",
            "        [-0.8179,  0.6056,  1.0712],\n",
            "        [ 0.2144,  0.7824, -0.6600]]) \n",
            "\n"
          ]
        },
        {
          "output_type": "execute_result",
          "data": {
            "text/plain": [
              "(None, None, None, None)"
            ]
          },
          "metadata": {},
          "execution_count": 68
        }
      ]
    },
    {
      "cell_type": "code",
      "source": [
        "# Question 4\n",
        "M = torch.arange(24).reshape(2,3,4)\n",
        "M, print('Panjang Tensor = ',len(M), '\\n')"
      ],
      "metadata": {
        "colab": {
          "base_uri": "https://localhost:8080/"
        },
        "id": "rKKam734beI8",
        "outputId": "fd5b416b-540c-42bb-f55b-8eee303b1947"
      },
      "execution_count": 69,
      "outputs": [
        {
          "output_type": "stream",
          "name": "stdout",
          "text": [
            "Panjang Tensor =  2 \n",
            "\n"
          ]
        },
        {
          "output_type": "execute_result",
          "data": {
            "text/plain": [
              "(tensor([[[ 0,  1,  2,  3],\n",
              "          [ 4,  5,  6,  7],\n",
              "          [ 8,  9, 10, 11]],\n",
              " \n",
              "         [[12, 13, 14, 15],\n",
              "          [16, 17, 18, 19],\n",
              "          [20, 21, 22, 23]]]), None)"
            ]
          },
          "metadata": {},
          "execution_count": 69
        }
      ]
    },
    {
      "cell_type": "code",
      "source": [
        "# Question 6\n",
        "N=M.sum(axis=1)\n",
        "M, N"
      ],
      "metadata": {
        "colab": {
          "base_uri": "https://localhost:8080/"
        },
        "id": "RTnuSSvWdIvS",
        "outputId": "6a1911a9-f7f9-43b3-f053-a58141b866b0"
      },
      "execution_count": 70,
      "outputs": [
        {
          "output_type": "execute_result",
          "data": {
            "text/plain": [
              "(tensor([[[ 0,  1,  2,  3],\n",
              "          [ 4,  5,  6,  7],\n",
              "          [ 8,  9, 10, 11]],\n",
              " \n",
              "         [[12, 13, 14, 15],\n",
              "          [16, 17, 18, 19],\n",
              "          [20, 21, 22, 23]]]), tensor([[12, 15, 18, 21],\n",
              "         [48, 51, 54, 57]]))"
            ]
          },
          "metadata": {},
          "execution_count": 70
        }
      ]
    },
    {
      "cell_type": "markdown",
      "source": [
        "M/M.sum(axis=1) not in same dimention"
      ],
      "metadata": {
        "id": "vAR1mPzqeabt"
      }
    },
    {
      "cell_type": "markdown",
      "source": [
        "# **2.4. Calculus**"
      ],
      "metadata": {
        "id": "Suhcr04Cejh-"
      }
    },
    {
      "cell_type": "code",
      "source": [
        "!pip install -q matplotlib==3.0.2"
      ],
      "metadata": {
        "colab": {
          "base_uri": "https://localhost:8080/"
        },
        "id": "Y0s8ODuFexsc",
        "outputId": "f8cabcf9-ca91-474b-c1c8-113bd2265c67"
      },
      "execution_count": 1,
      "outputs": [
        {
          "output_type": "stream",
          "name": "stdout",
          "text": [
            "\u001b[K     |████████████████████████████████| 12.9 MB 4.6 MB/s \n",
            "\u001b[31mERROR: pip's dependency resolver does not currently take into account all the packages that are installed. This behaviour is the source of the following dependency conflicts.\n",
            "plotnine 0.6.0 requires matplotlib>=3.1.1, but you have matplotlib 3.0.2 which is incompatible.\n",
            "mizani 0.6.0 requires matplotlib>=3.1.1, but you have matplotlib 3.0.2 which is incompatible.\n",
            "albumentations 0.1.12 requires imgaug<0.2.7,>=0.2.5, but you have imgaug 0.2.9 which is incompatible.\u001b[0m\n",
            "\u001b[?25h"
          ]
        }
      ]
    },
    {
      "cell_type": "code",
      "source": [
        "!pip install -q d2l"
      ],
      "metadata": {
        "id": "w_Z2YX3dfuu-",
        "colab": {
          "base_uri": "https://localhost:8080/"
        },
        "outputId": "26a23c57-bd8d-4f46-ccee-107d48d8f4e1"
      },
      "execution_count": 2,
      "outputs": [
        {
          "output_type": "stream",
          "name": "stdout",
          "text": [
            "\u001b[?25l\r\u001b[K     |████                            | 10 kB 23.0 MB/s eta 0:00:01\r\u001b[K     |████████                        | 20 kB 12.5 MB/s eta 0:00:01\r\u001b[K     |████████████                    | 30 kB 10.0 MB/s eta 0:00:01\r\u001b[K     |████████████████                | 40 kB 9.2 MB/s eta 0:00:01\r\u001b[K     |███████████████████▉            | 51 kB 4.5 MB/s eta 0:00:01\r\u001b[K     |███████████████████████▉        | 61 kB 5.3 MB/s eta 0:00:01\r\u001b[K     |███████████████████████████▉    | 71 kB 5.7 MB/s eta 0:00:01\r\u001b[K     |███████████████████████████████▉| 81 kB 6.4 MB/s eta 0:00:01\r\u001b[K     |████████████████████████████████| 82 kB 537 kB/s \n",
            "\u001b[K     |████████████████████████████████| 61 kB 6.6 MB/s \n",
            "\u001b[K     |████████████████████████████████| 9.9 MB 39.7 MB/s \n",
            "\u001b[K     |████████████████████████████████| 11.2 MB 38.5 MB/s \n",
            "\u001b[K     |████████████████████████████████| 900 kB 45.7 MB/s \n",
            "\u001b[31mERROR: pip's dependency resolver does not currently take into account all the packages that are installed. This behaviour is the source of the following dependency conflicts.\n",
            "google-colab 1.0.0 requires requests~=2.23.0, but you have requests 2.25.1 which is incompatible.\n",
            "datascience 0.10.6 requires folium==0.2.1, but you have folium 0.8.3 which is incompatible.\n",
            "albumentations 0.1.12 requires imgaug<0.2.7,>=0.2.5, but you have imgaug 0.2.9 which is incompatible.\u001b[0m\n",
            "\u001b[?25h"
          ]
        }
      ]
    },
    {
      "cell_type": "code",
      "source": [
        "%matplotlib inline\n",
        "import numpy as np\n",
        "from matplotlib_inline import backend_inline\n",
        "from d2l import torch as d2l\n",
        "\n",
        "\n",
        "def f(x):\n",
        "    return 3 * x ** 2 - 4 * x"
      ],
      "metadata": {
        "id": "vzEeHQIUeYFP"
      },
      "execution_count": 3,
      "outputs": []
    },
    {
      "cell_type": "code",
      "source": [
        "f(1), f(4)"
      ],
      "metadata": {
        "colab": {
          "base_uri": "https://localhost:8080/"
        },
        "id": "rqKUoLYLewAz",
        "outputId": "2ffc0fb8-3972-4538-98a5-7be0c3bef374"
      },
      "execution_count": 4,
      "outputs": [
        {
          "output_type": "execute_result",
          "data": {
            "text/plain": [
              "(-1, 32)"
            ]
          },
          "metadata": {},
          "execution_count": 4
        }
      ]
    },
    {
      "cell_type": "code",
      "source": [
        "def numerical_lim(f, x, h):\n",
        "    return (f(x + h) - f(x)) / h\n",
        "\n",
        "h = 0.1\n",
        "for i in range(5):\n",
        "    print(f'h={h:.5f}, numerical limit={numerical_lim(f, 1, h):.5f}')\n",
        "    h *= 0.1"
      ],
      "metadata": {
        "colab": {
          "base_uri": "https://localhost:8080/"
        },
        "id": "KvpiS7DUfBIQ",
        "outputId": "3a62cb95-f437-49e3-b29c-5ec47680c911"
      },
      "execution_count": 5,
      "outputs": [
        {
          "output_type": "stream",
          "name": "stdout",
          "text": [
            "h=0.10000, numerical limit=2.30000\n",
            "h=0.01000, numerical limit=2.03000\n",
            "h=0.00100, numerical limit=2.00300\n",
            "h=0.00010, numerical limit=2.00030\n",
            "h=0.00001, numerical limit=2.00003\n"
          ]
        }
      ]
    },
    {
      "cell_type": "code",
      "source": [
        "def use_svg_display():  #save\n",
        "    \"\"\"Use the svg format to display a plot in Jupyter.\"\"\"\n",
        "    display.set_matplotlib_formats('svg')"
      ],
      "metadata": {
        "id": "9s4K3TT1fOEZ"
      },
      "execution_count": 6,
      "outputs": []
    },
    {
      "cell_type": "code",
      "source": [
        "def set_figsize(figsize=(3.5, 2.5)):\n",
        "    use_svg_display()\n",
        "    d2l.plt.rcParams['figure.figsize'] = figsize"
      ],
      "metadata": {
        "id": "FnkCv0bwfRDL"
      },
      "execution_count": 7,
      "outputs": []
    },
    {
      "cell_type": "code",
      "source": [
        "def set_axes(axes, xlabel, ylabel, xlim, ylim, xscale, yscale, legend):\n",
        "    \"\"\"Set the axes for matplotlib.\"\"\"\n",
        "    axes.set_xlabel(xlabel)\n",
        "    axes.set_ylabel(ylabel)\n",
        "    axes.set_xscale(xscale)\n",
        "    axes.set_yscale(yscale)\n",
        "    axes.set_xlim(xlim)\n",
        "    axes.set_ylim(ylim)\n",
        "    if legend:\n",
        "        axes.legend(legend)\n",
        "    axes.grid()"
      ],
      "metadata": {
        "id": "h9aO8dUgfaCB"
      },
      "execution_count": 8,
      "outputs": []
    },
    {
      "cell_type": "code",
      "source": [
        "#save\n",
        "def plot(X, Y=None, xlabel=None, ylabel=None, legend=None, xlim=None,\n",
        "         ylim=None, xscale='linear', yscale='linear',\n",
        "         fmts=('-', 'm--', 'g-.', 'r:'), figsize=(3.5, 2.5), axes=None):\n",
        "    \"\"\"Plot data points.\"\"\"\n",
        "    if legend is None:\n",
        "        legend = []\n",
        "\n",
        "    set_figsize(figsize)\n",
        "    axes = axes if axes else d2l.plt.gca()\n",
        "\n",
        "    # Return True if `X` (tensor or list) has 1 axis\n",
        "    def has_one_axis(X):\n",
        "        return (hasattr(X, \"ndim\") and X.ndim == 1 or isinstance(X, list)\n",
        "                and not hasattr(X[0], \"__len__\"))\n",
        "\n",
        "    if has_one_axis(X):\n",
        "        X = [X]\n",
        "    if Y is None:\n",
        "        X, Y = [[]] * len(X), X\n",
        "    elif has_one_axis(Y):\n",
        "        Y = [Y]\n",
        "    if len(X) != len(Y):\n",
        "        X = X * len(Y)\n",
        "    axes.cla()\n",
        "    for x, y, fmt in zip(X, Y, fmts):\n",
        "        if len(x):\n",
        "            axes.plot(x, y, fmt)\n",
        "        else:\n",
        "            axes.plot(y, fmt)\n",
        "    set_axes(axes, xlabel, ylabel, xlim, ylim, xscale, yscale, legend)"
      ],
      "metadata": {
        "id": "zTpE8_unfc13"
      },
      "execution_count": 11,
      "outputs": []
    },
    {
      "cell_type": "code",
      "source": [
        "x = np.arange(0, 3, 0.1)\n",
        "plot(x, [f(x), 2 * x - 3], 'x', 'f(x)', legend=['f(x)', 'Tangent line (x=1)'])"
      ],
      "metadata": {
        "id": "bIob02SKv1L1"
      },
      "execution_count": null,
      "outputs": []
    },
    {
      "cell_type": "markdown",
      "source": [
        "![image.png](data:image/png;base64,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)"
      ],
      "metadata": {
        "id": "lnkakSCzv2EU"
      }
    },
    {
      "cell_type": "markdown",
      "source": [
        "# **2.5. Automatic Differentiation**"
      ],
      "metadata": {
        "id": "LoKzPXJTgdJt"
      }
    },
    {
      "cell_type": "markdown",
      "source": [
        "**2.5.1. A Simple Example**"
      ],
      "metadata": {
        "id": "yCma6QLzgqdV"
      }
    },
    {
      "cell_type": "code",
      "source": [
        "import torch\n",
        "\n",
        "x = torch.arange(4.0)\n",
        "x"
      ],
      "metadata": {
        "colab": {
          "base_uri": "https://localhost:8080/"
        },
        "id": "EtVcVVMhgdJx",
        "outputId": "3822ef16-de3a-4686-cfbf-af8380c015f6"
      },
      "execution_count": 107,
      "outputs": [
        {
          "output_type": "execute_result",
          "data": {
            "text/plain": [
              "tensor([0., 1., 2., 3.])"
            ]
          },
          "metadata": {},
          "execution_count": 107
        }
      ]
    },
    {
      "cell_type": "code",
      "source": [
        "x.requires_grad_(True)  # Same as `x = torch.arange(4.0, requires_grad=True)`\n",
        "x.grad  # The default value is None\n",
        "x"
      ],
      "metadata": {
        "id": "Kalz8zl8gvc4",
        "colab": {
          "base_uri": "https://localhost:8080/"
        },
        "outputId": "ffb1d0ee-19cf-401d-e559-a37025dd4952"
      },
      "execution_count": 108,
      "outputs": [
        {
          "output_type": "execute_result",
          "data": {
            "text/plain": [
              "tensor([0., 1., 2., 3.], requires_grad=True)"
            ]
          },
          "metadata": {},
          "execution_count": 108
        }
      ]
    },
    {
      "cell_type": "code",
      "source": [
        "y = 2 * torch.dot(x, x)\n",
        "y"
      ],
      "metadata": {
        "colab": {
          "base_uri": "https://localhost:8080/"
        },
        "id": "5BZsHitsgzAt",
        "outputId": "68d439f2-fb53-4190-c37c-782a92e2bda1"
      },
      "execution_count": 109,
      "outputs": [
        {
          "output_type": "execute_result",
          "data": {
            "text/plain": [
              "tensor(28., grad_fn=<MulBackward0>)"
            ]
          },
          "metadata": {},
          "execution_count": 109
        }
      ]
    },
    {
      "cell_type": "code",
      "source": [
        "y.backward()\n",
        "x.grad"
      ],
      "metadata": {
        "id": "3E7bXo8Cg1Ny",
        "colab": {
          "base_uri": "https://localhost:8080/"
        },
        "outputId": "fdcd1e9d-c84f-45b7-e4e4-23594c113005"
      },
      "execution_count": 110,
      "outputs": [
        {
          "output_type": "execute_result",
          "data": {
            "text/plain": [
              "tensor([ 0.,  4.,  8., 12.])"
            ]
          },
          "metadata": {},
          "execution_count": 110
        }
      ]
    },
    {
      "cell_type": "code",
      "source": [
        "x.grad == 4 * x"
      ],
      "metadata": {
        "colab": {
          "base_uri": "https://localhost:8080/"
        },
        "id": "Jj3PwROSSsTF",
        "outputId": "0424ffb3-f259-458a-a0ad-8573ed036489"
      },
      "execution_count": 111,
      "outputs": [
        {
          "output_type": "execute_result",
          "data": {
            "text/plain": [
              "tensor([True, True, True, True])"
            ]
          },
          "metadata": {},
          "execution_count": 111
        }
      ]
    },
    {
      "cell_type": "code",
      "source": [
        "x.grad.zero_()\n",
        "y = x.sum()\n",
        "y.backward()\n",
        "x.grad"
      ],
      "metadata": {
        "colab": {
          "base_uri": "https://localhost:8080/"
        },
        "id": "BKN1XvYYTFUD",
        "outputId": "674e5266-6564-415b-f3d3-37b91399a668"
      },
      "execution_count": 112,
      "outputs": [
        {
          "output_type": "execute_result",
          "data": {
            "text/plain": [
              "tensor([1., 1., 1., 1.])"
            ]
          },
          "metadata": {},
          "execution_count": 112
        }
      ]
    },
    {
      "cell_type": "markdown",
      "source": [
        "**2.5.2. Backward for Non-Scalar Variables**"
      ],
      "metadata": {
        "id": "JfXarFiLT_H-"
      }
    },
    {
      "cell_type": "code",
      "source": [
        "# Invoking `backward` on a non-scalar requires passing in a `gradient` argument\n",
        "# which specifies the gradient of the differentiated function w.r.t `self`.\n",
        "# In our case, we simply want to sum the partial derivatives, so passing\n",
        "# in a gradient of ones is appropriate\n",
        "x.grad.zero_()\n",
        "x"
      ],
      "metadata": {
        "colab": {
          "base_uri": "https://localhost:8080/"
        },
        "id": "TicuijG4Tqhc",
        "outputId": "a0b609c5-0f56-4643-96e2-a12531f3ffbb"
      },
      "execution_count": 114,
      "outputs": [
        {
          "output_type": "execute_result",
          "data": {
            "text/plain": [
              "tensor([0., 1., 2., 3.], requires_grad=True)"
            ]
          },
          "metadata": {},
          "execution_count": 114
        }
      ]
    },
    {
      "cell_type": "code",
      "source": [
        "y = x * x\n",
        "y"
      ],
      "metadata": {
        "colab": {
          "base_uri": "https://localhost:8080/"
        },
        "id": "JxDS8naWUEWw",
        "outputId": "b6cdb33e-642a-4a7a-821a-12681dd6a7da"
      },
      "execution_count": 115,
      "outputs": [
        {
          "output_type": "execute_result",
          "data": {
            "text/plain": [
              "tensor([0., 1., 4., 9.], grad_fn=<MulBackward0>)"
            ]
          },
          "metadata": {},
          "execution_count": 115
        }
      ]
    },
    {
      "cell_type": "code",
      "source": [
        "# y.backward(torch.ones(len(x))) equivalent to the below\n",
        "y.sum().backward()"
      ],
      "metadata": {
        "id": "Orf2TlOMUPtC"
      },
      "execution_count": 116,
      "outputs": []
    },
    {
      "cell_type": "code",
      "source": [
        "x.grad"
      ],
      "metadata": {
        "colab": {
          "base_uri": "https://localhost:8080/"
        },
        "id": "CMj7HiXEUS27",
        "outputId": "76274a1b-0bee-44b5-d7d0-d7d4a9895ea2"
      },
      "execution_count": 117,
      "outputs": [
        {
          "output_type": "execute_result",
          "data": {
            "text/plain": [
              "tensor([0., 2., 4., 6.])"
            ]
          },
          "metadata": {},
          "execution_count": 117
        }
      ]
    },
    {
      "cell_type": "markdown",
      "source": [
        "**2.5.3. Detaching Computation**"
      ],
      "metadata": {
        "id": "O3BHH2ZoUbUX"
      }
    },
    {
      "cell_type": "code",
      "source": [
        "x.grad.zero_()\n",
        "y = x * x\n",
        "y"
      ],
      "metadata": {
        "colab": {
          "base_uri": "https://localhost:8080/"
        },
        "id": "QcvBFMC8UT9z",
        "outputId": "c8da656b-74c7-4090-d853-a7d95e003c5a"
      },
      "execution_count": 122,
      "outputs": [
        {
          "output_type": "execute_result",
          "data": {
            "text/plain": [
              "tensor([0., 1., 4., 9.], grad_fn=<MulBackward0>)"
            ]
          },
          "metadata": {},
          "execution_count": 122
        }
      ]
    },
    {
      "cell_type": "code",
      "source": [
        "u = y.detach()\n",
        "u"
      ],
      "metadata": {
        "colab": {
          "base_uri": "https://localhost:8080/"
        },
        "id": "VfJn3fW8UnP0",
        "outputId": "c51e9a9d-a0b0-41d0-9e74-0a85c95c2f6a"
      },
      "execution_count": 123,
      "outputs": [
        {
          "output_type": "execute_result",
          "data": {
            "text/plain": [
              "tensor([0., 1., 4., 9.])"
            ]
          },
          "metadata": {},
          "execution_count": 123
        }
      ]
    },
    {
      "cell_type": "code",
      "source": [
        "z = u * x\n",
        "z"
      ],
      "metadata": {
        "colab": {
          "base_uri": "https://localhost:8080/"
        },
        "id": "-tECrgO7Urdt",
        "outputId": "73bcb76c-5a1d-4f9a-9926-54bab11a0813"
      },
      "execution_count": 124,
      "outputs": [
        {
          "output_type": "execute_result",
          "data": {
            "text/plain": [
              "tensor([ 0.,  1.,  8., 27.], grad_fn=<MulBackward0>)"
            ]
          },
          "metadata": {},
          "execution_count": 124
        }
      ]
    },
    {
      "cell_type": "code",
      "source": [
        "z.sum().backward()\n",
        "x.grad == u"
      ],
      "metadata": {
        "colab": {
          "base_uri": "https://localhost:8080/"
        },
        "id": "vNvvvmCtUtyU",
        "outputId": "280c362d-2146-4ff5-cc86-cb6a98f2af03"
      },
      "execution_count": 125,
      "outputs": [
        {
          "output_type": "execute_result",
          "data": {
            "text/plain": [
              "tensor([True, True, True, True])"
            ]
          },
          "metadata": {},
          "execution_count": 125
        }
      ]
    },
    {
      "cell_type": "code",
      "source": [
        "x.grad.zero_()\n",
        "y.sum().backward()\n",
        "x.grad == 2 * x"
      ],
      "metadata": {
        "colab": {
          "base_uri": "https://localhost:8080/"
        },
        "id": "3H54cBAeU1HM",
        "outputId": "90879664-22e3-48cc-a3b1-af8c2d598641"
      },
      "execution_count": 126,
      "outputs": [
        {
          "output_type": "execute_result",
          "data": {
            "text/plain": [
              "tensor([True, True, True, True])"
            ]
          },
          "metadata": {},
          "execution_count": 126
        }
      ]
    },
    {
      "cell_type": "markdown",
      "source": [
        "**2.5.4. Computing the Gradient of Python Control Flow**"
      ],
      "metadata": {
        "id": "APUj8PSwU9Y9"
      }
    },
    {
      "cell_type": "code",
      "source": [
        "def f(a):\n",
        "    b = a * 2\n",
        "    while b.norm() < 1000:\n",
        "        b = b * 2\n",
        "    if b.sum() > 0:\n",
        "        c = b\n",
        "    else:\n",
        "        c = 100 * b\n",
        "    return c"
      ],
      "metadata": {
        "id": "bm1Hh17HU3zL"
      },
      "execution_count": 127,
      "outputs": []
    },
    {
      "cell_type": "code",
      "source": [
        "a = torch.randn(size=(), requires_grad=True)\n",
        "a"
      ],
      "metadata": {
        "colab": {
          "base_uri": "https://localhost:8080/"
        },
        "id": "tr6lFJKKVBYC",
        "outputId": "dfb10508-eca1-42f0-c11e-213b6988eb23"
      },
      "execution_count": 128,
      "outputs": [
        {
          "output_type": "execute_result",
          "data": {
            "text/plain": [
              "tensor(1.5507, requires_grad=True)"
            ]
          },
          "metadata": {},
          "execution_count": 128
        }
      ]
    },
    {
      "cell_type": "code",
      "source": [
        "d = f(a)\n",
        "d.backward()"
      ],
      "metadata": {
        "id": "ka8PXNxfVET6"
      },
      "execution_count": 129,
      "outputs": []
    },
    {
      "cell_type": "code",
      "source": [
        "a.grad == d / a"
      ],
      "metadata": {
        "colab": {
          "base_uri": "https://localhost:8080/"
        },
        "id": "2tG3qrBOVGOi",
        "outputId": "f808b021-1aba-4bd5-93c4-5b6420206408"
      },
      "execution_count": 130,
      "outputs": [
        {
          "output_type": "execute_result",
          "data": {
            "text/plain": [
              "tensor(True)"
            ]
          },
          "metadata": {},
          "execution_count": 130
        }
      ]
    },
    {
      "cell_type": "markdown",
      "source": [
        "# **2.6. Probability**"
      ],
      "metadata": {
        "id": "4j8_KyA9VQX7"
      }
    },
    {
      "cell_type": "markdown",
      "source": [
        "**2.6.1. Basic Probability Theor**"
      ],
      "metadata": {
        "id": "Ghq6x4sfVXUq"
      }
    },
    {
      "cell_type": "code",
      "source": [
        "%matplotlib inline\n",
        "import torch\n",
        "from torch.distributions import multinomial\n",
        "from d2l import torch as d2l"
      ],
      "metadata": {
        "id": "fLZu97ftVJZS"
      },
      "execution_count": 131,
      "outputs": []
    },
    {
      "cell_type": "code",
      "source": [
        "fair_probs = torch.ones([6]) / 6\n",
        "fair_probs"
      ],
      "metadata": {
        "colab": {
          "base_uri": "https://localhost:8080/"
        },
        "id": "h8hwLajEVf37",
        "outputId": "36c7646f-eae5-46ce-efd6-f41e30a1ac19"
      },
      "execution_count": 136,
      "outputs": [
        {
          "output_type": "execute_result",
          "data": {
            "text/plain": [
              "tensor([0.1667, 0.1667, 0.1667, 0.1667, 0.1667, 0.1667])"
            ]
          },
          "metadata": {},
          "execution_count": 136
        }
      ]
    },
    {
      "cell_type": "code",
      "source": [
        "multinomial.Multinomial(1, fair_probs).sample()"
      ],
      "metadata": {
        "colab": {
          "base_uri": "https://localhost:8080/"
        },
        "id": "lGikNRAEVkfq",
        "outputId": "5e9721e4-fb73-4aff-ec7b-8415bfa84ce5"
      },
      "execution_count": 137,
      "outputs": [
        {
          "output_type": "execute_result",
          "data": {
            "text/plain": [
              "tensor([0., 1., 0., 0., 0., 0.])"
            ]
          },
          "metadata": {},
          "execution_count": 137
        }
      ]
    },
    {
      "cell_type": "code",
      "source": [
        "multinomial.Multinomial(10, fair_probs).sample()"
      ],
      "metadata": {
        "colab": {
          "base_uri": "https://localhost:8080/"
        },
        "id": "8GdMv9-ZVmeS",
        "outputId": "6c5143f6-311f-4db8-f642-93594784b1eb"
      },
      "execution_count": 138,
      "outputs": [
        {
          "output_type": "execute_result",
          "data": {
            "text/plain": [
              "tensor([2., 2., 1., 3., 2., 0.])"
            ]
          },
          "metadata": {},
          "execution_count": 138
        }
      ]
    },
    {
      "cell_type": "code",
      "source": [
        "# Store the results as 32-bit floats for division\n",
        "counts = multinomial.Multinomial(1000, fair_probs).sample()\n",
        "counts / 1000  # Relative frequency as the estimate"
      ],
      "metadata": {
        "colab": {
          "base_uri": "https://localhost:8080/"
        },
        "id": "alk_zt4GVrNt",
        "outputId": "a196e315-ee97-4130-8067-a6752ca6febf"
      },
      "execution_count": 139,
      "outputs": [
        {
          "output_type": "execute_result",
          "data": {
            "text/plain": [
              "tensor([0.1760, 0.1740, 0.1550, 0.1650, 0.1540, 0.1760])"
            ]
          },
          "metadata": {},
          "execution_count": 139
        }
      ]
    },
    {
      "cell_type": "code",
      "source": [
        "!pip install -q d2l"
      ],
      "metadata": {
        "id": "GQSbNm8wWgll"
      },
      "execution_count": 143,
      "outputs": []
    },
    {
      "cell_type": "code",
      "source": [
        "from matplotlib import pyplot as plt"
      ],
      "metadata": {
        "id": "Q6VC16DQW_js"
      },
      "execution_count": 150,
      "outputs": []
    },
    {
      "cell_type": "code",
      "source": [
        "counts = multinomial.Multinomial(10, fair_probs).sample((500,))\n",
        "cum_counts = counts.cumsum(dim=0)\n",
        "estimates = cum_counts / cum_counts.sum(dim=1, keepdims=True)\n",
        "\n",
        "d2l.set_figsize((6, 4.5))\n",
        "for i in range(6):\n",
        "    d2l.plt.plot(estimates[:, i].numpy(),\n",
        "                 label=(\"P(die=\" + str(i + 1) + \")\"))\n",
        "d2l.plt.axhline(y=0.167, color='black', linestyle='dashed')\n",
        "d2l.plt.gca().set_xlabel('Groups of experiments')\n",
        "d2l.plt.gca().set_ylabel('Estimated probability')\n",
        "d2l.plt.legend();"
      ],
      "metadata": {
        "id": "nTdWhxL5V8H7"
      },
      "execution_count": null,
      "outputs": []
    },
    {
      "cell_type": "markdown",
      "source": [
        "![image.png](data:image/png;base64,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)"
      ],
      "metadata": {
        "id": "sGtUog5zYPKk"
      }
    },
    {
      "cell_type": "markdown",
      "source": [
        "**2.6.1.1. Axioms of Probability Theory**"
      ],
      "metadata": {
        "id": "aWZRHUuyYT0T"
      }
    },
    {
      "cell_type": "code",
      "source": [
        ""
      ],
      "metadata": {
        "id": "57hAuDUEYQRR"
      },
      "execution_count": null,
      "outputs": []
    },
    {
      "cell_type": "markdown",
      "source": [
        "# **2.7. Documentation**"
      ],
      "metadata": {
        "id": "r3zvt4XXv_wf"
      }
    },
    {
      "cell_type": "markdown",
      "source": [
        "**2.7.1. Finding All the Functions and Classes in a Module**"
      ],
      "metadata": {
        "id": "TNT32We6v_wg"
      }
    },
    {
      "cell_type": "code",
      "source": [
        "import torch\n",
        "\n",
        "print(dir(torch.distributions))"
      ],
      "metadata": {
        "colab": {
          "base_uri": "https://localhost:8080/"
        },
        "id": "z_IIt1zkv_wl",
        "outputId": "fe919b70-df8a-4cc5-8cf5-d1cd1ac2cd04"
      },
      "execution_count": 13,
      "outputs": [
        {
          "output_type": "stream",
          "name": "stdout",
          "text": [
            "['AbsTransform', 'AffineTransform', 'Bernoulli', 'Beta', 'Binomial', 'CatTransform', 'Categorical', 'Cauchy', 'Chi2', 'ComposeTransform', 'ContinuousBernoulli', 'CorrCholeskyTransform', 'Dirichlet', 'Distribution', 'ExpTransform', 'Exponential', 'ExponentialFamily', 'FisherSnedecor', 'Gamma', 'Geometric', 'Gumbel', 'HalfCauchy', 'HalfNormal', 'Independent', 'IndependentTransform', 'Kumaraswamy', 'LKJCholesky', 'Laplace', 'LogNormal', 'LogisticNormal', 'LowRankMultivariateNormal', 'LowerCholeskyTransform', 'MixtureSameFamily', 'Multinomial', 'MultivariateNormal', 'NegativeBinomial', 'Normal', 'OneHotCategorical', 'OneHotCategoricalStraightThrough', 'Pareto', 'Poisson', 'PowerTransform', 'RelaxedBernoulli', 'RelaxedOneHotCategorical', 'ReshapeTransform', 'SigmoidTransform', 'SoftmaxTransform', 'StackTransform', 'StickBreakingTransform', 'StudentT', 'TanhTransform', 'Transform', 'TransformedDistribution', 'Uniform', 'VonMises', 'Weibull', '__all__', '__builtins__', '__cached__', '__doc__', '__file__', '__loader__', '__name__', '__package__', '__path__', '__spec__', 'bernoulli', 'beta', 'biject_to', 'binomial', 'categorical', 'cauchy', 'chi2', 'constraint_registry', 'constraints', 'continuous_bernoulli', 'dirichlet', 'distribution', 'exp_family', 'exponential', 'fishersnedecor', 'gamma', 'geometric', 'gumbel', 'half_cauchy', 'half_normal', 'identity_transform', 'independent', 'kl', 'kl_divergence', 'kumaraswamy', 'laplace', 'lkj_cholesky', 'log_normal', 'logistic_normal', 'lowrank_multivariate_normal', 'mixture_same_family', 'multinomial', 'multivariate_normal', 'negative_binomial', 'normal', 'one_hot_categorical', 'pareto', 'poisson', 'register_kl', 'relaxed_bernoulli', 'relaxed_categorical', 'studentT', 'transform_to', 'transformed_distribution', 'transforms', 'uniform', 'utils', 'von_mises', 'weibull']\n"
          ]
        }
      ]
    },
    {
      "cell_type": "markdown",
      "source": [
        "**2.7.2. Finding the Usage of Specific Functions and Classes**"
      ],
      "metadata": {
        "id": "EReXb8nLwM29"
      }
    },
    {
      "cell_type": "code",
      "source": [
        "help(torch.ones)"
      ],
      "metadata": {
        "colab": {
          "base_uri": "https://localhost:8080/"
        },
        "id": "j2bEiMu2wI0U",
        "outputId": "fc94287f-24b1-4dd0-8489-a2ce679191dc"
      },
      "execution_count": 14,
      "outputs": [
        {
          "output_type": "stream",
          "name": "stdout",
          "text": [
            "Help on built-in function ones:\n",
            "\n",
            "ones(...)\n",
            "    ones(*size, *, out=None, dtype=None, layout=torch.strided, device=None, requires_grad=False) -> Tensor\n",
            "    \n",
            "    Returns a tensor filled with the scalar value `1`, with the shape defined\n",
            "    by the variable argument :attr:`size`.\n",
            "    \n",
            "    Args:\n",
            "        size (int...): a sequence of integers defining the shape of the output tensor.\n",
            "            Can be a variable number of arguments or a collection like a list or tuple.\n",
            "    \n",
            "    Keyword arguments:\n",
            "        out (Tensor, optional): the output tensor.\n",
            "        dtype (:class:`torch.dtype`, optional): the desired data type of returned tensor.\n",
            "            Default: if ``None``, uses a global default (see :func:`torch.set_default_tensor_type`).\n",
            "        layout (:class:`torch.layout`, optional): the desired layout of returned Tensor.\n",
            "            Default: ``torch.strided``.\n",
            "        device (:class:`torch.device`, optional): the desired device of returned tensor.\n",
            "            Default: if ``None``, uses the current device for the default tensor type\n",
            "            (see :func:`torch.set_default_tensor_type`). :attr:`device` will be the CPU\n",
            "            for CPU tensor types and the current CUDA device for CUDA tensor types.\n",
            "        requires_grad (bool, optional): If autograd should record operations on the\n",
            "            returned tensor. Default: ``False``.\n",
            "    \n",
            "    Example::\n",
            "    \n",
            "        >>> torch.ones(2, 3)\n",
            "        tensor([[ 1.,  1.,  1.],\n",
            "                [ 1.,  1.,  1.]])\n",
            "    \n",
            "        >>> torch.ones(5)\n",
            "        tensor([ 1.,  1.,  1.,  1.,  1.])\n",
            "\n"
          ]
        }
      ]
    },
    {
      "cell_type": "code",
      "source": [
        "torch.ones(4)"
      ],
      "metadata": {
        "colab": {
          "base_uri": "https://localhost:8080/"
        },
        "id": "Pnvkbxi6wQTL",
        "outputId": "cc416702-1d18-4e7c-f2f8-4a06f9a0a1f5"
      },
      "execution_count": 15,
      "outputs": [
        {
          "output_type": "execute_result",
          "data": {
            "text/plain": [
              "tensor([1., 1., 1., 1.])"
            ]
          },
          "metadata": {},
          "execution_count": 15
        }
      ]
    }
  ]
}