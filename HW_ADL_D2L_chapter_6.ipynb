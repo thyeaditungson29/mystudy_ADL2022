{
  "nbformat": 4,
  "nbformat_minor": 0,
  "metadata": {
    "colab": {
      "name": "HW_ADL_D2L_chapter_6.ipynb",
      "provenance": [],
      "collapsed_sections": [],
      "authorship_tag": "ABX9TyOqaWKEjXb0+mGXuoyCC8vd",
      "include_colab_link": true
    },
    "kernelspec": {
      "name": "python3",
      "display_name": "Python 3"
    },
    "language_info": {
      "name": "python"
    },
    "widgets": {
      "application/vnd.jupyter.widget-state+json": {
        "edf4b0d875994313b3d59f94e31f28c0": {
          "model_module": "@jupyter-widgets/controls",
          "model_name": "HBoxModel",
          "model_module_version": "1.5.0",
          "state": {
            "_dom_classes": [],
            "_model_module": "@jupyter-widgets/controls",
            "_model_module_version": "1.5.0",
            "_model_name": "HBoxModel",
            "_view_count": null,
            "_view_module": "@jupyter-widgets/controls",
            "_view_module_version": "1.5.0",
            "_view_name": "HBoxView",
            "box_style": "",
            "children": [
              "IPY_MODEL_55964f7542ea4f0fb9b3435023b440cb",
              "IPY_MODEL_4b4eee8533064e80af36f40f5644dd46",
              "IPY_MODEL_c68b47a71953460f9f55aae223a36bb5"
            ],
            "layout": "IPY_MODEL_1063a1be20564016a3e220c809be4ce4"
          }
        },
        "55964f7542ea4f0fb9b3435023b440cb": {
          "model_module": "@jupyter-widgets/controls",
          "model_name": "HTMLModel",
          "model_module_version": "1.5.0",
          "state": {
            "_dom_classes": [],
            "_model_module": "@jupyter-widgets/controls",
            "_model_module_version": "1.5.0",
            "_model_name": "HTMLModel",
            "_view_count": null,
            "_view_module": "@jupyter-widgets/controls",
            "_view_module_version": "1.5.0",
            "_view_name": "HTMLView",
            "description": "",
            "description_tooltip": null,
            "layout": "IPY_MODEL_d6ccc086cf7d4ec6ad97e430c379eebd",
            "placeholder": "​",
            "style": "IPY_MODEL_6f929a0fbd144da6a918e6e9e8909d8a",
            "value": ""
          }
        },
        "4b4eee8533064e80af36f40f5644dd46": {
          "model_module": "@jupyter-widgets/controls",
          "model_name": "FloatProgressModel",
          "model_module_version": "1.5.0",
          "state": {
            "_dom_classes": [],
            "_model_module": "@jupyter-widgets/controls",
            "_model_module_version": "1.5.0",
            "_model_name": "FloatProgressModel",
            "_view_count": null,
            "_view_module": "@jupyter-widgets/controls",
            "_view_module_version": "1.5.0",
            "_view_name": "ProgressView",
            "bar_style": "success",
            "description": "",
            "description_tooltip": null,
            "layout": "IPY_MODEL_62c32d0545e3493180c4a7d0f6218a47",
            "max": 26421880,
            "min": 0,
            "orientation": "horizontal",
            "style": "IPY_MODEL_f78b1b36ce764c18829da1c95e292445",
            "value": 26421880
          }
        },
        "c68b47a71953460f9f55aae223a36bb5": {
          "model_module": "@jupyter-widgets/controls",
          "model_name": "HTMLModel",
          "model_module_version": "1.5.0",
          "state": {
            "_dom_classes": [],
            "_model_module": "@jupyter-widgets/controls",
            "_model_module_version": "1.5.0",
            "_model_name": "HTMLModel",
            "_view_count": null,
            "_view_module": "@jupyter-widgets/controls",
            "_view_module_version": "1.5.0",
            "_view_name": "HTMLView",
            "description": "",
            "description_tooltip": null,
            "layout": "IPY_MODEL_c056e29ed4ef4528920e75d14bd3207d",
            "placeholder": "​",
            "style": "IPY_MODEL_22e86369e6de4d2cab31b17668206540",
            "value": " 26422272/? [00:02&lt;00:00, 16728036.71it/s]"
          }
        },
        "1063a1be20564016a3e220c809be4ce4": {
          "model_module": "@jupyter-widgets/base",
          "model_name": "LayoutModel",
          "model_module_version": "1.2.0",
          "state": {
            "_model_module": "@jupyter-widgets/base",
            "_model_module_version": "1.2.0",
            "_model_name": "LayoutModel",
            "_view_count": null,
            "_view_module": "@jupyter-widgets/base",
            "_view_module_version": "1.2.0",
            "_view_name": "LayoutView",
            "align_content": null,
            "align_items": null,
            "align_self": null,
            "border": null,
            "bottom": null,
            "display": null,
            "flex": null,
            "flex_flow": null,
            "grid_area": null,
            "grid_auto_columns": null,
            "grid_auto_flow": null,
            "grid_auto_rows": null,
            "grid_column": null,
            "grid_gap": null,
            "grid_row": null,
            "grid_template_areas": null,
            "grid_template_columns": null,
            "grid_template_rows": null,
            "height": null,
            "justify_content": null,
            "justify_items": null,
            "left": null,
            "margin": null,
            "max_height": null,
            "max_width": null,
            "min_height": null,
            "min_width": null,
            "object_fit": null,
            "object_position": null,
            "order": null,
            "overflow": null,
            "overflow_x": null,
            "overflow_y": null,
            "padding": null,
            "right": null,
            "top": null,
            "visibility": null,
            "width": null
          }
        },
        "d6ccc086cf7d4ec6ad97e430c379eebd": {
          "model_module": "@jupyter-widgets/base",
          "model_name": "LayoutModel",
          "model_module_version": "1.2.0",
          "state": {
            "_model_module": "@jupyter-widgets/base",
            "_model_module_version": "1.2.0",
            "_model_name": "LayoutModel",
            "_view_count": null,
            "_view_module": "@jupyter-widgets/base",
            "_view_module_version": "1.2.0",
            "_view_name": "LayoutView",
            "align_content": null,
            "align_items": null,
            "align_self": null,
            "border": null,
            "bottom": null,
            "display": null,
            "flex": null,
            "flex_flow": null,
            "grid_area": null,
            "grid_auto_columns": null,
            "grid_auto_flow": null,
            "grid_auto_rows": null,
            "grid_column": null,
            "grid_gap": null,
            "grid_row": null,
            "grid_template_areas": null,
            "grid_template_columns": null,
            "grid_template_rows": null,
            "height": null,
            "justify_content": null,
            "justify_items": null,
            "left": null,
            "margin": null,
            "max_height": null,
            "max_width": null,
            "min_height": null,
            "min_width": null,
            "object_fit": null,
            "object_position": null,
            "order": null,
            "overflow": null,
            "overflow_x": null,
            "overflow_y": null,
            "padding": null,
            "right": null,
            "top": null,
            "visibility": null,
            "width": null
          }
        },
        "6f929a0fbd144da6a918e6e9e8909d8a": {
          "model_module": "@jupyter-widgets/controls",
          "model_name": "DescriptionStyleModel",
          "model_module_version": "1.5.0",
          "state": {
            "_model_module": "@jupyter-widgets/controls",
            "_model_module_version": "1.5.0",
            "_model_name": "DescriptionStyleModel",
            "_view_count": null,
            "_view_module": "@jupyter-widgets/base",
            "_view_module_version": "1.2.0",
            "_view_name": "StyleView",
            "description_width": ""
          }
        },
        "62c32d0545e3493180c4a7d0f6218a47": {
          "model_module": "@jupyter-widgets/base",
          "model_name": "LayoutModel",
          "model_module_version": "1.2.0",
          "state": {
            "_model_module": "@jupyter-widgets/base",
            "_model_module_version": "1.2.0",
            "_model_name": "LayoutModel",
            "_view_count": null,
            "_view_module": "@jupyter-widgets/base",
            "_view_module_version": "1.2.0",
            "_view_name": "LayoutView",
            "align_content": null,
            "align_items": null,
            "align_self": null,
            "border": null,
            "bottom": null,
            "display": null,
            "flex": null,
            "flex_flow": null,
            "grid_area": null,
            "grid_auto_columns": null,
            "grid_auto_flow": null,
            "grid_auto_rows": null,
            "grid_column": null,
            "grid_gap": null,
            "grid_row": null,
            "grid_template_areas": null,
            "grid_template_columns": null,
            "grid_template_rows": null,
            "height": null,
            "justify_content": null,
            "justify_items": null,
            "left": null,
            "margin": null,
            "max_height": null,
            "max_width": null,
            "min_height": null,
            "min_width": null,
            "object_fit": null,
            "object_position": null,
            "order": null,
            "overflow": null,
            "overflow_x": null,
            "overflow_y": null,
            "padding": null,
            "right": null,
            "top": null,
            "visibility": null,
            "width": null
          }
        },
        "f78b1b36ce764c18829da1c95e292445": {
          "model_module": "@jupyter-widgets/controls",
          "model_name": "ProgressStyleModel",
          "model_module_version": "1.5.0",
          "state": {
            "_model_module": "@jupyter-widgets/controls",
            "_model_module_version": "1.5.0",
            "_model_name": "ProgressStyleModel",
            "_view_count": null,
            "_view_module": "@jupyter-widgets/base",
            "_view_module_version": "1.2.0",
            "_view_name": "StyleView",
            "bar_color": null,
            "description_width": ""
          }
        },
        "c056e29ed4ef4528920e75d14bd3207d": {
          "model_module": "@jupyter-widgets/base",
          "model_name": "LayoutModel",
          "model_module_version": "1.2.0",
          "state": {
            "_model_module": "@jupyter-widgets/base",
            "_model_module_version": "1.2.0",
            "_model_name": "LayoutModel",
            "_view_count": null,
            "_view_module": "@jupyter-widgets/base",
            "_view_module_version": "1.2.0",
            "_view_name": "LayoutView",
            "align_content": null,
            "align_items": null,
            "align_self": null,
            "border": null,
            "bottom": null,
            "display": null,
            "flex": null,
            "flex_flow": null,
            "grid_area": null,
            "grid_auto_columns": null,
            "grid_auto_flow": null,
            "grid_auto_rows": null,
            "grid_column": null,
            "grid_gap": null,
            "grid_row": null,
            "grid_template_areas": null,
            "grid_template_columns": null,
            "grid_template_rows": null,
            "height": null,
            "justify_content": null,
            "justify_items": null,
            "left": null,
            "margin": null,
            "max_height": null,
            "max_width": null,
            "min_height": null,
            "min_width": null,
            "object_fit": null,
            "object_position": null,
            "order": null,
            "overflow": null,
            "overflow_x": null,
            "overflow_y": null,
            "padding": null,
            "right": null,
            "top": null,
            "visibility": null,
            "width": null
          }
        },
        "22e86369e6de4d2cab31b17668206540": {
          "model_module": "@jupyter-widgets/controls",
          "model_name": "DescriptionStyleModel",
          "model_module_version": "1.5.0",
          "state": {
            "_model_module": "@jupyter-widgets/controls",
            "_model_module_version": "1.5.0",
            "_model_name": "DescriptionStyleModel",
            "_view_count": null,
            "_view_module": "@jupyter-widgets/base",
            "_view_module_version": "1.2.0",
            "_view_name": "StyleView",
            "description_width": ""
          }
        },
        "d46a50b7598749e18c64639093354fa6": {
          "model_module": "@jupyter-widgets/controls",
          "model_name": "HBoxModel",
          "model_module_version": "1.5.0",
          "state": {
            "_dom_classes": [],
            "_model_module": "@jupyter-widgets/controls",
            "_model_module_version": "1.5.0",
            "_model_name": "HBoxModel",
            "_view_count": null,
            "_view_module": "@jupyter-widgets/controls",
            "_view_module_version": "1.5.0",
            "_view_name": "HBoxView",
            "box_style": "",
            "children": [
              "IPY_MODEL_2ad9f880d78d460c875b42a766e1baf7",
              "IPY_MODEL_9557e3d90caa4296867c1d10a5ef8c32",
              "IPY_MODEL_774bce399a3c4c3d8ee2db7898ac6707"
            ],
            "layout": "IPY_MODEL_157f45370ca144f783e7c47ebb40aee4"
          }
        },
        "2ad9f880d78d460c875b42a766e1baf7": {
          "model_module": "@jupyter-widgets/controls",
          "model_name": "HTMLModel",
          "model_module_version": "1.5.0",
          "state": {
            "_dom_classes": [],
            "_model_module": "@jupyter-widgets/controls",
            "_model_module_version": "1.5.0",
            "_model_name": "HTMLModel",
            "_view_count": null,
            "_view_module": "@jupyter-widgets/controls",
            "_view_module_version": "1.5.0",
            "_view_name": "HTMLView",
            "description": "",
            "description_tooltip": null,
            "layout": "IPY_MODEL_cdbdddbc977a41e997e6feeaf9b2467b",
            "placeholder": "​",
            "style": "IPY_MODEL_b977e15175ef418db9a3a6b533af33bc",
            "value": ""
          }
        },
        "9557e3d90caa4296867c1d10a5ef8c32": {
          "model_module": "@jupyter-widgets/controls",
          "model_name": "FloatProgressModel",
          "model_module_version": "1.5.0",
          "state": {
            "_dom_classes": [],
            "_model_module": "@jupyter-widgets/controls",
            "_model_module_version": "1.5.0",
            "_model_name": "FloatProgressModel",
            "_view_count": null,
            "_view_module": "@jupyter-widgets/controls",
            "_view_module_version": "1.5.0",
            "_view_name": "ProgressView",
            "bar_style": "success",
            "description": "",
            "description_tooltip": null,
            "layout": "IPY_MODEL_66e39f16ceec4bdaacae1383a63755f2",
            "max": 29515,
            "min": 0,
            "orientation": "horizontal",
            "style": "IPY_MODEL_2df889c6480e4a5dacfdc5cc0a7d6fe2",
            "value": 29515
          }
        },
        "774bce399a3c4c3d8ee2db7898ac6707": {
          "model_module": "@jupyter-widgets/controls",
          "model_name": "HTMLModel",
          "model_module_version": "1.5.0",
          "state": {
            "_dom_classes": [],
            "_model_module": "@jupyter-widgets/controls",
            "_model_module_version": "1.5.0",
            "_model_name": "HTMLModel",
            "_view_count": null,
            "_view_module": "@jupyter-widgets/controls",
            "_view_module_version": "1.5.0",
            "_view_name": "HTMLView",
            "description": "",
            "description_tooltip": null,
            "layout": "IPY_MODEL_2dba60da85a2444f98d19b5f7666c1cb",
            "placeholder": "​",
            "style": "IPY_MODEL_261a98b1cbb043c6a11346496e32c6ac",
            "value": " 29696/? [00:00&lt;00:00, 102944.09it/s]"
          }
        },
        "157f45370ca144f783e7c47ebb40aee4": {
          "model_module": "@jupyter-widgets/base",
          "model_name": "LayoutModel",
          "model_module_version": "1.2.0",
          "state": {
            "_model_module": "@jupyter-widgets/base",
            "_model_module_version": "1.2.0",
            "_model_name": "LayoutModel",
            "_view_count": null,
            "_view_module": "@jupyter-widgets/base",
            "_view_module_version": "1.2.0",
            "_view_name": "LayoutView",
            "align_content": null,
            "align_items": null,
            "align_self": null,
            "border": null,
            "bottom": null,
            "display": null,
            "flex": null,
            "flex_flow": null,
            "grid_area": null,
            "grid_auto_columns": null,
            "grid_auto_flow": null,
            "grid_auto_rows": null,
            "grid_column": null,
            "grid_gap": null,
            "grid_row": null,
            "grid_template_areas": null,
            "grid_template_columns": null,
            "grid_template_rows": null,
            "height": null,
            "justify_content": null,
            "justify_items": null,
            "left": null,
            "margin": null,
            "max_height": null,
            "max_width": null,
            "min_height": null,
            "min_width": null,
            "object_fit": null,
            "object_position": null,
            "order": null,
            "overflow": null,
            "overflow_x": null,
            "overflow_y": null,
            "padding": null,
            "right": null,
            "top": null,
            "visibility": null,
            "width": null
          }
        },
        "cdbdddbc977a41e997e6feeaf9b2467b": {
          "model_module": "@jupyter-widgets/base",
          "model_name": "LayoutModel",
          "model_module_version": "1.2.0",
          "state": {
            "_model_module": "@jupyter-widgets/base",
            "_model_module_version": "1.2.0",
            "_model_name": "LayoutModel",
            "_view_count": null,
            "_view_module": "@jupyter-widgets/base",
            "_view_module_version": "1.2.0",
            "_view_name": "LayoutView",
            "align_content": null,
            "align_items": null,
            "align_self": null,
            "border": null,
            "bottom": null,
            "display": null,
            "flex": null,
            "flex_flow": null,
            "grid_area": null,
            "grid_auto_columns": null,
            "grid_auto_flow": null,
            "grid_auto_rows": null,
            "grid_column": null,
            "grid_gap": null,
            "grid_row": null,
            "grid_template_areas": null,
            "grid_template_columns": null,
            "grid_template_rows": null,
            "height": null,
            "justify_content": null,
            "justify_items": null,
            "left": null,
            "margin": null,
            "max_height": null,
            "max_width": null,
            "min_height": null,
            "min_width": null,
            "object_fit": null,
            "object_position": null,
            "order": null,
            "overflow": null,
            "overflow_x": null,
            "overflow_y": null,
            "padding": null,
            "right": null,
            "top": null,
            "visibility": null,
            "width": null
          }
        },
        "b977e15175ef418db9a3a6b533af33bc": {
          "model_module": "@jupyter-widgets/controls",
          "model_name": "DescriptionStyleModel",
          "model_module_version": "1.5.0",
          "state": {
            "_model_module": "@jupyter-widgets/controls",
            "_model_module_version": "1.5.0",
            "_model_name": "DescriptionStyleModel",
            "_view_count": null,
            "_view_module": "@jupyter-widgets/base",
            "_view_module_version": "1.2.0",
            "_view_name": "StyleView",
            "description_width": ""
          }
        },
        "66e39f16ceec4bdaacae1383a63755f2": {
          "model_module": "@jupyter-widgets/base",
          "model_name": "LayoutModel",
          "model_module_version": "1.2.0",
          "state": {
            "_model_module": "@jupyter-widgets/base",
            "_model_module_version": "1.2.0",
            "_model_name": "LayoutModel",
            "_view_count": null,
            "_view_module": "@jupyter-widgets/base",
            "_view_module_version": "1.2.0",
            "_view_name": "LayoutView",
            "align_content": null,
            "align_items": null,
            "align_self": null,
            "border": null,
            "bottom": null,
            "display": null,
            "flex": null,
            "flex_flow": null,
            "grid_area": null,
            "grid_auto_columns": null,
            "grid_auto_flow": null,
            "grid_auto_rows": null,
            "grid_column": null,
            "grid_gap": null,
            "grid_row": null,
            "grid_template_areas": null,
            "grid_template_columns": null,
            "grid_template_rows": null,
            "height": null,
            "justify_content": null,
            "justify_items": null,
            "left": null,
            "margin": null,
            "max_height": null,
            "max_width": null,
            "min_height": null,
            "min_width": null,
            "object_fit": null,
            "object_position": null,
            "order": null,
            "overflow": null,
            "overflow_x": null,
            "overflow_y": null,
            "padding": null,
            "right": null,
            "top": null,
            "visibility": null,
            "width": null
          }
        },
        "2df889c6480e4a5dacfdc5cc0a7d6fe2": {
          "model_module": "@jupyter-widgets/controls",
          "model_name": "ProgressStyleModel",
          "model_module_version": "1.5.0",
          "state": {
            "_model_module": "@jupyter-widgets/controls",
            "_model_module_version": "1.5.0",
            "_model_name": "ProgressStyleModel",
            "_view_count": null,
            "_view_module": "@jupyter-widgets/base",
            "_view_module_version": "1.2.0",
            "_view_name": "StyleView",
            "bar_color": null,
            "description_width": ""
          }
        },
        "2dba60da85a2444f98d19b5f7666c1cb": {
          "model_module": "@jupyter-widgets/base",
          "model_name": "LayoutModel",
          "model_module_version": "1.2.0",
          "state": {
            "_model_module": "@jupyter-widgets/base",
            "_model_module_version": "1.2.0",
            "_model_name": "LayoutModel",
            "_view_count": null,
            "_view_module": "@jupyter-widgets/base",
            "_view_module_version": "1.2.0",
            "_view_name": "LayoutView",
            "align_content": null,
            "align_items": null,
            "align_self": null,
            "border": null,
            "bottom": null,
            "display": null,
            "flex": null,
            "flex_flow": null,
            "grid_area": null,
            "grid_auto_columns": null,
            "grid_auto_flow": null,
            "grid_auto_rows": null,
            "grid_column": null,
            "grid_gap": null,
            "grid_row": null,
            "grid_template_areas": null,
            "grid_template_columns": null,
            "grid_template_rows": null,
            "height": null,
            "justify_content": null,
            "justify_items": null,
            "left": null,
            "margin": null,
            "max_height": null,
            "max_width": null,
            "min_height": null,
            "min_width": null,
            "object_fit": null,
            "object_position": null,
            "order": null,
            "overflow": null,
            "overflow_x": null,
            "overflow_y": null,
            "padding": null,
            "right": null,
            "top": null,
            "visibility": null,
            "width": null
          }
        },
        "261a98b1cbb043c6a11346496e32c6ac": {
          "model_module": "@jupyter-widgets/controls",
          "model_name": "DescriptionStyleModel",
          "model_module_version": "1.5.0",
          "state": {
            "_model_module": "@jupyter-widgets/controls",
            "_model_module_version": "1.5.0",
            "_model_name": "DescriptionStyleModel",
            "_view_count": null,
            "_view_module": "@jupyter-widgets/base",
            "_view_module_version": "1.2.0",
            "_view_name": "StyleView",
            "description_width": ""
          }
        },
        "9bcb1b34fb9f4154b09c67596a724125": {
          "model_module": "@jupyter-widgets/controls",
          "model_name": "HBoxModel",
          "model_module_version": "1.5.0",
          "state": {
            "_dom_classes": [],
            "_model_module": "@jupyter-widgets/controls",
            "_model_module_version": "1.5.0",
            "_model_name": "HBoxModel",
            "_view_count": null,
            "_view_module": "@jupyter-widgets/controls",
            "_view_module_version": "1.5.0",
            "_view_name": "HBoxView",
            "box_style": "",
            "children": [
              "IPY_MODEL_2b59f2f622ad4baa86afe0cda759a9e7",
              "IPY_MODEL_f7d23f92a4d646cba6c417cfaa3e0627",
              "IPY_MODEL_1c9b922fd37b4fea8a7b5fd271ee94ac"
            ],
            "layout": "IPY_MODEL_ad635c766f3448dfa1788d7c51cd691c"
          }
        },
        "2b59f2f622ad4baa86afe0cda759a9e7": {
          "model_module": "@jupyter-widgets/controls",
          "model_name": "HTMLModel",
          "model_module_version": "1.5.0",
          "state": {
            "_dom_classes": [],
            "_model_module": "@jupyter-widgets/controls",
            "_model_module_version": "1.5.0",
            "_model_name": "HTMLModel",
            "_view_count": null,
            "_view_module": "@jupyter-widgets/controls",
            "_view_module_version": "1.5.0",
            "_view_name": "HTMLView",
            "description": "",
            "description_tooltip": null,
            "layout": "IPY_MODEL_8e6323e27c6a449681143b337658f5e0",
            "placeholder": "​",
            "style": "IPY_MODEL_ac12ee05702448cbba36e16eb8ccf252",
            "value": ""
          }
        },
        "f7d23f92a4d646cba6c417cfaa3e0627": {
          "model_module": "@jupyter-widgets/controls",
          "model_name": "FloatProgressModel",
          "model_module_version": "1.5.0",
          "state": {
            "_dom_classes": [],
            "_model_module": "@jupyter-widgets/controls",
            "_model_module_version": "1.5.0",
            "_model_name": "FloatProgressModel",
            "_view_count": null,
            "_view_module": "@jupyter-widgets/controls",
            "_view_module_version": "1.5.0",
            "_view_name": "ProgressView",
            "bar_style": "success",
            "description": "",
            "description_tooltip": null,
            "layout": "IPY_MODEL_8ec3d537658246f08fdb779831504414",
            "max": 4422102,
            "min": 0,
            "orientation": "horizontal",
            "style": "IPY_MODEL_060e304358724477bfd153bc9ccb7c55",
            "value": 4422102
          }
        },
        "1c9b922fd37b4fea8a7b5fd271ee94ac": {
          "model_module": "@jupyter-widgets/controls",
          "model_name": "HTMLModel",
          "model_module_version": "1.5.0",
          "state": {
            "_dom_classes": [],
            "_model_module": "@jupyter-widgets/controls",
            "_model_module_version": "1.5.0",
            "_model_name": "HTMLModel",
            "_view_count": null,
            "_view_module": "@jupyter-widgets/controls",
            "_view_module_version": "1.5.0",
            "_view_name": "HTMLView",
            "description": "",
            "description_tooltip": null,
            "layout": "IPY_MODEL_18822cd26e4446b7adc67f267d751fb6",
            "placeholder": "​",
            "style": "IPY_MODEL_dd8fcdb0d953490ab367d3dab6bfe652",
            "value": " 4422656/? [00:01&lt;00:00, 5667771.86it/s]"
          }
        },
        "ad635c766f3448dfa1788d7c51cd691c": {
          "model_module": "@jupyter-widgets/base",
          "model_name": "LayoutModel",
          "model_module_version": "1.2.0",
          "state": {
            "_model_module": "@jupyter-widgets/base",
            "_model_module_version": "1.2.0",
            "_model_name": "LayoutModel",
            "_view_count": null,
            "_view_module": "@jupyter-widgets/base",
            "_view_module_version": "1.2.0",
            "_view_name": "LayoutView",
            "align_content": null,
            "align_items": null,
            "align_self": null,
            "border": null,
            "bottom": null,
            "display": null,
            "flex": null,
            "flex_flow": null,
            "grid_area": null,
            "grid_auto_columns": null,
            "grid_auto_flow": null,
            "grid_auto_rows": null,
            "grid_column": null,
            "grid_gap": null,
            "grid_row": null,
            "grid_template_areas": null,
            "grid_template_columns": null,
            "grid_template_rows": null,
            "height": null,
            "justify_content": null,
            "justify_items": null,
            "left": null,
            "margin": null,
            "max_height": null,
            "max_width": null,
            "min_height": null,
            "min_width": null,
            "object_fit": null,
            "object_position": null,
            "order": null,
            "overflow": null,
            "overflow_x": null,
            "overflow_y": null,
            "padding": null,
            "right": null,
            "top": null,
            "visibility": null,
            "width": null
          }
        },
        "8e6323e27c6a449681143b337658f5e0": {
          "model_module": "@jupyter-widgets/base",
          "model_name": "LayoutModel",
          "model_module_version": "1.2.0",
          "state": {
            "_model_module": "@jupyter-widgets/base",
            "_model_module_version": "1.2.0",
            "_model_name": "LayoutModel",
            "_view_count": null,
            "_view_module": "@jupyter-widgets/base",
            "_view_module_version": "1.2.0",
            "_view_name": "LayoutView",
            "align_content": null,
            "align_items": null,
            "align_self": null,
            "border": null,
            "bottom": null,
            "display": null,
            "flex": null,
            "flex_flow": null,
            "grid_area": null,
            "grid_auto_columns": null,
            "grid_auto_flow": null,
            "grid_auto_rows": null,
            "grid_column": null,
            "grid_gap": null,
            "grid_row": null,
            "grid_template_areas": null,
            "grid_template_columns": null,
            "grid_template_rows": null,
            "height": null,
            "justify_content": null,
            "justify_items": null,
            "left": null,
            "margin": null,
            "max_height": null,
            "max_width": null,
            "min_height": null,
            "min_width": null,
            "object_fit": null,
            "object_position": null,
            "order": null,
            "overflow": null,
            "overflow_x": null,
            "overflow_y": null,
            "padding": null,
            "right": null,
            "top": null,
            "visibility": null,
            "width": null
          }
        },
        "ac12ee05702448cbba36e16eb8ccf252": {
          "model_module": "@jupyter-widgets/controls",
          "model_name": "DescriptionStyleModel",
          "model_module_version": "1.5.0",
          "state": {
            "_model_module": "@jupyter-widgets/controls",
            "_model_module_version": "1.5.0",
            "_model_name": "DescriptionStyleModel",
            "_view_count": null,
            "_view_module": "@jupyter-widgets/base",
            "_view_module_version": "1.2.0",
            "_view_name": "StyleView",
            "description_width": ""
          }
        },
        "8ec3d537658246f08fdb779831504414": {
          "model_module": "@jupyter-widgets/base",
          "model_name": "LayoutModel",
          "model_module_version": "1.2.0",
          "state": {
            "_model_module": "@jupyter-widgets/base",
            "_model_module_version": "1.2.0",
            "_model_name": "LayoutModel",
            "_view_count": null,
            "_view_module": "@jupyter-widgets/base",
            "_view_module_version": "1.2.0",
            "_view_name": "LayoutView",
            "align_content": null,
            "align_items": null,
            "align_self": null,
            "border": null,
            "bottom": null,
            "display": null,
            "flex": null,
            "flex_flow": null,
            "grid_area": null,
            "grid_auto_columns": null,
            "grid_auto_flow": null,
            "grid_auto_rows": null,
            "grid_column": null,
            "grid_gap": null,
            "grid_row": null,
            "grid_template_areas": null,
            "grid_template_columns": null,
            "grid_template_rows": null,
            "height": null,
            "justify_content": null,
            "justify_items": null,
            "left": null,
            "margin": null,
            "max_height": null,
            "max_width": null,
            "min_height": null,
            "min_width": null,
            "object_fit": null,
            "object_position": null,
            "order": null,
            "overflow": null,
            "overflow_x": null,
            "overflow_y": null,
            "padding": null,
            "right": null,
            "top": null,
            "visibility": null,
            "width": null
          }
        },
        "060e304358724477bfd153bc9ccb7c55": {
          "model_module": "@jupyter-widgets/controls",
          "model_name": "ProgressStyleModel",
          "model_module_version": "1.5.0",
          "state": {
            "_model_module": "@jupyter-widgets/controls",
            "_model_module_version": "1.5.0",
            "_model_name": "ProgressStyleModel",
            "_view_count": null,
            "_view_module": "@jupyter-widgets/base",
            "_view_module_version": "1.2.0",
            "_view_name": "StyleView",
            "bar_color": null,
            "description_width": ""
          }
        },
        "18822cd26e4446b7adc67f267d751fb6": {
          "model_module": "@jupyter-widgets/base",
          "model_name": "LayoutModel",
          "model_module_version": "1.2.0",
          "state": {
            "_model_module": "@jupyter-widgets/base",
            "_model_module_version": "1.2.0",
            "_model_name": "LayoutModel",
            "_view_count": null,
            "_view_module": "@jupyter-widgets/base",
            "_view_module_version": "1.2.0",
            "_view_name": "LayoutView",
            "align_content": null,
            "align_items": null,
            "align_self": null,
            "border": null,
            "bottom": null,
            "display": null,
            "flex": null,
            "flex_flow": null,
            "grid_area": null,
            "grid_auto_columns": null,
            "grid_auto_flow": null,
            "grid_auto_rows": null,
            "grid_column": null,
            "grid_gap": null,
            "grid_row": null,
            "grid_template_areas": null,
            "grid_template_columns": null,
            "grid_template_rows": null,
            "height": null,
            "justify_content": null,
            "justify_items": null,
            "left": null,
            "margin": null,
            "max_height": null,
            "max_width": null,
            "min_height": null,
            "min_width": null,
            "object_fit": null,
            "object_position": null,
            "order": null,
            "overflow": null,
            "overflow_x": null,
            "overflow_y": null,
            "padding": null,
            "right": null,
            "top": null,
            "visibility": null,
            "width": null
          }
        },
        "dd8fcdb0d953490ab367d3dab6bfe652": {
          "model_module": "@jupyter-widgets/controls",
          "model_name": "DescriptionStyleModel",
          "model_module_version": "1.5.0",
          "state": {
            "_model_module": "@jupyter-widgets/controls",
            "_model_module_version": "1.5.0",
            "_model_name": "DescriptionStyleModel",
            "_view_count": null,
            "_view_module": "@jupyter-widgets/base",
            "_view_module_version": "1.2.0",
            "_view_name": "StyleView",
            "description_width": ""
          }
        },
        "915468c25344426d8dbb7e99f81b3ce5": {
          "model_module": "@jupyter-widgets/controls",
          "model_name": "HBoxModel",
          "model_module_version": "1.5.0",
          "state": {
            "_dom_classes": [],
            "_model_module": "@jupyter-widgets/controls",
            "_model_module_version": "1.5.0",
            "_model_name": "HBoxModel",
            "_view_count": null,
            "_view_module": "@jupyter-widgets/controls",
            "_view_module_version": "1.5.0",
            "_view_name": "HBoxView",
            "box_style": "",
            "children": [
              "IPY_MODEL_d99e569acdeb4ec29c13e15c922c8132",
              "IPY_MODEL_51ac892e02e948c486b8633958cfe0cc",
              "IPY_MODEL_e8a396fa7222455ca1375793c7a5b547"
            ],
            "layout": "IPY_MODEL_8fdbb866fdbe40268d64ffa43b90e5f1"
          }
        },
        "d99e569acdeb4ec29c13e15c922c8132": {
          "model_module": "@jupyter-widgets/controls",
          "model_name": "HTMLModel",
          "model_module_version": "1.5.0",
          "state": {
            "_dom_classes": [],
            "_model_module": "@jupyter-widgets/controls",
            "_model_module_version": "1.5.0",
            "_model_name": "HTMLModel",
            "_view_count": null,
            "_view_module": "@jupyter-widgets/controls",
            "_view_module_version": "1.5.0",
            "_view_name": "HTMLView",
            "description": "",
            "description_tooltip": null,
            "layout": "IPY_MODEL_c94b2e931ebf441b8f4f878eef4a5eb1",
            "placeholder": "​",
            "style": "IPY_MODEL_f8cf95c95f994b4d8f2838124d67a495",
            "value": ""
          }
        },
        "51ac892e02e948c486b8633958cfe0cc": {
          "model_module": "@jupyter-widgets/controls",
          "model_name": "FloatProgressModel",
          "model_module_version": "1.5.0",
          "state": {
            "_dom_classes": [],
            "_model_module": "@jupyter-widgets/controls",
            "_model_module_version": "1.5.0",
            "_model_name": "FloatProgressModel",
            "_view_count": null,
            "_view_module": "@jupyter-widgets/controls",
            "_view_module_version": "1.5.0",
            "_view_name": "ProgressView",
            "bar_style": "success",
            "description": "",
            "description_tooltip": null,
            "layout": "IPY_MODEL_33c0e57368a6428bb24f51e9ada154fe",
            "max": 5148,
            "min": 0,
            "orientation": "horizontal",
            "style": "IPY_MODEL_68101737365d4d128f6182ba523992c0",
            "value": 5148
          }
        },
        "e8a396fa7222455ca1375793c7a5b547": {
          "model_module": "@jupyter-widgets/controls",
          "model_name": "HTMLModel",
          "model_module_version": "1.5.0",
          "state": {
            "_dom_classes": [],
            "_model_module": "@jupyter-widgets/controls",
            "_model_module_version": "1.5.0",
            "_model_name": "HTMLModel",
            "_view_count": null,
            "_view_module": "@jupyter-widgets/controls",
            "_view_module_version": "1.5.0",
            "_view_name": "HTMLView",
            "description": "",
            "description_tooltip": null,
            "layout": "IPY_MODEL_3afdf18511c046a7b91e88cf8a24a18e",
            "placeholder": "​",
            "style": "IPY_MODEL_32eaeebf635f45b9a1cdaa648cfdcb2a",
            "value": " 6144/? [00:00&lt;00:00, 135028.60it/s]"
          }
        },
        "8fdbb866fdbe40268d64ffa43b90e5f1": {
          "model_module": "@jupyter-widgets/base",
          "model_name": "LayoutModel",
          "model_module_version": "1.2.0",
          "state": {
            "_model_module": "@jupyter-widgets/base",
            "_model_module_version": "1.2.0",
            "_model_name": "LayoutModel",
            "_view_count": null,
            "_view_module": "@jupyter-widgets/base",
            "_view_module_version": "1.2.0",
            "_view_name": "LayoutView",
            "align_content": null,
            "align_items": null,
            "align_self": null,
            "border": null,
            "bottom": null,
            "display": null,
            "flex": null,
            "flex_flow": null,
            "grid_area": null,
            "grid_auto_columns": null,
            "grid_auto_flow": null,
            "grid_auto_rows": null,
            "grid_column": null,
            "grid_gap": null,
            "grid_row": null,
            "grid_template_areas": null,
            "grid_template_columns": null,
            "grid_template_rows": null,
            "height": null,
            "justify_content": null,
            "justify_items": null,
            "left": null,
            "margin": null,
            "max_height": null,
            "max_width": null,
            "min_height": null,
            "min_width": null,
            "object_fit": null,
            "object_position": null,
            "order": null,
            "overflow": null,
            "overflow_x": null,
            "overflow_y": null,
            "padding": null,
            "right": null,
            "top": null,
            "visibility": null,
            "width": null
          }
        },
        "c94b2e931ebf441b8f4f878eef4a5eb1": {
          "model_module": "@jupyter-widgets/base",
          "model_name": "LayoutModel",
          "model_module_version": "1.2.0",
          "state": {
            "_model_module": "@jupyter-widgets/base",
            "_model_module_version": "1.2.0",
            "_model_name": "LayoutModel",
            "_view_count": null,
            "_view_module": "@jupyter-widgets/base",
            "_view_module_version": "1.2.0",
            "_view_name": "LayoutView",
            "align_content": null,
            "align_items": null,
            "align_self": null,
            "border": null,
            "bottom": null,
            "display": null,
            "flex": null,
            "flex_flow": null,
            "grid_area": null,
            "grid_auto_columns": null,
            "grid_auto_flow": null,
            "grid_auto_rows": null,
            "grid_column": null,
            "grid_gap": null,
            "grid_row": null,
            "grid_template_areas": null,
            "grid_template_columns": null,
            "grid_template_rows": null,
            "height": null,
            "justify_content": null,
            "justify_items": null,
            "left": null,
            "margin": null,
            "max_height": null,
            "max_width": null,
            "min_height": null,
            "min_width": null,
            "object_fit": null,
            "object_position": null,
            "order": null,
            "overflow": null,
            "overflow_x": null,
            "overflow_y": null,
            "padding": null,
            "right": null,
            "top": null,
            "visibility": null,
            "width": null
          }
        },
        "f8cf95c95f994b4d8f2838124d67a495": {
          "model_module": "@jupyter-widgets/controls",
          "model_name": "DescriptionStyleModel",
          "model_module_version": "1.5.0",
          "state": {
            "_model_module": "@jupyter-widgets/controls",
            "_model_module_version": "1.5.0",
            "_model_name": "DescriptionStyleModel",
            "_view_count": null,
            "_view_module": "@jupyter-widgets/base",
            "_view_module_version": "1.2.0",
            "_view_name": "StyleView",
            "description_width": ""
          }
        },
        "33c0e57368a6428bb24f51e9ada154fe": {
          "model_module": "@jupyter-widgets/base",
          "model_name": "LayoutModel",
          "model_module_version": "1.2.0",
          "state": {
            "_model_module": "@jupyter-widgets/base",
            "_model_module_version": "1.2.0",
            "_model_name": "LayoutModel",
            "_view_count": null,
            "_view_module": "@jupyter-widgets/base",
            "_view_module_version": "1.2.0",
            "_view_name": "LayoutView",
            "align_content": null,
            "align_items": null,
            "align_self": null,
            "border": null,
            "bottom": null,
            "display": null,
            "flex": null,
            "flex_flow": null,
            "grid_area": null,
            "grid_auto_columns": null,
            "grid_auto_flow": null,
            "grid_auto_rows": null,
            "grid_column": null,
            "grid_gap": null,
            "grid_row": null,
            "grid_template_areas": null,
            "grid_template_columns": null,
            "grid_template_rows": null,
            "height": null,
            "justify_content": null,
            "justify_items": null,
            "left": null,
            "margin": null,
            "max_height": null,
            "max_width": null,
            "min_height": null,
            "min_width": null,
            "object_fit": null,
            "object_position": null,
            "order": null,
            "overflow": null,
            "overflow_x": null,
            "overflow_y": null,
            "padding": null,
            "right": null,
            "top": null,
            "visibility": null,
            "width": null
          }
        },
        "68101737365d4d128f6182ba523992c0": {
          "model_module": "@jupyter-widgets/controls",
          "model_name": "ProgressStyleModel",
          "model_module_version": "1.5.0",
          "state": {
            "_model_module": "@jupyter-widgets/controls",
            "_model_module_version": "1.5.0",
            "_model_name": "ProgressStyleModel",
            "_view_count": null,
            "_view_module": "@jupyter-widgets/base",
            "_view_module_version": "1.2.0",
            "_view_name": "StyleView",
            "bar_color": null,
            "description_width": ""
          }
        },
        "3afdf18511c046a7b91e88cf8a24a18e": {
          "model_module": "@jupyter-widgets/base",
          "model_name": "LayoutModel",
          "model_module_version": "1.2.0",
          "state": {
            "_model_module": "@jupyter-widgets/base",
            "_model_module_version": "1.2.0",
            "_model_name": "LayoutModel",
            "_view_count": null,
            "_view_module": "@jupyter-widgets/base",
            "_view_module_version": "1.2.0",
            "_view_name": "LayoutView",
            "align_content": null,
            "align_items": null,
            "align_self": null,
            "border": null,
            "bottom": null,
            "display": null,
            "flex": null,
            "flex_flow": null,
            "grid_area": null,
            "grid_auto_columns": null,
            "grid_auto_flow": null,
            "grid_auto_rows": null,
            "grid_column": null,
            "grid_gap": null,
            "grid_row": null,
            "grid_template_areas": null,
            "grid_template_columns": null,
            "grid_template_rows": null,
            "height": null,
            "justify_content": null,
            "justify_items": null,
            "left": null,
            "margin": null,
            "max_height": null,
            "max_width": null,
            "min_height": null,
            "min_width": null,
            "object_fit": null,
            "object_position": null,
            "order": null,
            "overflow": null,
            "overflow_x": null,
            "overflow_y": null,
            "padding": null,
            "right": null,
            "top": null,
            "visibility": null,
            "width": null
          }
        },
        "32eaeebf635f45b9a1cdaa648cfdcb2a": {
          "model_module": "@jupyter-widgets/controls",
          "model_name": "DescriptionStyleModel",
          "model_module_version": "1.5.0",
          "state": {
            "_model_module": "@jupyter-widgets/controls",
            "_model_module_version": "1.5.0",
            "_model_name": "DescriptionStyleModel",
            "_view_count": null,
            "_view_module": "@jupyter-widgets/base",
            "_view_module_version": "1.2.0",
            "_view_name": "StyleView",
            "description_width": ""
          }
        }
      }
    }
  },
  "cells": [
    {
      "cell_type": "markdown",
      "metadata": {
        "id": "view-in-github",
        "colab_type": "text"
      },
      "source": [
        "<a href=\"https://colab.research.google.com/github/thyeaditungson29/mystudy_ADL2022/blob/main/HW_ADL_D2L_chapter_6.ipynb\" target=\"_parent\"><img src=\"https://colab.research.google.com/assets/colab-badge.svg\" alt=\"Open In Colab\"/></a>"
      ]
    },
    {
      "cell_type": "markdown",
      "source": [
        "**Tugas D2L.AI - Thyeadi Tungson - 2106779554**\n",
        "\n",
        "**Chapter 6. Convolutional Neural Networks**"
      ],
      "metadata": {
        "id": "_PAsP-Ytz4Ls"
      }
    },
    {
      "cell_type": "markdown",
      "source": [
        "# **6.1. From Fully-Connected Layers to Convolutions**"
      ],
      "metadata": {
        "id": "zW_-W-9e0YXe"
      }
    },
    {
      "cell_type": "markdown",
      "source": [
        "*only text to understand, no code to run*"
      ],
      "metadata": {
        "id": "YprZRUI60foc"
      }
    },
    {
      "cell_type": "markdown",
      "source": [
        "# **6.2. Convolutions for Images**"
      ],
      "metadata": {
        "id": "dAxa24ja0nO0"
      }
    },
    {
      "cell_type": "markdown",
      "source": [
        "**6.2.1. The Cross-Correlation Operation**"
      ],
      "metadata": {
        "id": "GT9aiQdR0tBW"
      }
    },
    {
      "cell_type": "code",
      "source": [
        "!pip install -q d2l"
      ],
      "metadata": {
        "colab": {
          "base_uri": "https://localhost:8080/"
        },
        "id": "cmwD2HDn1UJt",
        "outputId": "d8efde8a-527e-4ce7-a28e-c8d081306222"
      },
      "execution_count": 1,
      "outputs": [
        {
          "output_type": "stream",
          "name": "stdout",
          "text": [
            "\u001b[K     |████████████████████████████████| 82 kB 620 kB/s \n",
            "\u001b[K     |████████████████████████████████| 9.9 MB 31.0 MB/s \n",
            "\u001b[K     |████████████████████████████████| 11.2 MB 36.7 MB/s \n",
            "\u001b[K     |████████████████████████████████| 15.7 MB 45.2 MB/s \n",
            "\u001b[K     |████████████████████████████████| 61 kB 7.4 MB/s \n",
            "\u001b[K     |████████████████████████████████| 900 kB 39.2 MB/s \n",
            "\u001b[31mERROR: pip's dependency resolver does not currently take into account all the packages that are installed. This behaviour is the source of the following dependency conflicts.\n",
            "tensorflow 2.8.0 requires tf-estimator-nightly==2.8.0.dev2021122109, which is not installed.\n",
            "google-colab 1.0.0 requires requests~=2.23.0, but you have requests 2.25.1 which is incompatible.\n",
            "datascience 0.10.6 requires folium==0.2.1, but you have folium 0.8.3 which is incompatible.\n",
            "albumentations 0.1.12 requires imgaug<0.2.7,>=0.2.5, but you have imgaug 0.2.9 which is incompatible.\u001b[0m\n",
            "\u001b[?25h"
          ]
        }
      ]
    },
    {
      "cell_type": "code",
      "execution_count": 2,
      "metadata": {
        "id": "G7Tyhg8Vz3vY"
      },
      "outputs": [],
      "source": [
        "import torch\n",
        "from torch import nn\n",
        "from d2l import torch as d2l\n",
        "\n",
        "def corr2d(X, K):  #save\n",
        "    \"\"\"Compute 2D cross-correlation.\"\"\"\n",
        "    h, w = K.shape\n",
        "    Y = torch.zeros((X.shape[0] - h + 1, X.shape[1] - w + 1))\n",
        "    for i in range(Y.shape[0]):\n",
        "        for j in range(Y.shape[1]):\n",
        "            Y[i, j] = (X[i:i + h, j:j + w] * K).sum()\n",
        "    return Y"
      ]
    },
    {
      "cell_type": "markdown",
      "source": [
        "![image.png](data:image/png;base64,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)"
      ],
      "metadata": {
        "id": "0-DnE16z08gM"
      }
    },
    {
      "cell_type": "markdown",
      "source": [
        "![image.png](data:image/png;base64,iVBORw0KGgoAAAANSUhEUgAAANQAAAAqCAYAAADLRnVxAAAAAXNSR0IArs4c6QAAAARnQU1BAACxjwv8YQUAAAAJcEhZcwAAEnQAABJ0Ad5mH3gAAAnvSURBVHhe7Z0PUBTXHce/rVasVBxtVk05nCtLSD2qw2EYjl7iUU2R0YCYoDJjBcE5J6Z0DGXqH/6J1D+YGXtlasU/AaOCGTs3Gsez6tFqjhnKpnFuaZUjIRxxZBnRPSfmGJ0cE2f77tg0BwEP7hbDNO8zs8D77dt77+73vu/3fm93ju/19/dLoFAoivB9+TeFQlEAKigKRUGooCgUBaGColAUhAqKQlEQKigKRUGooCgUBaGColAUhAqKQlEQKigKRUGooCgUBaGColAUhAqKQlEQKigKRUFCFJQA7l0b+UkZkccCbOd5uOXieCI0N8DWIxcoARFsFvCfyQWFCEFQAixbi2Gdw0IlW75tPM0mFLyeA32sHpW2pzGEh+KG09oA6yceuUyYpAI7uR6rKmzjKirhYhGKr5K2ImXDhMADrroAxhw9YvWV+FZcIiNyZjRwolwaQBUD1K8h/VJQVEELSrxkwqlpG7F5yUSRExCmL8TO9AiI0EDz0wjZGgKPPWRIjAYHGvKMMOZlI6dgF7juwVepVmxH4WdG/OnqOI2oXitMJ2Zgo9EwYSa3AcKg27ITK2eSgazRgFXAJV/hGZVjRNj25sBIJtnsnGKYPxosKES+gu1v3oOxWrnJLkhBOXDhSBdSMnVgZMvEwANnm5U4LwHsHNkUAuLlIuwflQg0WHf8GI7tewNa2TIYBr9ak4/6d6xwyhYlcVhq0GVIh26ubJhIeJy4eQmIi2cVHCs86tbWkVEYCAaG4pM4drgQWbJlKMzLv0b+6VpYu2RDiAQnqHYOF5AEbXSYbJgoOMCfJx9SPJkNJ1jXwmITkM5dAX9bNgzFQ6JcQdU3lx89NlRVNMDxSC5/Awc4C5C0iCXxYALSzpOxwkA7f4L2L4xFQiaHK63K7AQEJSixy462KVFg/EK4cKkKJVvWQp9TA/OpEpQcMKFkzVIUnH+KWxa3nWghUV2byAKfWGD6nRHL9SWwDon03wqMCjGMDY7OESJeGIlyOxJgXe+3pidiqnzLhmTjOmimybah9HbB7piCqB/7OeMRmcErimDUL0XlKTNMZZUw7TViKfEN95TzGKGjhSy8tEh4HnCeN6HIuBz6HVZimygwULEMbP9xKrLsC0pQwi3vskrlF8LJLPTubKSviCPJnxWOOZuxp4iEWUM3rMdJWa6F22SAGGOhP8CNMjcZG+KN98FBB1a04tCNaKQs7EFnZBjCHpOT49x2YBhEvQC09TxhKEWmYs8RnU9U1psDYjJsLYfhSRsNveQzRhxUfktc8Vo9hMWrkcx0o77JjWU7ylGYvxLzOROs15+mokS0NnOAjsW9S4fAx6Yg7k4nVNMmVqxiVGSh7hAUEflk+XeIkNn1IAv+MBkxmkKkG7ypsQDnddLZWD/hzWOh+RKYotOOGP49N82oPMPLpeFhM8uRv2joK8j5E6GGS8bJChbauX9DxwafiRCobTe4I/txwS+gfiG0oz1sP0quyQYvbBbKN4zc/0D0Pw4gZ6+odjux/NVDWHfxzJPFNALML3diW48VRjKTpZrSfdHNw98kwtOicPbYex60T+T8iXgELUknsTdaC8bSgXzfyTFAVhslJ1vkgpfP0Sm60VbmxAzZAkyHwbgdqfPk4ljpH+0GVAC8XyM21qP1z4mSurhRcg2yfyBVJ6qlFbubBuydp6VcdaL02/NdUp+rb6DO7bPSJmLLrjguVW9+SSptdPldH+oht2/6QHL9+7iUTdrZ30TafeCS+rzng2i759wmqfTyGProa0M9wjU90tnNpH9HW4c553d8apF+n1sqWZosUml2qdR4d5g6/oe9WkpUk3quwXZv39XqXOl0p7fcJzXtIz7LrJZaiS9cfV2SZVuutGr5S9L+lj6px1IqZe9ulBqPvjyMX0M4/uXt2wqpusUltdZmS+rE/VJTX//AeHhA/FWQLa1K3CSdJX1sPZot5Z4gfdiWGPgz8vp6+WGpddhzwx2kPvHLSK/r+6zG9HojH0Et+YYNkST5tIok+XxBA+9qXmxrgU2TjtXqVhRvveC7+et22GHVv4Gdxeugi+4G/6mC+ZUvf4rzJecRM2eQPszG1KkCzFt3wdY7zm2PChHdJGJr5z1hY5tElZIKDqkV5UjVpaJ8nwG2LQHukzwTReJOG4S7ctmHG44PSbSOT4bGN2M7wZ8VYcgywHOqALWWq7AvSIFO/AJTJ3ng+Gc9oGZhWJJPFszK4cufNEnQPhcBZhYZFcxUhN02o2i3DT38+2QpuAwR3kE0xQHuPQ7sPB10aekDFz9FRIFE3/iv76d6b5DXvW0Lakc2OEFFJyCutRuiX4x0dzvRFp+OVO1AcsyoE4jDeNSetCN5S7qvs84b9WDIkov17sZdY7D4Z6yvrhK4P+LBxSch5XnS/twkZLzmhv3wIbToN8Iwd3zb9orFe78jZyvJE0jpyh8LkJNnAue/M+cWIYoGaGL8Ng/88e7yVdt9YvrfMi/S4BNVyx/qwI+0HpkbjQQNj+77/hXIcruZgSGbtOcrq6BJi4LLYoIZG7H6tRxsj3XDLGZBFy/A0UiEzhIPPXQjQkMmJN81oUJEzXPQ/iIFGq+WFmVg9UM7DtW0IDnPgEg9ybHDyaSbmob4SQLaHKn4uToMHk8/kp5TzjeOU8QveVXkfZP8tWEX+bsI5kFb5G6Id8hks/Cr9+2B2NqA2jNWOMlEPFaC/OZYB+oyM+Gp6MDmeNkUEBIt8pbAsf46ytUXkLP+HpZtceFeJEmY9cFmJKMluLbFiwWo+eFelC8JfYh5mquw4J0YXDqWRUStLI63VyHTU46O3wx/F2w4vO9Nb01D8w5g1+LLSGs6iPimAlgXHET+fLnSOMP/JRZrcQYdeg6xa4AzHfnwvFUJt3EPUmfKlYaFR00mD8N7+fKEEQIeDlULahFz+RiyomVbCEwqKyurkP8eAwxU0z+G8Wo4clPUo0vQH/Ewl7iheXM12Pv/wOHrDnz+5YvYmLcQs+Qq40aQbYezS6FTh2NycHfr/BBx+UAdInMKkaFSfvJgfvIjfPy6DeG5BpBJflSER0xG74m/o/NBL3qnt+NOnwfOuy8iO1ONcLnOeDNrWjj4v17HLdcthE9z4uF9F9qfSce6RCbAbtmzWJihwbM/CH1PTbxShbqoDSh8RaXIfbIQvtvc+yxfLuxp5xSZwf+f8T1nZ8/A3rLxezTI20buhxk4V2FQaMn2HaDHgqIddmTsC3BrYgyE+M8CBHBnnVCtJANlkmyiDMb3tLkA9lXduD9nJzSb4YzKgiHYrePvGILNDCGG5JEKPlBM//sGhaIgIWcHFArla6igKBQFoYKiUBSECopCURAqKApFQaigKBQFoYKiUBSECopCURAqKApFQaigKBQFoYKiUBQD+C9AzhGj5UNT1AAAAABJRU5ErkJggg==)"
      ],
      "metadata": {
        "id": "fc9TY70h1LyG"
      }
    },
    {
      "cell_type": "code",
      "source": [
        "X = torch.tensor([[0.0, 1.0, 2.0], [3.0, 4.0, 5.0], [6.0, 7.0, 8.0]])\n",
        "K = torch.tensor([[0.0, 1.0], [2.0, 3.0]])\n",
        "corr2d(X, K)"
      ],
      "metadata": {
        "colab": {
          "base_uri": "https://localhost:8080/"
        },
        "id": "ce2UPMO42mx1",
        "outputId": "c7eec6c1-dad7-4613-9467-447872680069"
      },
      "execution_count": 3,
      "outputs": [
        {
          "output_type": "execute_result",
          "data": {
            "text/plain": [
              "tensor([[19., 25.],\n",
              "        [37., 43.]])"
            ]
          },
          "metadata": {},
          "execution_count": 3
        }
      ]
    },
    {
      "cell_type": "code",
      "source": [
        "class Conv2D(nn.Module):\n",
        "    def __init__(self, kernel_size):\n",
        "        super().__init__()\n",
        "        self.weight = nn.Parameter(torch.rand(kernel_size))\n",
        "        self.bias = nn.Parameter(torch.zeros(1))\n",
        "\n",
        "    def forward(self, x):\n",
        "        return corr2d(x, self.weight) + self.bias"
      ],
      "metadata": {
        "id": "p7aoCzjo2nDK"
      },
      "execution_count": 4,
      "outputs": []
    },
    {
      "cell_type": "markdown",
      "source": [
        "**6.2.3. Object Edge Detection in Images**"
      ],
      "metadata": {
        "id": "dc1cfYNb27lN"
      }
    },
    {
      "cell_type": "code",
      "source": [
        "X = torch.ones((6, 8))\n",
        "X[:, 2:6] = 0\n",
        "X"
      ],
      "metadata": {
        "colab": {
          "base_uri": "https://localhost:8080/"
        },
        "id": "A3fS9RlZ23Iu",
        "outputId": "2a65be2f-220f-4c73-e82f-d387f62cb7fd"
      },
      "execution_count": 5,
      "outputs": [
        {
          "output_type": "execute_result",
          "data": {
            "text/plain": [
              "tensor([[1., 1., 0., 0., 0., 0., 1., 1.],\n",
              "        [1., 1., 0., 0., 0., 0., 1., 1.],\n",
              "        [1., 1., 0., 0., 0., 0., 1., 1.],\n",
              "        [1., 1., 0., 0., 0., 0., 1., 1.],\n",
              "        [1., 1., 0., 0., 0., 0., 1., 1.],\n",
              "        [1., 1., 0., 0., 0., 0., 1., 1.]])"
            ]
          },
          "metadata": {},
          "execution_count": 5
        }
      ]
    },
    {
      "cell_type": "code",
      "source": [
        "K = torch.tensor([[1.0, -1.0]])"
      ],
      "metadata": {
        "id": "kyhO3RK182lv"
      },
      "execution_count": 6,
      "outputs": []
    },
    {
      "cell_type": "code",
      "source": [
        "Y = corr2d(X, K)\n",
        "Y"
      ],
      "metadata": {
        "colab": {
          "base_uri": "https://localhost:8080/"
        },
        "id": "oWML1Jwf3Gh2",
        "outputId": "59369462-9bdc-4651-d8cb-0ea708f86bac"
      },
      "execution_count": 7,
      "outputs": [
        {
          "output_type": "execute_result",
          "data": {
            "text/plain": [
              "tensor([[ 0.,  1.,  0.,  0.,  0., -1.,  0.],\n",
              "        [ 0.,  1.,  0.,  0.,  0., -1.,  0.],\n",
              "        [ 0.,  1.,  0.,  0.,  0., -1.,  0.],\n",
              "        [ 0.,  1.,  0.,  0.,  0., -1.,  0.],\n",
              "        [ 0.,  1.,  0.,  0.,  0., -1.,  0.],\n",
              "        [ 0.,  1.,  0.,  0.,  0., -1.,  0.]])"
            ]
          },
          "metadata": {},
          "execution_count": 7
        }
      ]
    },
    {
      "cell_type": "code",
      "source": [
        "corr2d(X.t(), K)"
      ],
      "metadata": {
        "colab": {
          "base_uri": "https://localhost:8080/"
        },
        "id": "RjgYh17-3XH5",
        "outputId": "9b24682a-6f4e-4f9e-f123-435926e44122"
      },
      "execution_count": 8,
      "outputs": [
        {
          "output_type": "execute_result",
          "data": {
            "text/plain": [
              "tensor([[0., 0., 0., 0., 0.],\n",
              "        [0., 0., 0., 0., 0.],\n",
              "        [0., 0., 0., 0., 0.],\n",
              "        [0., 0., 0., 0., 0.],\n",
              "        [0., 0., 0., 0., 0.],\n",
              "        [0., 0., 0., 0., 0.],\n",
              "        [0., 0., 0., 0., 0.],\n",
              "        [0., 0., 0., 0., 0.]])"
            ]
          },
          "metadata": {},
          "execution_count": 8
        }
      ]
    },
    {
      "cell_type": "markdown",
      "source": [
        "**6.2.4. Learning a Kernel**"
      ],
      "metadata": {
        "id": "F-OnuAlb89qu"
      }
    },
    {
      "cell_type": "code",
      "source": [
        "# Construct a two-dimensional convolutional layer with 1 output channel and a\n",
        "# kernel of shape (1, 2). For the sake of simplicity, we ignore the bias here\n",
        "conv2d = nn.Conv2d(1,1, kernel_size=(1, 2), bias=False)\n",
        "\n",
        "# The two-dimensional convolutional layer uses four-dimensional input and\n",
        "# output in the format of (example, channel, height, width), where the batch\n",
        "# size (number of examples in the batch) and the number of channels are both 1\n",
        "X = X.reshape((1, 1, 6, 8))\n",
        "Y = Y.reshape((1, 1, 6, 7))\n",
        "lr = 3e-2  # Learning rate\n",
        "\n",
        "for i in range(10):\n",
        "    Y_hat = conv2d(X)\n",
        "    l = (Y_hat - Y) ** 2\n",
        "    conv2d.zero_grad()\n",
        "    l.sum().backward()\n",
        "    # Update the kernel\n",
        "    conv2d.weight.data[:] -= lr * conv2d.weight.grad\n",
        "    if (i + 1) % 2 == 0:\n",
        "        print(f'epoch {i + 1}, loss {l.sum():.3f}')"
      ],
      "metadata": {
        "colab": {
          "base_uri": "https://localhost:8080/"
        },
        "id": "8H_xyCfQ3ZgY",
        "outputId": "7003eaf9-24ab-4330-b060-ddee2346982c"
      },
      "execution_count": 9,
      "outputs": [
        {
          "output_type": "stream",
          "name": "stdout",
          "text": [
            "epoch 2, loss 9.721\n",
            "epoch 4, loss 1.647\n",
            "epoch 6, loss 0.283\n",
            "epoch 8, loss 0.050\n",
            "epoch 10, loss 0.010\n"
          ]
        }
      ]
    },
    {
      "cell_type": "code",
      "source": [
        "conv2d.weight.data.reshape((1, 2))"
      ],
      "metadata": {
        "colab": {
          "base_uri": "https://localhost:8080/"
        },
        "id": "4N5BEfjq8dqp",
        "outputId": "ccf64ead-3b4c-49ef-f977-182b125a659a"
      },
      "execution_count": 10,
      "outputs": [
        {
          "output_type": "execute_result",
          "data": {
            "text/plain": [
              "tensor([[ 0.9794, -0.9883]])"
            ]
          },
          "metadata": {},
          "execution_count": 10
        }
      ]
    },
    {
      "cell_type": "markdown",
      "source": [
        "**6.2.5. Cross-Correlation and Convolution** and **6.2.6. Feature Map and Receptive Field**"
      ],
      "metadata": {
        "id": "wcmtQ2h09UO_"
      }
    },
    {
      "cell_type": "markdown",
      "source": [
        "*only text to understand, no code to run*"
      ],
      "metadata": {
        "id": "kH7QafiS9tK2"
      }
    },
    {
      "cell_type": "markdown",
      "source": [
        "# **6.3. Padding and Stride**"
      ],
      "metadata": {
        "id": "c8TTIZND9x7W"
      }
    },
    {
      "cell_type": "markdown",
      "source": [
        "**6.3.1. Padding**"
      ],
      "metadata": {
        "id": "KmXsGLi593l2"
      }
    },
    {
      "cell_type": "markdown",
      "source": [
        "![image.png](data:image/png;base64,iVBORw0KGgoAAAANSUhEUgAAAbAAAADPCAYAAACUTYSKAAAAAXNSR0IArs4c6QAAAARnQU1BAACxjwv8YQUAAAAJcEhZcwAAEnQAABJ0Ad5mH3gAAEeZSURBVHhe7Z0JeBRVuvdfRYgDGmQ0gZEISgAhwgCKA5orAZGgbBFFcA37IIIi4ndVHLbhCty5MgFFcAwE2VyjQFhkUSA4kTAgQQ0RgbAmKomKBFmaxXz1P12nU2m6q6q7q0h18v7y1JPa+q1Tp06d/znvWeqys2fPlhLDMAzDhBmXq/8ZhmEYJqxgAWMYhmHCEhYwhmEYJixhAWMYhmHCEhYwhmEYJixhAWMYhmHCEhYwhmEYJixhAWMYhmHCEhYwhmEYJixhAWMYhmHCEhYwhmEYJixhAWMYhmHCEhYwG8jNzaXNmzerW0xV5KuvvqJDhw6pW25+/fVXkS7w325wHU6DzgNpYsWKFWLxTh9M4LCA2UTv3r3VNeu555571DXGqYwZM4YWLlyobrnFq0uXLrRgwQK65ppr1L32MWPGDPrhhx/ULcYJTJ48mdq2bUtvv/02LVu2TKw///zz6lF9XnvtNfH7UKiM+QYLWBjCJevwQopXr169aN68eepepiqRkZEhCi/bt2+njz76SKSDvXv30qZNm0wJE34fKpUx32ABs5nMzExR8kGJvEaNGtSkSRNPYkTCffDBB0VJrHHjxjRkyBCPewm/wW8lcluWomBLe5xxJlK8nn76aRo3bpy6170fzzsqKko8+9dff1094n62gwcPFv/hZsJ/pJ/o6GixaGt2KJkjTXmnH8ZZ/P3vf6fx48dTw4YN1T0kauLYJ58n8gOtmMltLBAf7bbZfEPmE5U132ABuwQg8SUkJNDZs2dFRoZMR4Jjn376Ke3bt4+OHTtWLiPzBc4FsAWbjHOR4oX/qH1pgSDVrl2biouLRakcpXNtxtKqVStRQpcZHv4XFRXRhx9+KH4LcD4yv23bton0A3vyGOMsvv7663LiJUG6MGoLQ8GnQ4cO4r8sBKGNlfMNFrBLhszAkDFpq/LJycmeNpFnnnmmUpWOqjrIVFBgQcbl3daxaNEiat26tUgLyNzkugRpQZvhYRsg8zl+/LhYR00ev8Pv8Vuso3MA40xuvPFGda0MWXMKtObcv39/zjcUWMAqGO8G/YMHD6pr5Qk0gTMVD8QLBZT09HRavnx5OdcfwLNGxoMFYuWrhK4HSuFaG1jHNRnn0aBBA/G8vEHBAzXnUDv2VNX8gQWsgtEKFlwJqKF5g8SJUjYTXshMCf/RaA/3nszEkGnhWUu3ELYDFTDU6vEbaQNiyTgT1JLw/LVCg3W0Z8naNdAe37lzp7p2MWbzjcoOC1gFAzcQ3EtIyLKhFyBByv1o0EcJToL1Pn368DiSMAJig0U2uEPQ8FzxfOVz9uVi0gOChZoXbOL3aKgPVASZSwNECu1YTZs2Fc8by+233y7eZdmuheOopeNZ4plq32/kB8gr8LyBzDewIN+QIqjNN5BHaPMNFJJwrDLlG5edPXu2VF1nLAIDmXfv3i0SEDIrlLplw6l2G4kMINNBokKGpM2AkJhxflJSkviPYyjN41wcg7soVNcDYw94xng22ucpnz0yGfkc4VoE2rZQZFLahna9bdiEGwp2IZCyJA63JUAaZJyDfOZox9Q+LwmeI8QJx2R6QBrCc8Y7j+eO43J/Vc83WMAqEClgsgTGMAxjBOcbZbALsQJByUhbcmIYhjGC840yuAbGMAzDhCVcA2MYhmHCEhYwhmEYJixhAWMYhmHCEhYwhmEYJixhAWMYhmHCEhYwhmEYJixhAWMYhmHCEhYwhmEYJixhAWMYhmHCEhYwhmEYJixhAWMYhmHCEhYwhmEYJixhAWMYhmHCEhYwhmEYJixhAWMYhmHCEhYwhmEYJixhAWMYhmHCEkd9kXnxR6vJdeYM1bu+Pt32lzvEvr3f5dGeb/PEOrit3R1U70/1xfrnGz+lkuO/inXQ/f4+4j/24ZhE2tu0aSOd/PXncvYP5O+lvG++Euug1a1tKabBjWJ9y78z6ZefisU6kPZPnTpJG9d9ItaBtPfl52vIdeo3ql+/Pt1xhxr+vXvpq6/K7Ldt25ZuvNFtPzMzk4qLy+wnJSVR9erV6dy5c7R8+XJ1L1FUVBQlJCRQVlYW/fDDD55t4G2/VatW1KRJE7EeqP3s7GwqKCiwzX5paalYGIZhLAEC5pSlTlS90ppX1y4dNXV+acZ3pWJ5ZdHG0ujrGyLXE//nbjjgOfbIyAliP5Z2nZM8+7Hc1KyV2K+1d3OrdmJ7yNgUz3ne9mcsy/Ec09pv8ZcEz34sWvvSXqNGjUpr165dmpKSouTTbjZu3FjasKHbPv7n5OSoR0rFedK+ksGre91gG/u19rp163aRfdjTs4/z9exjkfYeeOCBctvASvuKsPl87rzwwgsvwSyOqoHVrd+A7u03jB55eqK6xzpGJbWmyy+vRn+5u6dt9slVQsnJyTRxovX2O3bsSJdddpmoydhlv0aNGnTnnXfaZn/mzJkUFxen7mEYhgkNx7WBRdd3u9es5Jv/bKIDu+EGK7XZPnncg1ayc+dO4a77/fff6ZprrlH3Woe0r1SSbLXvcrnUPQzDMKHjKAG7r+8Qan/P/eqW9bRTal922kft6/777bPfqVMnGjBggLplPXfddZet9hmGYazEUS7EjUeqk+u8umExcPFNSVtNta69Xt1jLbC/++ttVKN6dXWPtcAFN3fuXGrcuLG6x1pgf86cOdS8eXN1j7WwC5FhGKupMgIGIqqVkuvCZeqW9XRvUkqXX2affbj40A5mF3bbP3/+PPdCZBjGMhzlQlyYMp5OlpR1i9cD55k9V/JR2gxb7b/yP/9Dv/5q/jcHDx5U18zx1ltv2Wp//vz5ttpnGIaxEkcJ2Or3Uyn702Xqln9SX3lWuOzGPtGRXn6ik7pXn6LCg7Rp5Xu22n/77bdp2TJj+88++6zo7IH2MrRrmRENiAVs4xpGBGs/IyPDVvunTp1StxiGYULHcb0QIQR6oMdfrrLM3XiQZi7fSTWvrk2ffayf6aImNeTum+jC+XOm7G9VRA62pf2MBTPUo76R9uEeM6qVbNq0SQgReuZhqV27tqFoQCBuuukmIQBGYhGMfdC6dWs6efKkoX3Y9LY/Y4Z+/ADY3717t7rFMAwTOo4TsJuat1bXfJO9flm5noSdHxhAny3Vz6D3796prpmzD5u1It3dybFuVGvT2kdGrQcEBjUX2V0dvf6Mam0QCkmg9lFbMrKP3xw/flysGw0DgC1v+/i9Hlr7DMMwVuEoAZu2cL1hN/cDilhIcQHadX/Uutp9zpN/+6cp+1pg/9QJ/cy3rjq2bOlSd+auBzJz7VgrrB86dEjd8o0UlZdfftnQPsROax9gDJYe0v6YMWMMu9GjhhaofSPRZRiGCQZHCdiNTVuoa/pIQTJLI6XWNWRsCjVq1krdExi/HT+mrvkGg6NhP+6WW9Q9gWHkdoTApKSkiHkIjTDTHuWNtN+yZUt1j3+MwuoLCB7sY05EhqkIMJ8nZpqxc6lZq5bP/eGy1LI5/NHR0erTsI6w60b/ylP3C0GS00Ghzerd1yfSlEX6bixgphv9jBcHiBpVMPbNdKNHDQeCIadrQo0M60ZuOGCmmztcehAMrX3s07oh/WHGvrSrtY97MiNs3I2eqSjgJejSpQu9smijusdaDny7k+ZOGU0bN9pjPz09nd544w3b7CN/GD3avvBL+4reqHuswVEC1qJtPP33jA90p3tCh4r9SmJ5dpq73Qs9BsHQl407Ekwd0ZsGKzWlQOxDvI4WHvRs6/Hq0AQxWFfPZYYOD8j0ZbsUtvFwzXS0GDhwII0aNUrXPuzAtta+9np6DB8+nIYNG2abfRYwpqKQApbxnT3pDwVd9Fi2K33jPYMA2GUf7zB6FNtt32oBc5QLsfiHI4YdJjr3dneqWLFwJm1YukD0GEwa4BYxPSBMP/1YYNr+u7MmCfvo4fioicl/Yf/IkQLDjBy1FTzMSZMm0YIFC0TCRA3JCJyHT50Y2UcbGQRR2sd/WVvSA/YPHz5syj5qW1r7ZsIP4UP4GYZhrMJxvRCNQKeK15bvFO1SRwsO0NjZywwn6EWNCtX733+/oO7xD+zP23AQ/jRhf9T/vm1oH13zYV/5kXuHDnDvQQBQ0jlw4IDI2I06OeB8s9Vv2IeASftLly613D4EWGsf00TpgXY51B6LiorUPQzDMKHjKAGLqhdjarJdCAraqLCgPcyIkyfcHRtq/zHKlH2ImLTf8i/6mTOAixHgQ5ZGvQSBbKPCYpT5A9m+dO2119pqv06dOrbYh6AyDMNYjaME7PVl2wxrO8HQqJlb5J6bmmqr/c8+22BY2wkGafOVV16xxT5ECAOS//a3v9lqn2EYxkrCzoUYDKhRzd1wgOpE1VP3WIu0X+2KK9Q91oIaD9x1mI3DLlBLsmumewD7zZo1U7cYxvkYzdoTKtLzYRfBDKkJNxwlYAf35Kpr1oOa149HDqhb1gP7336bp25ZD7reFxYWqlvWA/tHjx5Vt6wH9mvWrKluMYxzQcctzIWKITX4H+ik3kbA9Y73AR264PGwWsjQrg77aA7Af7tc+OjwZefXK8zgKAF7MbmLYS/BUPjH8/1ttZ/Uq5ep7uTB8swzz9hq//nnnxeJn2GqKhCrmS8NFOM+saDNPHWKcS9bs0BM8I7hPzpDwb0OQbMSdJiCbSzoIWy1fYDanZnex3bjOBciBgTaAUpS58+ds9U+eubZVdpBQsdkvnbaP3HihG1uDdjftWuXusUwzgQF3BZ/SRDNAsDMXKiBgBoXCqFoFgD4b4erT9pHDcwO+6jdYehNReM4AZOdLDCuCgMDURpCN3gJSkjoso5j+K+t3iOhTRnRWxzTzlCPQYYHdn+lrJWGZB929O27EwzAw8XAPZSGtKKDxIQu6ziG/9rEhRJT7969xTEMiJbg9xiI+fvvv3sSph32IcDe9nE+fifRsw87CI8/+y6XS93DMM4E7V7ajl5YN5oLNVCk2xDvCmpjVteQ8F0/XAPvLmpJVgsN7MG+mR7LdlNt3Lhx1tcvg+SnC5F0a/u76PjRI7R55btibrFzZ07RyV+LKbZxUzp/uoRys9fTvtzt4tiJY8UUHR1FV9f6gzi2ZW06uU6doCv/8Ac6tOdranvHXWL/+dMn6NdfiqnVfyXSVbX/SHu/2Uabli+m3y9cUGz8TAX7d4sxYkf25VHWmnT6dkeWOPbz0UIqUa5dovwWxz77eAEdK/pBHMvf9SXVvDpS7C888B2d/u0EPfRgL6obHU3btm2jxYsX0wXY+Pln8RkRrOfl5YkpYbKyssQ22rQwuPfYsWPiGAYG//DDD+IYaisRERH03XffiQXnoBbToEED+vrrr0XCl/YxzxsI1T660WM2jt9++43S0tLE3GgQNbSNxcXFUUlJCX3++eeUnZ0tjv300090+eWXi+79OPbOO+/Q999/L9q6YPO2226j06dPC3uw3717d49AMsylBBNmL1q0yDNFnD/wqaarlNpXy3Zlw0MwqYHR7yB8mPjArBih4Id3Ae8SwmYkBjhv7dq1hvZhF+/www8/LBYIJfIHI/s4D/mDkX0URnEO8p8rr7zS9EQJ0r6iN+oea3DUVFJ16zcg15nTNHTsDFF1B6jdzHxhABV9f4iir29IUxZv8pSQMM0TEhdo1zmJXp5dVtWHSw+1InzPS9qbOOReevCvL6pnWAtqZDsyV9LSj9LVPdaCkhQGGs+ePVvdYy1IkKtWrRKihIl3pX8bCRaJHy9Zw4YNhfsDpS+AkhgSLz6VkpCQUK6mBrFFrQtIezyVFFNRmJ1KCp4Z4cnRzH3a6+bLDH8X7FRSEBwUHFHA0yvc4V2Dx8PIPs7DeyjbyqV99GKW3iFf4DfwnBjZR16AjhsyD8D7j6V///6m7Fs9lZTjBOzefsMMSzvBAEGLvr4BvTwnQ91jLRDTde/PoZ+K7OnJB0GAC27Lli3qHmtBIsRkoSNGjDBVogoUhB9uRdTkGOZSY1bA0Jww5an7xQdzAcQM7zY+bquHWQFDRg6R8RYYM8JkRsBQEIVtb/tGAmlWwGBf206OGtiECRM8k5T7wy4Bc2wbmJXINqrS0t/VPYw/7HDxcRsYEy5gZp/omBtF2/jWz5bTeybch4GAmgsyc2T8eCeQqWOCbqtADUlrH+1sSUlJlr3XECpZ65IFXfzXEy87cZSA3dd3iKmpnhh7QFsWEijDVGVefmMZ3dSsFe3PyxFfr7AyT4KQoAaDmg4+XYLaC2pXVuFtH+Ila2N2gPBXJI4SsP7PTfZ0X7USzGeIBHnZZY6rcDqKevXq2VIDQ6kTbWToNMIwTgd5UK/+z5qeCzVQ8I7JGoxR54pg0Nq3u0CKa1QkVSZHhw+7RsSV6hZzqYFb45Ygv1jNMAzjC0cJ2MKU8eXGXemB88yeGwx22weo6qOR1S60ja1m+PHHHwMKT6D2GYZhrMRRArb6/VRTo97xFWb0Khz7REfR88cMGKdhthNHMPYDBUKBgYbo4GA1cEugUTXQudYwpgy9jIxAl3jYx3XQCG1G9BAGzCTCMAxjFY5zIRrNAI0ehRhsiG6ucAuWKn/aWTF8gZrUkLtvorOuM+oe/8A+vvIM21gwjgxjQ6xEdinF2AyrQYMwBAWCgetAxOSYLjMYiREEF43C+I8Fn0kx0wgNIcWAboZhGKtwnIDdZPCByuz1y8r1CkJj62dL9QVs/27ztRzYx6Bnu+ZCAxAV9N6RgwGtBOOttA2rqCkF4hY06g4L8ULNS3b2wL1AKPXAcQx2ZhiGsRJHCdi0hesNu6weUMRI21PRTK/FWleb71kH+1pg3+q50FA7sqP3EYAoQsQkqB1pt/WIjY017LUEMdT2VMQ6xpvoYYdQMwzDOErAbmzaQl3Tx6iW5g0GJw4Zm0LVqlVX9+jjLYq/HT+mroUPEBoMYkSNymxXV8xtZkQwHTcgcphOKioqSt0T/lx7XRTVqFEjrBc5h2ZVID8/X/zHtFB2LGgrr169uphmyY4Fs3AAX8esWNCkYWf4Yd8OHDWV1MYj1cl1Xt3wwytP3S8m2oTrEKDNClO9aOcu88f/PduX/t+MD9Qt3+AjdnXr3+gZfW/WfjBTSUl3n5kaEs4xO5UUxAsJplWrVqY6ZQCEA64+I3egFEP5X7azmRG2yjQXIgQAhaJAC1NmQYbY/bERdOe9fdQ91gL769evF+PzqgKY5xOdpjC41w7QHgyRscv+kiVLaO7cubaHHwVNO9i3b5+Yqq5Sz4XYom08/bciMHrTSaFDxdGCgzT0ZXfHAe9tPcwIGOxhPrRnp7kzfu9tfzhFwKR4IWMKZIQ/wpGamipedD2Xn/dca97belQ2AXtl0UZbBroClOohkLKgZjWwX5UETM6FaFf6Q0EO751d9vEum5kLMVjsDr+0X6nnQiz+4Yhhh4nOvQeIThsrFs4Uny/IeHsGJQ0wfskhRPigpRGwLybwnDXJY/9RGyYXtgv0OERtCBN4Yj40uZgBictIiNB2B/uwic8j4KUy08sRQodPuzAMw1iF43ohGoH2qdeW7xTtUkcLDtDY2csMJwBGDQofp7xwwVjAYH/ehoOkFEVM2w8WuN6Mev0FCmpqmBwUJSntYhVoz0JpCjYxDGDp0qWGNUjZHldUVKTuYRiGCR1HCVhUvRhTE2dCUNBGhQUdNIw4eSKw2S4gYoHYDxY7BAw24Q70XsyARlwzvSMhYtKuGfcn/OsMwzBW4ygBe33ZNltqO42a2SdClYmmTZvaNjYNA54ZhmGsJOxciMGAGtXcDQd4Mt8KBLWwZs2aqVtVD6MZZqwArnLGOoIZMmIEbMKl7o2vfYECG1bY0cNf+O2IKzM4SsAO7slV16wHNTv+nIo+Z84YT7UVLHCV1qxZU92qOkBUMI0ZhmcM6XSj4bRnwQK7c6fY02OxqgHXONzkcMfDe2CVKMBOmzZtyrnUsY4OV3Dd4x0xO+xFC+yihx/CigXrMsxor/Yek4V9wSCvow0/9t10000irhBnwYQ/FByVo7+Y3MXyaZsY82Cw56VOgJUdiEqv/qPEOEJ0CEq1WGQwzyd6zFptt6qCzBld1lGjQEYPYUHmHCqwBfGSwiKBfYy9wnFcG+IZaG0Gv4GLHr/H0rBhQ7EPwFb//v3Ldegy027tjQz/sWPlJ3VAD2TYx3Es6KzlfY924rgqyQGb3CCYXd7MZL5VHbtcAXhpdu3apW5VHXL/kymGZgB0CMIgeQyOtwrM84neskbjFBlzYBgJRAW1CYAMevny5WI9FCAo8+fPV7fcIKM/dOiQRyBxTdTCIASBgPBKwQKwIWtJ+I92bfwP5d2W4fduI0d8yfDjGMYVBhr+UHCcgMlOHBi3hdkCZr40sJxvHyVOdInHMfzXfrMLtbcpI3qLY1pXDTKMA7u/Ukof5j6nUpWRLy5KoXAXYPYCbYLES4exXziG/9rSFl4SlMBwbObMmepe934MJMVA7KqETLfaqcmwnrvVuhccA6khXtprMMGDzF87xZYUglBrFXiHvGs+8l3T2sZ6oEIDu1JY8HuMz5SigvDDqwIhxnl4P4PBV/gBJulGnEm04nkpcJSADRk9gdrfcQcdO5BDB7/+gupGR9H5U79Szmcf0oVfj4hlT/ZKOvVzoTj2y/f5VJD7b8+xw99k0VVXVqeoqGtp26fpnv3XXXUFtW7fifLzdpabv8zKBW6cn4uLLvI3W7VAAHJzc30es2LBwOTLL7+c7rvvPvECffHFF2LuQhzLyMigI0eOiOXTTz+lwsJCcWz//v2idCqPYUzYyZMn6brrrhOzPHz33Xdi/4ULF+ihhx4Svv6qxMkAh28wFQ9qM3CTIaPHO2GF+1APjNlEgQ/XQmExFCBesIVakAw3RAcCBgGCsGAqKjubCbRidilw1FRSDRo0oNOnT4vSv3wAiHiso6oN3y62ZSShWitnmUhKSio3iwRKJChJye9VyYenrRlYCUo4586dE/N92QESHYRk/Pjx6h5rWbNmDW3dulX4yBGvcnYNxBteahn/iGNZ2kO84lyUwrxdB3hx5Cz18PHDXlWbSgregUdur0MZ35XdMz6SiumhjMY7olAUyFRSgcwJCmCfp5LyDYQA7xv+I+9BJwWj3yHtQzyMzkOBEPmQtjaDa6HQKMUG75d8/yR41/SmksLvIYB4njjXH9LVKP9LzIYfYcRvZfhxP9rfIK/AMe/wS/uVei5ECNiwYcMuilwrqFevHt18882eTNVq8NDwcFBzsQPEyZtvvik++28HsA/xHTFihC3xj/hB4SEuLk7dE96YnQsRPQ+nLN7kcY1jG505jAbIs4BZi1kBgxAgs9UWoJEZG7nFghUwWViX7kQUzrWFRImegCHM6GCBgqIMtwR2EDZpH9eFyPgTmEAFDPaxDZtyW4qwFmnfagFzXBuYHVVQRN7Ro+Yn2a3KyIRuJXj5kYFUtTYw0GvAs+ILCls/Wy7aZzF7vZ2zuzChgfSPzB3tSHCPQzTsKNBJID64Bt4P1KAgDN6ZvxEIL/JNeEngkcICEQGwBbuwj/2yVmkViBssiCu4XRF/gYY/FJzVBjZkiEfJmUvPtddea2niZhQBU2pQmJJsf14OtfhLgm29BdG7UfZ2ZIIHGTAKXJjnMycnR9RqrMyT8CV2bSEdNSt89gi1MjSDSOEJBAgGfovak1wksIdu7rCP5hRtbSwYkD9ow4+4gYAhrnAf2macS4GjXIiYi88u2IWoD+wjcWOxA8RPVXQhBkugLsRAYReitUgXmV32jdrAQsXu8Ev7ld6FaBdPPvmk8D8zFQMS8C233KJuMQzDhI6jBAw97OCjNQPOM3tuMNht34mgdhfIPcN/zzAMU1E4SsDwRWAzPlQ0WsLvC7cUqqVmCCRjhl25hDo2Qw/cB65hNbCJ2qZczF7j559/NuWDl43G8H8j/s3ELcTu1KlT6pY9YJjB5MmT1S2mIoCrDu5VswvDhILjXIhGpXq4orDgPDS2wmdrlOkig0X7ixn/rhxDAdtYMKgxmIZVI3APdtgFMty4Xyy4llmMxAi2UciQ8SPH2RmBAsfu3bvVLXvAuD8WMIapOjhOwIy6YCLz1PYKQm3ASAiQ0ZoFvWy87QVSezMD7OE6ZjL+QIGwy15Ggdy3xGgYg4x/eQ3ch5FA4jgGO9sBROv555/3TP+DsYSI30WLFrGYVQDoFIKGerMLw4SCowQMvaKMuqwiU9Z2AzXTJTSQbqM4F5k4Ml24D6XYWIkULyOxCAbED8QCbkPp6jMrZLGxsYb3ivjwjn+jnp12jguB2/C1116j22+/nV5//XUqKSkRH+YcPHiw2GYYphKjlIJKnbKYQSnhlW7cuFHdKhXr2GdE165dTZ0nycnJKV26dGlpw4YNS+fPn6/u9Q9s33HHHeqWf2ArKSlJrJsNO5gwYUJp3bp11S3/wGZKSoq6VSrWFTFTt/wD+2bCgrDjXAmupyQjdcs/CMf+/ft9PvdQl71795a++uqrIhxYevbsWaoUhkqLiop8nm/FIq8Vzsubb77p894q44J79RUH4bRUr17d5/5wWnw9m1CWsBsHhhqarF0A1JTkGCY9gh3nBJcZRrBjoJ4eCJMSl4bjwFBjkSPW4e5DeFDrwQBHPYIdB4ZrmJnLzWz84Dztfxl+o7ZLYOdciKhxoTbWoUMH+vzzz0VtHgMr7QIdELo/NoL+1LCxusda8KWFxIeGUIMm9gw9gH1Mvty9e3d1jzVIl65Z8JwuBatWrRIeFQxMtgNMco1rKAU6dY+1wIuCcWB2hX/fvn1iKjm77SOPtBJHCVh8fDx98MEHuq41uN6QWcr2I+9tfwSbQUPAsG7khjMrYNIu0AqYdr8vcNyMgCEe4ObThh9ibyQwOB+9QPES6rn80D4Im1h8bethl4ChrQuLUguj5ORkatKkieh9qdTA1DOsBwJm90Bmu+3bMZBZDhg2i9UZmj/sHsiM964yDDS2277Vz9tRbWD49IZRRojMHpkmehVivjIkHFkb0yM7O1td0wc1PNiUc6GhtmQkLoEAW3LBvUCsrbQPIdWGHy8Vts2AxGUU/4gfiCFqpbgG7JuJfzyzgoICdctann76aRo3bhw988wzomY7ffr0S1ayZ8oDQUQ6MrswTCg4rheiEcigUBtCN3HMV4YM16gzBM5fu3atqdIFah8oLci50OBmMepYEiwIN0TMShB+3K8MP76iamX4Ef+IH8QlroH4gWjqgRohCgJ21YgQJgiYBLUwO92HDMM4A0cJWExMjKnMVtZasJjp4YYMNBBgU9o3ypxDwQ4BA9r4CST8aIM0E/8QjEDsG7lfGYZhgsFRArZt2zbD2lQwmBE5hkT3czviCiKHAc8MwzBWEnYuxGBAjQGf7ubJfCsO1MKaNWumblU9igrtnTfSbvtVAXhq9Lw1oXoSjOzbiVEnLrPAjq97qKh7c5SA5ebmqmvWAxFj9Dlz5oy6Zj2oWdesWVPdqjrgS8mP3F6HZrw4QHyNOWOBtbOv7P92Zzn7n31sz/RklRlkvOghB08BFl/ze6ITkpnOSr7Q2oeHAx2fJNo5S+UC13ywoAlA69aH6GIYjewwhvsIFnkfWiHXu7dLgaMEDN1czXTHZuwhPz8/pATOXAy+xjz2jaXiU/8zl++kjLdnCNGxiimK/VFT5wv7Y2cvo9Qp9nw/rDIDwWjYsKHImLHA3S3fA2TQ6HEbrHgBrX3UYNDxCR2hADpDyQVjyHBesNdCmKVdCYQLY0yxH0uwtvHbNm3aiM5zWmAPPU+196YVOLtxnAvRrpvHGCozvRCrOla5GrxBCW3Xrl3qVtXh0acnesZy1Yq8RiwnT1jnaoFotb/H3fHmKsU2EziotWhrPahJSCFAfoTetqEU7JDJa+3DG+Rdw8M2euriOsF4i/DeYriMd6cw2JP7YDfYOUkRfvRo9m4jR4VDK4oIhx3t6P5wnIDJThx4GKia4qFqRQ0PGtVUHMN/bUJAZGK0PY5pExwS49GjR9UtRg/58sj4R3zKlxnoxT+eE54XjmGcngT7MZDU5XKpe6oO2i8qw514tPAgNWpm3QveqLnb1ruvT6SxT3SioWOtdVFWBVC4kvkO0jPGN8pMH8eCFRUJbEv3Hd4NZPDevX3xvqEmo3X/BQLswYZ3OKWYQIBQg4IIBQPyAF9hgyDCNu4P7k/UVi8ljhKw5557TnTlXrFihagt9erVi6Kjo+ndd98VM3Rg2bx5s5hxHMdOnz4tZh2Xx3777TcxlRBckYhwuf+XX34RHQjwW29/s1ULMuivv/7a5zErFiSMkydP+jxmxQL7+B8VFeUZM4c4bt68uZiiScYl4lXGPwaivvXWW55j+FzKn//8ZzE9EcagLVmyROxHCfaf//wn1atXT33SVQ+I18wXBghXH2phVtOiXUfq3Lu/aGM7WWJdDa8qAfGCwEBIzAwnCRRk8v379xcFbe+mEohPsO49CAjERU/8cAzXxrlWeVlkxQKiCZtwL0IgtQVeu3HUVFLIGCFKeJiyBITIwPqhQ4eEfxjbsrSEhyEVPykpqVyiQMkD87LJ71UhsuFj1tYMrASlK8x8YTSnYbCsWbOGtmzZYlsJB/a3bt0qhAvxKl8mxBteZhn/iGNZqkO84lyUwvDSaxMuXhg5Sz3mV4M9O+dCvNQEMpUUOlagbQriJWtMRgQ7ldSopNbU+YEB5Wp+vrBrKimnYjSVlPQeIB9BmvYGaRv7/WXOeBfgkTCTvnEu3iNpC+uwLQXBFzgX4uptH8KBThoyzDgP+5APebsTgRQ673v0Z98b+Vv8Byj0QrhkzQ/vOdb92bd69hXHCdiwYcMuunkrQOn/5ptv9mSqVoMwz5kzxzZXJewHM5mvWWAfk22OGDHClvhHgkfhIS4uTt0T3pgVMIgXakWjpr1tWryAWQF7uO01NG/DQU+tDgIG8YKI6cECVgYyfLjXUNDylekDZMB4L/DfF3oCBptI/9I2zoUdWeD2l+lr8ScwCLt3cwn2wRauh8I+hFEKDAqfuJ73ffqz7423gEnXqNxGYRfrsgAskfatFjDHtoFZCSKP28DMIRO6leAFQgZS1drAMDZr5ksDqW7MTbT1s+X07qxJYoE70SrQgQPXyP1PprAt9zHmkRk9vAzwcGDRikKoIFNHhg4PDdrXYF+bweP9kAIQKAg3BEUusIN9UqBwbbRj4/2T3hsr3aO4prw32Ede6y2OduIoARsyZIilkcsExrXXXntJE19V4JGRE+imZq3QX7pssZBnlZpdu85J9M3WjVTr6tq2tbFVZpDpw3WI2odcvNGKQqAgT0NtC+3Cco5SrWBJAbUC2NWGE7U9tH2h+QTNKRCYUAqp3mHFNq6Be0K8ofZnRyHYH2H3PbBgYReiPrCPxI3FDvBiVUUXYrAE2wZmFnYhWoueC9EK8F6acfEFy6WyX+ldiHbx5JNPigZHpmJAAr7lFns+zsgwTNXEUQI2fvz4cuOK9MB5Zs8NFrvt202g4UftLpDfwF3AMAxTUThKwPBFYNkzRw80GqI3DdxSqJaaIZCMGQ248PPCd43/VmbUCLMce6VdrATxg3DL+DF77z///LOpxmtpH/Fj1j7i8NSpU+oWwzBM6DjOhWgkFnBFYcF56L2jnbfMH8hg0f5ixr8L22gPgm2so5ES21YBmwiHXPDhxWBHx/sC9lEIQPixYOwW/PNmMRIj2NTal+PsjECBAwOdGYZhrMJxAiYHyfoDmae2pyIExkjAkNGaBfZRw5A9aSBeVnap1QLbqMloew1ZQZ06dTzhD7RHEMKjh4x/aRdxBdHUA8eDnYONYRjGH44SMPSK0oqTLyBG2kzZTAYdSCYuxQ6j25GZY4BjIO5Hs8haYSC1IzPAbYhaHcIt5zGEyJghNjbWUEwRbu/4NOrZaVQoYRiGCYaw60aPDBqZrMxokUHLLuB63HvvveJ7V0bnwT4yaZyHjFpex6gWhjAE0o0e58MNarZ2h/PNdKOHAKMQgPMRfvyHgBkJE87DPRvFD2xDkHA+wPlmut9CqDHWJiYmRt0T3qAbfbhTlbrRp6WliZ7ITMWB/B3zuVpJ2AmYrwxUZr56mM2gIWBYtPYxRxoGIOqB8wMRMNTukKkb1TglsG9GwCBUEC5Zs0P4URPz/o6PN2bjR8aLNn5wTTMdXSrTXIiYZ9OOmrkE32arW7cuXXXVVeoe60FNPRDvRDizatUq8R5guig7wKeC5s6dG7b29+3bJ6aSw4BnO0DBGuPkrB4H5igBi4+PF7OX67XDIGNGZMiai3SPGbnizGbQ3vbR5oN9ZjJ2swKGzB4uykAyc9g3I2Cy/U4KjKyRGQkMzkcvULzoei4/xAviBAuQcSO39ahMAsaEF3YPZMY7YMYTESyVxX6lHsh85MgRw4wQpX2cg/YjzCuGdTNtPNnZ2eqaPtI+5vWS83uZbUMyC8TELtcNwg9RQdwg/Kg9mg0/EpdR/EsxRLz4mtfNHwhTQUGBusUwDBM6juuFaARqF6hVwCUGtx4yXKOeczhffuPKCNhHBo1zMb8Xquxm3XyBAKGxA9SecL9yzjWE30oBRvygNIX4wTXwCXG4XPVAfMJ9UFRUpO5hGIYJHUcJGBr4zYgFBAsuLyxmergF2lYhXXBYjDLnYIBNuwQMaOMnkPCjDdJM/AcaP0buS4ZhmGBwlIBt27bNsDYVDGZEjiFq2rSpLXEFkcOAZ4ZhGCsJOxdiMKDGMGrUKMunbGLMA7dms2bN1C2GcT7h7jmwO/x4pysaRwlYbm6uumY9EDFGH4yTswvUrGvWrKluMYxzke3qcPMj37Ayo4bb3XseVCxWXgM9hWX48d9qoZH20bZuh/1AcJSAoZurUS84xj4w9kgOH2CYqgjay9FzF/kQOivhfcC2VUDA0AFKLvAM4YOTVrruEV6EHQtEBte0CsQPOmTJ+LHafqA4zoVol5pjDBUSDKOPXW4HtINhMCbDOBlkzBjiIgUFnZrQm9cOIAC4HoaYWI30OOG/lQPukT9jgnAZP6jlYbhOReE4AUOVFOChYuAbShNaUUMGi304hpKA9uEgMWC0PY5paxJIKHZ9KbmyIRO+jH85n6JElsB8xT/Ok88G4/QkeH4YSOpyudQ9DONMZAEOc4kik8aEA3YVqpH5o/ZidfMGvm6BsOPdhX0rBRLvuDa8ct2uODLCUQKGD1q2b9+eduzYQVu2bKHo6Ggxi/mHH35Ihw8fFsu///1v8V0pHNu/fz99/vnnnmNffPGFmKPuuuuuo48++siz/4orrhBfA968ebNP/7MVCwb0njhxwucxK5ZLYb9evXpizki8xDL+cQwlLBmXn376KX3//ffiGMaBaY9hGho8m6ioKHEePp+C/RcuXKC+ffuKWfIZxukgk4YIIFOeMGGCLeNAUdgGVg+nQYEShUfYhXsSQqYtTNqFlbW8gMBUUk5ZlAy0tHbt2qVK4imVKJliqVJlhe9P/FcyTfVIaamSuMR+LElJSepeN61atRL7pT38Tsl0S2vVqlX6wgsvCLtYUlJSSuvWrSvOxf/U1FTPsf79+3vsw57cjyU2Nlbsh70RI0aUvvvuu6U333yzZ1uep2cf5/mzL8Mv7a1YsULEj7d92NOzj/PN2Me+zp07i/hCmCU5OTnl4h/bEpyH83EsISFB3esG29iPRdo7d+6cz+fOCy92L+vXrxdp0QjkKd5p2czv8P6YOU+CvEX7nhlh1j5savPCY8eOid9p801fmLWPvDSU+PH1bEJZHDUXYoMGDWjYsGG2NAqiJPLLL7/QoEGDbLP/hz/8gbp27WqLfbQhYR7Ehx9+2Db7qL3eeeedttlHSTAuLk7dwzCXDrNzIaJmBG+EbPdCzQKeA6PfodYG17nReRK43vAb5BtmMGsfTSe4B1nDk+HHzEV6rkqz9lErxbssa1zYRg3VqO1c2lf0Rt1jDY5tA7MSRB5mDwd22sfDt8M+Eon85pbV/nIg7SP8dtrnNjDG6SAzxnuAtlykWWS6cMVZCTJ7NI2YFa9AQPiRH0GEEX7cBz5jZNV7jTBjQftaoHOt2oGjBGzIkCG2+Jsl8AvbaR/tR3baf/TRRy33mWu56667bLXPMOEAClytWrUSbboQLzt6CaJtzQ4gVBBIiDDCD/GStTGrgECipyZqqYifihSwsPseWLCg1PDll19StWrV1D3WAvsokaCLqR2g2r5u3TrbPqQI+/gcTPPmzdU91sIuRKYiQW2EP6fin0tlv9K7EO0CpSq7xAvAPtrw7AIJwE6Bh307p3qCffQEZRiGsQrHdaM32x0T55k9VwK/cCD2jRomvcEXTe20P3Xq1IDuOVD76Dpsp32GYRgrcZSA4YvAZvy18LnCZQe3FKqlZkBmO2/evIDsoz0rEPsYrxaMfTOiAfuLFi0yNdUT7KMzSaD2MzIybLWPMWIMwzBW4TgXIjI6PeCKwoLz4LbDZzqMMl1ksBhRD8zYhwjBtrRv1Igr7aOXXTD2zYYf/mkjsQjGPoCgnjx50tA+bAYaPwD2MbCZYRjGKhwnYMjo9EDmqe3ph15zRhk0MlqJGfuwKbudYh379AjEPgQG4b9U9lFbMrKP36BbLzAaBiDjX2sfv9dDa59hGMYqHCVg69evLydOvkBmLjNPoF33hzxn5cqVpuxrwW+NMl+Z6U+ZMsXQPjJz7/AfOnRI3fKNtP/+++8HHD8APbD0kPbHjBlj2I0eNbRA7RuJLsMwTDA4SsBatGihrunjnYEagQw0JSXFtH1vMIpdDwgA7P/5z39W9wSGkdtR2jfTi8/IBegLab9ly5bqHv8YhdUXeF6wjzkSGaYi8Z4D1KpFtpX7OmbFUlnsW03YjQNDDQSCJKc7Qo0G60ZuLLOgBoIMPRj7aKPCw9LDbvtw6UEwtPaxz7tm6Qsz9qVdrX3ckxlhO3/+vG3jTBhGDxTs5Gw8dvDbb7+JL17Exsaqe6wF9vG9PgywtgvEj532AQZAW4mjBCw+Pp4++OADkcH7Ax0GkBnLdi9kzsBMRwLM8zd79mxdl5a3fWTUyJzNdIR45JFH6IUXXjC0j0xftkt5X0+Pe+65h1599VVd+7AD21r72uvpMXz4cDEXpV32WcAYhrGSauPGjXMXpR0AxmnhUyj4pIo/MNj2ySefFBPnfvfdd+JDlViM3IrIaNeuXSt+h+73/pD20aMQbVP4HTJtM/azs7PFSHMj+xBdaX/atGnit/iUiR44Z8OGDeLTMHr2If44F6VB2H/ppZdE+M3Yx9Qw+GRLoPaxrVfoADjn+uuvp8jISHUPwzBMaDiuF6IREBLUiNAuhe9RoeRvlHmihoOPLwIjIZL2UVMwax/nwz5qGEZ424e46NV4gLRvBthHjUjaX7p0qWn7ZqZ58WVfT/CAtF9UVKTuYRiGCR1HuRDh4sNgYCPBCBRkuGhEbNeuHb333nu22e/RowdNnjzZUDACRdqHUKAzhF32H3roIRo7dqxt9rdu3Sq+dMswDGMFVWIyXzTg4ps4586dEy44q5H29+3bZ0sjrrR/5swZioiIUPdaC2pW+GJ1sD0pjYB9TEbMAsYwjFVUmdno4cbCTPFGveyCBfb/9Kc/2SYwsI/Jgi+/3B6vL+xHR0dTzZo11T3WAvt//OMfRRskwzCMFTiqDSw3N1ddsx64DfPy8tQt64H9w4cPq1vWA/t2TsUE++iYYRewb5c4MgxTNXFUL8Rbb72VGjdubNtnPdq2bSvmFLTLfp8+fYSrzC77HTp0oJiYGNvs44Oip0+ftrwNTPL777+rawzDMKHjuF6IZgbcBoPMlO20jzYqu+yjAwd6/tlpH13o4eqzA9jftWuXusUwDBM6jhMwuJoAxg2h59rAgQPLZdrIYLEPx9A1Wzt1Erq89+7dWxxD93QJesHJUfhG9mEPdn3Zhx09+xAYq+zj68US/F7ON4gaHpD2cT5+JwnFPsIfqn35bHzZx9g3hmEYq3CUgKGL+IMPPkj79++nL774Qsydh098oPca3E9Y/vOf/4h9OFZYWCgGM8tjWVlZoiMIjq1evdqzH4Oj0UUcg4aN7MMG7Er7GNwrjyGD1rM/atQoYR9tSWbtY1se09rHftSIsB+Df2Efs4IMHjxY7Jf2cT5+Z4V92A7Vvnw2vuyjJyXDMIxVOKoXIsMwDMOYxXEuRIZhGIYxAwsYwzAME5awgDEMwzBhCQsYwzAME5awgDEMwzBhCQsYwzAME5awgDEMwzBhCQsYwzAME5awgDEMwzBhCQsYwzAME5awgDEMwzBhCQsYwzAME5awgDEMwzBhCQsYwzAME5awgDEMwzBhCQsYwzAME5awgDEMwzBhCQsYwzAME5ZULgE7VUIlJRcvLuWQqzCH8o+5T7MCF2zDsA6uwjzKzjZ/XZeuQZfPe3MvBgGxiOIN0yh5UZ5741g+5RRemusaYfWzvYjiTJo2cAmpd85oyFuUTNM2FKtbAVBh6aeE8ncWiDzhIirgOZd7p7zJXULJUzLJHbs64a7CVCIBK6HMf7Sl3kNG0shRmmXcOiqgfEp/6XnK2B/q43dR/qppNLRLZ0pWbKfvVXd7cyybUpK70cjUtZS3NZ0m9ehHc3L9XFt5kbNXzaGX+3amlv/MVu7CD8XZNFve08iH6b62vWmo3B6VfmleutMFlK2KZf6aSTQyTSe8lwwXZS8YSWNX5qvbNnDhBBVkuQtCTHlcJdlUcFrd0ONwJqV9nONJLxWWfvavoEkj0pR0jI0Syvk4jTIPiyMV85w179RFnC+h7KMn3Ovlws1ILjt79mypuh7euLJpWsvF1GLzLOpRT91nKS7KeUMpbZ55imaNTKCoCHX3RRTTylF/pb3J79Ho29wn5bzRlEZesYyyhsWJbQ9KmOeMWkcRPXtS9K5+tOaWLJrVPUo9qMOPK2lkhyM0eM9waqPuuhQUrxpJ8QcH054Rl/KqDqCC4jscQNqed6OJdLtzDjWdfwNlzexBJlL4JQLvajwdGbiHhrdWNivgOeu+U46MM2dReWpg+/Noa9yt1MiHeLm+nEPJM7M9JSvX/pU0bWhnato0nrqNS6d0RZjSdqoH/eDamUbTDj1B08foiReIpA6TF9BTqnihlFdcEEVdm8Wo2xoi2tPwN8fToO4RVPTFLXRro2CTqVILmZlMc76Ud1hAK18aSUu+VTdRAx31d1r3I9ZlLbKpcv+daehEpfZ2Spx0MRcKaN0/hlLnpk0pPnkape8qK/5pXR9wI/190UpKe64bxSvndh46h7IL82ml/G2PMUpYNKXMwnVq/OPcaZRZ6N4t3FHLM2mJx07ZMVCwrizc/V5a4gl3eTeWUqqeO4a6xSvnxXejMW8oNQT1iNsls5IyF6nHuwxVfuc5SiVfptGYHvEXhUuXQqUQooZX3GeuGke41sQ0WjIlWTk2h3KUXWXpDvb/TunaOCnJ89x3fI/y4fJ33xfhLyx6z1y4zebQkkUjlWc1klb+WEyZSpjnLFpCI5XzR65yx6s2DEP/kVkWp1pOlT1zEfdK+sAd4vkkT0kn2j6bxgxU4lUxWd51phM+g2cmyf94DL28XO5XCpv/UtJEprz/EsqcPtT9jks3ofg/hmZvJ0pX7rcsLGeoUAmbCIvmHsqjxtHH6fSySC/xIoz5nueiSYPe8aXzTuF3eZ77HElpWZr71Lo3xXoarfMTTpHOksvChfxtSa56sJJRaQSs4JtNVNSlDXnVcQT52xcT/SmGhKR8m0bJw7ZQi3Grac+eLFpwZx6lzGxMsY3EqX4ooBVvrKCYa3JpknjJlAzoJbgmfRFBkZGRSlosoZLifMr81xhafN10ejZB2eePH/fTjuJEatNc3Q6YCIptHEnrvlHdaIezaflH6yh9q/pSHs6hjJI4ilPEvWTD/1Lygtr01Ed7lPtfTRPabKGnJ65T/ezlwcs0hx6n977dQ1nzH6cbftK46TSuD7iRFm8/TgkTV1PWnu30Sot1lNwphc48PIs+27OHPnkuimb/c4U7vk4pNeW+GXTDfy9Vrr+Hlg6OoBlKhoVjsJO2JI9ilWfjtrOVxi5D1q9wOJ0mzY6gwSLcS2nCzZto6Bx3oUTrxsp7eyiN3NOJ3tqsnLf5PXqIUmjMv9SXGy6ZtxdRXpMJtDprD22fHEdbx60Q4gL7Y54pol7vZIlwLehRoGQ8K33GSxl5lDY6heix95TwKnH0r060Y/QMykR7HK71zloqip9Cn2wfRG2OZdL/PrGIaj/pvu/V426lLc+M9RQqslOH0pb/esttZ/5DdHbcJEqHa0vnvsvjPyy6z1y4zRbTjoin6L3tU6iLkkZOHFWe5zcR9NQ722nKPVHkyppG/VbdQC+qYRgcMYMmfeyd+pV7mJNMy294UTzzPetfoZiP3KIR98RCWji2D1Hbp2j6/BcpAeU0TfrRDZ/eM9MQ26gxbcrJVyRAwZVDmxYqaWmj6rJ05dGWf8VSHN4v6SaMSqAX50+np9oS9RmrhO8JmXOk08YTj9Os9UpYPhhErsmzab14RuVBHK3bF0XPLlfSy7fvU99fp9Lz77jftwJFTEf+0oveU8K7Z88CSipURFctCOi9UyUbZtDQ7bfS658g/qYotcB96hEFrXtTrM+jtT7DiYLQVDr7yDLl2lm0sD/RlneyqeQ8jlU+KomAlVB+XjYVz+wnxMW99KY0UQMpoLzsaOrYEjWgYlr55jxqM3E89WjgriFF3aC8TYm3UqyOvkAQ1mZeTTHxgykVCWbn+9Tj20m0wm+ppoDW/99IGjnmaRqbFUdPDWqv1Mv8U5K3g9Z1iaNYdTsYolp2pKsz84QQFCtifsM05QWQ27u20ImEOIpR7j97zWLqOUrJUEWAIigm6XHqo2RgmYeVOMzOpmyx5FGx8tJnpkbQYw8rNc5qyqnVYqhdgn/HSmJiohqHkdT+vzoQ3XcvJahxHBnXQglLsciQSrLXURqu2cQdI5HtO1Ji5ibaqWYSif37UPs6WFPsJCRS8Z5Cd0bmcilP2UWuU3iFI5VMcRZ9MrSNu1DiwR3m0SN7UIwIs2LjwScoanoG5cgc/74nqE97zbWLd1Ehrt2gD6VmKZlrLXdnmcg45dgnR0T8+SU3k+ZFP0E9b1Ofbv0uNPhZJZ2pzRa41uMJMUqBJoKKszNocdJoGqSeG9GgBz1+vyIUm4V0K/eFf0qh54LyPyqRXvhkOvWsj32+75t+RAch9XntV7Jpv2HRe+biTIXH6fG+cRSlFLxkfD7+aB+Ki4qkyAhFQNanUc++fcqer/JcMjN3up+LhwhqPyaLUh+JVW5DuY/zsXTrXcW0q7D8WRdjInz+npmW5m2o5ztbKA/R9G0OZQ+dQi/uVLf35tCKR++guPKJxQ9KXCSphd36CXTvfevoiA8BA4mJZe9Gj4GDiVZmixpSzAOplPXfCRQpOpVFUvP4RFp3EM9Z751S40ETz23iO4ojvvETTqSDOko6u0/15tRvR50Uka6sVA4BQwnrnUT6J0rdKP2JZSkNQomrWDmW1Y7iUMP6cSut+aQPdY0vS8kFeVsoum0jJXP3T8k+JeENGU1PiaKjQs0YatJQeTH9lmqUBD1ZKdUtXE2pHTbTmA+ke8I3+d+upcTb45QkGwIN4qjjMQhBMW1dV5vad0qkhIYZlH3YRfnfZFNia5Qwi6lAKbrWrqV9k2PohraK+P9SQgW5eZSnLgVKxknFkXRlDfW0QKh2pbpyMa7TRURzk6mlp6DRT6kj5dCRn9QT/NHkMUoddwNlTuxN8V360ctvZlLxFV450rECKvAOc736dIsiQz8Z9lJUMuo3hlK/R8bQjPnplJ6xhYw8iMVH9lGxkhGVhSKC4roPUoRb3dRQXKhURZR4LxfzN7ah7GJk8JGUMGYh9fplCQ29N566Pfl30UEoApmcn/t2KQImn1XewRKdsOg9c3VTFxedUOIubWDLssJhX6Wmt/2Il4ApZ+5Pp5f79qOhU2dT+gfplLlbPaBLqOFTiYijOx5VamZKoTUnaxN1bacUhO7fSpu2u8Q73ibU98uIOtFUX1FLUU46lk1zhvajfi/NoHlKPGRslylJ/506qxwuHw9BoORJxZFXlktnlZnKIWB67V97dpSVvn48Quvua6IRq2LK255NHVr6cjyWUbB3LSU0Vks7wJVPuZ887hZFLehRmFvsTsSSK4hi6+i9OnmUsz46hPYvSZzywhbSjs2ZtIXuoDbKNdt0aExrt69X7PdR3ZNRFKMU+M6glO+hmIoO3UIRETGUMGQQDRKLcr5SaxAtx+XOtYgR72sKGliyaHgL9Zg/lNoJNX+Mxr+5mrLWpNJjf8yg+/6R6XYRSerEUIx3mJXaQDFF09U11W0/uLLn0ZiChyj1g1k0XqkNDHqsE6ECpEfUnxqLa5V73kqp2+UjzqLqt76owFNcXEi3qBmW63wUJYx4hd5fn0VLJybQkcn93R4EP/dNrfuoz0pZ7o7RCYveM1c3TTD8Xe3zUpas4V7u+gJaMXUJxU56nxZOfVGEqyc6RhhiTfhEjaVDV1q3PZ1yMjuK9B7XriflZK+n7O0R1LFlqO+XAWfPUIlyCaVoQdlpY6jgoVR6f+Z4Gq3Ew+MJMiXpv1M1lMPl4yEIlPwmquRM+XRQiakUAqbb/pW7gtrHxbpLX3i4h/ZSgdrYWvJlOs1b9jjd2kTZuFBM+YfLZYceopQ3LHNbnvJaATTQKnWGsX1INGsV51OB/NmhdZT8txXk8WoXrqR5SxrR4x0gmUoNZ78Pd0rI7V9lxLVOpLV/G0vHE9uJ9ySyTXuKnj6VFndRBE1kBlHUJiGR0t9f6XGNlWRm0LwaPan9RdePpTYP5NCiZTnqy1BC+fvM9GrQB67OhA8W00ppCo3ai/x0CtBQkjWD2r6khrtaJMVeH61k0GqJ10MstX+0UBNm5fmvWkxrH01Q3VP+cZ06QcWnzqqCqNzr5o0XtbNcRPM2NDxnOWXuV7dP5VDKo2NohY9oimrTiRK1912SSRmpNahnO6TaPFqS3J9mq51wIuopNZA6RUIIzd23gt+wBPLMfRFFrRMS3L+XmWvhOlpyUUcKtPkSHReuToXiTNqk6Gw5lN9fFO6A0qQ+kUohtv4/xtK8hPbuXoTN21PXrVMppbgrtfdRK5YEKxo7vpVvuotyli6h/AfaKClQeTYniun4aTVTKMmnzEyZkvTeqSiKa6/Gs7qnYP8udS0AmrShPns+pBU71ZhWrr/3kHtVoM2vKgGVQMBKKC8nm7o299WCpG3/UmjRkyY0X0n9unSjfn2H0uzVuyhHbf/Kf2ckJS8oG6eiJarTYBpdOInu75FM/Xo8TIsjJ1DqAGQ8+bRkRDKl5ai/at2TZjVfQvd36UfJyd2o28Rc6vSvKZSo1AxdmTPo7hfXlYmbihXtXx7QDkAJZaXNOu0poUMxdW0b56k9RnWfQrOarqH+CGPfznTfPKIpKYN8iH8EtR+eSr32PE8tlXP79RhJOVdIf30INOhD01+7hdYM6Ez9BiZTt3vH0o66sZpasW8i7x5EqfWXu8ONuP0/F015MkEIdRkR1Gbgq/TE8RTqpjyr5B7x9NfsjpSK9gj1DH/A/qyaKXR3fGfqHN+b0n6IUp7JcTRB+SeiPT01tyNtGabeS1IKuZ6ZQH18ZZb1etAUz333o86I+MnT3W5uJfYfm9qHCiYo95WspLEuf6VNbafTY0qt1Nx9K+iExfwz903MA9Pdv7/XHYbOL+2gqJu9n5hyDxMTKeeZltS5S2eKH7OD6GYlfZ9UI7Bpexpd9Bz17/Gy2nGljFDD56Fea+oYH0V9bpO/jKP2idEULdp/faGIc2JPSn9Gide5hsWVi4jY9yEN7Yt0djeN/DKRZg1vr6TASEoYOotqz7qb4hEPD6bRkeuUt1uJB5fBOxXzwASacs0H1C9eyZ96dKM5xbGUqB4zDdLBG11px/9TnkPfftRt5AoqEG3KbvI+VtLXu/pNGuFE5RkHFgCY8SIiMoLy5vamlD++TqkPGGWfbuTvDEFjvJKQzZxacbio5JTyuhm41gQoVde0/mZMx2c5TIb7gnLeeeW8gM0rGU1E+bYqMwRyL7rnwu1Xs6wzRRnmn5d/+wE8c5+Y+z06pET4PMfo96GGL0j8xrk/yo8f83e/6HgT4e+90XungkyD3rjDVUArR95NR4aoY90qGZWkF6IJLuRR2tChNCczn0pcBZQ5dyQ9v70Pje5uTryA6cw2wuniBQLIKGwQLxC4eAGT4a6mnBeU+eAyjkDuRfdcvxmp+efl336o4mDu977FCxj9PtTwBUlA4nUx/u7Xr3gBvWMhiZcirs8p+dy6PCo+X0A5i1JoatFoSrCgicKJVK0aWHE2pS/fRPt+iaYbWidQz0S1bYxhGMY0mIIqnUra+u5xWuGUKAX0T9fRln1FFN34Dkq8J4FiKmlGVyVdiAzDMEz4U3VciAzDMEylggWMYRiGCUtYwBiGYZiwhAWMYRiGCUtYwBiGYZiwhAWMYRiGCUtYwBiGYZiwhAWMYRiGCUtYwBiGYZiwhAWMYRiGCUOI/j8wVFKt5YE9IAAAAABJRU5ErkJggg==)"
      ],
      "metadata": {
        "id": "LmMlPXGN9_2n"
      }
    },
    {
      "cell_type": "markdown",
      "source": [
        "![image.png](data:image/png;base64,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)"
      ],
      "metadata": {
        "id": "g8IAdyoU-B62"
      }
    },
    {
      "cell_type": "code",
      "source": [
        "import torch\n",
        "from torch import nn\n",
        "\n",
        "\n",
        "# We define a convenience function to calculate the convolutional layer. This\n",
        "# function initializes the convolutional layer weights and performs\n",
        "# corresponding dimensionality elevations and reductions on the input and\n",
        "# output\n",
        "def comp_conv2d(conv2d, X):\n",
        "    # Here (1, 1) indicates that the batch size and the number of channels\n",
        "    # are both 1\n",
        "    X = X.reshape((1, 1) + X.shape)\n",
        "    Y = conv2d(X)\n",
        "    # Exclude the first two dimensions that do not interest us: examples and\n",
        "    # channels\n",
        "    return Y.reshape(Y.shape[2:])\n",
        "# Note that here 1 row or column is padded on either side, so a total of 2\n",
        "# rows or columns are added\n",
        "conv2d = nn.Conv2d(1, 1, kernel_size=3, padding=1)\n",
        "X = torch.rand(size=(8, 8))\n",
        "comp_conv2d(conv2d, X).shape"
      ],
      "metadata": {
        "colab": {
          "base_uri": "https://localhost:8080/"
        },
        "id": "s-Zs4TLQ9F_m",
        "outputId": "c064f1ae-4df2-44b6-a104-a3402afe4d0e"
      },
      "execution_count": 11,
      "outputs": [
        {
          "output_type": "execute_result",
          "data": {
            "text/plain": [
              "torch.Size([8, 8])"
            ]
          },
          "metadata": {},
          "execution_count": 11
        }
      ]
    },
    {
      "cell_type": "code",
      "source": [
        "# Here, we use a convolution kernel with a height of 5 and a width of 3. The\n",
        "# padding numbers on either side of the height and width are 2 and 1,\n",
        "# respectively\n",
        "conv2d = nn.Conv2d(1, 1, kernel_size=(5, 3), padding=(2, 1))\n",
        "comp_conv2d(conv2d, X).shape"
      ],
      "metadata": {
        "colab": {
          "base_uri": "https://localhost:8080/"
        },
        "id": "mT3Pio2g9CmF",
        "outputId": "5851b03f-c920-45fa-c5ad-026726b94ad7"
      },
      "execution_count": 12,
      "outputs": [
        {
          "output_type": "execute_result",
          "data": {
            "text/plain": [
              "torch.Size([8, 8])"
            ]
          },
          "metadata": {},
          "execution_count": 12
        }
      ]
    },
    {
      "cell_type": "markdown",
      "source": [
        "**6.3.2. Stride**"
      ],
      "metadata": {
        "id": "N05aqYXm-IoG"
      }
    },
    {
      "cell_type": "markdown",
      "source": [
        "![image.png](data:image/png;base64,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)"
      ],
      "metadata": {
        "id": "axVvGLon-OtG"
      }
    },
    {
      "cell_type": "markdown",
      "source": [
        "![image.png](data:image/png;base64,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)"
      ],
      "metadata": {
        "id": "toGYWGjZ-Q6K"
      }
    },
    {
      "cell_type": "code",
      "source": [
        "conv2d = nn.Conv2d(1, 1, kernel_size=3, padding=1, stride=2)\n",
        "comp_conv2d(conv2d, X).shape"
      ],
      "metadata": {
        "colab": {
          "base_uri": "https://localhost:8080/"
        },
        "id": "9k0wxLfb-Gf9",
        "outputId": "c99c14a6-f721-4c84-d141-18803f5552d7"
      },
      "execution_count": 13,
      "outputs": [
        {
          "output_type": "execute_result",
          "data": {
            "text/plain": [
              "torch.Size([4, 4])"
            ]
          },
          "metadata": {},
          "execution_count": 13
        }
      ]
    },
    {
      "cell_type": "code",
      "source": [
        "conv2d = nn.Conv2d(1, 1, kernel_size=(3, 5), padding=(0, 1), stride=(3, 4))\n",
        "comp_conv2d(conv2d, X).shape"
      ],
      "metadata": {
        "colab": {
          "base_uri": "https://localhost:8080/"
        },
        "id": "So6MYfmR-ScP",
        "outputId": "7cde1249-9db2-4330-ec41-7f038f769795"
      },
      "execution_count": 14,
      "outputs": [
        {
          "output_type": "execute_result",
          "data": {
            "text/plain": [
              "torch.Size([2, 2])"
            ]
          },
          "metadata": {},
          "execution_count": 14
        }
      ]
    },
    {
      "cell_type": "markdown",
      "source": [
        "# **6.4. Multiple Input and Multiple Output Channels**"
      ],
      "metadata": {
        "id": "2qtM9WKb-YMG"
      }
    },
    {
      "cell_type": "markdown",
      "source": [
        "**6.4.1. Multiple Input Channels**"
      ],
      "metadata": {
        "id": "iG21t4Gq-b2X"
      }
    },
    {
      "cell_type": "markdown",
      "source": [
        "![image.png](data:image/png;base64,iVBORw0KGgoAAAANSUhEUgAAAfUAAAD6CAYAAAC4ad5wAAAAAXNSR0IArs4c6QAAAARnQU1BAACxjwv8YQUAAAAJcEhZcwAAEnQAABJ0Ad5mH3gAAEYXSURBVHhe7Z0LeBXVuf4/RIkCBlADeESuBRW1JhYFixK5euOqUdRCQrhU7gnF0yocisgDpf5LIYrQFgg3sZeDTbh4VEAg9HCMigYVYkUjIMEjpKdIQCRU5D/v2rOSSUj2ntmZSfaevD9Yz94zezJ79sxa613ft9b6Vr2zZ8+eF0IIIYREPReZr4QQQgiJcijqhBBCiE+gqBNCCCE+gaJOCCGE+ASKOiGEEOITKOqEEEKIT6CoE0IIIT6Bok4IIYT4BIo6IYQQ4hMo6oQQQohPoKgTQgghPoGiTgghhPgEijohhBDiEyjqhBBCiE+gqBNCCCE+gaJOCCGE+ASKOiGEEOITKOqEEEKIT6CoE0IIIT6Bok4IIYT4BIo6IYQQ4hMo6oQQQohPoKgTQgghPqHOivqcOXNkxIgR5pa7fP3117J69WpziwRj9uzZKlkZNWqUdOnSRd1Hr3niiSdk0aJF5hapivz8fLnmmmvMLfdBefnggw/MLf/ToEEDycnJMbcCdcZtt92m8n5NgGd54sQJc8s/4D6OHj1amjdvru5xx44dL6hfqgJ/+/zzz5tb4YFnumHDBnOrdqCl7gGonCjq4YFKDfdv69at0rRpU3MviQROnz5tvnMfVMQ10YiLRPC7+/btKz/84Q9l+fLl5l5vOX78uPnOX/Tp00fOnz8v+/fvl7Nnz6p6ZP369TJ16lTziKpBvVNdQUYDorYbpxR1A7SukNBKS0pKkhdeeMH8JGBB4EFjPyoe/cAOHTpUrgVo3cbfYJvC7oyqBB33H/f+ySefLFdgcL/1s8F+XaBwnPVZAf18cOyaNWvMvSQcdN62PhctyNpSwT7ca7zX6HKhqVhO8Fysn9cFtKAPHz68nKBjP+ohXR/p+4v7g3sMkcK91/cPCccij+tjQVVlx4+g/ka9gfuo6482bdrIK6+8ou4h7pU1vwG9jVed//S2vq94PtZnoPVCo7eR8Hc7d+4s93lNQ1E3wEN4+OGHVUaYNGmSZGRklLph8FCfffZZmTFjhvTo0UO1BPHgDh48WCriwLp9yy23SJMmTdQrsQcEfePGjZUKOu4/Kj3r/Qe436tWrVL3GX+DbRw7YMAAZfXgWIDCCNcmCjieb3Z2drlnR5yBvA6RgAWE5wKrT7uNUZYgLq1bt1b3Gs8DZQjgFX+r0du6nOCZodzUFeD+1hb65MmTzb0BcA9xb3APkX+xDbAPdRVAecC2Fncci2ei83awsuNH0GhJTEw0t8pAucc9xue4Xzo/Ar2NfKfzH/Kjvq8Q5//4j/+QPXv2qG2API6k0dtt27ZVf4+8j/e1BUXd5K677pLk5GSVKVJSUsr1N/3yl79UDxqfDxw4UBWcYGiR0ZUVCQ5awShwsbGx6r0VVErz589XzwX3HpWftd8LzwYNLhRcgM9xLF71M8Q5IfT6+aIlT1GvHhAa3EfcT9zXv/3tb+YnokREPwc8H2slWhm6nOhyU1eASEBsIb5WKxpCAlHR+R75G/dbW38QDXyG+w4gRjhG3299rlBlx28Ea7AgX1nvcUV0fW2tt3GfdR7HfcRz0tZ6ZaAOwt9D0HV9VBtQ1E3i4+PNdxditR7wwPw4wKQ2QYMKFjrcZBBba+H78MMP1T5YGUgV3VoVG04ogBXRFaI+B6weVKbEPayVndVKQdmxWjWkDFiAWpy1FahBHaPzKxLEAgnoV41121pXhSo7fsP62yuCOsVpmbfmY32PgzUMIgWKug2sIo7KK1jmIc5BgwqFBgINiwOiq0UCrWXsg+gjoeWsLRS74NyDBg0qPce6deuURUO8wSrwKDtVVabRUEF6iW6QIn9jcJd1MBcERedXJIi/U+vPjbITTaCMW/u+NbCwQWUN/mAGWsV6H1Q0IgC8KpEERd0GaO3CtYPMAVciMg8yCMQdgytQOVV0MeJ4WijOQSWEyktbLugK0YN8kCD4TvsFUZHh+eBZoXDifHBNEm/Afcb4CDwvlB0tJLq8wGJE5WutNPEZLMuKFXJdAI1OCC7uCeoY1C0Yp4B8ivsBlzksbae4UXaiCeQzdLNhnALyH+pf5D/UJWgUATSWsF/nz4r1AO4P9gO84plgH+4jupXwrJBXUZ/gczwv3WgA+AzH1+Z9pqgbQESsreCK23iYGAiEQVlo8erPUBCxDxkD/VXaIkGhxHsKR2gq3muA+4rKDJU/RB4DgGDFIGEb/YOgogVY1TbOj+eGAXKo2GAVwVonznjggQfUKyo2672uuI3ygnuN54Vnp0UdzxX3HhUtngk+w98CVLoYq+Jn0bGC+6V/O4AFuGzZMlWfIO/v3r1bCTvyK8oB8i+OR7Jai8G2g5WdBx98UL36DeQx/GYMdkb9Cyt6y5YtpXkQ+Q5lXw+GRr2t7xde8Vx0vY33eBao+yHWumGAv8H5cE8h7NoQAfAA4rnVZldHvbNnz54335NKQAsZD60y1w0hpDwQbIAyQ0i0AlFGXkZjKtqgpU4IIYT4BFrqhBBCiE+gpU4IIYT4BIo6IYQQ4hMo6oQQQohPoKgTQgghPoGiTgghhPgEijohhBDiEyjqhBBCiE+gqBNCCCE+gaJOCCGE+ASKOiGEEOITKOqEEEKIT6CoE0IIIT6Bok4IIYT4BIo6IYQQ4hMo6oQQQohPoKgTQgghPqHe2bNnz5vvCSFRSvsOHaXw8CFzK/po2LChnD592tzyhhkzZqhEiJ+hqBPiAxo0aCC9hqRI7wdHmHvc5Xczx8nFDWJk9PSF5h53+U36wzKw/wMyYoQ315+eni4DBw6kqBPfQ1EnxAdA1B+bOFMem/SMucddnny4qzS49DKZu2aHucddRt7ZUiaMHyvPPOPN9d99993So0cPijrxPexTJ4QQQnwCRZ0QQgjxCRR1QgghxCdQ1AkhhBCfQFEnpA7yTfHXMnfCEHPLXd7860qZPrynZDydKh+94/7AupUrV0rPnj0lNTVVDh48aO4lhACKOiF1DAj69OSekrs129zjHkvnpMubWSvl0UkzpWvvQTJn/GA5dsQ94cXo+IULF8rMmTPllltukfj4ePn666/NTwkhFHVC6hCff7xHRvduJ22vv8Xc4y7fnPxaRk9bKDfffrd06zNYJVjubtG2bVtlqWOKGuaegz179qhXQghFnZA6RePYppKRnedZkJr0eSul/Q3x5pbI3rd3SPNr2ppb1QfBaWCdw+2ekZGhRB4CTwgJwOAzhPgAp8Fn0NeNfu8Nn9gr/uEEn1n41AjlerfzN06Dz8BKz87OVn3rCxYskKZNm5qfVE5NBp/54IMPJP1nT5pb7mPU2XLAaNRc16mTuccbsl75z5D3lUQeFHVCfEAkiTr67Jf9aoocLTwg01/MlkaxoYUh3IhyEOvBgweXuuKroiZFPScnR/r27auehxccNRpK27JWeX7+LVu2SGJiormXRAsUdUJ8QKSIuh6Ehz57uOLtYlfU8Tlc8HC7620MlMPguWDUhqjbvbdOcfrsnKLPT1GPTtinTghxDbjcQZ8HU2XvOzkquTn6HYPi0JcOIOarVq1inzohFijqhBBXgHi//eZ6NcJ+2vC7S5Obo98x8j0vL0/atWunrPWUlBTlfieEBKCoE1IHwZQzt923GOWOc1ZMbq4ch4FbO3bskAMHDihL3WkfPCF+h6JOCCGE+ASKOiGE1DLossAANS9A5MA/Lprl2flJZEFRJ4SQWgQzBp5/OlUF6nGb0jEN58/LsjnpKh4/8TcUdUIIqSVgPSNs73lDdN0G1r+aYrg4W41rwHRECDz2Ef9CUSeEkFoEYXsRI99tEK43Y31ZXHzE5Qd2ggGR6IWiTgghtQRmIbgZGz8YWDFvQHKauUX8CkWdEEJ8DNzt6YMTpJ1huY+ZHjzyHol+GCaWEB8Q26SpnPn2tLkVfTRu3FhOnTplbnkDwsRu3brV3PKOcMLE/vGFwHx7O3P6nYSJ1WF7b7wt0bagM0xsdENRJ8QHIPZ7wl33yI/uutfc4y7rVyyQxk2ayWiPLL3nJj0o3breLvfe6831L1q0SB5//PGIjf3uhahrQYfL3clSuxT16IaiTogPcLqgi1PCWXrVCeGu0maXSF/QxQtR37BqoSybO8XcKmPOmu2qL78qKOrRDfvUCSGkloEl7cSatgNG1EPAK6b218ebRxA/QlEnhJBaBiPg3R4Fj/PBIq+YOKXN31DUCSGEEJ9AUSeEEEJ8AkWdkDrK0jnprq51rsGgLywgohPWWXcTLL2ampoqPXv2lOzsbHOv+6xevVoNeDt06JC5h5DIh6JOSB0EK3dtXJ3huuBi5LReQKQ0uQgEfcSIETJo0CBJS0tT7/fsKQuF6iYQc4xkb9OmjbmHkMiHok5IHQNCDmu63fW3mHvc41jhQbmp691qapZObg4AW7hwoUqDBw9WaeXKlfL11+4tUAIhh3W+Zs2aUjHHvtmzZ0tSUpLaJiSSoagTUsdY+NQIFUTGi1HQWBms6MghNc8ZCR4BN4Gl3rZtW+V+R2ratKmag+4WH3zwgbLOR40aJU8++aTa17FjRyXq2O9mA4IQL2DwGUJ8gN3gM7DQTxV/rUKGYq1tTHGyE/DEbvAZNBjA48Y5IfDYxtKf+J5g2A0+U69ePRUQJT09XQksXiH08fHB5147DT6zYcMGGT16tPqO4cOHy+TJk+WWW+x5NjIzM2Xs2LHS6Ye3m3vc5fSpYin8/O+enf/bb4rlcMHfZdu2bXLnnXeae0m0QEudkDoCRHbD6gz5YbeesvedHDl98oQc+/KQq/3q6fNWqgSXO4Kf9B4yQnK3uGutQ8jhekd/OpIXg+VWrVql1jifNGmScsXDgrdLixYt1CsaQV6kf50t8fT8F18So85/7tw59UqiC1rqhPgAO5Y6BrC9mVU22h0i3/jypupvQkUzs2upwxMwMCW91LVv9QwEw66lDtc7+tG1yx3Hw5pGP3swnFjqGPUOKx3HInXp0kU+/PBD+fTTT20NmgsnTKwTdPhXr87PMLHRTcSL+jOzZsvf/rbT3HKfw4cPS8OGl8mVV15l7nGXo199JTExDeSKK64w97gPrImBAweaW6QuEk7sdy/c7zhn+xsSZPS0BcoDMM0Qh7R5K1xzv+NzWM1ZWVlKzBMSEmTFihUh+9XDcb/rMqWtdLvud4o6qU0iXtR79u4jJ0rqhawUwmXLuuVyUf36yk3oBetXzpfbfvSjkJVOuMBqSU5Otl1ZEX8Sjqhjnnr7G+JtxRy3K+oQcpz37TfXq9H1sNrtnN/Jgi5wvyPf6/d2/sapqFcHijqpTaJC1Fvf0tNRZeWEnz/6Y7n4kgaerT6VfEecpE2aYKviCYearKxI5MJV2oJDUbcPRT264UA5QgghxCdQ1AkhpBbBAEaE08XARS/BoEXifyjqhBBSS6QNig8E6Dl/XuaOH+x6sB4NBB0NB+J/KOqEEFILwDLH1D8E58FYCET5Q3+526CP3KvGAok8fCnqXqw8Bb4p/loF7UDCe7fBFB0MskEihPgbzDywDjxEvdXu+uCR8ZyCemrZnHTVcCB1A9+JOgpGxtOp5pZ7oLULV9lbW7Jk619XqPduCjtWmkKoS8y/XbBggVpWkhDif2CxD7yunux9N0cGjUg397rD0rmBKYVuLqpDIhvfTGlTLdJfTZHP8/PkwN8/sD3dw+6UNgTVwFx2PecWMa1bGAUl1HXZndKmV51C2EsAgUeUrFDz2zmljQBMaUPe9CrewpKZY+XimEtlzDT33cPguckPSbeut8l9991n7nGXF154QR577LGIntKmBsy98Iws2x48bK/dKW1wueOc2kpHw8HONXFKW3TjG1FHa/dtIxMj2MVjtzVzXdRxfoi4Dn/ptqhbgRu+Xbt2kpeXp8JiBiMaRR0Ruk6cOGFuuU9BQYE0atRIWrZsae5xH4QLjaR1tmObNJUz3542t6KPxo0by6lTp8wtb0A52bp1q7nlHXZFHYF6EEIXbngNhHfOmu1Bg23ZFXUYIugqrEio81PUoxtfBp+x2yIF4QSfgcCjwDy/fk9It5ZTUUeELCwmkZKSEjKeNYhGUccz3eVh6N+aAPc7ku45LPV77rlH7r33XnOPu6BL6JJLLpGJEyeae9zl2WefVWFZtafKbdLS0mTQoEERZamjHsGI9wyjHoGxoOuVP+0O3q0XbvAZWup1gxoX9ZmzZst/O6jQ9+3bJw0aNpG4q6819wSn6H8PS9GXh6Tzj+wtGXhw/0dqOcc2HW8y9wTn//73oBz/vyJp/YPOEnNZI3Nv1Xz20Tty9dVXy7XX2rv+7777Th588EHJyMhQog6XfDCiVdS9jBL4C6OhVt/DKIHTjYp38D2Rdc8h6jNnzvQsIlvXrl3lsssuU8ucegG8KliutK5FlFMhdbdmS4tW7eRo4QE1Ah6r2wWjron6888/X7q2vd949913ba8pYJcaF/WevfrIibPexXLfvG651PcwlvuGlb+VLj+6VVUSXoCY1tpaQQUaqhKlqF8IRd19KOr2cdqnDjf8USPZrRPDFXW7RJqoz549W15et0FGejSew8rvZ02QZo0useUlrS4YDO3FPa4VUW8d712F/u9D75BLGsR4VqHXRCx3pIMHD0rTpk1dXVIyUqCouw9FPTiRLOpOqYuivmHzTpm92pu8Z+XnQ38sLZo08CyfW4GH2It7zOAzjvG2DfT999/L+vXr1RQ3ryo4Qggh/oSi7ph65qs3oPWGPhaIOix1QgghxC4Udcd4L+qhprEREi5wQ6Mvz5r02uRuAQ8TzjtkyBDVOHUbff7U1FRPzk9INENRJxEPAgsh9oDb4LyIPohzj+7Vrk4seAFRRx8eEjxC6Dt00yOEMSDZ2dmyYsUKNS0T34e4C24BQcf5McUOU9QwO8TN8xMS7US0qKPSffvN9ZUGUHATr2LFo7JB/zgGzrDiCQ/M3Z2e3NPVkLyapXPT5fz58/LHd49LRnae5G7J8iwvRAoQRZ0A5m+HmjbpBAguzgdvk35105qGVwENB0RcxPmR3PY0EBLNRKyoozJHfPUPc7fLyy/M9CSeO/AqVjwqMlQ827dvV1YL3lPYnaGDczw6caa5x10whehxcwQ+gn9gfjCmF9UFYKFDDLW4uwWCJ0HY0ZhFrAWAvO8WKENWzwLeY6YIqdugrtCLbSFhW6ONQ6TqGgcoNzDSrMnaaMV7BA/D/toiYkUd0zYGjkiXMdMXqqlJHxnibn1Q1UW7XvE9XoDKDRUmrApUnrAoamLuo59AGF7EwQ4VjCNcrAtdID+8mbWqzix8gbyJPOr2YExY5hgXAvc4GrPo+3bzO1CO0FiAuKMCRZly0xPgJgj24kXCdDYvz4/pbMDtvOEly+amy9I5acoARNIeNzTS4emDcYhU3YW4UG4wdVQndAHpeh3lCTFGDhw4oD7DmI/aIGLnqY/u2VbSfr2yNCADIi81NqypUH9nd546GgjhxIpPvqO5pE0aH9LC0fPMdcHAw0aFF+rv0AeJFOo4DY6t7XnqiOV+2223mVveUP/iS+Tcd/8yt9wHeeauBx6V9HmhXbnRPk8deRNrCxw/ftx2xW13njryOCo5iC9A/sR7VHjBsDtPHWKuvQE4N74PhGow12Q5wTWuXr3as/UNzpw5I1988YV06tTJ3OM+WNcgOTnZ3Kpd7MxTR2Oksjq84hodWDCn3Q3xVRoKTuap4xjU67pR2axZs3JlCq84pipPlVfz1CNW1PGQ0NepF1DBwwBuibqVqjJEZdgVdSt46KhU8KoroarAcUjRJOpwNSHYBhaK8IIDRgMM1onX57ebB6Jd1CGAqGwgjHaxK+qoqDBOQYPrgciFEl27oq7LkLWxjEozVKMhEsoJCY9Qog4DLcMQb2gDVujs2ntQ6SI5MA7nvrRDReyrZ/xrd/0tpZpSGXZFHXk6ISFBeaOQtwDyphZwfI6GM7pfa1rUI3qgXLCbXxXWCsULzp//3nxnDz1wCJkklKCDc+fOSWZmptx55522EjISLOVIAF4VLxJa1jVx/rqCtfJxG1RQs2YFZhGgYkPfuq703ACNAz0wDr8D5UqHVSZ1EzTKIdofvW0IsVH/Y1GcUvf7l4dUgx3bcMu7NegWeRDeDGvetpYpNDIxu8SrchaMiBX15v/WRoUr1GCJwkgArSu74MGjwoGwO3m4F110kVx88cW2ErDrQiXBwZQ2a57zK8gvbgqtFeR1LBmM70Cex7Q27Yp3A+1lQDnUZYv5v25zc9fAipkYfwVrHV1o1umpN92eqPbBextn6MqbWdWfLYF8WJV3SLvknXjC3CRiRf0m40GhBaZB/3dXGwOmLnIguuFh7/x6ZDEqICeCjsVokCnwd3YSzh1J63pHMx+9vV2OFfp/JDUqJK9EHQKLygxWOvruQ7nFnaLPD4+clx4HEj1gcGujy8sadnC961ksDS9vUs4Th8+OVrOMI9+Bio1V5HkEXMIr6ubaamxGrKhjqtHLLzyjXCcYjQmR1/0k0QAqM1gTU6ZM8SxyF3EXtOQxIp4QEj1gEPXSuWWNR7jhYZ0DdK/thVveBP3vLVpVb4YLGpWVNYphjDVp0qTWvUeR6343Wl/Ltx00rPNB8uikmbZGJYeLFwOw8GAxiEJPfUDyyjoihJC6CgxACDemKCNB4Eeby7TCJa9jkcydMERZ8NVdlhseqIrjo1DfY/zIoUOHSo04JG3V1yQRP1BOD2byEi/ODwGvmOwMlPM7GKSycXWG6vPK3epdnxNa5HWhf5yQug50AvEseg1JUQnGoPbqwjjMWL9H7R+QkqbehzMA2wq8sLDKraAbCCPdrUYcUm3U+REt6sR/zJkwWAWBwNQSTFP0IvgPBB2tcqvbjRDib7QBWFG03TYOIeAVxRrblRlyteGGp6g7xuspc+flk08+UYMt/AbEFmn64mwV/CFt3krZsNJdUYf1j9Cyza/h4EFCSN2Dou4Yb0X9+++/V2EG0fLzW0xrzGawDnZUo1S/PGRuuYN2t3nRpUJIbYM+2507d6pXQiojYiPKhcuTj3STBjGXOooo54RwIso5weq2QarYd1MRHBspEeVCRWSDux393NZng2h+GKgYTITxN5gBYTfiG7AbgRA4PX+kRpRDXgmVX8Jl3LhxEhMTEzIyXLgkJSVJ//79Pbt+9IMOGDAg6iPKIboaEn5HXYmOZydMrFs4CRNbXbyKKOc7Uf93Q9Qv8VTU4wxRn+CZqOMBt2/fXi2IYac/xg+ivmzbAWVhV0VNibrdPLNsTpo80LeHzJ8/39xT+3Ts2DGqrbeGDRvK6dOnzS1v8IMQRqqoI6ql3Vj3mPaFaGt2oag7w3ei/vOhd8jFDmO/O8FrUb/rrrvk8OHD6oHryFzBiCZRh3hCbPWzwUh4O4vp1JSoO6Ffv36yadMmcys4uD94nnb44Q9/GNbgGozB8DJc8KlTp6Rx48bmlvt4fX7gduVZG0SqqPfp00d1C9gB9dXWrVvNrdBQ1J1R46LeodN1cqbkO7nq6mvNPcEJxHKvZ9yAwHZV4DgE7D/06V4pOfOtWtEt5B8ZnP8+EMu93kUhhheo6xD515lv5Morr5RWrXD9xneG+A51XXauwzxu37595dzvodyd1RV1CA4KI1ZkCjcynV1Rh4iP6tVWiTr60zHyHYEiMHAuGDUl6nbP79T9Dte4Xbwo5MQ/RKqoT5061XajEla6Ey8XRd0ZNS7qN954s5w4fSaou7U6FOx7Xy5r1FjueeSn5h53yVr2nLRo0dyz+YcIVoDwgzg/MlaozOWGqEOQq5O57Io6QCAICG6LVu3kaOEBmWYIeqhIgdEu6qiU7FKdxhXxH7CArUYBBs+imwV5pGId9Jvf/MaRWztaoKg7w4d96nfIJTFeut9rZqAcCq+XlvpDDz2kBiXFxsYqQT527Jhs2LBBWe3Lli0zj7KHE1HXwGq3GwQiHFF3gteiTki40MsjMmHCBMne9Lr0SRpl7vGOLf+5TBpferFnAzatQEOysrLkgQceMPe4A/vUHVITferoX4Q7Hq1FL/rUtQgDnB/9sWj564FW7777rqMWfzii7gSKOqmroGxZWb16taxZs0aGDx+uvDpWUGZD1RfRyLBhw+TV195Qgym95ttvv5Vz/yqpkft48uRJ+d3vfiePPPKIuccdOE89wsCyqyiccMN7lbHQmodljpZ9YMxCYEQqtrHfjy682gQVMzwgdpIfgw6R8EFZtSbtcsdrxc9qU9DRTQCvgp2EY51w3XXXSZdb4+XYV196nm6+8Qa5/fbb5csvv/Q8wXhr0aKF+Svdg6LumNCD3qoD+lm86q+3ggoAIoJpKGj1f/jhh8pS92NLv7aBFwMVmZ3k5Qh2QrwChgA8hnYSjQZvoajXUWA9YgAKBH358uVqKtXo0aPrtKjowXVuU1nFVlVio4pEIxjNjmlqdlIkxXfwIxEt6lgmb1vWKtn7Tvl+JbfB9+hF9d0EfeIQT50iybUKdx1Gy+oCBmFft24dW9EeUFnFVlXi/SeEVIeIFXUszDF5ULya9rR+5QK1Hq4XYBR22uAENdXKbbCernUZvkiL5T558uRSyxBiMnDgQPWeEBKZYHDm2bNnOUiTVEnEjn6fM36w9H5whFrNCyCc6MLsvJBzmp2Ofp82PBBzHLHH7YzItzulDVY6jnE631FPabM7uj7cKW1uAi+EH0a/PzZxpq08EImj3zEewsswsUePHvVkUI+mJiLKoZyQ6APdhBj/UxNzx3/84x+rwXw18V11ep46luuE+GLx+1Bzm52IOiKaHS08GIg+Z+CmqGN+OUaww1qH233QoEG2BsBFo6hnZmbK2LFjza3oJZpFvX2HjlJ4mLHfg4HnFUnPjNiDou6MiBf1hU+NUP3qditcu6KOhkKGcW4cB3EHboo6ghcgY+AVor5y5Uol8qGEPRpF/dVXX5UhQ4bI6GkLzD3ugjEV6I7x6vz/e+gzeXXti8pb02tIivIQBSMSRR0VkZ1rD5ffzRynytXo6d6s0vab9IdlYP8HPF2lDd1LFPXoI5ioo25NTU1VQVw02DdlyhTV3Yn6MS0t7YIBqDhXdnb2BcG9gok66m/U49a/wXEZGRnqO/Fd6GbV4Pz4DN+N/fHx5b3MdVbU0ed99MhBZamnz1tZ6o6vCrtLr6YNipc043xw5zsJKZrc7SpJmzwxpOhqAdeZCZWKFvdg3HnnnepvGzVqZO4JDqybXr16qUFutYXX7nc0upbNneK5+/2m2xOl95ARUSvqdhu+4fDkw12lwaWX2e7WcsrIO1vKhPFjbTdmnRIJjV8SHlWJOupTeEJRX+p4GwDPGnUv6lwtwNZ6F3+XkJCgAm5VPGdVoo7vwHdh7JH+DI0GCDXOjVc0SPGK74Sg4/vxiuPwHuewNi68EvWIHSinR6PD3Q7hHZSSLgcM6zoUdmaRoxI/9uUhWW4IBSrzN7NWqbR0Trp5RBBsTlOv2CrDtp2Bcgg+06VLF7V+tZ10xRVXqMAxpPrAUvfK0iWEuAcEsl27dpKSkmLuCQDBhpEBYdUCu2rVKrVfA/FFd6hdINpYj6Oi+ELc0QjVa3Xg/fr169Vn+Bts4xrwORoaoQw6t4hYUZ827G7lctVAiO3ECkfrJxTtr4+XaS9myaOTZqoEC01ZaTYq9Hr17N0yPEy00jTIAHiwoYCo4zhkCDsJGdtOXz0JzU1dQz8fQkjtgzoPS1PDArYCsYf4aosYr7CusR9oYYXQ2gX1sbbKraBxYP1+1PF6Siq+z1ov472+Bq+JWFFH390yw3KG2xXWNBhoWOtugMYBrDKdWlzTVqVQI+udgBYiRBd9O9pFVDEDksgCeYEQEvlArO0aM1rgIcyol51azHa+B+fUdT6obCaKHU+tG0SsqKPvfO5LO6Rrn0HKmvaqLw/AQnfb7YrWHYQcbh4MksB7a38KIYSQmgOWNQb0ImomEkJkw1VfXSDoMNhgqWtrvrIuUbuNkOoSsaIOsOa6tqa9BN/jxfruEHGIux23e10BAx83rs6QPy6apV7dxnp+a/cNKQMDQ+H9mjthiJoF4gV4Dji/F8AagvcLydrFRQjq3IoWMYRbi+327duVkbVixQo5cOBAudHq4aAtdKugA7y39uPjPUWd+A4dve/UieNqDMOHudtdr/gxS0KfH+LlVTz3aAX3A+NT0uatUPcI9wvPxU1wvunJPT1pVOlRxKiUUSHD+kKFSgiAmELYtYsdgqv72JFPdMJ+HFudvIMGJbpXZ82aVWr1a8sf+RID9ADyK95jX01AUXeIdeqEF+D8n3zyibnlLz7/+x5pdHkTNe0K3hdMUXSz4ofVCY+LPj/GZUDASBm43xibgvuEV4wjcfMe4RlguuiA5DRzj7vA4oGlDqsHHjDt9iR1l4qj0iG2SBg0jdfK+tAh8lbL2g7Ic9a/Qb7DwLgFCxaoBqZOAAKOKXP4HgzKwzG01MPEa9H1Glz/xx9/7DjDRQMQ2oz1Ze5eiHxDQ+TdAgI1fXGgkaDc8KsyPO+6iTYO/P2DcvcE7+1MFbULBpziGXs1NRAVtLVsYLumKksSmVRs1CE/QMxRl+KzyvIH8hCsdSdAqK1/o93uFZMGn6MRiu6AmrLSge9E3c6Uturg9fkxpQ0tu3AyXTQB0UWcgDHT3P+NsDzhVsZr1xDBiuoidqaGhgvO7eX5raCiRIVdkxWmHaZOnaoCmHiZGjZsVOl+t9KQh5LMX0OijaiI/e4Epwu6OCXlx81l8sTQYWLDxTqwDn0xaHEGA8dG24IucNE+/3SqctHasejCjSgHUcfCQKHWDMBxakEXm3lyW9ZK+Wnq8KiMKIeFkaz30W40xXAiylX8rmA4iSgH6wejmDHCGJY6XJyhqMly0qdPHzl87IRnIXWxouTbW7NlmumVchuc/+w/Dsi2N7eae2oXxn53Bt3vDvn+++/Nd96CTGUdPekXIOgYRGVX0J0A69/aRw/X8umTJ5Sb3w56YF2ohEWA0F8WjTT/tzblRryjQePFzA+vQJnAqHfcfzR47Qh6bVAxFoabCV0cF9W/uNLP3Eg4P4leatxS/0Gn6+T0me8k7upW5p7gfP/9eaNFY9/tfejTfXLuu3/ZDiSD84OLLgp+fjQWcOSxQ58oYUdrDtcU6rpwrJ3j1PmN9O2330r9+vWVCx59MaFajNFkqSP0L0a/p/1qRcgY/lbsWuoQK+tqftpS/9Pu4I0jbakbZcHcE33YtdTRKEG/OiIqVrxfwYgUSx35HSONrV1TEPhQ/eo1ban/80w9z7yFeIabXloka9/+h7nHXXD+wx9sp6XuMdAEX1jqlzdqKI1iLpLmsQ1spZZNY6RFk5hKP6ss1a93Xi65uH6ln1WWcH6kyj6zJlxDSyOdOXNG9XePHz9exV7HkqPBkt3jcAyORSx3VAr4DuuAID8Atx6saUxjQ4Wvk1ugIYc+eoy+hkhn/CKwCh8pA6IfZ1jro3u2LV2l0Ks+cEyZ8wK43a2jjWuiAiYkWqhxSx2CBfeZV33S3bp1k0svvdSzgt68eXMlvl73qeP68R14H4yatECqwmmfulNqapW2umCphwtXabMPLXV3oaXuDM5Td0hN9NkjUAHciaEEnRBCCLHCKW0RBq7/nnvuqTRgAiHEX2CcCUIaI1kHMLoNrG8vz08iB1rqDvG60YDzt2zZ0twihPgVCDqWmMaMBKS54werfW6DsSxoNHxzMnpn02ABFh3v38u0b9++Gvsur6CoE0JILQCxxRr+epVIBEpav9Ldue2Y3fBm1kppd31gne9oZODAgTJp0iS56667PE/33nuvPPzww5V+5nbC+A69/rqbRPRAOcxJxSAsvGIJUztzUu+44w6JiYkJOdABn1e0ujGqNtSIcycD5TAlDdeP68b12wH96Eh2BwxxoFz14UC50HCgnH3sDpSD4PYeUrbsM2IsIK+H+jsnA+XQcMD58V3IG5iHHopIGyhHnBGxljoEMSEhQS2Vl5eXp8TWzWAsqDys02Igum6GZUU0OFQkuPasrCzXr58QEv00b1U2v96LqYVuB3gikU/EWuqI5wwhxCpMAK8QSQRlCYZdS90KIlPpJR1DeQPsWur4HCKuGwr4LXiP3xAMfI5k12LBsbTUq4dfLHXlxjUsPy9YPHOsnDv3nfQfNsnc4y5/eXGmDDHKtldx3CdPnqwGoM6ZM8fc4x1OLHWr9Yx8CCvZTUtdQ0u97hCxog5xhcjCYoebHH0PbrrfNRBeeASwPnMowQV2RR0Cvn79euVp0N+hLfZgRLOoRzvRLOqNL28iZ0u+Nbeij8aNG8upU6fMLW9AOdm61XuhsivqC58aoUKy6i4TNF4xQh1LEgeDok6CEbGiDiGHAELMIewIDQmBDCXsTkUd14Fj7R7vpE8dggvBA2lpabbc+9Eo6mi0YMSol+D8XgwqseJ2EIiahH3qwanJcmJX1NHfvS1rlcxZs11tV+xjrwqKOglGRIs6rGftjoPbHQVTu+OrwmlEOQR5wZxwnNsOV111lUycODHk9eM6tfsdr7h+/E2o7gOMiiwsLAwZy1oDbwZGhtamqJPah6IenEgUdQBrfe87gYZ/196DZIyNld0o6iQYET2lzSpssNphsbsJBBHYFXRQccR8VaChgAYJPAv4HRBzO5Y6zt+6desLpj9UlSDomPJBCIk+4Gpftu2ASnYEPVzQwLAj6CT6iVhRx2h0LboAlrcd69Wu6AIMkHMi6MDu+Ss2QmCth+pPBxdddJFyA8OisJu8dksTQgiJDiJW1GHVwtpNTU1V7nqIYijXu1Mgunbd3E7B9cOViOsfMmSIapR45VokhBBCQMSKOsQWlnpKSoqaR2612t0CjQSvptDAKtfXj0FyeG9n9D4hhBASLhHdpw7gHnfqIrcLhNcrSx1AxL28fkKcgvXsM55OVfPysa69l4t8LJ2TrkZ4uw3KE7x3OnnR4MesFQw+1LNXCIkWIl7UCSHusXRuulo+GNOoeg1JUaOivQBivnF1husLlEDA0RVnjQbpZcNcg+8kJBqgqBNSh2h/Q7w8bk5769ZnsJw+eUJZ724CIUcgFS8WEYGow8OmPWBIbnVrQbhhnSclJZXGXcArthGf4tChQ2ofIZEMRZ2QOsTAlHRpfk1b5XaHG/6m2xNdjzmOudejpy/0JJY5RB3iigiNSBkZGeYn1QcBrgYMGKBc7k8++aTah9cNGzaoOe6ERAMUdULqICokaX6etGjVzlVLHYFL2l0f7+mcaEzhRHRJBKdasGCBmprqBm3atJFXXnlFPv3009Jpong9duyYCi+Lz+1w4MABFVBm4HX1PElYGx0elso+cyPh/J/s32/+GhJtRPTSq+EQzoIuTnASJjYc4E6s7bCvJPoIN6Ic+tThhocFHww7EeXgdk8bnCDTXwyI7LK56dLuhnh1XfAOBCPciHI4HtZ7KGF3Uq4eeugh2bhxo2zZskWtaQBhf/fdd81PQ3PnnXfK4a/+Tx4YNtHc4y4bVi6U778/L4NHTjH3uMt7f3td6p85Lv+z67/NPSSaoKg7hKJOIhG7oo4R6ehT165xbDc23of6OzuiDpc+hFyD7caXB84dKp65XVHH55iGqgfHYRvxJhDTIhh2yxX60FFHYVU3HDt79mx5/vnnlaVuN8iTkzCx4YCG2Pfnzsm8l/9m7nEXhomNbmpF1L/44gvPRqy+//77Kiqbneht4fDOO+/IlVdeKR06dDD3uAusDsZyJ06xK+oQhPY3JMjoaQuU6E5P7ilzVm9XA+iCEU7sd3wX3PB2vAd2RR3hlps1a6Zc7ygrCOxkZ4VFJ41lDJizDr5DH75d1zugqJPapMZFHYNOvFzR65NPPpEmTZpIy5YtzT3u4vX5AWK527UKCAF2RR3955jWtvftHdK8VWDZTzv93+GIOrwAaCyEstKBXVHXkSV12Gi8D7VIEqhJDxhFndQmNS7qhBD3CbdP3S5cpc0+FHVSm3D0OyGEEOITKOqEEFJLfPTODlk2d4pKeO821vN7GRKYRA4UdUIIqQVyt2bLnPGDVQAgpIxfjFD73AKCrs+P6H5zjfduh+0lkQdFnRBCaoGP3t6hphciToCKFTDC3QVwMChyzLSF6twYrIiBkV4ssEMiC4o6IYTUAmOmLywX9AfucTdD62oxB7DaD/z9A1szEUh0Q1EnhJBaBhY0XO96sR03wWh2uPbbXx8vjS53Px4/iSw4pY0QH4ApbbDCeg/xxhJbPHOs1L/4EnlixgvmHnf59aQhcke3rnLfffeZe9zlhRdeUIFq5syZY+7xDqdT2iDoiB2A40MFAQLhTmnDQjsgfV5wFzyntEU3FHVCfEDj2CZy9sy35lb00bhxYzl16pS55Q2Yp45wr17jRNQRoGfvOztk+uLskPHxNXZFHS53WOa6oYBtCHao66KoRzd0vxPiAyDoM2fOlPPnz3uSbr/9dklMTKz0MzdSo0aNPL1+XDtSJIGV8iDoEFm7gu4ERA3806JZ5lZgIRisoEf8DUWdEEJqAYgsBq89dluz0mVPYYW7BQbhoUEzulc7lYAXffYksqCoE0JILbBs+0HZ8Mn5csluP7wdMJIebv1l2w6ohPdujq4nkQlFnRBCCPEJFHVCCCHEJ1DUCSGEEJ9AUSekjrFw4ULp2bOnStnZ7sUaB1jiVJ9bp5Ur3Q1NiuVZ9bmxrjohpAyKOiF1CAgsUlZWlixYsEBGjBghe/a4t3oXBBdT05DS0tLUuZs2dW9wFhokEHLr9R88yEVKCNFQ1AmpQ0B0IeoQ2vj4eCWQboouLHWd4AVISUmRwYMHm59WHwg4zq2vv23bthR1QixQ1AmpQxw6dEi+/vprFTIV7mu8hzC6DRoLEHU0ItwEljkaJatWrZJZs2ap64e4E0ICMEwsIT4Asd/h8g4lovXq1VOR1eDGhoULkYQAhxLGrl27ymWXXWa7D1tb63ZFvWXLljJ27NiQx8Odj2vGufG+Xbt2yg0fytuA4xEmdsaMGeYe73jooYdk48aN5lZ0cuddPRgmNkqhqBPiA5yIel5eXqmIp6enK0EM9XdORB2NBYjt8ePHbbv27Yo6vApokGiXPgQevwW/Ixg1KerwhnjZJXD06FH12qJFC/XqBbjPbdq0MbdINEFRJ8QH2BV1iCzc4hA54IWowz2O73Ayst6uqKNRYm0s4HgIKL4zGDUp6oTUJuxTJ6QOARHPyMhQfdFwX6NvGtaum9hx54cLBt5NmTJFXT/EHNfv5kA8QqIdijohdQhYtrfccouyXCHwK1ascH2gHKxor0QdrvcmTZqo60djBN4JijohZVDUCaljQNhhpcOi9kIQrX3eboMGA86vr99tLwMh0Q5FnRBCCPEJFHVCCCHEJ1DUCSGEEJ9AUSeEEEJ8AkWdEEII8QkUdUIIIcQnMKIcIT4AEeUwvcurKV7jxo2TmJgYNZ3MC5KSkqR///6eXT/m5A8YMIAR5YjvoagT4gM6duyoYo5HKw0bNpTTp0+bW94AQaeoE79DUSeEEEJ8AvvUCSGEEJ9AUSeEEEJ8AkWdEEII8QkUdUIIIcQnUNQJIYQQn0BRJ4QQQnwCRZ0QQgjxCRR1QgghxCdQ1AkhhBCfQFEnhBBCfAJFnRBCCPEJFHVCCCHEJ1DUCSGEEJ9AUSeEEEJ8AkWdEEII8QkUdUIIIcQnUNQJIYQQn0BRr4rTxVJcfGEqMT4qOZInBccDh7lBCc6NE9sAx5acMzeCUGL/hFKwJ1dy9xTYvgY/kb8mWeZtKzK3HHC8QPKO1MEbFhYlUoj8ZW7VJMHKqtNnX3IkX3Jzcb6qn7vbdYNbhJ3PPaBo2zxJXpNvbhG3oahXSrHkPNdFhoyeKBPTLGnGZimUAln39JOy4fPqVuglUvDqPBnTt7ckG+de96m5OwiFr06VXl2myZaqyqYhNLmvLpHpj/SWm3+bG7ISLUTh6v+oLN6cL/mbF8uj/ZNlyZ66JVQlxblS+K25EYziPFm3LMd4/gEKXp8lEzND32P/UCx5f82UnC/MzaBUOPZ0rrw0YZpstJHH3aVEcldNlGmbCgKbFZ6h7Wdv/MXmp3vL/c9tkPy9b8ji4fdL8u/zVAO/PBW+zwsq/Aa72P+tNcC3hZJbFy2IGqLe2bNnz5vviaYkV+bd/JLctHOR9G9p7nOVEsl70Wg5nxkviyYmSlyMuTsIEPRp2cXyj6I75DfZI6Wzub8U45qXpG2WmAEDpPm+ofL6jbtk0QNx5oeV8MU6GfPYWzLoL/Ol/zXWfYdl1LYp0s3GNfmBvBc7yfK2Ie4V+GqTTOxh3Jv94yTB3FW3KJJNad3lcOp+GRdv7qoSJ8fWIBWeod1nX7ztWemy/lbZldFf1JHHN8v0rm9I4q750i9EtnGdMPOh7XxeAxS9OlG6Hxwl+yfUzZLkNbTUK+PzfHm7863SvhJBL3lviSRn5JqtdG1td5JO3e+X6X9dJ0tSMyUvhHu8ZE+mzDs0XOZPtSfoJXuWyLScnjKlf4yc6JtwoaCDmG4y7ne/lJEPxMix/7lRbm0fvPDmb1sr+Y8PKxN00LqbDOqRJwWwqPauleRnMmXt3GTp3mmJ5OHz43mS+bP7je1O0r3/VFmyy2IvFOfL2tLPxsi8bWWfFRvnmtq/u3Tq1F3uHztPco6YH1TkiNEwsZx/7d4yO7jk800yb0xv4xydpPeYZ2Xdx2ZLvyhH5qUukbVrJkrvThNl01dFkmNc85I1a2Wi8VwmvhpwaxRuNp9Tp94y5rmqLB3Dwlw2Ve7vXv445S78+WLjHqwzvivZuC5zn8WFGPz6MmWzcbzOJ1ONv6vcTjEsmBfN7zePK70DVd578/f+VX+/cY9nbJKCI2XH9x5Tds/hhn12jZFP9bWmGflVu4vxzOfmGGfUGM801fjbv+M3TJXFu0XWGd+lf3fxe5nmc7V8h/q9FY81z6NPHCQfKTfx+pzSvGS99jIMizjD+M3v6btYKJuenihrPzY34U1Le1Y2f2Web1tRpc9QYVi+wb/LKFqdk2R1Wo+AoINmcdLKuIazlZTzMjd34LlkvmbcD/1cfmaUudM4Sj+zdTLdLBfJc41npj6znsPEfC5/r+o3WAlShoL91kqfpUHQ56Gua5PkrDHzbN/y5V6ObLaUicrvrZwrlM3PjTHKLv5+qEyvsmwQu1DUK6Hwox1yrArxLNj9ksjVrQRanL8yWX763zfJzE37Zf/OVZL44QJZ0KaDdKgfOLZyCmXjixulVdO9MkuJjJHhn4ZbvwqObJJn/xwnM5/pKyWfbJZ7buhgflAFX30u7xf1k4QbzO0qKPlmnyS0bWVuaVpJ/1+tlp/cZLz9rlhyX35DjnWfK6/tHmlYBfmS+cRE2Zf4B9m1f7/sWvOwSIZRIe9FETQq2aVj5K07zc9WPCxnZ8ySdXC/luTK8ifekjt+v0v2798lqwadlWnPrKvk9xrnn7JA5Cd/Cpzj9z3l/SkLJQeCczxHfj18jTQZm2WcY7/814xb5a3J01SlLedOSuGul+T9mPHyp91zpa/REDt5NFde+ihGxr+8W+b2iZOSXfNk6KvXylOvGM9pf5aMilkos/564RUU/nWqTPznQPnTLhy3SgYdMSopo1EQ1+spWf3ceOMeJMlTK8z7Y3Uhhry+5fLGyWGyaItx3r+MlJLZi2ULPqtA/sqpskCGBb5/5x+k50eTZOE2VMrB7n3g927+7HIZ9bs3Zf/Hf5aRxT+T+ybskM4z/ss4/iP5Q68CmfanQEMUbtiXdpdIv/nGsft3y286vSFDn9scaDzgmR89iXcmJVJsCO7JponG754v47uIJE1bLauHGyXji3UydfIxGfgynut+WdW/0GgEbZKiuEqO1edRIhj8t+D6MtfmSwd17btlzk1vy7Rs1aS0ECMdfhArmz8y3dxf5Mr6VzbLurfNRtYXebKhuLN0NvKCdjtX+gwNNmcVhPgu49tadpZu7WPNLeOc7+2QzYl3S3xljX6LmxvPZfn2kzJskflczs2SxdsDYh14ZnGSvt64f8Znj3z9K3ny5cD1X+AqN5/LlVX8hjKClCGDKn9rVc/S+Cjo88B1rVwj+R1nyn8ZeXb37M7y9oyNAQPgdK7Me2SDXPvzQJnIGhUjCysp94XrZ8mSmFGSZRyz/5WZ0mHnGFmca5YrEhYU9QsoloL8XCnKGKoEN5CGSKayAgolP7e53H2zIYZfbZLFSxNkzoz+0goKX99ovV8t0i+hg5QV/0owKqA3ci6XVt1HyVJU8nv+LP0/niUbK211b5KpTx+WpBlJ0qFhvuSt7ye3dg56dsNgfl829+0swaXfsFwOmW+Dcd9wGZbYSmJjjR+4N0eWN5oiUwaZDYFm3SQpJU4W/Bf6Fo1/sDJKiqUYFXdcP/nFa/NlALwAJSUCmcAAPxB33y/ktfkDpBX6/3NzA2lvkZTg/M2Hy4Afmb/vmr4yKt34LuOPi3I3yEuDpshI87OY1v1l2GBDnHbqKmKYDHuks8TFxqrGltrzeJJ0jouV2Bij4tmSKQMeMe6h+vNY6ZbYT3Jy9lgs0gCtHlwqu36eKLFqkGSs3NC9n2w+WGVzqxRb12fcN3Vt1yTKvfdtlsMXiHq+5CyNk+GDEwL5p34r6Zs6xWhmGfct6L0P0K9fosShMWn8Xbde/UT63i3dmuETQwBvuFWKvvhHqdXfr1+/0nuRMHy8DHslV/L0h3ZpnSRLdz0liY0MwTaebWznu6Xfa4erbpxq7PyWlCTz2gPPqmj/kQueVdzNd8vlOfnq+4qMRvi18+ZKgt7e95acTOxs3LvQ2PmuchhlctpThTLqmSRb5x/2uK4fWkmicd+t+cn6zPqnjhLZlGvkgmoQpAyBKn9riGcZ9B4ZdURSt8D3xXYz/q5onxwx8nZx7mbJHDRMkjpaPsvZIXsq5PuSb4yMZ9QRxn/joM4yMuM1GZWgSzEJB4p6RUry5a2X+8lvd8Ja0ylLRsLyLTI+29VVOrc33r73umx+5B7p1jDwZ1rwb+0UvKgXf2ZU3qOnyPhE05nXsJV0bGMUke8Cm6WczpMlU9bLrT//iXQwWsTFe43vjr1RrmoYGIFfFQUfvyH9butsFL9gxElcG/OtTYq/LJSi2EtLRRPEXXOjUclBLGIlcepqGfjPtTLmXrjYn1UD/2JQYcUmyi/WDJTi1WOkd/f7ZYzRWi84Z5zlpHG/jN+k0v5COXL4Mykyji87f4x0fmCkJLY27vWRPSKNYsp9d6u2CZJbFLT6NTEaFYalkpl6c1kj7RHDmtl9+MLK+3iuLBkzVIY+vVCW/2WdbNhdmb/wQqp3fSZFhfIZDrd4eWJu6C8jexmyHvTeX0jMxeYbOxgNoTg5JidN1699jMbSi2Nk6GNTZeGKdbJuw1ti5245/S1V0rqz3H0cIlEkb29uIt169pPENhsk94sSKfgoV/rFV9pJVT1UmVwjP/h/c8t3W7lBs+ZyTT6ax+FTFKQMBSe8ZxmMkm+PiSxLlptLDaOhssCw4Q//wzzApMPwpfLLq3Nk2kPdpfcj02XJfxdJjDVzEMdQ1CsSrD99//uy8fE7pLOR6QoPbpZ+P7AIuBL8HiHd3oWfviGJxt+V5tuSAtn72jDVULCS/8piectoOb8xPzDyfsyUWVJQ/y1ZnLZRqh5ba1jzW4yGRYj+dNCqrWE17CuoUInkS+bg7rKkEq9B7L+1kjjDCrceX/xPQ4WaXa5+S8l3cZI4YY78ecsuyXomUQ7PTgl4N84ZFdVViTLuV3+WN3dlydweh+XZ1EzJb50oI0ePDKQHE6T91T8wji1/fkwrxPS9uGviL2j0FBUdkRsNIbXLuD9aG2lG2jWuQvdKieRmTpXCh5fKnzN+KVOM6xqWaK/mduP6JC5OjDug7kEpxr0rNsQ21L2vFoaJdMI4SwNLY8IOJbnLZWrhw7L0L4vkl2nGM/xJT7Fzt9z7LZ2l2+Aj8v7OHHlL7pCEZrGS0OMH8sbuLUYZSApZDh1zukDWPTNdClPny7j4at/1Czl7RoqNYludM8cFKUPBCPdZhmTCn8uXuf27ZFyFLoMSoyXX+fFfytJNu+TN3/9EYl+9T36tupxIuFDUKxC0P33vRunWOeBej7k4To58VmgWoGLJ+8tyQ/BvDbi9zxVJwReVZ8y4VgmS826+aSViYJbRfp2WJIk4aVGBFJp/1tlowa5esdpMS2VKX5F7frbIeP8T49qKpfDzwBnKYbM/HcT9+GEZtn6BZL5Xdp1Fr62T5Q1GSeIFfXUGHbvJsMI1slFPeTtXIBv/+IYM6wF3cb6sTU6RxebApZiWreTaZscClcn+tZKSvFjylCUYI3Ftr5XLi8pVOwFuSJBxeesl53Nz27CKFjw+VTYaJkNcQk/p95eXZJM2H4pzZMPSBjKgqx1rLE7iExNl3Z83SaGu3I5slrXWAT0Ko/FxskhOfGvej+ICycmp2L96xnwtT/WuT9NZEp7Ik/U7dZOtRPIWPSpTXzeuM+i9d07evrIBeIWvvySZiUZDFe3AK4yG2e69pQO2it/LlR2Bt6WcMe9hyemTUnT6rHmeYinYuT3Ql2pBH1sOF39L5/h+8sZ/TJMT/bqqQWyxCd2k+fxfyUt9DZGvUh0rf4bBKZRNz/xU3kr8g8y5z47T3R7vf2x51llrpcBo3KL+iLs60XhGusFt1BG7LngK5msFgpShYNh5lk5B90iitUxgQNyaigNUiyX3t11k6iZzb7MO0uoqkRPKF29gqQ+JfSjq5SiW/LzcKgajWfrTDTr3nymdNw2VXv2HytAxi2Xj/rzS/vSClydK8qo8s5CUJ67nKJlyZJYM7p8sQ/s/Ki/FzpSlI1D5F8jaCcmSWWnnZvn+9JKchdLrqc0XWOz2+tNNmsEtPlxOZNwn3XEtfTvJo6+3kkW/r2S6HIhJkJG/NY7/7f1yf3Ky3N/DqOR6LJVf9MI1dZaf/CpJCmcGPhva96eyo8v8wECeG34icx4qlOmD7pfk1KHS+4kdcsdzaJhUIKabjF92t7z1RG8Zmmqcf9ACKZk8U5LgOmzZX+Y+f6O8PgKfGee4b7nI7PmBLhEbtHpwvizq9Lqk3DtUkpPvl95Pvy9x11WsnGMlccwiabKol3Tv21u6P5Qph68y7uQ3pku0ZbzcO3idTOx/v2TuUX9QRjWvL0CMdBu3VO7O/an0fiRZko3vWfBNusx80LjOoPfeOR1OvyXTHjHuxSO9pdeiJrJI9w+3HiDjk/Nlat/7jbzZWya+UaTEMoDROOo3QNZNNq5hWZ7E9hopixoukF7de0vv7kMk83/jjHx3ItA3WuHYcrj5WwwRGyCJRpk0r7JZN0nsUST3dOlcucUb7BkGY89G+Vn2Ydk4pVdZFw7Si9WTvpjP/lPGqGfdSya+108WjeumrrvVveNl2N6pqm65v+9EeeOfZU8h6G8IVoaCEPxZhknrJJlfWiaMa7l3mrzfwhBt8+MAKHNLpdWmlNI8/+uzc0u7JvP/atQlf6zWKIM6CeepVwu4R2MktiHc1gsk9vmlIQuQBhHfYjAALRKAiy4mNtAHbgcc37BsUFo5gnxm9zcHO656900/L3OzCkpOG9/RMLzvd+W5lhj38OIqnkewe28D63zlKn+nk+83av6SmPLjCUoJda3V/C3h4sozqhbl5/FjkGlMJXmyOuUgrN8Y7FlWA1vXEizPEUfQUg+HjzNlzNglkvO5kRG/ypHMtCflrYemyACbgg5qt1KpACpWJ4UpWEUc5DO7vznYcdW7b6EFHVQl6CDU97vyXIM1sFwUwSp/p5PvDyYCoa7Vxd/iBFeekYtUJuigOuUgrN/ogaADW9fixKggQaGlHiZFuetk487P5NgV18qtiQOknzl1g5BIpnBbpuRekSRJ8cyvtQfC6K6T4i52RqYT4gyKOiGEEOIT6H4nhBBCfAJFnRBCCPEJFHVCCCHEJ1DUCSGEEJ9AUSeEEEJ8AkWdEEII8QkUdUIIIcQnUNQJIYQQn0BRJ4QQQnyByP8HbHgEXfNP6FAAAAAASUVORK5CYII=)"
      ],
      "metadata": {
        "id": "v6Z77u0W-fCG"
      }
    },
    {
      "cell_type": "code",
      "source": [
        "import torch\n",
        "from d2l import torch as d2l\n",
        "\n",
        "def corr2d_multi_in(X, K):\n",
        "    # First, iterate through the 0th dimension (channel dimension) of `X` and\n",
        "    # `K`. Then, add them together\n",
        "    return sum(d2l.corr2d(x, k) for x, k in zip(X, K))"
      ],
      "metadata": {
        "id": "apcn1Q4Q-T23"
      },
      "execution_count": 15,
      "outputs": []
    },
    {
      "cell_type": "code",
      "source": [
        "X = torch.tensor([[[0.0, 1.0, 2.0], [3.0, 4.0, 5.0], [6.0, 7.0, 8.0]],\n",
        "               [[1.0, 2.0, 3.0], [4.0, 5.0, 6.0], [7.0, 8.0, 9.0]]])\n",
        "K = torch.tensor([[[0.0, 1.0], [2.0, 3.0]], [[1.0, 2.0], [3.0, 4.0]]])\n",
        "\n",
        "corr2d_multi_in(X, K)"
      ],
      "metadata": {
        "colab": {
          "base_uri": "https://localhost:8080/"
        },
        "id": "PbsRjZ_a-hKS",
        "outputId": "f090b05f-faf6-4d22-f56b-c46890e9406a"
      },
      "execution_count": 16,
      "outputs": [
        {
          "output_type": "execute_result",
          "data": {
            "text/plain": [
              "tensor([[ 56.,  72.],\n",
              "        [104., 120.]])"
            ]
          },
          "metadata": {},
          "execution_count": 16
        }
      ]
    },
    {
      "cell_type": "markdown",
      "source": [
        "**6.4.2. Multiple Output Channels**"
      ],
      "metadata": {
        "id": "Jjie8Vya-lHW"
      }
    },
    {
      "cell_type": "code",
      "source": [
        "def corr2d_multi_in_out(X, K):\n",
        "    # Iterate through the 0th dimension of `K`, and each time, perform\n",
        "    # cross-correlation operations with input `X`. All of the results are\n",
        "    # stacked together\n",
        "    return torch.stack([corr2d_multi_in(X, k) for k in K], 0)"
      ],
      "metadata": {
        "id": "QBhnvxZ_-ivY"
      },
      "execution_count": 17,
      "outputs": []
    },
    {
      "cell_type": "code",
      "source": [
        "K = torch.stack((K, K + 1, K + 2), 0)\n",
        "K.shape"
      ],
      "metadata": {
        "colab": {
          "base_uri": "https://localhost:8080/"
        },
        "id": "M0cmsgIJ-nb1",
        "outputId": "9ea231e7-9a76-466b-fb78-5a5c45e2fce0"
      },
      "execution_count": 18,
      "outputs": [
        {
          "output_type": "execute_result",
          "data": {
            "text/plain": [
              "torch.Size([3, 2, 2, 2])"
            ]
          },
          "metadata": {},
          "execution_count": 18
        }
      ]
    },
    {
      "cell_type": "code",
      "source": [
        "corr2d_multi_in_out(X, K)"
      ],
      "metadata": {
        "colab": {
          "base_uri": "https://localhost:8080/"
        },
        "id": "4sGeU56I-pWC",
        "outputId": "a303887a-20a3-42fc-dd78-37409b3b29c7"
      },
      "execution_count": 19,
      "outputs": [
        {
          "output_type": "execute_result",
          "data": {
            "text/plain": [
              "tensor([[[ 56.,  72.],\n",
              "         [104., 120.]],\n",
              "\n",
              "        [[ 76., 100.],\n",
              "         [148., 172.]],\n",
              "\n",
              "        [[ 96., 128.],\n",
              "         [192., 224.]]])"
            ]
          },
          "metadata": {},
          "execution_count": 19
        }
      ]
    },
    {
      "cell_type": "markdown",
      "source": [
        "**6.4.3. 1 x 1 Convolutional Layer**"
      ],
      "metadata": {
        "id": "iQRZApW8_RVz"
      }
    },
    {
      "cell_type": "markdown",
      "source": [
        "![image.png](data:image/png;base64,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)"
      ],
      "metadata": {
        "id": "BOU1ficQANog"
      }
    },
    {
      "cell_type": "code",
      "source": [
        "def corr2d_multi_in_out_1x1(X, K):\n",
        "    c_i, h, w = X.shape\n",
        "    c_o = K.shape[0]\n",
        "    X = X.reshape((c_i, h * w))\n",
        "    K = K.reshape((c_o, c_i))\n",
        "    # Matrix multiplication in the fully-connected layer\n",
        "    Y = torch.matmul(K, X)\n",
        "    return Y.reshape((c_o, h, w))"
      ],
      "metadata": {
        "id": "gvkWFas2_J1u"
      },
      "execution_count": 20,
      "outputs": []
    },
    {
      "cell_type": "code",
      "source": [
        "X = torch.normal(0, 1, (3, 3, 3))\n",
        "K = torch.normal(0, 1, (2, 3, 1, 1))\n",
        "\n",
        "Y1 = corr2d_multi_in_out_1x1(X, K)\n",
        "Y2 = corr2d_multi_in_out(X, K)\n",
        "assert float(torch.abs(Y1 - Y2).sum()) < 1e-6"
      ],
      "metadata": {
        "id": "fcS3NcWuAP2M"
      },
      "execution_count": 21,
      "outputs": []
    },
    {
      "cell_type": "code",
      "source": [
        "Y1"
      ],
      "metadata": {
        "colab": {
          "base_uri": "https://localhost:8080/"
        },
        "id": "FFpGnEh-ARdU",
        "outputId": "e0d0a16d-aeb5-4e2c-a5f8-5f93ec561f8c"
      },
      "execution_count": 22,
      "outputs": [
        {
          "output_type": "execute_result",
          "data": {
            "text/plain": [
              "tensor([[[ 0.5385, -1.0574, -1.0148],\n",
              "         [ 0.5057, -0.1202, -0.9052],\n",
              "         [-0.8102, -1.1530, -0.2358]],\n",
              "\n",
              "        [[ 0.4612, -0.0262, -1.0715],\n",
              "         [ 0.5867, -0.6997, -0.7512],\n",
              "         [-1.1107, -0.7503,  0.5950]]])"
            ]
          },
          "metadata": {},
          "execution_count": 22
        }
      ]
    },
    {
      "cell_type": "code",
      "source": [
        "Y2"
      ],
      "metadata": {
        "colab": {
          "base_uri": "https://localhost:8080/"
        },
        "id": "MXzFaWJZATMu",
        "outputId": "0824a593-8f98-4d44-a57e-7a6e2ba39212"
      },
      "execution_count": 23,
      "outputs": [
        {
          "output_type": "execute_result",
          "data": {
            "text/plain": [
              "tensor([[[ 0.5385, -1.0574, -1.0148],\n",
              "         [ 0.5057, -0.1202, -0.9052],\n",
              "         [-0.8102, -1.1530, -0.2358]],\n",
              "\n",
              "        [[ 0.4612, -0.0262, -1.0715],\n",
              "         [ 0.5867, -0.6997, -0.7512],\n",
              "         [-1.1107, -0.7503,  0.5950]]])"
            ]
          },
          "metadata": {},
          "execution_count": 23
        }
      ]
    },
    {
      "cell_type": "markdown",
      "source": [
        "# **6.5. Pooling**"
      ],
      "metadata": {
        "id": "1kKdv8ogAgPx"
      }
    },
    {
      "cell_type": "markdown",
      "source": [
        "**6.5.1. Maximum Pooling and Average Pooling**"
      ],
      "metadata": {
        "id": "fBG2603bAjQn"
      }
    },
    {
      "cell_type": "markdown",
      "source": [
        "![image.png](data:image/png;base64,iVBORw0KGgoAAAANSUhEUgAAAn0AAACoCAYAAACVH1h4AAAAAXNSR0IArs4c6QAAAARnQU1BAACxjwv8YQUAAAAJcEhZcwAAEnQAABJ0Ad5mH3gAAETsSURBVHhe7b0PfBTVvf/96dUaH3wM0peh/krAaJQ+xnollNR488giNBFCUFAKViARMFZoFGJuLRJUxBoC/WFIi8R7gaBAsGiKIrFKaJHl9ePH0iqJVUMLBhWS5yrLT2SpyFK9+5zv7Ewy2ezOzm52ISGftxwzszNz5vz5njOfOX/mfOvMmTM+EEIIIYSQ85p/0f8SQgghhJDzGIo+QgghhJBeAEUfIYQQQkgvgKKPEEIIIaQXQNFHCCGEENILoOgjhBBCCOkFUPQRQgghhPQCKPoIIYQQQnoB/DgzId2EPXv2aH9vvvlm7S8h3Z1PPvlEcydOnMC//uu/4sorr9SPEEK6I2zpI6SbUFBQAK/Xq+/Flt/85jd46qmn9D1Cuo7Y1LBhw1BZWYnnn39e2/73f/93/ag1cq24rnDXXXfpW4QQu1D0EdILeO211/QtQrqO2JOItrfffhu///3vNXfw4EHs3LnT1suFXC+tg11h69at+hYhxC4UfYR0Q0pKSrBu3Tpce+216N+/f9uD9N1338XMmTORnZ2Na665RvsrvwlyvjgDY1/cX//6107HCYkWEXyPP/54h+7cyy67TPvNsLFAezP2xZntUZzYu9i62PR9992HL774QrtGfjfsWzD25a9gtn9CSHgo+gjphsiDzOl0aq0n27dv10SfjJ2Sh+H69esxbdo0fPjhhxg3bpz2kBSM8VUGxn5+fr423kr+iiOkq+zatSvo+L3bb7+9zU7t2qP8JsLvL3/5i2bTx48fx29/+1vtGikHhgAUjP1ly5Zp+1I2brzxRm2bEBIeij5CuimGQJOH2qBBg/Dxxx9r+8YDU3jooYe0B6H54UrI2UBa9kIRadet2LPhn9i0vPAQQmIPRR8hPYCUlBR9K/jD1hCEhJwN5CUk2IuGjNXr27dvxLN4A206lD3TzgnpGhR9hPQwZDyU0eUlD155yDocDm3f3BXW2NiobxESW2SmuYyrM9ubbEu3rNEKLdi1R7OYE5sO1mUrfh0+fFjfI4REA0UfIT0Mn8+nTeaQB+zEiRO17jBBHpQyNkrG/8mnM8wtMdLyIuOw2G1GYsFjjz2G4cOHIyMjQ7M1sTnZTkxM1I4Jctxsj+YJF2KrZnuUFkI5R2x60aJF2oQQQc4z/BeblxZGA3nZCbRzQog1F6gCulDfJoScQ+QhJs7oyh0yZEiHbi/Zl9aOv//973jkkUe0v4WFhW0tK9///vdx0003aQ/BnJwc3HbbbZrYE/+kJfD06dO44oorOnQVExItd9xxh2ZXhuh68MEHNbu8+OKLtX2xM7M9yvmGPcrvhj3KcdkX+/3ss8/wzDPPaNuC2LDh35w5c7RrjXIxefJkrQyIMAw25IEQ0hmuyEFID0JaRqTV449//KP+CyE9G7FnwWghJITED3bvEtKDkBaNYOOdCOmpSOtfpBM/CCHRwZY+QgghhJBeAFv6CCGEEEJ6ARR9hBBCCCG9AIo+QgghhJBeAEUfIYQQQkgvgKKPEEIIIaQXQNFHCCGEENILoOgjhBBCCOkFUPQRQgghhPQCKPoIIYQQQnoBFH2EEEIIIb0Aij5CCCGEkF4ARR8hhBBCSC/gW2fOnPHp24SQEHzxxRdYv3699jcenD59GkeOHMG1116r/xJbxP+WlhZcc801+i+xJyUlBdOmTdP3CCGEdDco+gixgdPpRHZ2tr5HQqHqE32LEEJId4OijxAbGKLvtb/Hp7i89+edKJ12a9z8f+2F5VhdVgyfLz7+79y5E7feeitFHyGEdGM4po8QQgghpBdA0UcIIYQQ0gug6COEEEII6QVQ9BFCCCGE9AIo+gghhBBCegEUfYTEGJmJe9/Iq3D3sMu0GblfeuLzbb/l8+7Fi79dqO/Fjueffx79+vXDZZddhvT0dDQ2NupHCCGE9GQo+giJISLwyn4+AfOffQW/e/sLJA24EqvK5upHY4PcQz6/suOVF/RfYocIvLlz56KhoUH7EHVBQQEmTJigHyWEENKToegjJIZIK1//712Jq68bou3f8+BCuP74qrYdK57++Xjte3vj8ufov8SW5cuXa6trCPfeey8+/vhjbZsQQkjPhqKPkBjy0f5GXJJ4mb4H9B+QglMnT+h7saFs/U4Uli7H/226T6wYMmSIJvQMRAA6HA59jxBCSE+GK3IQYgO7K3LIGLt/eL7QRJnB7d//VtjrolmRwxjP99MHw4/ri2ZFDhnbJ1290uVrtPyFgitynF+sW7cOn3zyib4Xew4ePIiBAwfi4osv1n+JLTIeVdaBlr+EkHYo+gixQSSiTwSctMYZ9ETRt3DhQrz66qua8JPWv3BQ9J1fXHTRRfpWz2X79u1spSYkAHbvEhJDfnDTCBxtbW8hObS/URvj15OQ7l0RfCLk7Ag+cn7y9Pq3tJeQeDihoqJCewmJhyOEBIeij5AYcsOPRuCSS/ti67pKrfXuN49Ox6g728fIdXdE7L3wwgtaq11lZSWefPJJzRFCCOn5UPQREmOka/fTIx9p3a83jbrDVvdrNEirorhYImOgnnjiCfTt25ctJ4QQcp5B0UdIjJHZuzKRQ8RfvASfIK2K4mLJiBEjtPF8gY4QQkjPhxM5CLGB3Ykc0RLNRI5IiGb2biTEayLHP/7xDzz77LOcIGLBoEGDtI9oxxKZyCFj+mL9UmEgk5tkTJ/MDo8H3/rWtziRg5AgUPQRYgOKPmviJfr+8Ic/YPz48Rg+fLj2ICcd+fzzz/Hee+/FPN0p+gg5P6HoI8QGFH3WxEv01dXV4c4778Tp06eRkJCg/0oMXn/9deTl5WlL5vXp00f/tetEKvpkacD7Rl2lLT9o5xq7ok++EVlcXKzv+Xnrrbf0rdBQ9BESHI7pI4QQ0iWWz7s3Li8UMpv8yiuv1CYXGY4QEj0UfYQQQqJGWpFluUFjvelYIi19MrnI7Agh0UPRRwghJCqOtn6MP21+HvfEaZb6xx9/rH0nUrpr+/Xrp60QQwiJHo7pI8QGMnZqwoQJHZZXiyUf/a0Rq56ei8LSSv2X2NL4v7fjL2/VaWPv4oG0yMj4LI7pO7uc6zF9c+4YgvtKl2vnzZ82QvtEUSzH9MnqMHKOrAxjtPrZWQuaY/oICQ5FHyE2qK6uxgMPPKDvxYcLLvw2vvn6n/pez+Pb3/42vvzyS30vNkQj+mQc2Lvvvqt9aFo+ZdKVRfelpUlWKBHEr2BiQ4S0TPS54447Oi1bZ7RMiXiJB+dS9Em37o5XXsBNPx6v7UuL3w03KeFX9ITW3WtFtLN3RfTJbO5w11H0ERIcdu8SYoPU1FTtr8yujYeTB6wIvmDHYuHum1+hhV8G28fDyYzKf/7z3AtWEQPyMWkZ/N/Q0KCJBBFE0SAtSiLiZHUScbIdrKVUfpN7Ll++XP/Fj9x3+vTp522X5FXXDdFWnFEG0ObEFmKFpF/gGD75LVwrHyEkNBR9hJDzBlkvWESYtKwZYkvEmxlpvZOWOQMREuZ9AxFxIuZESBpiMlDYGdx4441aC6MZuX+wliajZdAQo4H3DxWe7oa0Akp3ruH6J6do60yHa+Wzi7TQSlrImD7JM8lbQVr6CCHRQdFHCDlvkJYmc3euIazMGN2+hkgTMbd27Vpt24yINnM3ogiPUF3F8ru0SpmFn1xv7tY1xqKJcJSuTdk2BKmExxCpEh453tO46v8Zgksujb4rPRiSnh999JGWjvI3WEsrIcQ+FH2EkPMSEQqGGDMjvxmCTP6KsAjVgmcg4kzOFUEWCmmBMkSfCETB3BUpgkVEpJwjTu4vf43wyDEjPPK3pyHrTcf6sy2SfpIWknaSR6FENyHEHhR9hJDzDhFUItRCtQyJEJRzZMydIbxCIcdF0IlfVuPJzKJP/or/ZkTUybhA6a6U+27ZskU/4g+PHLcTHkIIiRaKPkLIeYWIL2lpE5FmJZ5EFMoEjVDCUJBWJqNFLnBmbiByL6OLV64LHHsmok6c3FO6c8WZMcJjCEdCCIk1FH2ExBjXH1/FfSOv0j5LUfnodG1d0ngg6/XKPWKNCBZZR9dwIlR6CiLQRHyFE3zSVSjj/URoSZet/A1ExJfEXY6FE3wGIvSMruLAVkHjXuKniEOz2JRrRKjKObIdLDyEENJVKPoIiSGyQoGsQyoLz8unUv5x4jg2/jb2qxWIkFz9dHzEmIg++eacsdZpYDdld0WEknxTT5x8p81wgePw5DzpYpV4ijCT49KtGoiIsxMnTuCqq65q8ytwfGAgIvpk5m0woSzH5He5l+GPIfSChSfYJBRCCOkK/DgzITaQB3l2drYm5KwQMSYtcJn6B2tfVILv0P5GlK607rKTa0qn3RrWfwMRlvLJDGlJtHONfEh3dVmxre+oSQuZCBGr8WuBSKuVtApyRQ5rJF1FzEnLoVVLpF3O9Yoc0RLtx5ntIgKdH2cmpDNs6SMkhlySeJkm+ET8bV1Xqa1SIN8wiyXSfSz+yzfRYo2IB2ndkpYmeXCmp6drQoXEBhF70soXC8FHCCGRwpY+Qmxgt6XPQFr39ipxJgLt9oK5YQWa3ZY+6T6eP3UEKrc0agJTWkxi2dIn3Y3S+iJdjSJMZHyZfBRXvpFmBVv6zg3xbOmTT7DIt/figazTW1RUhIkTJ+q/xBYR1mzpI6QzFH2E2CBS0WcgIk0mdYS7zq7oe3r2eHw3+aq27mN5eJat34kf/Mj64RZJ924g0uInS5pZTWag6Ds3xEv0/V99LunR60ALzz33HGbMmKHvEUIEdu8SEkNEvMk4PgNjhYJYzeAVsXfJpX3x3t63NCcYf2OBdOWax1mJmBAiGd9Hej4i+GQ9ZXlJiIcT4u2/sV42IaQdij5CYsh3B6RgywvLNfEnrXyrFxdri9JLV2wskG5i83qnQizHDEqXrnTtyoeDpau3uLhYm8nb08egiZA1PkFjOGMt12gpLS3FggULtG3xn2MfCSHdHYo+QmKILDYvM3Vfe365NsO2//euxNzy+C2pFa5bN1KkRU++Tydr0cqnWq688srz4mPBIsgkLsZnaObMmaPFMfBzLtESq9m4hBASTyj6CIkx8pkLEX4y1k5a4WLVyhcMuUeskUHwIvRknF6sRFF3QAStxE2c8c088weSZVu+lyff+QtEWj/lWLjWPGkdlXPlr7QkBvolvxv3kPuZ708IIfGGoo8Q0isRAWe0zom4FREoy6C98sor2qdqDKQVT0SwHJPWT/OYRwND6BmiTs45fvy49i064+PWIvDEL/FHJsaI8KToI4ScTSj6CCG9AmldM8bziagToWa0ZIpQM5ZdMwSefK5GzhFhaD4mLXjGBJdgGK194rf4ITO/BdkWJ/7IXxF9hBByNqHoI4T0CuSbbcaYPmmBE3EmLW/S2ibj/cwzlKULWISdnCPbBnLOjTfeGLab1zy+T/ww/prvYd7uiUgamCfGGE4Eb6yQPJgwYQL69eun/Q2X7oQQayj6CCG9AvOYPnGGMJO/gS135v3AY++++24HUWeXYPfpyUh6GiJanMzyNrqtY4V0jYvIlq5y8Z+to4R0DYo+Qkivxph5K12ugrQmSVewCAxx0nJltDDJOdIqKNdEiggY6UYW4WfcoycjaWYIaEkP6faW7u9oBHEoJJ3Ef0Hy4pNPPtG2CSHRQdFHCDnvEVFi1Z0qYkW6eWX1EREX0v0r14gT0Se/SRejnCcuEDlPxI4489Jf5n0RfUZrlYz3O5+WCDPEsCHQYoUxwUbEsqwHLS2KhJDo4TJshNhAlruSMUXx+ESK8NHfGrHq6blx89+5tQbbXlrV5Q8Sh+LgwYNYsWIFl2GzQMSiCE8RiIKIQNkWURMt8Vx7V1bMsCPi5N5XXXWVNuvZrugTcW3HfxGTkm5ynohymYAjgjwc4j/X3iWkMxR9hNiguroaDzzwgL4XHy688Nv4uoevd0rRFxoRLyLwpMVKJnWI6JHuy650h3YH0SfxkhY5owvcDnZEn6SRiEkZz2ekkYhmuZ8hnENB0UdIcNi9S4gNjHU8g63zGQsnD0ARfMGOxcIZrSPBjsXCSfiJNdKtK61VMjGhoKBAEzVdEXzdBRFhErdYI+ljdJsbiOiLRFwSQjpC0UcIIWcJES0ikOx2g/YEzJMtYon4Ka18xpAEEZfxuhchvQWKPkIIIVEjLXFWk2S6grSMGt3AMqFG9uN1L0J6AxR9hBBCoiaeQkz8lRY+uYedsXyEEGs4kYMQG8hSWtnZ2dr4tXggDzVZzSBe/sssyOLi4riHP14TORYsWIALLrhA/5UYyKzpjRs3ntOJHNFgd/ZutHAiByHBoegjxAYUfdbES/TJGK4f/ehH+h4JxsCBA9Hc3KzvxQaKPkLOT9i9S0iMkVmH8k0/+dyE/JVWmFgh45pEXAW6WM5oFL/ETwm/fF4kluGPFOnOEyFJF9rFWvARQs5fKPoIiTHSeiErL3z00UdaS4MIv1ghfpvXO5VVEKT1LpZjneQec+bM0cIvfnfl48GEEEK6DxR9hMQQ6eaU2Yyy2oIgf2O5dJQMbBdRJs4Y5C6tf7FCWvVOnDjR9t01+Sstl4QQQno+FH2ExBARfSLIZPycdJHK33jNOBRBKa1wsZw5KYJVPhwsrZPyfTRZ85QtfYQQcn7AiRyE2MDuRA5ZjkrEkrTuSSuZ7H/yySfaoHUrIp3IYXyk1u6qDpFM5BCRZ/gvrYgSB6PlMhTxmshBzg0ykUNsJl4vLGJb8fafEzkI6QxFHyE2iET0iQASZyAzCcNdF6noM1rf5MFpB7uiT0SenGtMDDGWwgo3mYOi7/xCRF9P5y9/+Yu25B0hpB127xISQ+LVchFIPNc7lVYSA+k6ljF+HNfXuxDx3tMdBR8hnaHoIySGiGCSVjJjcoV0i8a6i0la3aTL2CzOYoWEV8JutFRKy6U8PGM5bpAQQsi5gaKPkBgi4+tE9ElLnCHKZDuWSKtbvMYqGTOCRexJ+OVe5q5qQgghPReO6SPEBlyRwxqO6SOEkO4PW/oIIYQQQnoBFH2EEEIIIb0Aij5CCCGEkF4ARR8hhBBCSC+Aoo8QQgghpBdA0UcIIYQQ0gvgJ1sIsYHxyZZ4fbNOvu0nS6vFy//a2lqsWLEi7uHnJ1sIIaT7QtFHiA0M0RdPvv3tb+Of//ynvtfz6Nu3L9xut75HCCGku0HRRwghhBDSC+CYPkIIIYSQXgBFHyGEEEJIL4CijxBCCCGkF0DRRwghhBDSC6DoI4QQQgjpBVD0EUIIIYT0Aij6CCGEEEJ6ARR9hBBCCCG9AIo+QgghhJBeAEUfIYQQQkgvgKKPEEIIIaQXQNFHCCGEENILoOgjhBBCCOkFUPQRQgghhPQCKPoIIYQQQnoBFH2EEEIIIb0Aij5CCCGEkF5AjEWfFx6Pp7M75T/qOdiAFn27y3zjv5dX3w2GNzAcHquzFeJnmFM0P0PFwQjTN/p+NBxvRkNrmECcBzStz0f5Dre27W1tQPNxbfPsYpXW79cgv8wJfwi7MW4nyqfXoEnb8aKlsRkebftsEv193TvKkb/eH/qzRoc06354D9WhfE4+8oOGsQXOpUXq2GSMyspF4bOu2Od3q0ofuf+kUcjKK0SVK9wdQtT7mpPy5YazLB817/vPjjkxK6tNqJleDmfEHkV7XRc5354VMSuXHjSsLlVlRMpQqbLfbl+Ln1ViK/r216BgzN0omlPUwa35i6o0TjmxcvYaNB7Tz42WU82oW1qIUaPzld+1aNZ/7sSndSgJDMuWYGd74d5fj5qFhcgdfjdqD+k/B6UB1cOGYdg91UENs2nt3Rimjle/p/8QBc1vPomi6jhU5N0Mr8eFlq+0LbheKML8upA5GTc6pLWnAbWrneqRqvO1B67PTuo73ZhvTqJlt/7yc8qFDT+fj60HtSNnj67c96sWuMK9acUac5p1O1qwdfFinBldhhWVE5Gm/2rQ8tKTWHnJTKxauwkvzL8OTZX5KNncZrUxoAW1C1ei7/RVWPfSC3g0rQkV+SWoPawfDobbhZVGHVt0N8YMm4DCtnq3VqsrT36mytnX/tNjTszKqhKvu1twMuKX9mivi5DDTlRvbmh7NpwPz4qWHdWobdRjEKNy2bK5BEUH0jFv6QqsWDoFju8l6kcio0PYYoYSpJur4bQqT3YJsAe7xFT0tby3E0fveRrr1q7r4IodKtH7ODBv+wrkDdJPjoZTDai6dz4O3lSGP2zfpPye0alSNGj531vQWvg/O4ZlWuezW7bMx/KtHiTfejMGIAfp1+kHQpKEJPcabHMFmKbXhW1rjyIpSd+PktSfrsPuxxyIzkx7IglwzN+NTdNS9f2zR4e0PtWKnUubun/LnhVSxnZvwpRr9f2zxbm673mJG25nOoamJyMxMUH/zaAJ9Rudmr1K7ZM8diqmqvrGua4+Bq0jOvIC7Gy7A/LumapqPCdqdljcIUnlv1HHLp2NdExs3187JWQdTSLk8yaUO1vbRNH58Kxw7y/Hzhi3Vrr/y4l0hwNpSYlITEpD2qDAcmSPeIRNylWrsxxNn+u7XSHAHuwSQ9HnQXOTC7ddF/zh3bKlVL2RGq050vxagtyswRicXajUag1KH6trb2UJihcNa8vxYcEyJSKTlFSwogWuN4ApI8NXN8l3LMPTj0xE+jctcGanIbz0SMfM6SNQtauhQ2J7396JquEzMXOY/oNgtEoOVvHMykXJ+ib/NcedqHigFHWG2m+tx6IHKlD/qTI0c3eXdFssrEGdKa2qXC1ofr0chdkBfnZqGjd1qWjHqlBruq50SzNa3qlGSV4WBg8ehcKlplauNvx+VG2uRal2Xhbyy+rQ3Na97W0Pi/ixUL3Vm7q+tW6qwlHq2GCMKlyE2v3BzbO9q9d/v+o3VHi167KQ+7CKU5ufYjdF/vTMLkL16zVY1KlbxwtXpQrzO8a9WlD3aBFq9uu7aEbtnEUd0lr7+8hKNKBWpZO5G+oEGta3p335juAWao5nVl6JuleQeBp5sLnU71+WivPrzSYbMpUJyddnXab8sE7ndkzdTNr9qlGv4tbJVhRamPPb87T22SDdb6dcqFBhbjAuOlyH0jkmGztYi6KF9Sr9zd1bYfJQlbN6vUxk5Zej9gPze2qoeNrP0w6Y7jU4ezJKTfEHTqM1RNqELLdhy4NH2bIpDzvcz0yIvNbyTKWJssSVj+QH6fZOQEJiEpr2utCkJVsyBkp909QCd7DXfa/KlyKVL4FDJ6T7VtUrQW3owgRcmtSEPbubVCgVVwxUNR7wwcdu/34XOP1JCJuwm24eFZ+Hc5GllbPA8hi6rFqVT4+qY406sGi1ucwpOtwvguva6EL9qdX91ahR12cNrsLvVR2ZX1YLvL0SJXpZCxwaEbK+DVMXtMdF5csDyu9W/UAAnrbnhfhvOi8grA3ym0Xa+ZE6Q9WBrwINVSUqbkY9blEuw9qJP707+in36Vg3Va2vQZHyv+h19WPQOiJU2MyEybsO1+hh+JvkQwlWvg3UqnBoeWf5XPCH11wvG3kuz8xAe7DNmTNnfDFxJ3f5FqXc79t8OMixM62+urkpvkVvnVTbx3zb59/iu/u3u3zHvlLHjjX6nitI8Y39z8aAawLchxt9BaMe9C1aWOC7JSXFl5Jyi+8XWw6FPPdudXzC+FvUeSm+jLsX+bYHDVe721uR4bv/ldagx9rdXl+lxPHDXb4lGb/w1X1m/H7MV1eS4Vuy65Bv86wUX+Wf5beTvl2LM3wFL+z3n/PFXt+S3Az92BnfsTcX+DJmbfa1aumh7v2yPy6tr9zvS6nY67/mz5Uq/Pf71n5wzH/NriW+sSo+9//ukO+kHP9su29RRoFv44dq+/Bm3/0plb698rvmWtvDoh0b61v0ph6/jzaqfZXmv9bz4OR+39oCCb/kj3G9OL8fY3+13dcq532l4jc3wzd2pT+vtDiMV/c8Juee9B16+UHfLXPrVJzUvgrbgowJvso9/rCf/HCz70HHg746PR/2Vqh46Ondvu2/X8bczb5DJ/3326j2jfOO1f3Cl1LwnK9Ru98xdd0EX4qWhn4/DSdp2GZPYjcSV9P+3VM2+g7p57WldWD6aWmvwr/LlPYZ5vTVnbL7JSoP1v7Nv39yT4jzOuWBSo+Msb7n3vUfb/zPCf54a+l8zLdLxW3Cbxu1fLZM5w7h1u1T0lj7PcP3oLIrzVa0PDfKpypzyhYXbDGHxbBbs5P8aA/jod8VqDQx7W+423f3hkNq23TfMHko8Qy0JyMPrOJpN0+1fd1JeDUbl32tntFt3DJtrMqtdXk4tEHdz3Rs46xgZco6rzumZRin2Z6qCws2+vYHOy7uozrfL3IW+LYbddVHqlzOUvsfmc6xcCeV3WeotC7YoKdHOBdYjjRnbRP20s2fL1L3afutdap+0es+q7JqVT61OspUv+6p9E1oS3sVjoKAOjNjiW+XhN/yOrOzthfLcq3Hacn2Q75jx/S0kN9M9V2H+suqvrWydy197vdt1O2hdYsKk7KnwLKklbkM9RzVwqry7GV1byMsncJqkXaGf7ozPwesy6X98tXBz6B100ZfY+sx3zEVnpB1RCd/OrqwedfhudQ5DG11rRbnUM+FgHOV66QPgjz/wrnYtfQdasJe1OPh4aJ8dfdovf/t0NuMfa9Oxc03JMDbWIPlrbNQ9rNMJF6gjqk31+R+wPAbrFvlWt7eBuelybi5cBX+dOAA3nsxD02/2qo0dGe8FyVj0orfYtWLf8KB/TtQ3K8ay98MdqZBExq298fQq+30zdbjyOeZuG16E15+S3+/O1yPl/fPxG2ZHhxRKt5PAjJLdmPVT1P9kz++TsXQW9z4oNUvyRNHzkVZvwqUP/ok5h9/FPPuSNZ+78SY0ci51t+An5g5AsORg9H/luxv6eyXhh8MU28UtpqKc3DbSD1+AzIxOkf94tDzICEVaUPcaP4/wd/lc3IcSJLzLkhG3vSZQJ1LpZgbrjc3YNycGUjXgpeA5DumYuLuDdp4BbfrNWy4oxgzfugPe8KgPEwd78KGXcHfic1MvScPyRJBdT9HTg7qP5Zr1P3++DJm3DsFaZqXiUjPGiEbnUi6YQQudTZpb9/u93ZiYHkZ0o39D/bgpCMNIVK7I2OmYWJme9rnuD9Aa2BrUkIminevwpSr9Uk81w7F8GDnaZjzIA8zC4Gte8Uum+BclYDiIhVvLZ0TkXnXNCQtew0NXut0tmYqpiq70mxlgAOjxyjblXC978SafipvxhhhuQm3mluo20jCkKxLsfM9f/o3OgeirDy9bb/p7ZMYcUPwlAyeh/54Trm73Z5uckg7kmAdz2jy1PulsmevV/6pDEzDjMo3MDPd6CMIkTbqF6tyKwQvD9L16u0QN0dOOqreCax3rPLaf4ZdWlR6VcGBeQ+PC91DMSAHT/9HJuqnLUK9yvdFS51wPPI4HAP045a0YPuLVcDIeSjO6/rwi1A2YS/dVD5KS4pX5YmMnUvKwS/fWIZxRjxClVWL8umvo5SNGfXrDzPRVqNIN/fXUzC1rbwqGxlWhYb9Ya4LQjT1p4aK01RHsG7+zoSvb0PYuyocMhpSbF1IGvNLvLFsXOf6cdBErNo9D45L/OmYmKbS+I0jWvnTMIfVIu3CE6pc2rWT8Ey9Z6K/61fdxLqOCIWNvIuIUM+F+BAz0aeN55uzCQeUIGtzi3P84w0ONmBrVhpS1U6TSpgBeZntRqULwqGW44E8aP6rEzPmzIZDT5uEAddigKqHg9WTCVdkIi8nzS9olHGkZ6bjqFWF+ukh7HPbGc/XTlrOFEAfS9NUXwPk5yBNQmNqZvUeqkXppMkoXLwStS/Vwvk3/YBGIhyFs+D5/X5Mna4qQ/3XcFys/+0ayqglbaKhX38MaFKFREW0pQHoe4m5gEh3k0sToe7WRkAd63A0JR0udyTt0B05o5K34/1CMCgNI47vROOnbuyt74vMW3PguPI1uA570fyeCzlDYjnKSPm5uRSTJxViyXO1Kp+dmk3YISlpAD74UkXqeAta3Im4+CL9gHDFAFyvqtRjx63TOSq+VvmTeHGHvAlFshJbJ3c3wv3pXrzZJxM5P3bgmjdcaJFyuzuyMqOV1sB4thEmnlHkaeq0VXj8fzgx/64sjJpUiqr/5UaCjUhbl9sA2sqD+q/Jhfk/bn/pzSquBz5xm6uEMHmt79vA21iFkpr+eGb9Csy4LkykRPj9KgnL71yJ1CK7gs+LhmdLsP7yZ7DumRlI66P/HHNsppvUlyXrcPvnNSgcLd2Qi1B7UNVkYesxi/L538oeA+qoNpQK+GD3fIzUwyRdnw+/AXz4XypUVteFw2b9GSlR17eJDvxy/e3wrCv0zwZfWIvmb4LFzAPXs4WY/NMSLF+r0vG1PQjRC2yddlFj104iI7o6Ig51som250KciJHoCzOer2kP+mtv4m60HnDj+itNEkcEYc5QTRCGpgVN29XDJqU9kb3N76P+ns5j8LyfNsF1yNxiJYKxBRNvDP2m6mnah3pb4/lMDMrBT65bg207nNi2Ng0/uTVQtsksvBqkPrkJ6xbPw4z7ZmDcEP2QhheumgokjL8OtRvDjWfsRpw5DY8S3glIQnI6cLrDjDU3jn5yvVZokgaoyAbM1nO7W3F9h4ISGRepS0/YKgxpyBzfin27nNiDm5HeLxHpw6/Btre3o2H7xAiFShgOb0X5ulQ88dI6PP3IDJXP4zBUPxQOectMulBFql8ykuVlxpyW6m3ajf64tI91OkfFhSp/PKeVBdrgukyM+2QfnLv2AP9vunqTT1dia5t6023A9jvTIxykL4ah/nSIi0G4eEaep15VDaTd8zhW1e3Gn/5jChJfH4MlO8x1QzDCldsA2sqDkINn3jK99IpbmqNFuQ3LvNb3w+DdX42StadRXPE48q5W4mxzPZqtMrO1HqXPujF33Uw0P7Wo8xi/TnjR9HwJ1pwuxrLH8pDqbUBtvXn8aayxkW4K79dJcPz8aWzavhuvLHTgyFMFqA7XemRVPv9F5ZrVjOKcZ7DDHCbllknreLjrrLBZf0ZK1PXtN0pMXe7ArMWb8Kfdr6Bs+BEsmt756xRe1xqUtPwEq15agcfnqHScciss3x1CpV2XsGcnkRBdHRGHOtlE23MhTsRG9HmbsGdjDob6+90CkG4gF2661i+p5MH9wSe6xPmmBXXrNqD/sKuVIFS4m9ESNL2TlIp2ouGvuqb3NKC6sgHzJvtnLnkON8OtZ4C3qRb5q5Ti9u/C41yJqmPF+EmmuvE3bjQf7nyD5v3bkJOR5m+VtI1687xjImofm4+6O8fB0U//uQ0PPCoQJ07pVaXbiZ1O/6bg3V2BkoPFmLf0CTzepwIVr3dR9vW7HKlJ+1T89P3WvXirrau5a+zbb0zAUQ+YV2rQrB72qSpP0h05qN3ULlg9ztew5qJxyFQP4KT0W5Hz0gbUGa+DHideW3URxt0UbStbEtIyHdi6ZXvb/VoOfaBvdSZtSA62LZiPEzk3aZVCYnom+i9bjA3ZSjCELE+n9b8RoAroMZzwdz0p3M6d2OnfDMI+NBmfBDrVgJc3NusvI6nIvKcV619tnxzU/PoGbLvHgfRE63SOimvTMfHAy9jaqN/N04yDn/g3O5OG9OxtmL/gBEb/UEtJpP9bf1Qs3YDszPQOLQvhSUX6nQ2meKoXsg8NAwkfz8jy1APXM8NQUqf71i8VyZer8qj141hhXW6F4OVBpdPP/HEzahjPO7VBJi9Z5bX+gxWtdZh/3x5cP/Zm4IgLLmct1qxrgTdURojgW+hCzsLHkZOZg8cXO+CcYy38Wl6fj0LX9bg9S227XHBuWYOa/8/rz+uQdXS02E23JtTkF2ClPpkn4YpkDOx3NPw3US3KZ9L1N8NhrqNam9FWo1yXjlkN67H1nbZQKXHtH6xveV0Qoqk/Q6LiG5gyQtT17YEaFOSvRIOWPkqKpgzEpe7Od/CeOgn3qTN6Hqlyu+st/4SNYFikXVC+DhajQOzaSSTYqCOChi1M3n1HvZy8/X7bhB3PO65Oz4SOgjHUcyERlw9Kwr4D+l2UXtrrDEj1EPZgRWxEn4znSxuKq6/Q982YxvNJYjnuKYZn6UiMmjQZkx/egH1utz6erxk1P89HdYORpWaSkD29GEd+NR65+ZORe88GJD6+CjMkgU85sfzH81GvJ1pi1kQ8cWoJxuflI39SLu7eMhBPL5uoicrmjUXIfyHwuzaRjOfrSELmCExVb+hTcjODPPzSMGVhDhoeugGjskchq2Qf8H1lANJSJbMiH2nAzIclXNLNWwxvWUV7gY2GhEz8ZEF/VP14FCZPGoVRS99H38H6sS6S8OHLKJyk0jNvJIreycGKWf74Jo0tw4rBb6Ige7L2Idcxa4CyCv0zOlfkoew31+PNe1V45EOycvCpZf48i5LkO5/AEwkrMTkrF5PzclH1F/1AMFTFo6Q4Rtyg52u/TDiGu3HbsLTgQuWKIRg9vhZFyt/qRv03O1w3BY+PaUDREJXm2VkoUddeoyzs9Bn9eAcS0Py7QkzOz0dudhEaxqzAbHkZUb+nT/+fmHaiArlit3lZuN81Aqse8b/UWKZzNChbmf3sbdj3C2WbqhzmFm1FS6eXlnbShowDHCMwRC/fiRkqXd236WU6EhKQOWsVbj/w77hBxWVynkqDC9Urs07YeEaUp1KuViG5rkDFUdI0F0vOlGG2MT4kJBblVid4eZC4rdPycIJW94zChHVepA0IDJl1Xluj6sjih7FVCdGKInWtsqP8wnLUX5fsf2kORGbvVu7TBF9bl+4Ahyb89jxVHXwM4cEalBRvhXtHBYrEf+UKy+qR9j3/HZo252Pyi7Ecb2Q33VS+LJ6Ilidy1TNAhSH7fuwctgxTfqAfDoVV+RyknhVPJeGlSVnIVc+K3BVupOb4L9PKyPppOFE5Qb/fBKz5Mg3J0hprdV0Qoqo/gzE4E8VHH0ZBXmnnmerR1rcqfZ6+qwWld+T6P/j9s524eWnnz+wkjpyBFX0qMDJLpWPWBFT/V5ISrkpMB7Mhq7QLIC2rGO5fFCD3MfkKgBV27SQSrOsIq7BZ5t2gcZid34SSbHlOjULRNrf2kuonCUNyxqH2IWU3qw0BF/q5kHn3E+i/yq+XRo0ux/t9TP2RVvZgwbdkNoe+ffaQlSu+TkDiKfUWmvcBxu0ohhbHsKjrTqnr7HSDnPKot99EG2M+4o+8ZSbEbUxMAEbadqUstOFG3ZwsHJl+ALOGWMXDOl+8Hi8SYhMgP6qm8Saox+w7FRi87lrsrswzFaquEXVYpZtEFdKQ9vZpHYqGH8HMA7OQbnWuZf5FYP828edpC+qKRuLIff58PitIS1qfUOkc43h6VV1wYeR1QWd7t1ke7JbBmJbV8wC76SF1ex+Vn/quLazKnDri9apjoTwMeb8w18Wo/uxI+HOjrcNsXWfUvfpuWOzkVaTlMx7lJlQYwobNIj+srjXSxeZzIXTeRGI7fmI3e9cGnh2lyH+qFg2fqoDur0X5nA1IKJtqU/AJEUROEtSuEcWZsyb4hAtiXBhMhI6Hdb7ESvB536lCobIfV6sHnkP1qFhSi3Gj/V19sSLqsKp0t21vVuda5l9khTs06mH0cCGq6pvg/roFDesrsPhoMRxdaIWNmJCCT4hVPHWifPkLV25DHrdbBuNYVnskdtMjUsEnWJU55Vto4aYIeb8w1wUQbf3ZkfDnRluH2bouEsEn2MmrSMtnPMpNqDCEDZtFflhdGyxdLGw0dN5EYjt+LnjssccW6ttxJ+GqDPyrtwnbtv8JTce/g1seKsWUtEv0o6T78Q2+/Oo7SExNR0pf/adzyIXfy8DNfQ/h7fpt2HngQlw3rRQP3hJLyRdH/vtLnLosEd8fmmKjGy/eXILBNw/Fqb858Yf6PTh5xY8xb+5EpLIohqF7lQfS3aG9kDCcg+fCueneJYQQQgghZ5Wz2r1LCCGEEELODRR9hBBCCCG9AIo+QgghhJBeAEUfIYQQQkgvgKKPEEII6SW07K6BsysLAXQXvmmBc0vgYgskHN1b9LmdKJ9eY3sB+95O0/p8lO/wfzvcvB1vYnKv481oaA32eXdihXtHOfLXs4RY04Sa6eVwhjBRzzvVKJ2ej/wyZ6cv73eFs1kGSRw4D+ukltdLMH9HMlL1FVq8h2pRml+C8tXlKMkvRJUrAgnlaUb9+jDrPptpVc/zOaUoryxFft5klG42lqeLkgtUPC7cgAkLnRR+EdC9Rd83J9VbiQfdo9jJ+oHVcBpr23ZDvB4XWr7qvB1zDjtRvbn9DSsW92p+80kUVbviWnhbdlSjtjHEHQLi1GP4qgUuTzd5MHkaULva2bYeZffBC8/uFpwMtk6r14U1D+1B6pxlWFGU2bUPfQfEP65l0AaW9h4J3TZfbRBJuQ4492zUSWeVT+tR8UJfzCx0+JftU7a/cloNLv3ZE5h33zwse/Rm1Oc/ifpw7ynv1yD/gULk35OPoqeUjduqftyoW1qIhqsnYvacp1GWn4CX5z2JWmPNWVu4Uf9IFiY83/6Smzx2HoqPF2L5jrORS140/cdkDO7hIpPdu7bxqheVcjR9ru/2Zj5vQrmzNaZiPPWn67D7MTvrj0aPe385doZ6c49DnHodp1qxc2lTTFvL4s7xY2h2D0X6kCQkdvUz/90s/pb2Hgk9MV8NIinXAefGqk5yH2rpFiKhqa4KhxzjkKmvoe19eyeq3GkYmqbH8Lp0DMdWvPbnMDn9gylY99wqLJvVvm52eNw48jbQ8NJWyPL6CZfIPV1o+th+yrS8Xo4nXw0MWxKyJ83Ahufr0cV2w7B4G6vx5DJjvdyeS/cQfZ4m1Dyci6zBg5GVV4Ka/SGKaGs9ygtHYbA6b1Rhefu4BHnzWFiDutUlyM0ajMHZ0kzdgmZlJIXZaj8rFyXrm9oLvpU/ZXVwrm/3p3yHer/VuplLsFIZbW1ZftDuNO+hujY/A+PgUf6W5GWpY1nIfcB0vza8cFXmo+od45oW1D1apPzQd5U5185Z1Laocku9Hq/Bo1C4NNI3cA8ajHQKvP6bFtSrt7FRKg6Dsyej1JxmOtJllV9WC7y9EiXmLjNPQ1sedkhThZ3wmrsptW6xLc7g/ul5XfusEc4iVL+jVxxa/pm76IxuPfmr/HxVVTpVJZ268ULFKXi43XAqG6h+Q9mElt8qTx+uQdMp7WCALev2o2O2kVGFi1DbZiN+P6vW16BI3a/o9cCKTRHKZgOwCnPVZuP+KsyP1aG5tQHVEeVZ6Lhr+ffISjSgVpWVfNS8r063YU+Gn9r5Oh26rK38sKg32svcKBStdgW1Oc1eTGH2d8V62+sNifvC2va81eqBKtSsL1LhKUKdaZHzoPEXLMqFvTwNFx7z8BcjLYPZu2EDtSjV6yKp65o1v0LnQch4mfDur8UiUzzq2+JhEXa9HNuqs/V0r91c6j83S8Xt9WbdDkKHPWi5PtWstThp9mS6R7BzO9hh2HyoRr06v1PYPU5UjX5QlXXtzHbkmkmSZrkoXVqB8soKlOaPQq48f14sR/mz5aouUPd5sT13Pa4qFKrnQNVqdR9z3SJpOX2yXkYKUftSdVv88ufU6mKoCa464KYfprYt/+VuFb87Lv11sXL1HwctLV0kDTNe2oRNL86FQ+k9t1uMxIG0a2xK6tY6VNV7lC+dSRg8FONc29AQz164U6quXLsPicEC0NOQFTnOrTvk21gw1rfozVb//kcbffdnLPHtOqm2D2/23Z9S6dsrv3+xy7co437f2g+Oaecd27XEN7Zgo++QHPtzpS8lJeBYSorv/t8d8p2U459tV9cW+DZ+aMefCb7KXaZjGfr9z7T6Ns9K8VX+WbYD3MldviXK/7V/8++f3GO6Tjt2v2/jR/5jrVsW+DKM+5lc6yv3+8b+Z6N//8ONvgIVfvP+3VP815x8a5EvY9Za3/5jct0x365fj/UVqHjKeXsrVJxf8aejedvsDv2uwJfxq+2+Y9r+IS1OxnlybOyvd/mPHWv0PVeQ4Vuy62SH6zUn6TRrs69V35d7pYyv9O36TPb9Ycqo2Ksdswqv2Un8U/RrrPzrlNd7Kn0TUn7hq5NzA8J15sxeX6U6d/Nh/36oNNFcwLWhw+23g4y5m32HxEa/UvbbloYnfbsWZ2h2p/nZWudbYNidssEFGcq29vjDffLDzb4HHQ/66rSwGX5u9DW2HvMdE3/1cGjOwmbN6RYuzGNVvrd+pY7pYU7JVeVMS+OTvv0vKLtYvEsrL9HFXe2by6ty9uypc7kyxym0Hxb1hpbWgTbSbgcdXECYj72pyqeyvb1a3E/6Dr38oO+WuXV+u9DOzfA9uKHR13rsmL9uMbsAvyzt2KoeMrnw4Wm/X2BadrT3zjaweW6Gb+xKqWOs86DzfUxO0lrZ8Wa9ftPSevxzvkbZtgp7YDm2qrO1+5vzWpWdjLG+594Vf8OEvUO59pfPghf2+499sde3JDej/dqAOsDsjy27eFkPu9hiKHszO+06lScLdftWz40UtV+wwR++Qy+r+6cs8tu0Hs+UlAW+7V/oZTRFTx/Nv5O+xt9O8KVkqPM/U88cU56032uCSu/23zT7FP+0OImT+lL9Nt94Plg7LX06XG/TaXmr8kE93zqVoaBOlfX7JT7+8LU9F9tco68yI8W34E2/LcXeKbv51d3KTvb788Bm+nRXd+5b+vbXo+brKZg6Uh9NM8CB0cOq0BDwZuRx1aP6jqmYeK3/zSAxcwRynDvRaLxtjxmNHNOx4cjB6H9L9r/V9EvDD4apt93P7fgzDRMzTcfcH6DV9EYflIRMFO9ehSlXe+HxeOC9diiGG9d5vTgpf9TvQtKYX+KNZeP8YypMJN0wApc6m7QWCfd7OzGwvAzpxv4He3DSkaau8cC1vRrjJk1EqhbERGQ6cuB0Nqr3XXsk37kKux9xIPGUR4U1Eddl5bS92Xm/VGFU4VX/lNfqzazyDcxMt9fllVMwEZn9ZMsfJveBVhWm6MMb3D8dc17/cApm3/MyXNJnEDPCh3vqPXlIlqS5IBmOHCMNVdrJ279Xpa2MH0vKwS/fWIZxA1Qeul7DhjuKMeOH/nAnDMrD1PEubNjV/lY99Z6JSEtK7LSYeFib1Qgf5pwcB5LkrV6FOXNkDpA9Qk/jBKReNxTuw8eUL9HGvTNdsSeDkH5Y1Bv+tDal1w8zMULbCocbrjc3YNycGUjXLk1Asvize4NpLO9UTJ2UhqTEIAumByGUHdvLUzvhiQyzDeRNnwnUubo0UU5L67ypyNMnBiT+cCKKxyWqImAj7DbrbD85uK0tr/MwsxDYujfSkCcgs2Q3Vv00VauPPV+nYugtbnzQ2lazhMBOPii7uEMPu9jimHocCffc0EnPTFPWobhA2tmux803pMoeEi6U/5/x2750Y85ZgbIVU5DZRx1L/QHS4UTTh0a9l4C0afMwK6kaJXmlaJlb3JYnGp8eQb3yO/m7+v45QsaZVq+rR1PqbbhjeHurY2hkHF05mu4MiE8HkjBwGELno4zVXK3uG8bVH9TPD8D9xiJs6D8PM4b4bbWnc+5Fn7LoD3bPx0hpjtZcFh5+A/jwvzpmoPero8DqfNzQdt5kVKABR47pJwQgxScYkfpjDy+aN5di8qRCLHmuFrUvqcKoH0GiA79cfzs86woxKitX6xZo/iaIqQ9Kw4jjUum7sbe+LzJvzYHjytfgOqz8fs+FnCHSrqwE5HGgevoNetiVm1QBvH2k7YEcluMuVBVOxuRHl2PNS7V47e32PqXUaavw+P9wYv5dWRg1qRRV/8uNBDtPtpDEILxhUSJJPQuOfqXVjDEi2nAnwlGyDrd/XoPC0dKVvwi1qiKR7hN3ayNwSUKHSi45JR0ud/iUsGezkYXZ/0AJRuzyLBb2FNIPq3rjv5UtBKS1PdxoaQD6qmvbSVYPFJdJfMQGe3ka5/D0648BTUpQ67vR4D7sAjrYUhIyp01U4ijysIeqs4ORlDQAH3wZeci12aqTJqNw8UpVT9fC+Tf9gCVnzy6sSLgyHan/dGHl0kWo2LSvc3nsk46ZD02F252I668ObFboTMIl1+tbHblevXhGXnbskTxyBmbMeRorpnrx8OiRWOS0flmXcXQrj/4EM0aGj8+Zb0LYwyAHZtyn7hvG5Vyrn2+mtQ7L30zFbPWiF680Odt0jzF9Oc9gx4EDOGByy8YEmUf3800dzjlwYDdm/UA/Fgmx8sfg8FaUr0vFEy+tw9OPiAGNw1D9EJQhei93YNbiTfjT7ldQNvwIFk2vDvJ2nYbM8a3Yt8uJPbgZ6f0SkT78Gmx7ezsatqtK9Dr9NMWsF81hV273rKBjHTrjhau6BC0/WYVNlY+jWBn6VEf765NXlb+0ex7Hqrrd+NN/TEHi62OwJAazoqIPrx1U+n6pKrA4WHI04fZ+nQTHz5/Gpu278cpCB448VYDq/eohNWAI8LV+ko6Ma7m+w4PEAps2G6u0joU/sbAnSz9C1Rv/otI0IK3tkYTkdOB0h1m+bhz95PouvvyEIGyexjk8Z07Do5KrK14lSQAD0lpa0bxxDru0ACddGKlHLdi6uAapT27CusXztAf9OFUsw3OW7SIoLah9IAtFW7247QFVd08eqkKlUC8/7ZP3m1D7/BHkjDyK8idqOk5sUMI88ImaPEhFCkdx0hibqPw6of4MSNFbLGOJ/rmWan02eWJ/EXFubHjLemZ183t74Dm0BvOn5yN/ejlq1W9Ha8tNYxVtYLOlL9iYWvff38cRz06U/1zu7x/Xj90rUTS9AmH0arfl3Iu+69Ixq2E9thqD8ZUJNGw2DZLVke5Px0sbUGdkjAzwXh98UoAVXfWnY8HXURXQMVVctK49hdu5Ezv9m8CBGhTkr0SDdiwBSSkDcak7+BtJ2pAcbFswHydybtIKaGJ6JvovW4wN2UoEaqUwCUMcDtRuqkOLEY7WetSYJgtYowTSSTdOfKWntacZTqcxG8kD1zPDUFKn+9UvFcmXAyf8fQudUfcP/57d1fCG4O330WSYS+t2bFjtwM3XqxT7jhJc6ph/cLqK0Tuu9nww+Noi1G1xijbcTajJL8BKfUJOwhXJGNjvKLzKj6T0W5FjtjuPE6+tugjjbgovpezZbKzSuqv+nNb/2rWnRFw+KAn7DujnqbjttWOTFvVG0vU3d0yv1mZ8oG9ak4R0R44/7vovHudrWHPROGSaXrqsMeJvjd08tQxPv8uRmrQPzUYXY+tevCUPJTMB9r5vv/Go9KLhFSUM7kxHqmUeGASPlz8e29ofgK11KBmzBg3eWKSlmX1oMj7vcaoBL29sxsQbpRvURtjbyrUHHreyn1N6mrid2On0b7bRdq6ZrsUlJrN33U3Yo8Lad1gmtMm2x49CM529VSjQJ3s0rX4Se0YWY9nCR5HT+CTKNxuhVVw+EOmqFLR8pu8rErNyMCupHu8bH9o71IS9SeNw+w91eaju6WpssVHPd8RzuAGugx1j7D2yD1vfcCn78/vnOSphS9LqP63T9Bs3mlwNaAl47qdNW4d1aw03DxPVb/0nzsO6yonKbg38M4PTB4VoDbTZ0mdq/2gjaaS6V9v9l2H2MPVj1mysWFusTUiBuxktXc7cs8u5F30JmZi9fhpOVE5Abn4+JmdPwJov05DcRz9uMGgilv3merx57yhMVqo/d/R87Puuegjoh20TtT/qYZgzDrUP5SJ3dUClct0UPD6mAUVDRmFUdhZKGoFrVDE/fcZ/7Om7WlB6R65/htXPduLmpVOCt5qoB9k4ODDiBr3Q9cuEY7gbtw1rb1pOvnMZVgx+EwWjJyM/PxejHt2HpO/bTYVEOApXoO+KkcjKHoWsu6px5HJVdL6ULh45tgrJdQUYNUm91eTlYsmZMsx2BL4fKgZnovjowyjIK22bURyKroU3BIPPYM9jk1X+qfS8tQJ9K5/AxEHq90HjMDu/CSXZuZicNwpF29wq19pJyyqG+xcFyH2sXlUTAQTEKbpwp2HK4oloeULZiGbL92PnsGWYIq03V+ShrM3uVLjVgxFPLcMMOw9AmzYbq7SO2p8rhmD0+FoUKdupbrRrTwnIvPsJ9F81Up2n0mV0Od7vY1TnFn5Y1RsqvZ54KgkvTcpC7iSVFyvcSM3x+xiOpLFl/rhnq7hPGgXJprKKGfZaOTvEX/8tFDbz1DI8Kg1+sqA/qn6s/FDHRi19H30Ha5dpBLP3hA9fRqGWliNR9E4OVszKVDlglQcKq3hpaQ2suUuv3+59Ezevno1MVWF1KS07kYDm3xVissrr3OwiNIxZgdlyk3Bh71CuVflcmIOGh25Q9bSq/0r2Ad9XAsToJrao16KOi9XsXW1WNLDtmSJUVFb4Zw8rYVbzRInaL0dJlXYUS4oq4LrEgeJfT8Wlm55EqTp3kTp1+PgkbNt9FOO+82ctTOOXNsB5ROX0saM4pIqIc16Bsi11rQipK67G0LQGHPk/JgknZWh1Gc6sL1J+lqN0aTNylhYjR/ukixv1vx6v/B3ZOc+12cr5pvApe6p06eJQvfj+VKXR2PkdZrcnZM7GuopsoL5Gxa0UJRuA4hXrUKb36LnryzE+fzJGrg14tupoM6nzS6Euwwc1TyL/YVNLn1LybncEM4GjQZshrfLpDbW9fYnW0ifp2rRZ1T2mGdY9gW/JbA59+9xzygNvn/DjCbweLxK6+k0tRVT+WIVRunLVEfMUeDOxCrcfLzynEpAYKI5t4lVvuwl9QoTFq+J4oYpjiHj4ifT+XQtvG41VGLx2IHZX5iHJq9I7IcjYLavwW8YtWBijDLeFnXTFDuxdG6O0jtKfTmG0ZU9h4mblR8i0VvbhVfYRVVJHn4aR5m+X81TVO56v1bFgXrSlmxt1c7JwZPoBzBqiflYPrIQgflmFJVw4Qx/voj1+Woei4Ucw88AspFvUsZHcP1T8w4e1i3E5hzStnoDx3sdx4OfSrWsDZTvNW+aj5rtleFxr1rKJKo/OqkK03L4JU4KNkwuKSteDWzH/d0koi/DbiN7d5bjh+Wvwxipz6x8JRfcY02dgQ/AJ4StIe0Tlj1UYLwgt+IRYhdtP1yqekIJPSAjxcO1ApPePQ0UZTPAJVuG3jFuwMEYZbgs76Yod2Ls2VmkdnT+dwmjLnsLEzcqPkGkdreATok/DSPO3y3mq6p2QXoRIt+CCxzos4cIZ+nis7FFhUcdGcv9Q8Q8f1hjG5SyTljcTOZVb7Y9FU8nZ3JSAzO9H2ILWpwXNB0cgXXpfbKNu9lETEobp3b22cWP7Sw2YMTOHgs8m3Uv0ERKO76RhnmOAVBGEENskYIBjHtK+o+/2JPoMwIhH0joM1SBRcEUe5lWcwKJn7C0j5nWuxGspM+HQV/CwS/OLa9AyaRzSIqmkTzmx8vVkzAw2nMgCWaXjpctnY6r+mTUSnu7VvUsIIYSQuNGyuxbNAyfCEVFLXDfkmxY4t7Qg9c7MyMf292Io+gghhBBCegHs3iWEEEII6QVQ9BFCCCGE9AIo+gghhBBCegEUfYQQQgghvQCKPkIIIYSQXgBFHyGEEEJIL4CijxBCCCGkF0DRRwghhBBy3gP8/wLjpXBtYiK3AAAAAElFTkSuQmCC)"
      ],
      "metadata": {
        "id": "ZiK_VK1wAmuA"
      }
    },
    {
      "cell_type": "markdown",
      "source": [
        "![image.png](data:image/png;base64,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)"
      ],
      "metadata": {
        "id": "ozkv-lVKApng"
      }
    },
    {
      "cell_type": "code",
      "source": [
        "import torch\n",
        "from torch import nn\n",
        "from d2l import torch as d2l\n",
        "\n",
        "def pool2d(X, pool_size, mode='max'):\n",
        "    p_h, p_w = pool_size\n",
        "    Y = torch.zeros((X.shape[0] - p_h + 1, X.shape[1] - p_w + 1))\n",
        "    for i in range(Y.shape[0]):\n",
        "        for j in range(Y.shape[1]):\n",
        "            if mode == 'max':\n",
        "                Y[i, j] = X[i: i + p_h, j: j + p_w].max()\n",
        "            elif mode == 'avg':\n",
        "                Y[i, j] = X[i: i + p_h, j: j + p_w].mean()\n",
        "    return Y"
      ],
      "metadata": {
        "id": "Yt3AaaMvAcx_"
      },
      "execution_count": 24,
      "outputs": []
    },
    {
      "cell_type": "code",
      "source": [
        "X = torch.tensor([[0.0, 1.0, 2.0], [3.0, 4.0, 5.0], [6.0, 7.0, 8.0]])\n",
        "pool2d(X, (2, 2))"
      ],
      "metadata": {
        "colab": {
          "base_uri": "https://localhost:8080/"
        },
        "id": "E6A3q2nNAU8I",
        "outputId": "611d5fc8-c61f-44fb-b957-70bb0251c810"
      },
      "execution_count": 25,
      "outputs": [
        {
          "output_type": "execute_result",
          "data": {
            "text/plain": [
              "tensor([[4., 5.],\n",
              "        [7., 8.]])"
            ]
          },
          "metadata": {},
          "execution_count": 25
        }
      ]
    },
    {
      "cell_type": "code",
      "source": [
        "pool2d(X, (2, 2), 'avg')"
      ],
      "metadata": {
        "colab": {
          "base_uri": "https://localhost:8080/"
        },
        "id": "qXKY3iofAt6i",
        "outputId": "b98495eb-bf26-46ad-db8e-73c714294b3a"
      },
      "execution_count": 26,
      "outputs": [
        {
          "output_type": "execute_result",
          "data": {
            "text/plain": [
              "tensor([[2., 3.],\n",
              "        [5., 6.]])"
            ]
          },
          "metadata": {},
          "execution_count": 26
        }
      ]
    },
    {
      "cell_type": "markdown",
      "source": [
        "**6.5.2. Padding and Stride**"
      ],
      "metadata": {
        "id": "b-jW8mn4AuQY"
      }
    },
    {
      "cell_type": "code",
      "source": [
        "X = torch.arange(16, dtype=torch.float32).reshape((1, 1, 4, 4))\n",
        "X"
      ],
      "metadata": {
        "colab": {
          "base_uri": "https://localhost:8080/"
        },
        "id": "F1W4AtlBAwiO",
        "outputId": "fb0f7253-892f-4edb-b4bc-da46eb6bada6"
      },
      "execution_count": 27,
      "outputs": [
        {
          "output_type": "execute_result",
          "data": {
            "text/plain": [
              "tensor([[[[ 0.,  1.,  2.,  3.],\n",
              "          [ 4.,  5.,  6.,  7.],\n",
              "          [ 8.,  9., 10., 11.],\n",
              "          [12., 13., 14., 15.]]]])"
            ]
          },
          "metadata": {},
          "execution_count": 27
        }
      ]
    },
    {
      "cell_type": "code",
      "source": [
        "pool2d = nn.MaxPool2d(3)\n",
        "pool2d(X)"
      ],
      "metadata": {
        "colab": {
          "base_uri": "https://localhost:8080/"
        },
        "id": "y9mD25gKAzUW",
        "outputId": "7ed6df91-ed67-416e-e65e-ead37472f13e"
      },
      "execution_count": 28,
      "outputs": [
        {
          "output_type": "execute_result",
          "data": {
            "text/plain": [
              "tensor([[[[10.]]]])"
            ]
          },
          "metadata": {},
          "execution_count": 28
        }
      ]
    },
    {
      "cell_type": "code",
      "source": [
        "pool2d = nn.MaxPool2d(3, padding=1, stride=2)\n",
        "pool2d(X)"
      ],
      "metadata": {
        "colab": {
          "base_uri": "https://localhost:8080/"
        },
        "id": "9RXqSPmJA0eG",
        "outputId": "ec8e5494-d0d5-40a5-f537-9f8bb924f1a5"
      },
      "execution_count": 29,
      "outputs": [
        {
          "output_type": "execute_result",
          "data": {
            "text/plain": [
              "tensor([[[[ 5.,  7.],\n",
              "          [13., 15.]]]])"
            ]
          },
          "metadata": {},
          "execution_count": 29
        }
      ]
    },
    {
      "cell_type": "code",
      "source": [
        "pool2d = nn.MaxPool2d((2, 3), stride=(2, 3), padding=(0, 1))\n",
        "pool2d(X)"
      ],
      "metadata": {
        "colab": {
          "base_uri": "https://localhost:8080/"
        },
        "id": "Y8Nvvcs7A2Ew",
        "outputId": "bf32b61b-6935-4aff-e3a1-febaf16cc54c"
      },
      "execution_count": 30,
      "outputs": [
        {
          "output_type": "execute_result",
          "data": {
            "text/plain": [
              "tensor([[[[ 5.,  7.],\n",
              "          [13., 15.]]]])"
            ]
          },
          "metadata": {},
          "execution_count": 30
        }
      ]
    },
    {
      "cell_type": "markdown",
      "source": [
        "**6.5.3. Multiple Channels**"
      ],
      "metadata": {
        "id": "lE5anDotA5UY"
      }
    },
    {
      "cell_type": "code",
      "source": [
        "X = torch.cat((X, X + 1), 1)\n",
        "X"
      ],
      "metadata": {
        "colab": {
          "base_uri": "https://localhost:8080/"
        },
        "id": "UNIzNcZHA3zh",
        "outputId": "950e5544-494f-4183-b3ce-474e923dd52a"
      },
      "execution_count": 31,
      "outputs": [
        {
          "output_type": "execute_result",
          "data": {
            "text/plain": [
              "tensor([[[[ 0.,  1.,  2.,  3.],\n",
              "          [ 4.,  5.,  6.,  7.],\n",
              "          [ 8.,  9., 10., 11.],\n",
              "          [12., 13., 14., 15.]],\n",
              "\n",
              "         [[ 1.,  2.,  3.,  4.],\n",
              "          [ 5.,  6.,  7.,  8.],\n",
              "          [ 9., 10., 11., 12.],\n",
              "          [13., 14., 15., 16.]]]])"
            ]
          },
          "metadata": {},
          "execution_count": 31
        }
      ]
    },
    {
      "cell_type": "code",
      "source": [
        "pool2d = nn.MaxPool2d(3, padding=1, stride=2)\n",
        "pool2d(X)"
      ],
      "metadata": {
        "colab": {
          "base_uri": "https://localhost:8080/"
        },
        "id": "idrBMFP8A75H",
        "outputId": "5fdf6e98-8bf6-4068-c630-9c859d1b6ff1"
      },
      "execution_count": 32,
      "outputs": [
        {
          "output_type": "execute_result",
          "data": {
            "text/plain": [
              "tensor([[[[ 5.,  7.],\n",
              "          [13., 15.]],\n",
              "\n",
              "         [[ 6.,  8.],\n",
              "          [14., 16.]]]])"
            ]
          },
          "metadata": {},
          "execution_count": 32
        }
      ]
    },
    {
      "cell_type": "markdown",
      "source": [
        "# **6.6. Convolutional Neural Networks (LeNet)**"
      ],
      "metadata": {
        "id": "U5dsEfuUBCM3"
      }
    },
    {
      "cell_type": "markdown",
      "source": [
        "**6.6.1. LeNet**"
      ],
      "metadata": {
        "id": "jyQ_E53ZtjfJ"
      }
    },
    {
      "cell_type": "markdown",
      "source": [
        "![image.png](data:image/png;base64,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)"
      ],
      "metadata": {
        "id": "tXnQTvj6tr7h"
      }
    },
    {
      "cell_type": "code",
      "source": [
        "import torch\n",
        "from torch import nn\n",
        "from d2l import torch as d2l\n",
        "\n",
        "net = nn.Sequential(\n",
        "    nn.Conv2d(1, 6, kernel_size=5, padding=2), nn.Sigmoid(),\n",
        "    nn.AvgPool2d(kernel_size=2, stride=2),\n",
        "    nn.Conv2d(6, 16, kernel_size=5), nn.Sigmoid(),\n",
        "    nn.AvgPool2d(kernel_size=2, stride=2),\n",
        "    nn.Flatten(),\n",
        "    nn.Linear(16 * 5 * 5, 120), nn.Sigmoid(),\n",
        "    nn.Linear(120, 84), nn.Sigmoid(),\n",
        "    nn.Linear(84, 10))"
      ],
      "metadata": {
        "id": "mxnmJ_hgA9RY"
      },
      "execution_count": 33,
      "outputs": []
    },
    {
      "cell_type": "markdown",
      "source": [
        "![image.png](data:image/png;base64,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)"
      ],
      "metadata": {
        "id": "cQX_w_aouFoc"
      }
    },
    {
      "cell_type": "code",
      "source": [
        "X = torch.rand(size=(1, 1, 28, 28), dtype=torch.float32)\n",
        "for layer in net:\n",
        "    X = layer(X)\n",
        "    print(layer.__class__.__name__,'output shape: \\t',X.shape)"
      ],
      "metadata": {
        "colab": {
          "base_uri": "https://localhost:8080/"
        },
        "id": "7jlRGNuduBvF",
        "outputId": "f9844a24-f7a3-469f-e0d2-e43ca02f8e64"
      },
      "execution_count": 34,
      "outputs": [
        {
          "output_type": "stream",
          "name": "stdout",
          "text": [
            "Conv2d output shape: \t torch.Size([1, 6, 28, 28])\n",
            "Sigmoid output shape: \t torch.Size([1, 6, 28, 28])\n",
            "AvgPool2d output shape: \t torch.Size([1, 6, 14, 14])\n",
            "Conv2d output shape: \t torch.Size([1, 16, 10, 10])\n",
            "Sigmoid output shape: \t torch.Size([1, 16, 10, 10])\n",
            "AvgPool2d output shape: \t torch.Size([1, 16, 5, 5])\n",
            "Flatten output shape: \t torch.Size([1, 400])\n",
            "Linear output shape: \t torch.Size([1, 120])\n",
            "Sigmoid output shape: \t torch.Size([1, 120])\n",
            "Linear output shape: \t torch.Size([1, 84])\n",
            "Sigmoid output shape: \t torch.Size([1, 84])\n",
            "Linear output shape: \t torch.Size([1, 10])\n"
          ]
        }
      ]
    },
    {
      "cell_type": "markdown",
      "source": [
        "**6.6.2. Training**"
      ],
      "metadata": {
        "id": "bZdJ3dl-uMRp"
      }
    },
    {
      "cell_type": "code",
      "source": [
        "batch_size = 256\n",
        "train_iter, test_iter = d2l.load_data_fashion_mnist(batch_size=batch_size)"
      ],
      "metadata": {
        "colab": {
          "base_uri": "https://localhost:8080/",
          "height": 477,
          "referenced_widgets": [
            "edf4b0d875994313b3d59f94e31f28c0",
            "55964f7542ea4f0fb9b3435023b440cb",
            "4b4eee8533064e80af36f40f5644dd46",
            "c68b47a71953460f9f55aae223a36bb5",
            "1063a1be20564016a3e220c809be4ce4",
            "d6ccc086cf7d4ec6ad97e430c379eebd",
            "6f929a0fbd144da6a918e6e9e8909d8a",
            "62c32d0545e3493180c4a7d0f6218a47",
            "f78b1b36ce764c18829da1c95e292445",
            "c056e29ed4ef4528920e75d14bd3207d",
            "22e86369e6de4d2cab31b17668206540",
            "d46a50b7598749e18c64639093354fa6",
            "2ad9f880d78d460c875b42a766e1baf7",
            "9557e3d90caa4296867c1d10a5ef8c32",
            "774bce399a3c4c3d8ee2db7898ac6707",
            "157f45370ca144f783e7c47ebb40aee4",
            "cdbdddbc977a41e997e6feeaf9b2467b",
            "b977e15175ef418db9a3a6b533af33bc",
            "66e39f16ceec4bdaacae1383a63755f2",
            "2df889c6480e4a5dacfdc5cc0a7d6fe2",
            "2dba60da85a2444f98d19b5f7666c1cb",
            "261a98b1cbb043c6a11346496e32c6ac",
            "9bcb1b34fb9f4154b09c67596a724125",
            "2b59f2f622ad4baa86afe0cda759a9e7",
            "f7d23f92a4d646cba6c417cfaa3e0627",
            "1c9b922fd37b4fea8a7b5fd271ee94ac",
            "ad635c766f3448dfa1788d7c51cd691c",
            "8e6323e27c6a449681143b337658f5e0",
            "ac12ee05702448cbba36e16eb8ccf252",
            "8ec3d537658246f08fdb779831504414",
            "060e304358724477bfd153bc9ccb7c55",
            "18822cd26e4446b7adc67f267d751fb6",
            "dd8fcdb0d953490ab367d3dab6bfe652",
            "915468c25344426d8dbb7e99f81b3ce5",
            "d99e569acdeb4ec29c13e15c922c8132",
            "51ac892e02e948c486b8633958cfe0cc",
            "e8a396fa7222455ca1375793c7a5b547",
            "8fdbb866fdbe40268d64ffa43b90e5f1",
            "c94b2e931ebf441b8f4f878eef4a5eb1",
            "f8cf95c95f994b4d8f2838124d67a495",
            "33c0e57368a6428bb24f51e9ada154fe",
            "68101737365d4d128f6182ba523992c0",
            "3afdf18511c046a7b91e88cf8a24a18e",
            "32eaeebf635f45b9a1cdaa648cfdcb2a"
          ]
        },
        "id": "2sN9ndxSuIuF",
        "outputId": "396a06a6-da56-4d4f-bcfc-9ef321ef1b0c"
      },
      "execution_count": 35,
      "outputs": [
        {
          "output_type": "stream",
          "name": "stdout",
          "text": [
            "Downloading http://fashion-mnist.s3-website.eu-central-1.amazonaws.com/train-images-idx3-ubyte.gz\n",
            "Downloading http://fashion-mnist.s3-website.eu-central-1.amazonaws.com/train-images-idx3-ubyte.gz to ../data/FashionMNIST/raw/train-images-idx3-ubyte.gz\n"
          ]
        },
        {
          "output_type": "display_data",
          "data": {
            "text/plain": [
              "  0%|          | 0/26421880 [00:00<?, ?it/s]"
            ],
            "application/vnd.jupyter.widget-view+json": {
              "version_major": 2,
              "version_minor": 0,
              "model_id": "edf4b0d875994313b3d59f94e31f28c0"
            }
          },
          "metadata": {}
        },
        {
          "output_type": "stream",
          "name": "stdout",
          "text": [
            "Extracting ../data/FashionMNIST/raw/train-images-idx3-ubyte.gz to ../data/FashionMNIST/raw\n",
            "\n",
            "Downloading http://fashion-mnist.s3-website.eu-central-1.amazonaws.com/train-labels-idx1-ubyte.gz\n",
            "Downloading http://fashion-mnist.s3-website.eu-central-1.amazonaws.com/train-labels-idx1-ubyte.gz to ../data/FashionMNIST/raw/train-labels-idx1-ubyte.gz\n"
          ]
        },
        {
          "output_type": "display_data",
          "data": {
            "text/plain": [
              "  0%|          | 0/29515 [00:00<?, ?it/s]"
            ],
            "application/vnd.jupyter.widget-view+json": {
              "version_major": 2,
              "version_minor": 0,
              "model_id": "d46a50b7598749e18c64639093354fa6"
            }
          },
          "metadata": {}
        },
        {
          "output_type": "stream",
          "name": "stdout",
          "text": [
            "Extracting ../data/FashionMNIST/raw/train-labels-idx1-ubyte.gz to ../data/FashionMNIST/raw\n",
            "\n",
            "Downloading http://fashion-mnist.s3-website.eu-central-1.amazonaws.com/t10k-images-idx3-ubyte.gz\n",
            "Downloading http://fashion-mnist.s3-website.eu-central-1.amazonaws.com/t10k-images-idx3-ubyte.gz to ../data/FashionMNIST/raw/t10k-images-idx3-ubyte.gz\n"
          ]
        },
        {
          "output_type": "display_data",
          "data": {
            "text/plain": [
              "  0%|          | 0/4422102 [00:00<?, ?it/s]"
            ],
            "application/vnd.jupyter.widget-view+json": {
              "version_major": 2,
              "version_minor": 0,
              "model_id": "9bcb1b34fb9f4154b09c67596a724125"
            }
          },
          "metadata": {}
        },
        {
          "output_type": "stream",
          "name": "stdout",
          "text": [
            "Extracting ../data/FashionMNIST/raw/t10k-images-idx3-ubyte.gz to ../data/FashionMNIST/raw\n",
            "\n",
            "Downloading http://fashion-mnist.s3-website.eu-central-1.amazonaws.com/t10k-labels-idx1-ubyte.gz\n",
            "Downloading http://fashion-mnist.s3-website.eu-central-1.amazonaws.com/t10k-labels-idx1-ubyte.gz to ../data/FashionMNIST/raw/t10k-labels-idx1-ubyte.gz\n"
          ]
        },
        {
          "output_type": "display_data",
          "data": {
            "text/plain": [
              "  0%|          | 0/5148 [00:00<?, ?it/s]"
            ],
            "application/vnd.jupyter.widget-view+json": {
              "version_major": 2,
              "version_minor": 0,
              "model_id": "915468c25344426d8dbb7e99f81b3ce5"
            }
          },
          "metadata": {}
        },
        {
          "output_type": "stream",
          "name": "stdout",
          "text": [
            "Extracting ../data/FashionMNIST/raw/t10k-labels-idx1-ubyte.gz to ../data/FashionMNIST/raw\n",
            "\n"
          ]
        },
        {
          "output_type": "stream",
          "name": "stderr",
          "text": [
            "/usr/local/lib/python3.7/dist-packages/torch/utils/data/dataloader.py:481: UserWarning: This DataLoader will create 4 worker processes in total. Our suggested max number of worker in current system is 2, which is smaller than what this DataLoader is going to create. Please be aware that excessive worker creation might get DataLoader running slow or even freeze, lower the worker number to avoid potential slowness/freeze if necessary.\n",
            "  cpuset_checked))\n"
          ]
        }
      ]
    },
    {
      "cell_type": "code",
      "source": [
        "def evaluate_accuracy_gpu(net, data_iter, device=None): #save\n",
        "    \"\"\"Compute the accuracy for a model on a dataset using a GPU.\"\"\"\n",
        "    if isinstance(net, nn.Module):\n",
        "        net.eval()  # Set the model to evaluation mode\n",
        "        if not device:\n",
        "            device = next(iter(net.parameters())).device\n",
        "    # No. of correct predictions, no. of predictions\n",
        "    metric = d2l.Accumulator(2)\n",
        "\n",
        "    with torch.no_grad():\n",
        "        for X, y in data_iter:\n",
        "            if isinstance(X, list):\n",
        "                # Required for BERT Fine-tuning (to be covered later)\n",
        "                X = [x.to(device) for x in X]\n",
        "            else:\n",
        "                X = X.to(device)\n",
        "            y = y.to(device)\n",
        "            metric.add(d2l.accuracy(net(X), y), y.numel())\n",
        "    return metric[0] / metric[1]\n"
      ],
      "metadata": {
        "id": "IR4xAs0VuQR1"
      },
      "execution_count": 36,
      "outputs": []
    },
    {
      "cell_type": "code",
      "source": [
        "def train_ch6(net, train_iter, test_iter, num_epochs, lr, device):\n",
        "    \"\"\"Train a model with a GPU (defined in Chapter 6).\"\"\"\n",
        "    def init_weights(m):\n",
        "        if type(m) == nn.Linear or type(m) == nn.Conv2d:\n",
        "            nn.init.xavier_uniform_(m.weight)\n",
        "    net.apply(init_weights)\n",
        "    print('training on', device)\n",
        "    net.to(device)\n",
        "    optimizer = torch.optim.SGD(net.parameters(), lr=lr)\n",
        "    loss = nn.CrossEntropyLoss()\n",
        "    animator = d2l.Animator(xlabel='epoch', xlim=[1, num_epochs],\n",
        "                            legend=['train loss', 'train acc', 'test acc'])\n",
        "    timer, num_batches = d2l.Timer(), len(train_iter)\n",
        "    for epoch in range(num_epochs):\n",
        "        # Sum of training loss, sum of training accuracy, no. of examples\n",
        "        metric = d2l.Accumulator(3)\n",
        "        net.train()\n",
        "        for i, (X, y) in enumerate(train_iter):\n",
        "            timer.start()\n",
        "            optimizer.zero_grad()\n",
        "            X, y = X.to(device), y.to(device)\n",
        "            y_hat = net(X)\n",
        "            l = loss(y_hat, y)\n",
        "            l.backward()\n",
        "            optimizer.step()\n",
        "            with torch.no_grad():\n",
        "                metric.add(l * X.shape[0], d2l.accuracy(y_hat, y), X.shape[0])\n",
        "            timer.stop()\n",
        "            train_l = metric[0] / metric[2]\n",
        "            train_acc = metric[1] / metric[2]\n",
        "            if (i + 1) % (num_batches // 5) == 0 or i == num_batches - 1:\n",
        "                animator.add(epoch + (i + 1) / num_batches,\n",
        "                             (train_l, train_acc, None))\n",
        "        test_acc = evaluate_accuracy_gpu(net, test_iter)\n",
        "        animator.add(epoch + 1, (None, None, test_acc))\n",
        "    print(f'loss {train_l:.3f}, train acc {train_acc:.3f}, '\n",
        "          f'test acc {test_acc:.3f}')\n",
        "    print(f'{metric[2] * num_epochs / timer.sum():.1f} examples/sec '\n",
        "          f'on {str(device)}')"
      ],
      "metadata": {
        "id": "xbFEBkkRum1r"
      },
      "execution_count": 37,
      "outputs": []
    },
    {
      "cell_type": "code",
      "source": [
        "!pip install -q matplotlib==3.0.2"
      ],
      "metadata": {
        "colab": {
          "base_uri": "https://localhost:8080/"
        },
        "id": "Lx8CEkIvu8kY",
        "outputId": "98a4ec05-4e05-4e8a-c7ee-5934a0eb60fd"
      },
      "execution_count": 44,
      "outputs": [
        {
          "output_type": "stream",
          "name": "stdout",
          "text": [
            "\u001b[K     |████████████████████████████████| 12.9 MB 7.4 MB/s \n",
            "\u001b[31mERROR: pip's dependency resolver does not currently take into account all the packages that are installed. This behaviour is the source of the following dependency conflicts.\n",
            "plotnine 0.6.0 requires matplotlib>=3.1.1, but you have matplotlib 3.0.2 which is incompatible.\n",
            "mizani 0.6.0 requires matplotlib>=3.1.1, but you have matplotlib 3.0.2 which is incompatible.\n",
            "d2l 0.17.5 requires matplotlib==3.5.1, but you have matplotlib 3.0.2 which is incompatible.\n",
            "albumentations 0.1.12 requires imgaug<0.2.7,>=0.2.5, but you have imgaug 0.2.9 which is incompatible.\u001b[0m\n",
            "\u001b[?25h"
          ]
        }
      ]
    },
    {
      "cell_type": "code",
      "source": [
        "lr, num_epochs = 0.9, 10\n",
        "train_ch6(net, train_iter, test_iter, num_epochs, lr, d2l.try_gpu())"
      ],
      "metadata": {
        "colab": {
          "base_uri": "https://localhost:8080/",
          "height": 297
        },
        "id": "j9Y_Ywjyuqc3",
        "outputId": "349cea26-ae6e-424a-8737-4252c041a65c"
      },
      "execution_count": 45,
      "outputs": [
        {
          "output_type": "stream",
          "name": "stdout",
          "text": [
            "loss 0.461, train acc 0.829, test acc 0.825\n",
            "3776.2 examples/sec on cpu\n"
          ]
        },
        {
          "output_type": "display_data",
          "data": {
            "text/plain": [
              "<Figure size 252x180 with 1 Axes>"
            ],
            "image/svg+xml": "<?xml version=\"1.0\" encoding=\"utf-8\" standalone=\"no\"?>\n<!DOCTYPE svg PUBLIC \"-//W3C//DTD SVG 1.1//EN\"\n  \"http://www.w3.org/Graphics/SVG/1.1/DTD/svg11.dtd\">\n<!-- Created with matplotlib (https://matplotlib.org/) -->\n<svg height=\"180.65625pt\" version=\"1.1\" viewBox=\"0 0 238.965625 180.65625\" width=\"238.965625pt\" xmlns=\"http://www.w3.org/2000/svg\" xmlns:xlink=\"http://www.w3.org/1999/xlink\">\n <defs>\n  <style type=\"text/css\">\n*{stroke-linecap:butt;stroke-linejoin:round;}\n  </style>\n </defs>\n <g id=\"figure_1\">\n  <g id=\"patch_1\">\n   <path d=\"M 0 180.65625 \nL 238.965625 180.65625 \nL 238.965625 0 \nL 0 0 \nz\n\" style=\"fill:none;\"/>\n  </g>\n  <g id=\"axes_1\">\n   <g id=\"patch_2\">\n    <path d=\"M 30.103125 143.1 \nL 225.403125 143.1 \nL 225.403125 7.2 \nL 30.103125 7.2 \nz\n\" style=\"fill:#ffffff;\"/>\n   </g>\n   <g id=\"matplotlib.axis_1\">\n    <g id=\"xtick_1\">\n     <g id=\"line2d_1\">\n      <path clip-path=\"url(#pa826ceb126)\" d=\"M 51.803125 143.1 \nL 51.803125 7.2 \n\" style=\"fill:none;stroke:#b0b0b0;stroke-linecap:square;stroke-width:0.8;\"/>\n     </g>\n     <g id=\"line2d_2\">\n      <defs>\n       <path d=\"M 0 0 \nL 0 3.5 \n\" id=\"m05f6550483\" style=\"stroke:#000000;stroke-width:0.8;\"/>\n      </defs>\n      <g>\n       <use style=\"stroke:#000000;stroke-width:0.8;\" x=\"51.803125\" xlink:href=\"#m05f6550483\" y=\"143.1\"/>\n      </g>\n     </g>\n     <g id=\"text_1\">\n      <!-- 2 -->\n      <defs>\n       <path d=\"M 19.1875 8.296875 \nL 53.609375 8.296875 \nL 53.609375 0 \nL 7.328125 0 \nL 7.328125 8.296875 \nQ 12.9375 14.109375 22.625 23.890625 \nQ 32.328125 33.6875 34.8125 36.53125 \nQ 39.546875 41.84375 41.421875 45.53125 \nQ 43.3125 49.21875 43.3125 52.78125 \nQ 43.3125 58.59375 39.234375 62.25 \nQ 35.15625 65.921875 28.609375 65.921875 \nQ 23.96875 65.921875 18.8125 64.3125 \nQ 13.671875 62.703125 7.8125 59.421875 \nL 7.8125 69.390625 \nQ 13.765625 71.78125 18.9375 73 \nQ 24.125 74.21875 28.421875 74.21875 \nQ 39.75 74.21875 46.484375 68.546875 \nQ 53.21875 62.890625 53.21875 53.421875 \nQ 53.21875 48.921875 51.53125 44.890625 \nQ 49.859375 40.875 45.40625 35.40625 \nQ 44.1875 33.984375 37.640625 27.21875 \nQ 31.109375 20.453125 19.1875 8.296875 \nz\n\" id=\"DejaVuSans-50\"/>\n      </defs>\n      <g transform=\"translate(48.621875 157.698438)scale(0.1 -0.1)\">\n       <use xlink:href=\"#DejaVuSans-50\"/>\n      </g>\n     </g>\n    </g>\n    <g id=\"xtick_2\">\n     <g id=\"line2d_3\">\n      <path clip-path=\"url(#pa826ceb126)\" d=\"M 95.203125 143.1 \nL 95.203125 7.2 \n\" style=\"fill:none;stroke:#b0b0b0;stroke-linecap:square;stroke-width:0.8;\"/>\n     </g>\n     <g id=\"line2d_4\">\n      <g>\n       <use style=\"stroke:#000000;stroke-width:0.8;\" x=\"95.203125\" xlink:href=\"#m05f6550483\" y=\"143.1\"/>\n      </g>\n     </g>\n     <g id=\"text_2\">\n      <!-- 4 -->\n      <defs>\n       <path d=\"M 37.796875 64.3125 \nL 12.890625 25.390625 \nL 37.796875 25.390625 \nz\nM 35.203125 72.90625 \nL 47.609375 72.90625 \nL 47.609375 25.390625 \nL 58.015625 25.390625 \nL 58.015625 17.1875 \nL 47.609375 17.1875 \nL 47.609375 0 \nL 37.796875 0 \nL 37.796875 17.1875 \nL 4.890625 17.1875 \nL 4.890625 26.703125 \nz\n\" id=\"DejaVuSans-52\"/>\n      </defs>\n      <g transform=\"translate(92.021875 157.698438)scale(0.1 -0.1)\">\n       <use xlink:href=\"#DejaVuSans-52\"/>\n      </g>\n     </g>\n    </g>\n    <g id=\"xtick_3\">\n     <g id=\"line2d_5\">\n      <path clip-path=\"url(#pa826ceb126)\" d=\"M 138.603125 143.1 \nL 138.603125 7.2 \n\" style=\"fill:none;stroke:#b0b0b0;stroke-linecap:square;stroke-width:0.8;\"/>\n     </g>\n     <g id=\"line2d_6\">\n      <g>\n       <use style=\"stroke:#000000;stroke-width:0.8;\" x=\"138.603125\" xlink:href=\"#m05f6550483\" y=\"143.1\"/>\n      </g>\n     </g>\n     <g id=\"text_3\">\n      <!-- 6 -->\n      <defs>\n       <path d=\"M 33.015625 40.375 \nQ 26.375 40.375 22.484375 35.828125 \nQ 18.609375 31.296875 18.609375 23.390625 \nQ 18.609375 15.53125 22.484375 10.953125 \nQ 26.375 6.390625 33.015625 6.390625 \nQ 39.65625 6.390625 43.53125 10.953125 \nQ 47.40625 15.53125 47.40625 23.390625 \nQ 47.40625 31.296875 43.53125 35.828125 \nQ 39.65625 40.375 33.015625 40.375 \nz\nM 52.59375 71.296875 \nL 52.59375 62.3125 \nQ 48.875 64.0625 45.09375 64.984375 \nQ 41.3125 65.921875 37.59375 65.921875 \nQ 27.828125 65.921875 22.671875 59.328125 \nQ 17.53125 52.734375 16.796875 39.40625 \nQ 19.671875 43.65625 24.015625 45.921875 \nQ 28.375 48.1875 33.59375 48.1875 \nQ 44.578125 48.1875 50.953125 41.515625 \nQ 57.328125 34.859375 57.328125 23.390625 \nQ 57.328125 12.15625 50.6875 5.359375 \nQ 44.046875 -1.421875 33.015625 -1.421875 \nQ 20.359375 -1.421875 13.671875 8.265625 \nQ 6.984375 17.96875 6.984375 36.375 \nQ 6.984375 53.65625 15.1875 63.9375 \nQ 23.390625 74.21875 37.203125 74.21875 \nQ 40.921875 74.21875 44.703125 73.484375 \nQ 48.484375 72.75 52.59375 71.296875 \nz\n\" id=\"DejaVuSans-54\"/>\n      </defs>\n      <g transform=\"translate(135.421875 157.698438)scale(0.1 -0.1)\">\n       <use xlink:href=\"#DejaVuSans-54\"/>\n      </g>\n     </g>\n    </g>\n    <g id=\"xtick_4\">\n     <g id=\"line2d_7\">\n      <path clip-path=\"url(#pa826ceb126)\" d=\"M 182.003125 143.1 \nL 182.003125 7.2 \n\" style=\"fill:none;stroke:#b0b0b0;stroke-linecap:square;stroke-width:0.8;\"/>\n     </g>\n     <g id=\"line2d_8\">\n      <g>\n       <use style=\"stroke:#000000;stroke-width:0.8;\" x=\"182.003125\" xlink:href=\"#m05f6550483\" y=\"143.1\"/>\n      </g>\n     </g>\n     <g id=\"text_4\">\n      <!-- 8 -->\n      <defs>\n       <path d=\"M 31.78125 34.625 \nQ 24.75 34.625 20.71875 30.859375 \nQ 16.703125 27.09375 16.703125 20.515625 \nQ 16.703125 13.921875 20.71875 10.15625 \nQ 24.75 6.390625 31.78125 6.390625 \nQ 38.8125 6.390625 42.859375 10.171875 \nQ 46.921875 13.96875 46.921875 20.515625 \nQ 46.921875 27.09375 42.890625 30.859375 \nQ 38.875 34.625 31.78125 34.625 \nz\nM 21.921875 38.8125 \nQ 15.578125 40.375 12.03125 44.71875 \nQ 8.5 49.078125 8.5 55.328125 \nQ 8.5 64.0625 14.71875 69.140625 \nQ 20.953125 74.21875 31.78125 74.21875 \nQ 42.671875 74.21875 48.875 69.140625 \nQ 55.078125 64.0625 55.078125 55.328125 \nQ 55.078125 49.078125 51.53125 44.71875 \nQ 48 40.375 41.703125 38.8125 \nQ 48.828125 37.15625 52.796875 32.3125 \nQ 56.78125 27.484375 56.78125 20.515625 \nQ 56.78125 9.90625 50.3125 4.234375 \nQ 43.84375 -1.421875 31.78125 -1.421875 \nQ 19.734375 -1.421875 13.25 4.234375 \nQ 6.78125 9.90625 6.78125 20.515625 \nQ 6.78125 27.484375 10.78125 32.3125 \nQ 14.796875 37.15625 21.921875 38.8125 \nz\nM 18.3125 54.390625 \nQ 18.3125 48.734375 21.84375 45.5625 \nQ 25.390625 42.390625 31.78125 42.390625 \nQ 38.140625 42.390625 41.71875 45.5625 \nQ 45.3125 48.734375 45.3125 54.390625 \nQ 45.3125 60.0625 41.71875 63.234375 \nQ 38.140625 66.40625 31.78125 66.40625 \nQ 25.390625 66.40625 21.84375 63.234375 \nQ 18.3125 60.0625 18.3125 54.390625 \nz\n\" id=\"DejaVuSans-56\"/>\n      </defs>\n      <g transform=\"translate(178.821875 157.698438)scale(0.1 -0.1)\">\n       <use xlink:href=\"#DejaVuSans-56\"/>\n      </g>\n     </g>\n    </g>\n    <g id=\"xtick_5\">\n     <g id=\"line2d_9\">\n      <path clip-path=\"url(#pa826ceb126)\" d=\"M 225.403125 143.1 \nL 225.403125 7.2 \n\" style=\"fill:none;stroke:#b0b0b0;stroke-linecap:square;stroke-width:0.8;\"/>\n     </g>\n     <g id=\"line2d_10\">\n      <g>\n       <use style=\"stroke:#000000;stroke-width:0.8;\" x=\"225.403125\" xlink:href=\"#m05f6550483\" y=\"143.1\"/>\n      </g>\n     </g>\n     <g id=\"text_5\">\n      <!-- 10 -->\n      <defs>\n       <path d=\"M 12.40625 8.296875 \nL 28.515625 8.296875 \nL 28.515625 63.921875 \nL 10.984375 60.40625 \nL 10.984375 69.390625 \nL 28.421875 72.90625 \nL 38.28125 72.90625 \nL 38.28125 8.296875 \nL 54.390625 8.296875 \nL 54.390625 0 \nL 12.40625 0 \nz\n\" id=\"DejaVuSans-49\"/>\n       <path d=\"M 31.78125 66.40625 \nQ 24.171875 66.40625 20.328125 58.90625 \nQ 16.5 51.421875 16.5 36.375 \nQ 16.5 21.390625 20.328125 13.890625 \nQ 24.171875 6.390625 31.78125 6.390625 \nQ 39.453125 6.390625 43.28125 13.890625 \nQ 47.125 21.390625 47.125 36.375 \nQ 47.125 51.421875 43.28125 58.90625 \nQ 39.453125 66.40625 31.78125 66.40625 \nz\nM 31.78125 74.21875 \nQ 44.046875 74.21875 50.515625 64.515625 \nQ 56.984375 54.828125 56.984375 36.375 \nQ 56.984375 17.96875 50.515625 8.265625 \nQ 44.046875 -1.421875 31.78125 -1.421875 \nQ 19.53125 -1.421875 13.0625 8.265625 \nQ 6.59375 17.96875 6.59375 36.375 \nQ 6.59375 54.828125 13.0625 64.515625 \nQ 19.53125 74.21875 31.78125 74.21875 \nz\n\" id=\"DejaVuSans-48\"/>\n      </defs>\n      <g transform=\"translate(219.040625 157.698438)scale(0.1 -0.1)\">\n       <use xlink:href=\"#DejaVuSans-49\"/>\n       <use x=\"63.623047\" xlink:href=\"#DejaVuSans-48\"/>\n      </g>\n     </g>\n    </g>\n    <g id=\"text_6\">\n     <!-- epoch -->\n     <defs>\n      <path d=\"M 56.203125 29.59375 \nL 56.203125 25.203125 \nL 14.890625 25.203125 \nQ 15.484375 15.921875 20.484375 11.0625 \nQ 25.484375 6.203125 34.421875 6.203125 \nQ 39.59375 6.203125 44.453125 7.46875 \nQ 49.3125 8.734375 54.109375 11.28125 \nL 54.109375 2.78125 \nQ 49.265625 0.734375 44.1875 -0.34375 \nQ 39.109375 -1.421875 33.890625 -1.421875 \nQ 20.796875 -1.421875 13.15625 6.1875 \nQ 5.515625 13.8125 5.515625 26.8125 \nQ 5.515625 40.234375 12.765625 48.109375 \nQ 20.015625 56 32.328125 56 \nQ 43.359375 56 49.78125 48.890625 \nQ 56.203125 41.796875 56.203125 29.59375 \nz\nM 47.21875 32.234375 \nQ 47.125 39.59375 43.09375 43.984375 \nQ 39.0625 48.390625 32.421875 48.390625 \nQ 24.90625 48.390625 20.390625 44.140625 \nQ 15.875 39.890625 15.1875 32.171875 \nz\n\" id=\"DejaVuSans-101\"/>\n      <path d=\"M 18.109375 8.203125 \nL 18.109375 -20.796875 \nL 9.078125 -20.796875 \nL 9.078125 54.6875 \nL 18.109375 54.6875 \nL 18.109375 46.390625 \nQ 20.953125 51.265625 25.265625 53.625 \nQ 29.59375 56 35.59375 56 \nQ 45.5625 56 51.78125 48.09375 \nQ 58.015625 40.1875 58.015625 27.296875 \nQ 58.015625 14.40625 51.78125 6.484375 \nQ 45.5625 -1.421875 35.59375 -1.421875 \nQ 29.59375 -1.421875 25.265625 0.953125 \nQ 20.953125 3.328125 18.109375 8.203125 \nz\nM 48.6875 27.296875 \nQ 48.6875 37.203125 44.609375 42.84375 \nQ 40.53125 48.484375 33.40625 48.484375 \nQ 26.265625 48.484375 22.1875 42.84375 \nQ 18.109375 37.203125 18.109375 27.296875 \nQ 18.109375 17.390625 22.1875 11.75 \nQ 26.265625 6.109375 33.40625 6.109375 \nQ 40.53125 6.109375 44.609375 11.75 \nQ 48.6875 17.390625 48.6875 27.296875 \nz\n\" id=\"DejaVuSans-112\"/>\n      <path d=\"M 30.609375 48.390625 \nQ 23.390625 48.390625 19.1875 42.75 \nQ 14.984375 37.109375 14.984375 27.296875 \nQ 14.984375 17.484375 19.15625 11.84375 \nQ 23.34375 6.203125 30.609375 6.203125 \nQ 37.796875 6.203125 41.984375 11.859375 \nQ 46.1875 17.53125 46.1875 27.296875 \nQ 46.1875 37.015625 41.984375 42.703125 \nQ 37.796875 48.390625 30.609375 48.390625 \nz\nM 30.609375 56 \nQ 42.328125 56 49.015625 48.375 \nQ 55.71875 40.765625 55.71875 27.296875 \nQ 55.71875 13.875 49.015625 6.21875 \nQ 42.328125 -1.421875 30.609375 -1.421875 \nQ 18.84375 -1.421875 12.171875 6.21875 \nQ 5.515625 13.875 5.515625 27.296875 \nQ 5.515625 40.765625 12.171875 48.375 \nQ 18.84375 56 30.609375 56 \nz\n\" id=\"DejaVuSans-111\"/>\n      <path d=\"M 48.78125 52.59375 \nL 48.78125 44.1875 \nQ 44.96875 46.296875 41.140625 47.34375 \nQ 37.3125 48.390625 33.40625 48.390625 \nQ 24.65625 48.390625 19.8125 42.84375 \nQ 14.984375 37.3125 14.984375 27.296875 \nQ 14.984375 17.28125 19.8125 11.734375 \nQ 24.65625 6.203125 33.40625 6.203125 \nQ 37.3125 6.203125 41.140625 7.25 \nQ 44.96875 8.296875 48.78125 10.40625 \nL 48.78125 2.09375 \nQ 45.015625 0.34375 40.984375 -0.53125 \nQ 36.96875 -1.421875 32.421875 -1.421875 \nQ 20.0625 -1.421875 12.78125 6.34375 \nQ 5.515625 14.109375 5.515625 27.296875 \nQ 5.515625 40.671875 12.859375 48.328125 \nQ 20.21875 56 33.015625 56 \nQ 37.15625 56 41.109375 55.140625 \nQ 45.0625 54.296875 48.78125 52.59375 \nz\n\" id=\"DejaVuSans-99\"/>\n      <path d=\"M 54.890625 33.015625 \nL 54.890625 0 \nL 45.90625 0 \nL 45.90625 32.71875 \nQ 45.90625 40.484375 42.875 44.328125 \nQ 39.84375 48.1875 33.796875 48.1875 \nQ 26.515625 48.1875 22.3125 43.546875 \nQ 18.109375 38.921875 18.109375 30.90625 \nL 18.109375 0 \nL 9.078125 0 \nL 9.078125 75.984375 \nL 18.109375 75.984375 \nL 18.109375 46.1875 \nQ 21.34375 51.125 25.703125 53.5625 \nQ 30.078125 56 35.796875 56 \nQ 45.21875 56 50.046875 50.171875 \nQ 54.890625 44.34375 54.890625 33.015625 \nz\n\" id=\"DejaVuSans-104\"/>\n     </defs>\n     <g transform=\"translate(112.525 171.376563)scale(0.1 -0.1)\">\n      <use xlink:href=\"#DejaVuSans-101\"/>\n      <use x=\"61.523438\" xlink:href=\"#DejaVuSans-112\"/>\n      <use x=\"125\" xlink:href=\"#DejaVuSans-111\"/>\n      <use x=\"186.181641\" xlink:href=\"#DejaVuSans-99\"/>\n      <use x=\"241.162109\" xlink:href=\"#DejaVuSans-104\"/>\n     </g>\n    </g>\n   </g>\n   <g id=\"matplotlib.axis_2\">\n    <g id=\"ytick_1\">\n     <g id=\"line2d_11\">\n      <path clip-path=\"url(#pa826ceb126)\" d=\"M 30.103125 142.34542 \nL 225.403125 142.34542 \n\" style=\"fill:none;stroke:#b0b0b0;stroke-linecap:square;stroke-width:0.8;\"/>\n     </g>\n     <g id=\"line2d_12\">\n      <defs>\n       <path d=\"M 0 0 \nL -3.5 0 \n\" id=\"m8c3d24165f\" style=\"stroke:#000000;stroke-width:0.8;\"/>\n      </defs>\n      <g>\n       <use style=\"stroke:#000000;stroke-width:0.8;\" x=\"30.103125\" xlink:href=\"#m8c3d24165f\" y=\"142.34542\"/>\n      </g>\n     </g>\n     <g id=\"text_7\">\n      <!-- 0.0 -->\n      <defs>\n       <path d=\"M 10.6875 12.40625 \nL 21 12.40625 \nL 21 0 \nL 10.6875 0 \nz\n\" id=\"DejaVuSans-46\"/>\n      </defs>\n      <g transform=\"translate(7.2 146.144639)scale(0.1 -0.1)\">\n       <use xlink:href=\"#DejaVuSans-48\"/>\n       <use x=\"63.623047\" xlink:href=\"#DejaVuSans-46\"/>\n       <use x=\"95.410156\" xlink:href=\"#DejaVuSans-48\"/>\n      </g>\n     </g>\n    </g>\n    <g id=\"ytick_2\">\n     <g id=\"line2d_13\">\n      <path clip-path=\"url(#pa826ceb126)\" d=\"M 30.103125 114.977197 \nL 225.403125 114.977197 \n\" style=\"fill:none;stroke:#b0b0b0;stroke-linecap:square;stroke-width:0.8;\"/>\n     </g>\n     <g id=\"line2d_14\">\n      <g>\n       <use style=\"stroke:#000000;stroke-width:0.8;\" x=\"30.103125\" xlink:href=\"#m8c3d24165f\" y=\"114.977197\"/>\n      </g>\n     </g>\n     <g id=\"text_8\">\n      <!-- 0.5 -->\n      <defs>\n       <path d=\"M 10.796875 72.90625 \nL 49.515625 72.90625 \nL 49.515625 64.59375 \nL 19.828125 64.59375 \nL 19.828125 46.734375 \nQ 21.96875 47.46875 24.109375 47.828125 \nQ 26.265625 48.1875 28.421875 48.1875 \nQ 40.625 48.1875 47.75 41.5 \nQ 54.890625 34.8125 54.890625 23.390625 \nQ 54.890625 11.625 47.5625 5.09375 \nQ 40.234375 -1.421875 26.90625 -1.421875 \nQ 22.3125 -1.421875 17.546875 -0.640625 \nQ 12.796875 0.140625 7.71875 1.703125 \nL 7.71875 11.625 \nQ 12.109375 9.234375 16.796875 8.0625 \nQ 21.484375 6.890625 26.703125 6.890625 \nQ 35.15625 6.890625 40.078125 11.328125 \nQ 45.015625 15.765625 45.015625 23.390625 \nQ 45.015625 31 40.078125 35.4375 \nQ 35.15625 39.890625 26.703125 39.890625 \nQ 22.75 39.890625 18.8125 39.015625 \nQ 14.890625 38.140625 10.796875 36.28125 \nz\n\" id=\"DejaVuSans-53\"/>\n      </defs>\n      <g transform=\"translate(7.2 118.776416)scale(0.1 -0.1)\">\n       <use xlink:href=\"#DejaVuSans-48\"/>\n       <use x=\"63.623047\" xlink:href=\"#DejaVuSans-46\"/>\n       <use x=\"95.410156\" xlink:href=\"#DejaVuSans-53\"/>\n      </g>\n     </g>\n    </g>\n    <g id=\"ytick_3\">\n     <g id=\"line2d_15\">\n      <path clip-path=\"url(#pa826ceb126)\" d=\"M 30.103125 87.608974 \nL 225.403125 87.608974 \n\" style=\"fill:none;stroke:#b0b0b0;stroke-linecap:square;stroke-width:0.8;\"/>\n     </g>\n     <g id=\"line2d_16\">\n      <g>\n       <use style=\"stroke:#000000;stroke-width:0.8;\" x=\"30.103125\" xlink:href=\"#m8c3d24165f\" y=\"87.608974\"/>\n      </g>\n     </g>\n     <g id=\"text_9\">\n      <!-- 1.0 -->\n      <g transform=\"translate(7.2 91.408193)scale(0.1 -0.1)\">\n       <use xlink:href=\"#DejaVuSans-49\"/>\n       <use x=\"63.623047\" xlink:href=\"#DejaVuSans-46\"/>\n       <use x=\"95.410156\" xlink:href=\"#DejaVuSans-48\"/>\n      </g>\n     </g>\n    </g>\n    <g id=\"ytick_4\">\n     <g id=\"line2d_17\">\n      <path clip-path=\"url(#pa826ceb126)\" d=\"M 30.103125 60.240752 \nL 225.403125 60.240752 \n\" style=\"fill:none;stroke:#b0b0b0;stroke-linecap:square;stroke-width:0.8;\"/>\n     </g>\n     <g id=\"line2d_18\">\n      <g>\n       <use style=\"stroke:#000000;stroke-width:0.8;\" x=\"30.103125\" xlink:href=\"#m8c3d24165f\" y=\"60.240752\"/>\n      </g>\n     </g>\n     <g id=\"text_10\">\n      <!-- 1.5 -->\n      <g transform=\"translate(7.2 64.03997)scale(0.1 -0.1)\">\n       <use xlink:href=\"#DejaVuSans-49\"/>\n       <use x=\"63.623047\" xlink:href=\"#DejaVuSans-46\"/>\n       <use x=\"95.410156\" xlink:href=\"#DejaVuSans-53\"/>\n      </g>\n     </g>\n    </g>\n    <g id=\"ytick_5\">\n     <g id=\"line2d_19\">\n      <path clip-path=\"url(#pa826ceb126)\" d=\"M 30.103125 32.872529 \nL 225.403125 32.872529 \n\" style=\"fill:none;stroke:#b0b0b0;stroke-linecap:square;stroke-width:0.8;\"/>\n     </g>\n     <g id=\"line2d_20\">\n      <g>\n       <use style=\"stroke:#000000;stroke-width:0.8;\" x=\"30.103125\" xlink:href=\"#m8c3d24165f\" y=\"32.872529\"/>\n      </g>\n     </g>\n     <g id=\"text_11\">\n      <!-- 2.0 -->\n      <g transform=\"translate(7.2 36.671747)scale(0.1 -0.1)\">\n       <use xlink:href=\"#DejaVuSans-50\"/>\n       <use x=\"63.623047\" xlink:href=\"#DejaVuSans-46\"/>\n       <use x=\"95.410156\" xlink:href=\"#DejaVuSans-48\"/>\n      </g>\n     </g>\n    </g>\n   </g>\n   <g id=\"line2d_21\">\n    <path clip-path=\"url(#pa826ceb126)\" d=\"M 12.743125 13.377273 \nL 17.083125 14.479883 \nL 21.423125 14.970709 \nL 25.763125 15.245131 \nL 30.103125 15.421954 \nL 34.443125 16.307042 \nL 38.783125 16.807742 \nL 43.123125 23.308467 \nL 47.463125 34.53191 \nL 51.803125 43.726513 \nL 56.143125 87.193038 \nL 60.483125 88.283876 \nL 64.823125 89.367398 \nL 69.163125 90.894748 \nL 73.503125 92.245291 \nL 77.843125 99.384404 \nL 82.183125 100.693928 \nL 86.523125 101.147324 \nL 90.863125 101.685432 \nL 95.203125 102.21185 \nL 99.543125 106.014634 \nL 103.883125 106.458509 \nL 108.223125 106.332836 \nL 112.563125 106.571593 \nL 116.903125 106.860014 \nL 121.243125 108.122764 \nL 125.583125 108.87685 \nL 129.923125 109.439151 \nL 134.263125 109.623618 \nL 138.603125 109.804796 \nL 142.943125 111.14494 \nL 147.283125 111.4637 \nL 151.623125 111.856833 \nL 155.963125 112.208931 \nL 160.303125 112.393111 \nL 164.643125 113.73235 \nL 168.983125 113.33148 \nL 173.323125 113.684642 \nL 177.663125 114.127576 \nL 182.003125 114.239306 \nL 186.343125 115.151704 \nL 190.683125 115.470385 \nL 195.023125 115.570497 \nL 199.363125 115.689656 \nL 203.703125 115.886833 \nL 208.043125 116.62562 \nL 212.383125 116.914114 \nL 216.723125 116.802823 \nL 221.063125 117.082509 \nL 225.403125 117.128026 \n\" style=\"fill:none;stroke:#1f77b4;stroke-linecap:square;stroke-width:1.5;\"/>\n   </g>\n   <g id=\"line2d_22\">\n    <path clip-path=\"url(#pa826ceb126)\" d=\"M 12.743125 136.722561 \nL 17.083125 136.922727 \nL 21.423125 136.859038 \nL 25.763125 136.780564 \nL 30.103125 136.809741 \nL 34.443125 136.590633 \nL 38.783125 135.580702 \nL 43.123125 132.62218 \nL 47.463125 128.738646 \nL 51.803125 125.467437 \nL 56.143125 110.073118 \nL 60.483125 109.468069 \nL 64.823125 108.82511 \nL 69.163125 108.108984 \nL 73.503125 107.460059 \nL 77.843125 104.281936 \nL 82.183125 103.874779 \nL 86.523125 103.799717 \nL 90.863125 103.620022 \nL 95.203125 103.423246 \nL 99.543125 101.761658 \nL 103.883125 101.60016 \nL 108.223125 101.719198 \nL 112.563125 101.647927 \nL 116.903125 101.56768 \nL 121.243125 100.810867 \nL 125.583125 100.674389 \nL 129.923125 100.480289 \nL 134.263125 100.419632 \nL 138.603125 100.3279 \nL 142.943125 99.673557 \nL 147.283125 99.493862 \nL 151.623125 99.305068 \nL 155.963125 99.23683 \nL 160.303125 99.142856 \nL 164.643125 98.672724 \nL 168.983125 98.93658 \nL 173.323125 98.707602 \nL 177.663125 98.468008 \nL 182.003125 98.413949 \nL 186.343125 97.85841 \nL 190.683125 97.726482 \nL 195.023125 97.627916 \nL 199.363125 97.612751 \nL 203.703125 97.543639 \nL 208.043125 97.267009 \nL 212.383125 97.141905 \nL 216.723125 97.14418 \nL 221.063125 97.003153 \nL 225.403125 96.947012 \n\" style=\"fill:none;stroke:#bf00bf;stroke-dasharray:5.55,2.4;stroke-dashoffset:0;stroke-width:1.5;\"/>\n   </g>\n   <g id=\"line2d_23\">\n    <path clip-path=\"url(#pa826ceb126)\" d=\"M 30.103125 136.871776 \nL 51.803125 113.351525 \nL 73.503125 106.914519 \nL 95.203125 103.104862 \nL 116.903125 101.145298 \nL 138.603125 100.116252 \nL 160.303125 98.813525 \nL 182.003125 98.786157 \nL 203.703125 97.532692 \nL 225.403125 97.209747 \n\" style=\"fill:none;stroke:#008000;stroke-dasharray:9.6,2.4,1.5,2.4;stroke-dashoffset:0;stroke-width:1.5;\"/>\n   </g>\n   <g id=\"patch_3\">\n    <path d=\"M 30.103125 143.1 \nL 30.103125 7.2 \n\" style=\"fill:none;stroke:#000000;stroke-linecap:square;stroke-linejoin:miter;stroke-width:0.8;\"/>\n   </g>\n   <g id=\"patch_4\">\n    <path d=\"M 225.403125 143.1 \nL 225.403125 7.2 \n\" style=\"fill:none;stroke:#000000;stroke-linecap:square;stroke-linejoin:miter;stroke-width:0.8;\"/>\n   </g>\n   <g id=\"patch_5\">\n    <path d=\"M 30.103125 143.1 \nL 225.403125 143.1 \n\" style=\"fill:none;stroke:#000000;stroke-linecap:square;stroke-linejoin:miter;stroke-width:0.8;\"/>\n   </g>\n   <g id=\"patch_6\">\n    <path d=\"M 30.103125 7.2 \nL 225.403125 7.2 \n\" style=\"fill:none;stroke:#000000;stroke-linecap:square;stroke-linejoin:miter;stroke-width:0.8;\"/>\n   </g>\n   <g id=\"legend_1\">\n    <g id=\"patch_7\">\n     <path d=\"M 140.634375 59.234375 \nL 218.403125 59.234375 \nQ 220.403125 59.234375 220.403125 57.234375 \nL 220.403125 14.2 \nQ 220.403125 12.2 218.403125 12.2 \nL 140.634375 12.2 \nQ 138.634375 12.2 138.634375 14.2 \nL 138.634375 57.234375 \nQ 138.634375 59.234375 140.634375 59.234375 \nz\n\" style=\"fill:#ffffff;opacity:0.8;stroke:#cccccc;stroke-linejoin:miter;\"/>\n    </g>\n    <g id=\"line2d_24\">\n     <path d=\"M 142.634375 20.298438 \nL 162.634375 20.298438 \n\" style=\"fill:none;stroke:#1f77b4;stroke-linecap:square;stroke-width:1.5;\"/>\n    </g>\n    <g id=\"line2d_25\"/>\n    <g id=\"text_12\">\n     <!-- train loss -->\n     <defs>\n      <path d=\"M 18.3125 70.21875 \nL 18.3125 54.6875 \nL 36.8125 54.6875 \nL 36.8125 47.703125 \nL 18.3125 47.703125 \nL 18.3125 18.015625 \nQ 18.3125 11.328125 20.140625 9.421875 \nQ 21.96875 7.515625 27.59375 7.515625 \nL 36.8125 7.515625 \nL 36.8125 0 \nL 27.59375 0 \nQ 17.1875 0 13.234375 3.875 \nQ 9.28125 7.765625 9.28125 18.015625 \nL 9.28125 47.703125 \nL 2.6875 47.703125 \nL 2.6875 54.6875 \nL 9.28125 54.6875 \nL 9.28125 70.21875 \nz\n\" id=\"DejaVuSans-116\"/>\n      <path d=\"M 41.109375 46.296875 \nQ 39.59375 47.171875 37.8125 47.578125 \nQ 36.03125 48 33.890625 48 \nQ 26.265625 48 22.1875 43.046875 \nQ 18.109375 38.09375 18.109375 28.8125 \nL 18.109375 0 \nL 9.078125 0 \nL 9.078125 54.6875 \nL 18.109375 54.6875 \nL 18.109375 46.1875 \nQ 20.953125 51.171875 25.484375 53.578125 \nQ 30.03125 56 36.53125 56 \nQ 37.453125 56 38.578125 55.875 \nQ 39.703125 55.765625 41.0625 55.515625 \nz\n\" id=\"DejaVuSans-114\"/>\n      <path d=\"M 34.28125 27.484375 \nQ 23.390625 27.484375 19.1875 25 \nQ 14.984375 22.515625 14.984375 16.5 \nQ 14.984375 11.71875 18.140625 8.90625 \nQ 21.296875 6.109375 26.703125 6.109375 \nQ 34.1875 6.109375 38.703125 11.40625 \nQ 43.21875 16.703125 43.21875 25.484375 \nL 43.21875 27.484375 \nz\nM 52.203125 31.203125 \nL 52.203125 0 \nL 43.21875 0 \nL 43.21875 8.296875 \nQ 40.140625 3.328125 35.546875 0.953125 \nQ 30.953125 -1.421875 24.3125 -1.421875 \nQ 15.921875 -1.421875 10.953125 3.296875 \nQ 6 8.015625 6 15.921875 \nQ 6 25.140625 12.171875 29.828125 \nQ 18.359375 34.515625 30.609375 34.515625 \nL 43.21875 34.515625 \nL 43.21875 35.40625 \nQ 43.21875 41.609375 39.140625 45 \nQ 35.0625 48.390625 27.6875 48.390625 \nQ 23 48.390625 18.546875 47.265625 \nQ 14.109375 46.140625 10.015625 43.890625 \nL 10.015625 52.203125 \nQ 14.9375 54.109375 19.578125 55.046875 \nQ 24.21875 56 28.609375 56 \nQ 40.484375 56 46.34375 49.84375 \nQ 52.203125 43.703125 52.203125 31.203125 \nz\n\" id=\"DejaVuSans-97\"/>\n      <path d=\"M 9.421875 54.6875 \nL 18.40625 54.6875 \nL 18.40625 0 \nL 9.421875 0 \nz\nM 9.421875 75.984375 \nL 18.40625 75.984375 \nL 18.40625 64.59375 \nL 9.421875 64.59375 \nz\n\" id=\"DejaVuSans-105\"/>\n      <path d=\"M 54.890625 33.015625 \nL 54.890625 0 \nL 45.90625 0 \nL 45.90625 32.71875 \nQ 45.90625 40.484375 42.875 44.328125 \nQ 39.84375 48.1875 33.796875 48.1875 \nQ 26.515625 48.1875 22.3125 43.546875 \nQ 18.109375 38.921875 18.109375 30.90625 \nL 18.109375 0 \nL 9.078125 0 \nL 9.078125 54.6875 \nL 18.109375 54.6875 \nL 18.109375 46.1875 \nQ 21.34375 51.125 25.703125 53.5625 \nQ 30.078125 56 35.796875 56 \nQ 45.21875 56 50.046875 50.171875 \nQ 54.890625 44.34375 54.890625 33.015625 \nz\n\" id=\"DejaVuSans-110\"/>\n      <path id=\"DejaVuSans-32\"/>\n      <path d=\"M 9.421875 75.984375 \nL 18.40625 75.984375 \nL 18.40625 0 \nL 9.421875 0 \nz\n\" id=\"DejaVuSans-108\"/>\n      <path d=\"M 44.28125 53.078125 \nL 44.28125 44.578125 \nQ 40.484375 46.53125 36.375 47.5 \nQ 32.28125 48.484375 27.875 48.484375 \nQ 21.1875 48.484375 17.84375 46.4375 \nQ 14.5 44.390625 14.5 40.28125 \nQ 14.5 37.15625 16.890625 35.375 \nQ 19.28125 33.59375 26.515625 31.984375 \nL 29.59375 31.296875 \nQ 39.15625 29.25 43.1875 25.515625 \nQ 47.21875 21.78125 47.21875 15.09375 \nQ 47.21875 7.46875 41.1875 3.015625 \nQ 35.15625 -1.421875 24.609375 -1.421875 \nQ 20.21875 -1.421875 15.453125 -0.5625 \nQ 10.6875 0.296875 5.421875 2 \nL 5.421875 11.28125 \nQ 10.40625 8.6875 15.234375 7.390625 \nQ 20.0625 6.109375 24.8125 6.109375 \nQ 31.15625 6.109375 34.5625 8.28125 \nQ 37.984375 10.453125 37.984375 14.40625 \nQ 37.984375 18.0625 35.515625 20.015625 \nQ 33.0625 21.96875 24.703125 23.78125 \nL 21.578125 24.515625 \nQ 13.234375 26.265625 9.515625 29.90625 \nQ 5.8125 33.546875 5.8125 39.890625 \nQ 5.8125 47.609375 11.28125 51.796875 \nQ 16.75 56 26.8125 56 \nQ 31.78125 56 36.171875 55.265625 \nQ 40.578125 54.546875 44.28125 53.078125 \nz\n\" id=\"DejaVuSans-115\"/>\n     </defs>\n     <g transform=\"translate(170.634375 23.798438)scale(0.1 -0.1)\">\n      <use xlink:href=\"#DejaVuSans-116\"/>\n      <use x=\"39.208984\" xlink:href=\"#DejaVuSans-114\"/>\n      <use x=\"80.322266\" xlink:href=\"#DejaVuSans-97\"/>\n      <use x=\"141.601562\" xlink:href=\"#DejaVuSans-105\"/>\n      <use x=\"169.384766\" xlink:href=\"#DejaVuSans-110\"/>\n      <use x=\"232.763672\" xlink:href=\"#DejaVuSans-32\"/>\n      <use x=\"264.550781\" xlink:href=\"#DejaVuSans-108\"/>\n      <use x=\"292.333984\" xlink:href=\"#DejaVuSans-111\"/>\n      <use x=\"353.515625\" xlink:href=\"#DejaVuSans-115\"/>\n      <use x=\"405.615234\" xlink:href=\"#DejaVuSans-115\"/>\n     </g>\n    </g>\n    <g id=\"line2d_26\">\n     <path d=\"M 142.634375 34.976562 \nL 162.634375 34.976562 \n\" style=\"fill:none;stroke:#bf00bf;stroke-dasharray:5.55,2.4;stroke-dashoffset:0;stroke-width:1.5;\"/>\n    </g>\n    <g id=\"line2d_27\"/>\n    <g id=\"text_13\">\n     <!-- train acc -->\n     <g transform=\"translate(170.634375 38.476562)scale(0.1 -0.1)\">\n      <use xlink:href=\"#DejaVuSans-116\"/>\n      <use x=\"39.208984\" xlink:href=\"#DejaVuSans-114\"/>\n      <use x=\"80.322266\" xlink:href=\"#DejaVuSans-97\"/>\n      <use x=\"141.601562\" xlink:href=\"#DejaVuSans-105\"/>\n      <use x=\"169.384766\" xlink:href=\"#DejaVuSans-110\"/>\n      <use x=\"232.763672\" xlink:href=\"#DejaVuSans-32\"/>\n      <use x=\"264.550781\" xlink:href=\"#DejaVuSans-97\"/>\n      <use x=\"325.830078\" xlink:href=\"#DejaVuSans-99\"/>\n      <use x=\"380.810547\" xlink:href=\"#DejaVuSans-99\"/>\n     </g>\n    </g>\n    <g id=\"line2d_28\">\n     <path d=\"M 142.634375 49.654688 \nL 162.634375 49.654688 \n\" style=\"fill:none;stroke:#008000;stroke-dasharray:9.6,2.4,1.5,2.4;stroke-dashoffset:0;stroke-width:1.5;\"/>\n    </g>\n    <g id=\"line2d_29\"/>\n    <g id=\"text_14\">\n     <!-- test acc -->\n     <g transform=\"translate(170.634375 53.154688)scale(0.1 -0.1)\">\n      <use xlink:href=\"#DejaVuSans-116\"/>\n      <use x=\"39.208984\" xlink:href=\"#DejaVuSans-101\"/>\n      <use x=\"100.732422\" xlink:href=\"#DejaVuSans-115\"/>\n      <use x=\"152.832031\" xlink:href=\"#DejaVuSans-116\"/>\n      <use x=\"192.041016\" xlink:href=\"#DejaVuSans-32\"/>\n      <use x=\"223.828125\" xlink:href=\"#DejaVuSans-97\"/>\n      <use x=\"285.107422\" xlink:href=\"#DejaVuSans-99\"/>\n      <use x=\"340.087891\" xlink:href=\"#DejaVuSans-99\"/>\n     </g>\n    </g>\n   </g>\n  </g>\n </g>\n <defs>\n  <clipPath id=\"pa826ceb126\">\n   <rect height=\"135.9\" width=\"195.3\" x=\"30.103125\" y=\"7.2\"/>\n  </clipPath>\n </defs>\n</svg>\n"
          },
          "metadata": {
            "needs_background": "light"
          }
        }
      ]
    },
    {
      "cell_type": "code",
      "source": [
        ""
      ],
      "metadata": {
        "id": "nDZTAfp_uz3D"
      },
      "execution_count": null,
      "outputs": []
    }
  ]
}